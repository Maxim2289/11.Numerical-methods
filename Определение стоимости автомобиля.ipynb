{
 "cells": [
  {
   "cell_type": "markdown",
   "metadata": {},
   "source": [
    "# Содержание\n",
    "* [Определение стоимости автомобилей](#section_id5)</a>\n",
    "* [1. Подготовка данных](#section_id1)</a>\n",
    "* [2. Обучение модели](#section_id2)</a>\n",
    "* [3. Анализ моделей](#section_id3)</a>\n",
    "* [Вывод](#section_id4)</a>\n",
    "* [4. Чек-лист готовности проекта](#section_id6)</a>"
   ]
  },
  {
   "cell_type": "markdown",
   "metadata": {},
   "source": [
    "# Определение стоимости автомобилей\n",
    "<a id='section_id5'></a>"
   ]
  },
  {
   "cell_type": "markdown",
   "metadata": {},
   "source": [
    "Сервис по продаже автомобилей с пробегом «Не бит, не крашен» разрабатывает приложение для привлечения новых клиентов. В нём можно быстро узнать рыночную стоимость своего автомобиля. В вашем распоряжении исторические данные: технические характеристики, комплектации и цены автомобилей. Вам нужно построить модель для определения стоимости. \n",
    "\n",
    "Заказчику важны:\n",
    "\n",
    "- качество предсказания;\n",
    "- скорость предсказания;\n",
    "- время обучения."
   ]
  },
  {
   "cell_type": "markdown",
   "metadata": {},
   "source": [
    "## Подготовка данных\n",
    "<a id='section_id1'></a>"
   ]
  },
  {
   "cell_type": "code",
   "execution_count": null,
   "metadata": {},
   "outputs": [],
   "source": [
    "import pandas as pd\n",
    "import numpy as np\n",
    "import math\n",
    "import warnings\n",
    "warnings.filterwarnings('ignore')\n",
    "import time\n",
    "import lightgbm as lgb\n",
    "import os\n"
   ]
  },
  {
   "cell_type": "code",
   "execution_count": null,
   "metadata": {},
   "outputs": [],
   "source": [
    "# Простые модели, на которых будем проверять\n",
    "from sklearn.ensemble import RandomForestRegressor\n",
    "from sklearn.linear_model import LinearRegression\n",
    "from sklearn.dummy import DummyRegressor\n",
    "from sklearn.tree import DecisionTreeRegressor"
   ]
  },
  {
   "cell_type": "code",
   "execution_count": null,
   "metadata": {},
   "outputs": [],
   "source": [
    "# Вспомогательные методы\n",
    "from sklearn.model_selection import train_test_split\n",
    "from sklearn.model_selection import GridSearchCV\n",
    "from sklearn.preprocessing import StandardScaler\n",
    "from sklearn.metrics import mean_squared_error as mse\n",
    "from sklearn.preprocessing import OrdinalEncoder\n",
    "\n",
    "from sklearn.compose import make_column_transformer"
   ]
  },
  {
   "cell_type": "code",
   "execution_count": null,
   "metadata": {},
   "outputs": [],
   "source": [
    "# буст\n",
    "from catboost import CatBoostRegressor\n",
    "from lightgbm import LGBMRegressor\n"
   ]
  },
  {
   "cell_type": "code",
   "execution_count": null,
   "metadata": {},
   "outputs": [],
   "source": [
    "df = pd.read_csv('/datasets/autos.csv')"
   ]
  },
  {
   "cell_type": "code",
   "execution_count": null,
   "metadata": {},
   "outputs": [],
   "source": [
    "DATA_SHAPE = df.shape[0]\n",
    "DATA_SHAPE"
   ]
  },
  {
   "cell_type": "markdown",
   "metadata": {},
   "source": [
    "* Признаки\n",
    "* DateCrawled — дата скачивания анкеты из базы\n",
    "* VehicleType — тип автомобильного кузова\n",
    "* RegistrationYear — год регистрации автомобиля\n",
    "* Gearbox — тип коробки передач\n",
    "* Power — мощность (л. с.)\n",
    "* Model — модель автомобиля\n",
    "* Kilometer — пробег (км)\n",
    "* RegistrationMonth — месяц регистрации автомобиля\n",
    "* FuelType — тип топлива\n",
    "* Brand — марка автомобиля\n",
    "* Repaired — была машина в ремонте или нет\n",
    "* DateCreated — дата создания анкеты\n",
    "* NumberOfPictures — количество фотографий автомобиля\n",
    "* PostalCode — почтовый индекс владельца анкеты (пользователя)\n",
    "* LastSeen — дата последней активности пользователя\n",
    "\n",
    "\n",
    "* Целевой признак\n",
    "* Price — цена (евро)"
   ]
  },
  {
   "cell_type": "code",
   "execution_count": null,
   "metadata": {},
   "outputs": [],
   "source": [
    "df #Выведим таблицу для ознокомления с ней. "
   ]
  },
  {
   "cell_type": "code",
   "execution_count": null,
   "metadata": {},
   "outputs": [],
   "source": [
    "df.info()"
   ]
  },
  {
   "cell_type": "code",
   "execution_count": null,
   "metadata": {},
   "outputs": [],
   "source": [
    "df.duplicated().sum() # Проверим есть ли явные дублекаты"
   ]
  },
  {
   "cell_type": "code",
   "execution_count": null,
   "metadata": {},
   "outputs": [],
   "source": [
    "df = df.drop_duplicates().reset_index(drop= True)# удалите дубликаты и приведем индексы в порядок"
   ]
  },
  {
   "cell_type": "code",
   "execution_count": null,
   "metadata": {},
   "outputs": [],
   "source": [
    "#Удаляем неинформативные признаки\n",
    "\n",
    "df= df.drop(['DateCrawled','DateCreated','LastSeen','NumberOfPictures', 'PostalCode'], axis=1)\n"
   ]
  },
  {
   "cell_type": "code",
   "execution_count": null,
   "metadata": {},
   "outputs": [],
   "source": [
    "#Приведем названия для дальнейшей работы к змеинному иедексу\n",
    "df.columns = df.columns = ['Price', 'Vehicle_Type', 'Registration_Year', 'Gearbox', 'Power',\n",
    "       'Model', 'Kilometer', 'Registration_Month', 'Fuel_Type',\n",
    "       'Brand', 'Repaired']\n",
    "df.columns = map(str.lower, df.columns) #Нестоит забывать про нижний регистр"
   ]
  },
  {
   "cell_type": "code",
   "execution_count": null,
   "metadata": {},
   "outputs": [],
   "source": [
    "df.isna().sum() # Посмотрим пропуски."
   ]
  },
  {
   "cell_type": "code",
   "execution_count": null,
   "metadata": {},
   "outputs": [],
   "source": [
    "df.describe()"
   ]
  },
  {
   "cell_type": "markdown",
   "metadata": {},
   "source": [
    "Сразу бросаются в глаза явные перекосы, такие как неодекваный год. Необходимо привести данные впорядок."
   ]
  },
  {
   "cell_type": "markdown",
   "metadata": {},
   "source": [
    "Сначала посмотрим на количество явно ошибочных данных"
   ]
  },
  {
   "cell_type": "code",
   "execution_count": null,
   "metadata": {},
   "outputs": [],
   "source": [
    "print('Машины после 2023 года: ', df.query('registration_year > 2023')['registration_year'].count())# Датасет скорее всего до 2023 года"
   ]
  },
  {
   "cell_type": "code",
   "execution_count": null,
   "metadata": {},
   "outputs": [],
   "source": [
    "df['model'].value_counts() #для определения года выпуска можно былобы посмотреть начала производства модели но 250 слишком долго."
   ]
  },
  {
   "cell_type": "code",
   "execution_count": null,
   "metadata": {},
   "outputs": [],
   "source": [
    "print('Машины до 1913 года: ', df.query('registration_year < 1913')['registration_year'].count())# 1913 год 1 конвеера для машин"
   ]
  },
  {
   "cell_type": "code",
   "execution_count": null,
   "metadata": {},
   "outputs": [],
   "source": [
    "print('Машины 2023 года: ',df[df['registration_year'] == 2023]['registration_year'].count())\n",
    "print('Машины 2022 года: ',df[df['registration_year'] == 2022]['registration_year'].count())\n",
    "print('Машины 2021 года: ',df[df['registration_year'] == 2021]['registration_year'].count())\n",
    "print('Машины 2020 года: ',df[df['registration_year'] == 2020]['registration_year'].count())\n",
    "print('Машины 2019 года: ',df[df['registration_year'] == 2019]['registration_year'].count())\n",
    "#Значит датасет заканчивается машинами 2019 года регестрации"
   ]
  },
  {
   "cell_type": "code",
   "execution_count": null,
   "metadata": {},
   "outputs": [],
   "source": [
    "df.drop(index=df.query('registration_year > 2023').index,inplace=True)# 2024 год еще ненаступил"
   ]
  },
  {
   "cell_type": "code",
   "execution_count": null,
   "metadata": {},
   "outputs": [],
   "source": [
    "file_path = '/datasets/autos.csv'\n",
    "stat_info = os.stat(file_path)\n",
    "file_modified_time = pd.Timestamp(stat_info.st_mtime, unit='s')\n",
    "print(file_modified_time)\n",
    "print(file_modified_time.min)\n",
    "print(file_modified_time.max)"
   ]
  },
  {
   "cell_type": "code",
   "execution_count": null,
   "metadata": {},
   "outputs": [],
   "source": [
    "df.drop(index=df.query('registration_year < 1913').index,inplace=True)# Невижу смысла расматривать машины сделанные раньше"
   ]
  },
  {
   "cell_type": "code",
   "execution_count": null,
   "metadata": {},
   "outputs": [],
   "source": [
    "print('Машины до 1939 года: ', df.query('registration_year < 1939')['registration_year'].count())\n",
    "# Может старые машины будут интересны колекционерам. Посмотрим более подробно выпуск до 2 мировой войны"
   ]
  },
  {
   "cell_type": "code",
   "execution_count": null,
   "metadata": {},
   "outputs": [],
   "source": [
    "df[df['registration_year'] < 1939]"
   ]
  },
  {
   "cell_type": "markdown",
   "metadata": {},
   "source": [
    "Почти все модели неизвестны. Мне удалось найти kadett и 500 (похоже на Fiat 500) эти машины выпускались с 1936 года.Особой кореляции по цене тут невидно и проверить другие марки нет возможности. Поэтому можем смело удалить машины до 1936 года. А вот citroen c3 вро де как 2012 года, скорее всего опечатались с датой.\t"
   ]
  },
  {
   "cell_type": "code",
   "execution_count": null,
   "metadata": {},
   "outputs": [],
   "source": [
    "df.drop(index=df.query('registration_year < 1936').index,inplace=True)"
   ]
  },
  {
   "cell_type": "code",
   "execution_count": null,
   "metadata": {},
   "outputs": [],
   "source": [
    "df['registration_month'].value_counts()"
   ]
  },
  {
   "cell_type": "markdown",
   "metadata": {},
   "source": [
    "У нас появился 0 месяц которого в календаре нет. Мы пока можем расмотреть 0 месяц как пропуск. Таких пропусков довольно много. Месяц продажи мог бы говарить нам о навизне машины, но поскольку 2019 год 25 машин, да и периуд у нас довольно большой, думаю этот параметр был бы полезен если бы мы расматривали машины последних 3 максимум 5 лет. Более полезен этот пораметр брать если расматривать сезонность, но недумаю, что сезон имеет сильное значение для цены автомобиля. Лучше посмотрим кореляцию и решим стоит ли нам использовать данное значение для обучения."
   ]
  },
  {
   "cell_type": "code",
   "execution_count": null,
   "metadata": {},
   "outputs": [],
   "source": [
    "list_for_graph = ['registration_year',\n",
    "                  'power',\n",
    "                  'kilometer',\n",
    "                  'registration_month']\n",
    "\n",
    "for entry in list_for_graph:\n",
    "    correlation = df['price'].corr(df[entry])\n",
    "    print(f'Корреляция между price и {entry} составляет: {correlation:0.1%}')"
   ]
  },
  {
   "cell_type": "markdown",
   "metadata": {},
   "source": [
    "Оно является самым маленьким значением, если удалить 0 месяц то падает еще ниже. Поэтому смело удаляем как неинформативный признак."
   ]
  },
  {
   "cell_type": "markdown",
   "metadata": {},
   "source": [
    "Смощьностью сложнее. Если мощьность 0 это может означать как отсутствие информации так и то, что мотор отсутствует или неработает. Также малая мощьность может говарить о неверных значениях или очень старом двигателе. Очень высокая об ошибке или штучном суперкаре. "
   ]
  },
  {
   "cell_type": "code",
   "execution_count": null,
   "metadata": {},
   "outputs": [],
   "source": [
    "print('Машины более 560 лошадиных сил: ', df.query('power > 560')['power'].count())"
   ]
  },
  {
   "cell_type": "code",
   "execution_count": null,
   "metadata": {},
   "outputs": [],
   "source": [
    "df.drop(index=df.query('power > 560').index,inplace=True)"
   ]
  },
  {
   "cell_type": "code",
   "execution_count": null,
   "metadata": {},
   "outputs": [],
   "source": [
    "df[df['power'] > 500].head(30)"
   ]
  },
  {
   "cell_type": "markdown",
   "metadata": {},
   "source": [
    "Некоторые машины такие как twingo или polo их марки не превышают 150 лошадинных сил, clk более мощьные но меньше 400 лошадей другие как mustang могут иметь более 500 лошадок, а недорогие как golf имеют меньшую мощьность. Вобщем если удалить до 500 евро это решит проблему с дешовым и маломощьным сегментом, но всеровно будет много ошибок. Я думая если удалим более мощьные двигатели чем максимумальный clk это 388 лошадиных сил, то увидем меньше ошибок."
   ]
  },
  {
   "cell_type": "code",
   "execution_count": null,
   "metadata": {},
   "outputs": [],
   "source": [
    "print('Машины более 388 лошадиных сил: ', df.query('power > 388')['power'].count())"
   ]
  },
  {
   "cell_type": "code",
   "execution_count": null,
   "metadata": {},
   "outputs": [],
   "source": [
    "df.drop(index=df.query('power > 388').index,inplace=True)"
   ]
  },
  {
   "cell_type": "markdown",
   "metadata": {},
   "source": [
    "Расмотрим с 0 значением"
   ]
  },
  {
   "cell_type": "code",
   "execution_count": null,
   "metadata": {},
   "outputs": [],
   "source": [
    "print('Машины с 0 лошадиных сил: ', df.query('power == 0')['power'].count())"
   ]
  },
  {
   "cell_type": "code",
   "execution_count": null,
   "metadata": {},
   "outputs": [],
   "source": [
    "df[df['power'] == 0].head(40)"
   ]
  },
  {
   "cell_type": "markdown",
   "metadata": {},
   "source": [
    "Вообще похоже на то, что присутствует 3 варианта. Кто то продает машину явно со сломанным двигателем поскольку для машины на ходу очень дешево, кто то толи незнал толи по ошибки постваил 0. Поскольку мы будем обучать модель и предсказывать цену нас будут путать сломанные машины поскольку они не являются отдельной категорией поэтому нам лучше востановить мощьность двигателя по такимже автомобилям. "
   ]
  },
  {
   "cell_type": "code",
   "execution_count": null,
   "metadata": {},
   "outputs": [],
   "source": [
    "def calculate_power(df, brand, model, year):\n",
    "    df_part = df[(df['registration_year'] == year) & (df['brand'] == brand) & (df['model'] == model)]\n",
    "    if (df_part['power'].count() == 0):\n",
    "        # если не нашли по году, бренду и модели, пробуем только по бренду + модели\n",
    "        df_part = df[(df['brand'] == brand) & (df['model'] == model)]\n",
    "    \n",
    "    median_power = df_part['power'].median()\n",
    "    \n",
    "    if (math.isnan(median_power)):\n",
    "        median_power = 0\n",
    "        \n",
    "    return median_power\n",
    "\n",
    "# Попробуем заполнить мощность для наших плохих данных. Рамки возьмем как Fiat 126 с 26 л.с. и доработаный Fiat 500 с 300 л.с.\n",
    "bad_power_df = df[(df['power'] < 26) | (df['power'] > 300)][['brand', 'model', 'registration_year']]\n",
    "bad_power_df.count()"
   ]
  },
  {
   "cell_type": "code",
   "execution_count": null,
   "metadata": {},
   "outputs": [],
   "source": [
    "# Заполним незаполненные модели категорией other\n",
    "bad_power_df['model'] = bad_power_df['model'].fillna('other')"
   ]
  },
  {
   "cell_type": "code",
   "execution_count": null,
   "metadata": {},
   "outputs": [],
   "source": [
    "bad_power_df = bad_power_df.drop_duplicates()\n",
    "bad_power_df.count()"
   ]
  },
  {
   "cell_type": "code",
   "execution_count": null,
   "metadata": {},
   "outputs": [],
   "source": [
    "%%time\n",
    "\n",
    "for row in bad_power_df.itertuples(index=True, name='pandas'):\n",
    "    year = getattr(row, \"registration_year\")\n",
    "    brand = getattr(row, \"brand\")\n",
    "    model = getattr(row, \"model\")\n",
    "    median = calculate_power(df, brand, model, year)\n",
    "    searchRow = ((df['power'] < 30) | (df['power'] > 340)) & (df['brand'] == brand) \\\n",
    "    & (df['model'] == model) & (df['registration_year'] == year)\n",
    "    df.loc[searchRow, 'power'] = median"
   ]
  },
  {
   "cell_type": "code",
   "execution_count": null,
   "metadata": {},
   "outputs": [],
   "source": [
    "# Посмотрим, сколько нулевых значений осталось\n",
    "df[df['power'] == 0]['price'].count()"
   ]
  },
  {
   "cell_type": "code",
   "execution_count": null,
   "metadata": {},
   "outputs": [],
   "source": [
    "df['power'] = df['power'].astype(int)"
   ]
  },
  {
   "cell_type": "code",
   "execution_count": null,
   "metadata": {},
   "outputs": [],
   "source": [
    "# Лучше удалим оставшиеся значения = 0\n",
    "df.drop(index=df.query('power == 0').index,inplace=True)"
   ]
  },
  {
   "cell_type": "markdown",
   "metadata": {},
   "source": [
    "С ценой возникает чем то схожая проблема. Если мы оставим 0 значения и очень дешовые то собьем выборку поскольку у нас нет четкого пониманиярабочая машина или нет."
   ]
  },
  {
   "cell_type": "code",
   "execution_count": null,
   "metadata": {},
   "outputs": [],
   "source": [
    "print('Машиныстоимостью до 500 евра: ', df.query('price < 500')['price'].count())"
   ]
  },
  {
   "cell_type": "code",
   "execution_count": null,
   "metadata": {},
   "outputs": [],
   "source": [
    "# Врядли машины дешевле 500 евро на ходу. Чтобы при обучении непортить модель сделаем похожие монипуляции как и с мощьностью.\n",
    "# Общую цену лучше взять по средней\n",
    "\n",
    "def calculate_price(df, brand, model, year):\n",
    "    # в среднем не будем рассчитывать нулевые значения\n",
    "    df_part = df[(df['price'] > 500) & (df['registration_year'] == year) & (df['brand'] == brand) & (df['model'] == model)]\n",
    "    if (df_part['price'].count() == 0):\n",
    "        # если не нашли по году, бренду и модели, пробуем только по бренду + модели\n",
    "        df_part = df[(df['price'] > 500) & (df['brand'] == brand) & (df['model'] == model)]\n",
    "    \n",
    "    mean_price = df_part['price'].mean()\n",
    "    \n",
    "    if (math.isnan(mean_price)):\n",
    "        mean_price = 0\n",
    "        \n",
    "    return mean_price\n",
    "\n",
    "# Попробуем заполнить мощность для наших плохих данных\n",
    "bad_price_df = df[df['price'] < 500][['brand', 'model', 'registration_year']]\n",
    "bad_price_df['model'] = bad_price_df['model'].fillna('other')\n",
    "bad_price_df = bad_price_df.drop_duplicates()\n",
    "bad_price_df.count()"
   ]
  },
  {
   "cell_type": "code",
   "execution_count": null,
   "metadata": {},
   "outputs": [],
   "source": [
    "%%time\n",
    "\n",
    "for row in bad_price_df.itertuples(index=True, name='pandas'):\n",
    "    year = getattr(row, \"registration_year\")\n",
    "    brand = getattr(row, \"brand\")\n",
    "    model = getattr(row, \"model\")\n",
    "    mean_price = calculate_price(df, brand, model, year)\n",
    "    searchRow = (df['price'] < 500) & (df['brand'] == brand) & (df['model'] == model) & (df['registration_year'] == year)\n",
    "    df.loc[searchRow, 'price'] = mean_price\n",
    "    \n",
    "df[df['price'] < 500]['price'].count()"
   ]
  },
  {
   "cell_type": "code",
   "execution_count": null,
   "metadata": {},
   "outputs": [],
   "source": [
    "print('Машины стоимостью до 500 евра: ', df.query('price < 500')['price'].count())"
   ]
  },
  {
   "cell_type": "code",
   "execution_count": null,
   "metadata": {},
   "outputs": [],
   "source": [
    "df['price'] = df['price'].astype(int)"
   ]
  },
  {
   "cell_type": "code",
   "execution_count": null,
   "metadata": {},
   "outputs": [],
   "source": [
    "df.drop(index=df.query('price < 500').index,inplace=True)"
   ]
  },
  {
   "cell_type": "markdown",
   "metadata": {},
   "source": [
    "Перейдем к признакам в которых так сильно ошибки небрасались."
   ]
  },
  {
   "cell_type": "code",
   "execution_count": null,
   "metadata": {},
   "outputs": [],
   "source": [
    "# Посмотрим, есть ли артифакты в значениях repaired\n",
    "df['repaired'].value_counts()"
   ]
  },
  {
   "cell_type": "code",
   "execution_count": null,
   "metadata": {},
   "outputs": [],
   "source": [
    "# Переведем да, нет и пропуск в цивры. Так мы избавимся от пропусков и нам будет легче использовать эти данные.\n",
    "# 0 будет отсутствие ремонта, 1 неизвестно и 2 - ремонт был (таким образом определим вес каждой категории)\n",
    "\n",
    "df['repaired'] = df['repaired'].fillna(1)\n",
    "\n",
    "def fill_not_repaired(value):\n",
    "    if value == 'no':\n",
    "        return 0\n",
    "    elif value == 'yes':\n",
    "        return 2\n",
    "    else:\n",
    "        return value\n",
    "\n",
    "df['repaired'] = df['repaired'].apply(fill_not_repaired)\n",
    "df['repaired'].value_counts()"
   ]
  },
  {
   "cell_type": "code",
   "execution_count": null,
   "metadata": {},
   "outputs": [],
   "source": [
    "df['repaired'] = df['repaired'].astype(int)"
   ]
  },
  {
   "cell_type": "code",
   "execution_count": null,
   "metadata": {},
   "outputs": [],
   "source": [
    "# Расмотрим vehicle_type\n",
    "df['vehicle_type'].value_counts()"
   ]
  },
  {
   "cell_type": "code",
   "execution_count": null,
   "metadata": {},
   "outputs": [],
   "source": [
    "# Делаем отдельную категорию\n",
    "df['vehicle_type'] = df['vehicle_type'].fillna('undefined')"
   ]
  },
  {
   "cell_type": "code",
   "execution_count": null,
   "metadata": {},
   "outputs": [],
   "source": [
    "# Убираем пропуски заменив их новой категорией\n",
    "\n",
    "df['gearbox'] = df['gearbox'].fillna('undefined')\n",
    "df['model'] = df['model'].fillna('undefined')\n",
    "df['fuel_type'] = df['fuel_type'].fillna('undefined')\n",
    "df['brand'] = df['brand'].fillna('undefined')"
   ]
  },
  {
   "cell_type": "code",
   "execution_count": null,
   "metadata": {},
   "outputs": [],
   "source": [
    "df['fuel_type'].value_counts()"
   ]
  },
  {
   "cell_type": "code",
   "execution_count": null,
   "metadata": {},
   "outputs": [],
   "source": [
    "df['fuel_type'].replace({'petrol': 'gasoline'}, inplace=True)"
   ]
  },
  {
   "cell_type": "code",
   "execution_count": null,
   "metadata": {},
   "outputs": [],
   "source": [
    "df['fuel_type'].value_counts()"
   ]
  },
  {
   "cell_type": "code",
   "execution_count": null,
   "metadata": {},
   "outputs": [],
   "source": [
    "df.reset_index(drop=True,inplace=True) #Cбросим индексацию после удаления строк."
   ]
  },
  {
   "cell_type": "code",
   "execution_count": null,
   "metadata": {},
   "outputs": [],
   "source": [
    "DATA_SHAPE = df.shape[0] / DATA_SHAPE\n",
    "DATA_SHAPE"
   ]
  },
  {
   "cell_type": "markdown",
   "metadata": {},
   "source": [
    "1. Резюме.\n",
    "\n",
    "* Загрузил данные и изучил данные. \n",
    "* Проверим есть ли явные дублекаты. Их оказалось 4, удалили их.\n",
    "* Удаляем неинформативные признаки 'DateCrawled','DateCreated','LastSeen','NumberOfPictures', 'PostalCode'.\n",
    "* Приведем названия для дальнейшей работы к змеинному иедексу.\n",
    "* Проверяем на аномалии. Их бросается в глаза довольно много, особенно год выпуска и мощьность автомобиля. Также настораживает цена. Поскольку это целевой признак мы к нему должны относится особо бережно. Год мы берем с 1913 первый автомобильный канвеер по 2023 (текущий). Проверили месяц на кореляцию с ценой, результат вышел небольшим, удалили этот признак как и другие неинформативные признаки. Было решено удалить машины с мощьностью более 388 л.с. и был  использвать перебор для машин мощьностью менее 26 л.с. им присвоины мощьности соответствующие авто с совпадающим годом моделью и маркой автомобиля.  Конечно 0 мощьность мотора может значит, что машина не находу, но тогда другие признаки сильно теряют свою актуальность. С ценой было проделана аналогичная операция с диапозоном менее 500 евра. Машины на которые неподошли похожие были удалены.\n",
    "* Данные по присутствию или отсутствию ремонта мы перевели в цифровой вид  0 будет отсутствие ремонта, 1 неизвестно и 2 - ремонт был .\n",
    "* Остальные пропуски заменили категорией undefined.\n",
    "* Признаки которые могли перевели в int.\n",
    "* Было удалено менее 4% информации с датасета.\n",
    "* Преравнял \"Petrol\" и \"gasoline\" друг к другу."
   ]
  },
  {
   "cell_type": "markdown",
   "metadata": {},
   "source": [
    "## Обучение моделей\n",
    "<a id='section_id2'></a>"
   ]
  },
  {
   "cell_type": "markdown",
   "metadata": {},
   "source": [
    "Подготовка выборок для обучения моделей"
   ]
  },
  {
   "cell_type": "markdown",
   "metadata": {},
   "source": [
    "<div class=\"alert alert-block alert-warning\">\n",
    "<b>1.Изменения:</b> Были внесены следующие изменения: Перенес сюда данный метод кодирования, другой метод закаментировал, это должно исправить большинство ошибок.\n",
    "</div>"
   ]
  },
  {
   "cell_type": "code",
   "execution_count": null,
   "metadata": {},
   "outputs": [],
   "source": [
    "# # помним про PEP-8\n",
    "# # импорты из стандартной библиотеки\n",
    "# import warnings\n",
    "\n",
    "# # импорты сторонних библиотек\n",
    "# import numpy as np\n",
    "# import pandas as pd\n",
    "\n",
    "# # импорты модулей текущего проекта\n",
    "# # длина строки до 78 символов\n",
    "# from sklearn.compose import make_column_transformer\n",
    "# from sklearn.ensemble import RandomForestRegressor\n",
    "# from sklearn.linear_model import Ridge\n",
    "# from sklearn.metrics import mean_squared_error\n",
    "# from sklearn.model_selection import (\n",
    "#     GridSearchCV, \n",
    "#     RandomizedSearchCV,\n",
    "#     train_test_split\n",
    "# )\n",
    "# from sklearn.pipeline import make_pipeline\n",
    "# from sklearn.preprocessing import (\n",
    "#     OneHotEncoder,\n",
    "#     OrdinalEncoder,\n",
    "#     StandardScaler\n",
    "# )\n",
    "\n",
    "# # настройки\n",
    "# warnings.filterwarnings(\"ignore\")\n",
    "\n",
    "# # константы заглавными буквами\n",
    "# RANDOM_STATE = 42"
   ]
  },
  {
   "cell_type": "code",
   "execution_count": null,
   "metadata": {},
   "outputs": [],
   "source": [
    "# def get_data_info(data):\n",
    "#     display(data.sample(5))\n",
    "#     display(data.info())\n",
    "#     display(data.describe(include='all'))"
   ]
  },
  {
   "cell_type": "code",
   "execution_count": null,
   "metadata": {},
   "outputs": [],
   "source": [
    "\n",
    "# get_data_info(df)"
   ]
  },
  {
   "cell_type": "code",
   "execution_count": null,
   "metadata": {},
   "outputs": [],
   "source": [
    "# features = df.drop(['price'], axis=1)\n",
    "# target = df['price']\n",
    "\n",
    "# X_train, X_test, y_train, y_test = train_test_split(\n",
    "#     features, target, test_size=0.25, random_state=RANDOM_STATE\n",
    "# )\n"
   ]
  },
  {
   "cell_type": "code",
   "execution_count": null,
   "metadata": {},
   "outputs": [],
   "source": [
    "# # Создаем отложенную тестовую выборку\n",
    "\n",
    "# X_test, features_test, y_test, target_test= train_test_split(\n",
    "#     X_test, y_test, test_size=0.5, random_state=RANDOM_STATE\n",
    "# )"
   ]
  },
  {
   "cell_type": "code",
   "execution_count": null,
   "metadata": {},
   "outputs": [],
   "source": [
    "# get_data_info(X_train)"
   ]
  },
  {
   "cell_type": "code",
   "execution_count": null,
   "metadata": {},
   "outputs": [],
   "source": [
    "# get_data_info(X_test)"
   ]
  },
  {
   "cell_type": "code",
   "execution_count": null,
   "metadata": {},
   "outputs": [],
   "source": [
    "# #категориальные признаки для OHE Ridge\n",
    "# ohe_features_ridge = X_train.select_dtypes(include='object').columns.to_list()\n",
    "# print(ohe_features_ridge)\n",
    "\n",
    "# #категориальные признаки для OHE RandomForestRegressor\n",
    "# ohe_features_rf = ohe_features_ridge.copy()\n",
    "# ohe_features_rf.remove('model')\n",
    "# ohe_features_rf"
   ]
  },
  {
   "cell_type": "code",
   "execution_count": null,
   "metadata": {},
   "outputs": [],
   "source": [
    "# #численные признаки\n",
    "# #обратите внимание, что 'repaired' — категориальный бинарный признак.\n",
    "# num_features = X_train.select_dtypes(exclude='object').columns.to_list()\n",
    "# num_features.remove('repaired')\n",
    "# num_features"
   ]
  },
  {
   "cell_type": "code",
   "execution_count": null,
   "metadata": {},
   "outputs": [],
   "source": [
    "# models_train = set(X_train['model'].unique())\n",
    "# models_test = set(X_test['model'].unique())\n",
    "# num_models_train = len(models_train)\n",
    "# num_models_test = len(models_test)\n",
    "# print(f'''\n",
    "# Количество уникальных значений признка \"model\" \n",
    "# в обеих выборках одинаковое: {num_models_train == num_models_test}\n",
    "# ''')\n",
    "# print(f'''\n",
    "# Уникальные значения признка \"model\" \n",
    "# в обеих выборках одинаковые: {models_train == models_test}\n",
    "# ''')\n",
    "# print(f'''\n",
    "# Только в тренировочной выборке есть значения: {models_train - models_test}\n",
    "# ''')\n",
    "# print(f'''\n",
    "# Только в тестовой выборке есть значения: {models_test - models_train}\n",
    "# ''')"
   ]
  },
  {
   "cell_type": "code",
   "execution_count": null,
   "metadata": {},
   "outputs": [],
   "source": [
    "def time_score(model, features_train, target_train, features_test, target_test):\n",
    "    \n",
    "    start = time.time()    \n",
    "    model.fit(features_train, target_train)\n",
    "    train_time = time.time() - start\n",
    "    \n",
    "    start = time.time()  \n",
    "    predict = model.predict(features_test)\n",
    "    predict_time = time.time() - start\n",
    "\n",
    "    return train_time, predict_time, mse(target_test, predict)**0.5"
   ]
  },
  {
   "cell_type": "markdown",
   "metadata": {},
   "source": [
    "Выделим целевой признак. Разделим датасет:"
   ]
  },
  {
   "cell_type": "code",
   "execution_count": null,
   "metadata": {},
   "outputs": [],
   "source": [
    "features = df.drop(['price'], axis = 1)  \n",
    "target = df['price']\n",
    "\n",
    "# features_train, features_valid, target_train, target_valid \\\n",
    "# =  train_test_split(features, target, test_size=0.25, random_state=41)"
   ]
  },
  {
   "cell_type": "code",
   "execution_count": null,
   "metadata": {},
   "outputs": [],
   "source": [
    "# # Создаем отложенную тестовую выборку\n",
    "# features_valid, features_test, target_valid, target_test \\\n",
    "# = train_test_split(features_valid, target_valid, test_size=0.5, random_state=41)"
   ]
  },
  {
   "cell_type": "code",
   "execution_count": null,
   "metadata": {},
   "outputs": [],
   "source": [
    "# # Создаем объект OrdinalEncoder для кодирования категориальных признаков\n",
    "# encoder = OrdinalEncoder(handle_unknown='use_encoded_value', unknown_value=-1, dtype=np.int16)\n",
    "# category_features = ['vehicle_type', 'gearbox', 'model', 'fuel_type', 'brand', 'repaired']\n",
    "# category_features\n",
    "# encoder.fit(df[category_features])\n",
    "\n",
    "# # Кодируем категориальные признаки\n",
    "# df[category_features] = encoder.transform(df[category_features])\n",
    "# df = df.astype(np.int16)\n",
    "# df.info()"
   ]
  },
  {
   "cell_type": "code",
   "execution_count": null,
   "metadata": {},
   "outputs": [],
   "source": [
    "# Создаем объект OrdinalEncoder для кодирования категориальных признаков\n",
    "encoder = OrdinalEncoder(handle_unknown='use_encoded_value', unknown_value=-1, dtype=np.int16)\n",
    "category_features = ['vehicle_type', 'gearbox', 'model', 'fuel_type', 'brand', 'repaired']\n",
    "\n",
    "# Разбиваем на train/valid/test\n",
    "features_train, features_valid, target_train, target_valid \\\n",
    "=  train_test_split(features, target, test_size=0.25, random_state=41) # Создаем отложенную тестовую выборку\n",
    "features_valid, features_test, target_valid, target_test \\\n",
    "= train_test_split(features_valid, target_valid, test_size=0.5, random_state=41)\n",
    "\n",
    "# Кодируем категориальные признаки на train и используем ту же кодировку для valid и test\n",
    "encoder.fit(features_train[category_features])\n",
    "features_train[category_features] = encoder.transform(features_train[category_features])\n",
    "features_valid[category_features] = encoder.transform(features_valid[category_features])\n",
    "features_test[category_features] = encoder.transform(features_test[category_features])\n",
    "\n",
    "# Проверяем тип данных\n",
    "features_train = features_train.astype(np.int16)\n",
    "features_valid = features_valid.astype(np.int16)\n",
    "features_test = features_test.astype(np.int16)"
   ]
  },
  {
   "cell_type": "code",
   "execution_count": null,
   "metadata": {},
   "outputs": [],
   "source": [
    "features_train.shape[0], features_valid.shape[0], target_train.shape[0], target_valid.shape[0], \\\n",
    "target_test.shape[0], features_test.shape[0]"
   ]
  },
  {
   "cell_type": "code",
   "execution_count": null,
   "metadata": {
    "scrolled": false
   },
   "outputs": [],
   "source": [
    "features_train['vehicle_type'] = features_train['vehicle_type'].astype('category')\n",
    "features_train['gearbox'] = features_train['gearbox'].astype('category')\n",
    "features_train['model'] = features_train['model'].astype('category')\n",
    "features_train['fuel_type'] = features_train['fuel_type'].astype('category')\n",
    "features_train['brand'] = features_train['brand'].astype('category')\n",
    "features_train['repaired'] = features_train['repaired'].astype('category')\n",
    "\n",
    "features_valid['vehicle_type'] = features_valid['vehicle_type'].astype('category')\n",
    "features_valid['gearbox'] = features_valid['gearbox'].astype('category')\n",
    "features_valid['model'] = features_valid['model'].astype('category')\n",
    "features_valid['fuel_type'] = features_valid['fuel_type'].astype('category')\n",
    "features_valid['brand'] = features_valid['brand'].astype('category')\n",
    "features_valid['repaired'] = features_valid['repaired'].astype('category')"
   ]
  },
  {
   "cell_type": "markdown",
   "metadata": {},
   "source": [
    "модель LightGBM"
   ]
  },
  {
   "cell_type": "code",
   "execution_count": null,
   "metadata": {},
   "outputs": [],
   "source": [
    "%%time\n",
    "estim = lgb.LGBMRegressor()\n",
    "estim.fit(features_train, target_train, eval_metric='rmse', categorical_feature=category_features)\n",
    "predicted_valid = estim.predict(features_valid)\n",
    "predicted_train = estim.predict(features_train)\n",
    "print('The rmse of LGBMRegressor prediction on train:', mse(target_train, predicted_train) ** 0.5)\n",
    "print('The rmse of LGBMRegressor prediction on valid:', mse(target_valid, predicted_valid) ** 0.5)"
   ]
  },
  {
   "cell_type": "markdown",
   "metadata": {},
   "source": [
    "Разброс значений цены между обучающей и валидационной выборках маленький."
   ]
  },
  {
   "cell_type": "code",
   "execution_count": null,
   "metadata": {},
   "outputs": [],
   "source": [
    "%%time\n",
    "model = lgb.LGBMRegressor(num_leaves= 31, learning_rate=0.01, max_depth=15, n_estimators=250)\n",
    "model.fit(features_train, target_train, categorical_feature=category_features)\n",
    "predicted_valid1 = model.predict(features_valid)\n",
    "rmse = (mse(target_valid, predicted_valid1))**0.5\n",
    "\n",
    "rmse"
   ]
  },
  {
   "cell_type": "code",
   "execution_count": null,
   "metadata": {},
   "outputs": [],
   "source": [
    "result = []\n",
    "result.append(time_score(model, features_train, target_train, features_valid, target_valid))"
   ]
  },
  {
   "cell_type": "markdown",
   "metadata": {},
   "source": [
    "Градиентный бустинг CatBoost"
   ]
  },
  {
   "cell_type": "code",
   "execution_count": null,
   "metadata": {},
   "outputs": [],
   "source": [
    "%%time\n",
    "model_cat = CatBoostRegressor(n_estimators = 200, loss_function = 'MAE', eval_metric = 'RMSE'\n",
    "                              , cat_features = category_features)\n",
    "model_cat.fit(features_train, target_train, cat_features=category_features, verbose=10)\n",
    "predicted_valid2 = model_cat.predict(features_valid)\n",
    "rmse = (mse(target_valid, predicted_valid2))**0.5\n",
    "rmse"
   ]
  },
  {
   "cell_type": "code",
   "execution_count": null,
   "metadata": {
    "scrolled": true
   },
   "outputs": [],
   "source": [
    "result.append(time_score(model_cat, features_train, target_train, features_valid, target_valid))"
   ]
  },
  {
   "cell_type": "code",
   "execution_count": null,
   "metadata": {},
   "outputs": [],
   "source": [
    "pd.DataFrame(data=result,\n",
    "index=['LightGBM', 'CatBoost'],\n",
    "columns=['Время_обучения', 'Время_Предсказания', 'RMSE'])"
   ]
  },
  {
   "cell_type": "markdown",
   "metadata": {},
   "source": [
    "Теперь перейдем к моделям не являющимся бустинговыми. Возьмем случайный лес и дерево решений. Попробуем для них другой подход по обучению."
   ]
  },
  {
   "cell_type": "markdown",
   "metadata": {},
   "source": [
    "Случайный лес"
   ]
  },
  {
   "cell_type": "code",
   "execution_count": null,
   "metadata": {},
   "outputs": [],
   "source": [
    "%%time\n",
    "# Создаем модель\n",
    "forest_model = RandomForestRegressor(random_state=12345, n_estimators=100)\n",
    "\n",
    "# Обучаем модель на обучающей выборке\n",
    "forest_model.fit(features_train, target_train)\n",
    "\n",
    "# Получаем предсказания для валидационной выборки\n",
    "predictions = forest_model.predict(features_valid)\n",
    "\n",
    "# Вычисляем RMSE для валидационной выборки\n",
    "rmse = mse(target_valid, predictions)**0.5\n",
    "print('RMSE на валидационной выборке:', rmse)\n"
   ]
  },
  {
   "cell_type": "markdown",
   "metadata": {},
   "source": [
    "Решающее дерево"
   ]
  },
  {
   "cell_type": "code",
   "execution_count": null,
   "metadata": {},
   "outputs": [],
   "source": [
    "%%time\n",
    "# создаем объект решающего дерева\n",
    "tree_model = DecisionTreeRegressor(max_depth=10, random_state=42)\n",
    "\n",
    "# обучаем модель на тренировочном наборе данных\n",
    "tree_model.fit(features_train, target_train)\n",
    "\n",
    "# получаем предсказания на валидационном наборе данных\n",
    "tree_predictions = tree_model.predict(features_valid)\n",
    "\n",
    "# оцениваем качество модели\n",
    "tree_rmse = mse(target_valid, tree_predictions)**0.5\n",
    "print('RMSE решающего дерева:', tree_rmse)"
   ]
  },
  {
   "cell_type": "code",
   "execution_count": null,
   "metadata": {},
   "outputs": [],
   "source": [
    "# Создаем пустой DataFrame с нужными колонками\n",
    "result = pd.DataFrame(columns=['Время_обучения', 'Время_Предсказания', 'RMSE'])\n",
    "\n",
    "# Добавляем результаты для дерева решений\n",
    "result.loc['DecisionTree'] = time_score(tree_model, features_train, target_train, features_valid, target_valid)\n",
    "\n",
    "# Добавляем результаты для случайного леса\n",
    "result.loc['RandomForest'] = time_score(forest_model, features_train, target_train, features_valid, target_valid)\n",
    "\n",
    "# Выводим результаты в табличном виде\n",
    "print(result)"
   ]
  },
  {
   "cell_type": "markdown",
   "metadata": {},
   "source": [
    "Решающее дерево выигрывает по скорости у случайного леса хоть и RMSE выше. Но поскольку оно подходит по условию задания в преоритете оставим время. Теперь найдем более подходящие пораметры."
   ]
  },
  {
   "cell_type": "code",
   "execution_count": null,
   "metadata": {},
   "outputs": [],
   "source": [
    "%%time\n",
    "# Задаем сетку параметров для перебора\n",
    "param_grid = {'max_depth': [5, 10, 20, None],\n",
    "              'min_samples_split': [2, 5, 10],\n",
    "              'min_samples_leaf': [1, 2, 4],\n",
    "              'max_features': ['auto', 'sqrt', 'log2']}\n",
    "\n",
    "# Создаем модель\n",
    "model = DecisionTreeRegressor(random_state=12345)\n",
    "\n",
    "# Используем кросс-валидацию для подбора параметров\n",
    "grid_search = GridSearchCV(model, param_grid, cv=5, scoring='neg_mean_squared_error')\n",
    "grid_search.fit(features_train, target_train)\n",
    "\n",
    "# Выводим лучшие параметры\n",
    "print('Лучшие параметры:', grid_search.best_params_)\n",
    "\n",
    "# Получаем предсказания для валидационной выборки с помощью лучшей модели\n",
    "best_model = grid_search.best_estimator_\n",
    "predicted_valid = best_model.predict(features_valid)\n",
    "\n",
    "# Оцениваем качество модели на валидационной выборке\n",
    "mse_valid = mse(target_valid, predicted_valid)\n",
    "rmse_valid = mse_valid ** 0.5\n",
    "print('RMSE на валидационной выборке:', rmse_valid)"
   ]
  },
  {
   "cell_type": "code",
   "execution_count": null,
   "metadata": {},
   "outputs": [],
   "source": [
    "%%time\n",
    "# Получаем предсказания для тестовой выборки с помощью лучшей модели\n",
    "predicted_test = best_model.predict(features_test)\n",
    "\n",
    "# Оцениваем качество модели на тестовой выборке\n",
    "mse_test = mse(target_test, predicted_test)\n",
    "rmse_test = mse_test ** 0.5\n",
    "print('RMSE на тестовой выборке:', rmse_test)"
   ]
  },
  {
   "cell_type": "markdown",
   "metadata": {},
   "source": [
    "Линейная регресия"
   ]
  },
  {
   "cell_type": "code",
   "execution_count": null,
   "metadata": {},
   "outputs": [],
   "source": [
    "# # создание объекта модели\n",
    "# model = LinearRegression()\n",
    "\n",
    "# # обучение модели на тренировочной выборке\n",
    "# model.fit(features_train, target_train)\n",
    "\n",
    "# # оценка качества модели на отложенной выборке\n",
    "# predict = model.predict(features_valid)\n",
    "# rmse = mse(target_valid, predict, squared=False)\n",
    "# print('RMSE на отложенной выборке:', rmse)"
   ]
  },
  {
   "cell_type": "code",
   "execution_count": null,
   "metadata": {},
   "outputs": [],
   "source": [
    "# # Определим random_state\n",
    "# RANDOM_STATE=41"
   ]
  },
  {
   "cell_type": "code",
   "execution_count": null,
   "metadata": {},
   "outputs": [],
   "source": [
    "# # выделим категориальные признаки\n",
    "\n",
    "# category_features = ['vehicle_type', 'gearbox', 'brand', 'model', 'fuel_type']\n",
    "\n",
    "# # выделим определим числовые признаки\n",
    "# number_features = ['registration_year', 'power', 'kilometer', 'repaired']\n",
    "\n",
    "# # Оставим в DF только то, что нужно (с обработкой категориальных признаков)\n",
    "# df = df[number_features + category_features + ['price']];\n",
    "# df_simple = df.copy()\n",
    "# df_simple.head()"
   ]
  },
  {
   "cell_type": "code",
   "execution_count": null,
   "metadata": {},
   "outputs": [],
   "source": [
    "# # Подготовим наши категориальные признаки, будем использовать технику OHE\n",
    "# features_ohe = pd.get_dummies(features, columns=category_features, drop_first=True)\n",
    "# features_ohe.head()"
   ]
  },
  {
   "cell_type": "code",
   "execution_count": null,
   "metadata": {},
   "outputs": [],
   "source": [
    "# # Проведем скалирование числовых признаков\n",
    "# scaler = StandardScaler()\n",
    "\n",
    "# scaler.fit(features_ohe[number_features])\n",
    "# features_ohe_scaled = features_ohe.copy()\n",
    "# features_ohe_scaled[number_features] = scaler.transform(features_ohe_scaled[number_features])\n",
    "# features_ohe_scaled.head()"
   ]
  },
  {
   "cell_type": "code",
   "execution_count": null,
   "metadata": {},
   "outputs": [],
   "source": [
    "# # Поделим нашу выборку в пропорции 75-25, т.к. параметры мы будем искать с помощью кросс-валидации через GridSearchCV\n",
    "\n",
    "# # Сначала разделим на валидационную и обучающую выборку.\n",
    "\n",
    "# def create_train_valid_and_test_set(features, target):\n",
    "#     features_train, df_valid_ant_test_features, target_train, df_valid_ant_test_target = train_test_split(\n",
    "#         features, target, test_size=0.4, random_state=RANDOM_STATE)\n",
    "\n",
    "#     # теперь разделим тестовую выборку от валидационной \n",
    "#     features_valid, features_test, target_valid, target_test = train_test_split(\n",
    "#         df_valid_ant_test_features, df_valid_ant_test_target, test_size=0.5, random_state=RANDOM_STATE)\n",
    "\n",
    "#     del df_valid_ant_test_features, df_valid_ant_test_target\n",
    "    \n",
    "#     # Проверим, что получилось\n",
    "#     print('Target test count = {}, Valid count = {} \\\n",
    "#           , Train test count = {}'.format(target_test.count(), target_valid.count(), target_train.count()))\n",
    "    \n",
    "#     return features_train, target_train, features_valid, target_valid, features_test, target_test\n",
    "\n",
    "# def create_train_and_test_set(features, target):\n",
    "#     features_train, features_test, target_train, target_test = train_test_split(\n",
    "#         features, target, test_size=0.25, random_state=RANDOM_STATE)\n",
    "    \n",
    "#     # Проверим, что получилось\n",
    "#     print('Target test count = {}, Train test count = {}'.format(target_test.count(), target_train.count()))\n",
    "    \n",
    "#     return features_train, target_train, features_test, target_test\n",
    "\n",
    "# features_train, target_train, features_test, target_test = create_train_and_test_set(features_ohe_scaled, target)"
   ]
  },
  {
   "cell_type": "code",
   "execution_count": null,
   "metadata": {},
   "outputs": [],
   "source": [
    "# # Определим функцию для подсчета RMSE\n",
    "# def rmse(target, predicted):\n",
    "#     return mse(target, predicted) ** 0.5"
   ]
  },
  {
   "cell_type": "code",
   "execution_count": null,
   "metadata": {},
   "outputs": [],
   "source": [
    "# %%time\n",
    "\n",
    "# # Попробуем обучить случайный лес\n",
    "# parameters = {'n_estimators': range(5,11,5),'max_depth': range(1,8,3), 'min_samples_leaf': range(1,5,2)\n",
    "#               , 'min_samples_split': range(2,6,2)}\n",
    "\n",
    "# model = RandomForestRegressor()\n",
    "# grid = GridSearchCV(model, parameters, cv=3, scoring='neg_mean_squared_error')\n",
    "# grid.fit(features_train, target_train)\n",
    "\n",
    "# grid.best_params_\n"
   ]
  },
  {
   "cell_type": "code",
   "execution_count": null,
   "metadata": {},
   "outputs": [],
   "source": [
    "# # Чтобы не собирать вручную результаты, напишем класс, который будет сохранять время обучения, время предсказания и RMSE\n",
    "\n",
    "# class ModelHelper:\n",
    "#     def __init__(self, name, model):\n",
    "#         \"\"\"Constructor\"\"\"\n",
    "#         self.name = name\n",
    "#         self.model = model\n",
    "    \n",
    "#     def fit(self, features, target):\n",
    "#         start = time.time()    \n",
    "#         self.model.fit(features, target)\n",
    "#         end = time.time() - start\n",
    "#         self.fitTime = end\n",
    "    \n",
    "#     def predict(self, features, target):\n",
    "#         start = time.time()  \n",
    "#         predicted = self.model.predict(features)\n",
    "#         end = time.time() - start\n",
    "#         self.predictedTime = end\n",
    "#         self.rmse = rmse(target, predicted)\n",
    "    \n",
    "#     def getResult(self):\n",
    "#         return self.name, self.fitTime, self.predictedTime, self.rmse"
   ]
  },
  {
   "cell_type": "code",
   "execution_count": null,
   "metadata": {},
   "outputs": [],
   "source": [
    "# # Создадим переменную, где будут храниться результаты\n",
    "    \n",
    "# result = []"
   ]
  },
  {
   "cell_type": "code",
   "execution_count": null,
   "metadata": {},
   "outputs": [],
   "source": [
    "# #И создадим функцию для вывода по красоте\n",
    "# def print_result(result):\n",
    "#     print('|{: >20}|{: >18}|{: >18}|{: >12}|'.format('Модель', 'Время обучения', 'Время предсказания', 'RMSE'))\n",
    "#     for info in result:\n",
    "#         print('|{: >20}|{: >18.5f}|{: >18.5f}|{: >12.5f}|'.format(info[0], info[1], info[2], info[3]))"
   ]
  },
  {
   "cell_type": "markdown",
   "metadata": {},
   "source": [
    "Решающее дерево"
   ]
  },
  {
   "cell_type": "code",
   "execution_count": null,
   "metadata": {},
   "outputs": [],
   "source": [
    "# # Проверим решающее дерево\n",
    "# model_tree = DecisionTreeRegressor(max_depth=7, random_state=RANDOM_STATE)\n",
    "# model_tree_helper = ModelHelper('Random Tree', model_tree)\n",
    "# model_tree_helper.fit(features_train, target_train)\n",
    "# model_tree_helper.predict(features_test, target_test)\n",
    "# result.append(model_tree_helper.getResult())"
   ]
  },
  {
   "cell_type": "markdown",
   "metadata": {},
   "source": [
    "Случайный лес"
   ]
  },
  {
   "cell_type": "code",
   "execution_count": null,
   "metadata": {},
   "outputs": [],
   "source": [
    "# # Проверим наш случайный лес\n",
    "# model_forest = RandomForestRegressor(max_depth=7, min_samples_leaf=3\n",
    "#                                      , min_samples_split=2, n_estimators=10, random_state=RANDOM_STATE)\n",
    "# model_forest_helper = ModelHelper('Random forest', model_forest)\n",
    "# model_forest_helper.fit(features_train, target_train)\n",
    "# model_forest_helper.predict(features_test, target_test)\n",
    "# result.append(model_forest_helper.getResult())"
   ]
  },
  {
   "cell_type": "markdown",
   "metadata": {},
   "source": [
    "Линейная регрессия"
   ]
  },
  {
   "cell_type": "code",
   "execution_count": null,
   "metadata": {},
   "outputs": [],
   "source": [
    "# # Попробуем линейную регрессию\n",
    "# model_lr = LinearRegression()\n",
    "# model_lr_helper = ModelHelper('Linear regression', model_lr)\n",
    "# model_lr_helper.fit(features_train, target_train)\n",
    "# model_lr_helper.predict(features_test, target_test)\n",
    "# result.append(model_lr_helper.getResult())"
   ]
  },
  {
   "cell_type": "code",
   "execution_count": null,
   "metadata": {},
   "outputs": [],
   "source": [
    "# # Посмотрим на промежуточный результат\n",
    "# print_result(result)"
   ]
  },
  {
   "cell_type": "markdown",
   "metadata": {},
   "source": [
    "Резюме.\n",
    "\n",
    "При обучении модели и проверки ее скорости было выбрано 4 варианта. Градиентный бустинг LightGBM, CatBoost и простые модели  случайный лес, дерево решений. Было решено сделать для бустинга и простых моделей немного разные подходы к написанию кода. "
   ]
  },
  {
   "cell_type": "markdown",
   "metadata": {},
   "source": [
    "## Анализ моделей\n",
    "<a id='section_id3'></a>"
   ]
  },
  {
   "cell_type": "markdown",
   "metadata": {},
   "source": [
    "При проведении получения предсказаний модели проявили себя следующим образом:\n",
    "\n",
    "\n",
    "* RandomForestRegressor - RMSE 1592, time 1min 23s\n",
    "* DecisionTreeRegressor - RMSE 1964, time 634ms\n",
    "\n",
    "* CatBoost - RMSE 1823, time 1 min\n",
    "* LightGBM - RMSE 1880, time 30 min\n",
    "\n",
    "По величине RMSE все модели удовлетворяют требуемому условию (RMSE < 2500). Остальные условия так жестко не определены поэтому точно небудем рассматривать модель которая превышает этот пораметр, у других моделий будем смотреть больше на время чем на RMSE, для выбора наиболее подходящий заказчику.\n",
    "\n",
    "По скорости получения предсказаний модели выигрывает Random Tree. Опираясь на критерии заказчика, выберав Random Tree, проверяем её качество на тестовой выборке. Для максимального удобства заказчика лучшую модель расписали полностью, (чтобы заказчику неприходилось запускать \"2. Обучение модели\"."
   ]
  },
  {
   "cell_type": "code",
   "execution_count": null,
   "metadata": {},
   "outputs": [],
   "source": [
    "\n",
    "# # Создаем объект OrdinalEncoder для кодирования категориальных признаков\n",
    "# encoder = OrdinalEncoder()\n",
    "\n",
    "# # Кодируем категориальные признаки\n",
    "# cat_features = ['vehicle_type', 'gearbox', 'fuel_type', 'brand', 'repaired', 'model']\n",
    "# df[cat_features] = encoder.fit_transform(df[cat_features])"
   ]
  },
  {
   "cell_type": "code",
   "execution_count": null,
   "metadata": {},
   "outputs": [],
   "source": [
    "# # Сначала разделим на валидационную и обучающую выборку.\n",
    "# # отделим 40% данных для валидационной выборки\n",
    "# df_train, df_valid = train_test_split(df, test_size=0.4, random_state=12345)\n",
    "# # извлекаем признаки \n",
    "# features = df_valid.drop('price', axis=1) # извлекаем признаки \n",
    "# target = df_valid['price']# извлекаем целевой признак"
   ]
  },
  {
   "cell_type": "code",
   "execution_count": null,
   "metadata": {},
   "outputs": [],
   "source": [
    "# # Теперь отделим 50% данных от валидационной выборки\n",
    "# features_test, features_valid, target_test, target_valid = train_test_split(\n",
    "#     features, target, test_size=0.5, random_state=12345)\n",
    "# features_train = df_train.drop('price', axis=1)\n",
    "# target_train = df_train['price']"
   ]
  },
  {
   "cell_type": "code",
   "execution_count": null,
   "metadata": {},
   "outputs": [],
   "source": [
    "# from sklearn.tree import DecisionTreeRegressor\n",
    "# from sklearn.metrics import mean_squared_error\n",
    "\n",
    "# # Создаем модель и обучаем ее на обучающей выборке\n",
    "# model = DecisionTreeRegressor(random_state=12345)\n",
    "# model.fit(features_train, target_train)\n",
    "\n",
    "# # Получаем предсказания для валидационной выборки\n",
    "# predicted_valid = model.predict(features_valid)\n",
    "\n",
    "# # Оцениваем качество модели на валидационной выборке\n",
    "# mse_valid = mse(target_valid, predicted_valid)\n",
    "# rmse_valid = mse_valid ** 0.5\n",
    "# print('RMSE на валидационной выборке:', rmse_valid)"
   ]
  },
  {
   "cell_type": "code",
   "execution_count": null,
   "metadata": {},
   "outputs": [],
   "source": [
    "# %%time\n",
    "# # Задаем сетку параметров для перебора\n",
    "# param_grid = {'max_depth': [5, 10, 20, None],\n",
    "#               'min_samples_split': [2, 5, 10],\n",
    "#               'min_samples_leaf': [1, 2, 4],\n",
    "#               'max_features': ['auto', 'sqrt', 'log2']}\n",
    "\n",
    "# # Создаем модель\n",
    "# model = DecisionTreeRegressor(random_state=12345)\n",
    "\n",
    "# # Используем кросс-валидацию для подбора параметров\n",
    "# grid_search = GridSearchCV(model, param_grid, cv=5, scoring='neg_mean_squared_error')\n",
    "# grid_search.fit(features_train, target_train)\n",
    "\n",
    "# # Выводим лучшие параметры\n",
    "# print('Лучшие параметры:', grid_search.best_params_)\n",
    "\n",
    "# # Получаем предсказания для валидационной выборки с помощью лучшей модели\n",
    "# best_model = grid_search.best_estimator_\n",
    "# predicted_valid = best_model.predict(features_valid)\n",
    "\n",
    "# # Оцениваем качество модели на валидационной выборке\n",
    "# mse_valid = mse(target_valid, predicted_valid)\n",
    "# rmse_valid = mse_valid ** 0.5\n",
    "# print('RMSE на валидационной выборке:', rmse_valid)"
   ]
  },
  {
   "cell_type": "code",
   "execution_count": null,
   "metadata": {},
   "outputs": [],
   "source": [
    "# %%time\n",
    "# # Получаем предсказания для тестовой выборки с помощью лучшей модели\n",
    "# predicted_test = best_model.predict(features_test)\n",
    "\n",
    "# # Оцениваем качество модели на тестовой выборке\n",
    "# mse_test = mse(target_test, predicted_test)\n",
    "# rmse_test = mse_test ** 0.5\n",
    "# print('RMSE на тестовой выборке:', rmse_test)"
   ]
  },
  {
   "cell_type": "markdown",
   "metadata": {},
   "source": [
    "Резюме.\n",
    "\n",
    "По скорости получения предсказаний модели выигрывает Random Tree. DecisionTreeRegressor на тестовой выборке: 1810 time 15.9 ms."
   ]
  },
  {
   "cell_type": "markdown",
   "metadata": {},
   "source": [
    "# Вывод\n",
    "<a id='section_id4'></a>"
   ]
  },
  {
   "cell_type": "markdown",
   "metadata": {},
   "source": [
    "Для сервиса по продаже автомобилей с пробегом «Не бит, не крашен» построили модель, которая поможет определять рыночную стоимость своего автомобиля. В нашем распоряжении данные о технических характеристиках, комплектации и ценах других автомобилей. Критерии, которые важны заказчику (качество предсказания, время обучения модели, время предсказания модели). при этом значение метрики RMSE должно быть меньше 2500."
   ]
  },
  {
   "cell_type": "markdown",
   "metadata": {},
   "source": [
    "Загрузили и изучили данные.Удалили явные дублекаты. Удаляем неинформативные признаки 'DateCrawled', 'DateCreated', 'LastSeen', 'NumberOfPictures', 'PostalCode'. Приведем названия для дальнейшей работы к змеинному иедексу. Работаем над аномалиями. Год мы берем с 1913 первый автомобильный канвеер по 2023 (текущий). Проверили месяц на кореляцию с ценой, результат вышел небольшим, удалили этот признак. Было решено удалить машины с мощьностью более 388 л.с. и был использвать перебор для машин мощьностью менее 26 л.с. им присвоины мощьности соответствующие авто с совпадающим годом моделью и маркой автомобиля. С ценой была проделана аналогичная операция в диапозоне менее 500 евра. Машины на которые неподошли похожие были удалены.\n",
    "Данные по присутствию или отсутствию ремонта мы перевели в цифровой вид 0 будет отсутствие ремонта, 1 неизвестно и 2 - ремонт был. Остальные пропуски заменили категорией undefined. Признаки которые могли перевели в int. Было удалено менее 4% информации с датасета."
   ]
  },
  {
   "cell_type": "markdown",
   "metadata": {},
   "source": [
    "При обучении модели и проверки ее скорости было выбрано 4 варианта. Градиентный бустинг LightGBM, CatBoost и простые модели случайный лес, дерево решений."
   ]
  },
  {
   "cell_type": "markdown",
   "metadata": {},
   "source": [
    "При проведении получения предсказаний модели проявили себя следующим образом:\n",
    "\n",
    "* RandomForestRegressor - RMSE 1592, time 1min 23s\n",
    "* DecisionTreeRegressor - RMSE 1964, time 634ms\n",
    "\n",
    "* CatBoost - RMSE 1823, time 1 min\n",
    "* LightGBM - RMSE 1880, time 30 min\n",
    "\n",
    "Опираясь на критерии заказчика, выберав Random Tree, проверяем её качество на тестовой выборке."
   ]
  }
 ],
 "metadata": {
  "ExecuteTimeLog": [
   {
    "duration": 325,
    "start_time": "2023-04-01T15:35:08.208Z"
   },
   {
    "duration": 2748,
    "start_time": "2023-04-01T15:35:08.535Z"
   },
   {
    "duration": 23,
    "start_time": "2023-04-01T15:35:11.285Z"
   },
   {
    "duration": 122,
    "start_time": "2023-04-01T15:40:41.133Z"
   },
   {
    "duration": 694,
    "start_time": "2023-04-01T15:41:33.540Z"
   },
   {
    "duration": 19,
    "start_time": "2023-04-01T15:41:34.329Z"
   },
   {
    "duration": 96,
    "start_time": "2023-04-01T15:41:42.806Z"
   },
   {
    "duration": 165,
    "start_time": "2023-04-01T15:48:36.396Z"
   },
   {
    "duration": 7,
    "start_time": "2023-04-01T15:52:32.721Z"
   },
   {
    "duration": 3,
    "start_time": "2023-04-01T15:53:24.020Z"
   },
   {
    "duration": 360,
    "start_time": "2023-04-01T15:57:16.475Z"
   },
   {
    "duration": 3,
    "start_time": "2023-04-01T16:16:26.824Z"
   },
   {
    "duration": 97,
    "start_time": "2023-04-01T16:16:27.775Z"
   },
   {
    "duration": 4,
    "start_time": "2023-04-01T16:17:35.781Z"
   },
   {
    "duration": 96,
    "start_time": "2023-04-01T16:17:37.527Z"
   },
   {
    "duration": 3,
    "start_time": "2023-04-01T16:27:39.020Z"
   },
   {
    "duration": 96,
    "start_time": "2023-04-01T16:27:43.112Z"
   },
   {
    "duration": 18,
    "start_time": "2023-04-01T16:29:18.015Z"
   },
   {
    "duration": 385,
    "start_time": "2023-04-01T16:30:09.838Z"
   },
   {
    "duration": 696,
    "start_time": "2023-04-01T16:30:10.224Z"
   },
   {
    "duration": 22,
    "start_time": "2023-04-01T16:30:10.921Z"
   },
   {
    "duration": 3,
    "start_time": "2023-04-01T16:30:10.949Z"
   },
   {
    "duration": 116,
    "start_time": "2023-04-01T16:30:10.954Z"
   },
   {
    "duration": 2,
    "start_time": "2023-04-01T16:30:11.072Z"
   },
   {
    "duration": 124,
    "start_time": "2023-04-01T16:30:11.076Z"
   },
   {
    "duration": 21,
    "start_time": "2023-04-01T16:30:11.201Z"
   },
   {
    "duration": 121,
    "start_time": "2023-04-01T16:30:11.223Z"
   },
   {
    "duration": 368,
    "start_time": "2023-04-01T16:30:11.345Z"
   },
   {
    "duration": 362,
    "start_time": "2023-04-01T16:32:37.371Z"
   },
   {
    "duration": 686,
    "start_time": "2023-04-01T16:32:37.735Z"
   },
   {
    "duration": 29,
    "start_time": "2023-04-01T16:32:38.422Z"
   },
   {
    "duration": 26,
    "start_time": "2023-04-01T16:32:38.454Z"
   },
   {
    "duration": 8,
    "start_time": "2023-04-01T16:32:38.481Z"
   },
   {
    "duration": 109,
    "start_time": "2023-04-01T16:32:38.490Z"
   },
   {
    "duration": 3,
    "start_time": "2023-04-01T16:32:38.600Z"
   },
   {
    "duration": 107,
    "start_time": "2023-04-01T16:32:38.605Z"
   },
   {
    "duration": 18,
    "start_time": "2023-04-01T16:32:38.714Z"
   },
   {
    "duration": 100,
    "start_time": "2023-04-01T16:32:38.735Z"
   },
   {
    "duration": 398,
    "start_time": "2023-04-01T16:32:38.836Z"
   },
   {
    "duration": 348,
    "start_time": "2023-04-01T16:33:04.405Z"
   },
   {
    "duration": 739,
    "start_time": "2023-04-01T16:33:04.755Z"
   },
   {
    "duration": 24,
    "start_time": "2023-04-01T16:33:05.496Z"
   },
   {
    "duration": 116,
    "start_time": "2023-04-01T16:33:05.521Z"
   },
   {
    "duration": 3,
    "start_time": "2023-04-01T16:33:05.639Z"
   },
   {
    "duration": 109,
    "start_time": "2023-04-01T16:33:05.648Z"
   },
   {
    "duration": 2,
    "start_time": "2023-04-01T16:33:05.759Z"
   },
   {
    "duration": 109,
    "start_time": "2023-04-01T16:33:05.763Z"
   },
   {
    "duration": 18,
    "start_time": "2023-04-01T16:33:05.874Z"
   },
   {
    "duration": 113,
    "start_time": "2023-04-01T16:33:05.893Z"
   },
   {
    "duration": 373,
    "start_time": "2023-04-01T16:33:06.008Z"
   },
   {
    "duration": 4,
    "start_time": "2023-04-01T16:34:36.868Z"
   },
   {
    "duration": 119,
    "start_time": "2023-04-01T16:39:19.527Z"
   },
   {
    "duration": 330,
    "start_time": "2023-04-01T19:07:05.496Z"
   },
   {
    "duration": 713,
    "start_time": "2023-04-01T19:07:05.827Z"
   },
   {
    "duration": 26,
    "start_time": "2023-04-01T19:07:06.541Z"
   },
   {
    "duration": 24,
    "start_time": "2023-04-01T19:07:06.568Z"
   },
   {
    "duration": 115,
    "start_time": "2023-04-01T19:07:06.594Z"
   },
   {
    "duration": 3,
    "start_time": "2023-04-01T19:07:06.710Z"
   },
   {
    "duration": 136,
    "start_time": "2023-04-01T19:07:06.715Z"
   },
   {
    "duration": 376,
    "start_time": "2023-04-01T19:07:06.852Z"
   },
   {
    "duration": 91,
    "start_time": "2023-04-01T19:07:44.923Z"
   },
   {
    "duration": 36,
    "start_time": "2023-04-01T19:07:56.236Z"
   },
   {
    "duration": 27,
    "start_time": "2023-04-01T19:08:11.016Z"
   },
   {
    "duration": 72,
    "start_time": "2023-04-01T19:08:12.024Z"
   },
   {
    "duration": 3,
    "start_time": "2023-04-01T19:08:42.034Z"
   },
   {
    "duration": 3,
    "start_time": "2023-04-01T19:13:28.901Z"
   },
   {
    "duration": 83,
    "start_time": "2023-04-01T19:13:29.414Z"
   },
   {
    "duration": 4,
    "start_time": "2023-04-01T19:14:30.904Z"
   },
   {
    "duration": 439,
    "start_time": "2023-04-01T19:14:36.998Z"
   },
   {
    "duration": 809,
    "start_time": "2023-04-01T19:14:37.439Z"
   },
   {
    "duration": 25,
    "start_time": "2023-04-01T19:14:38.250Z"
   },
   {
    "duration": 24,
    "start_time": "2023-04-01T19:14:38.277Z"
   },
   {
    "duration": 89,
    "start_time": "2023-04-01T19:14:38.304Z"
   },
   {
    "duration": 4,
    "start_time": "2023-04-01T19:14:38.395Z"
   },
   {
    "duration": 6,
    "start_time": "2023-04-01T19:14:38.400Z"
   },
   {
    "duration": 85,
    "start_time": "2023-04-01T19:14:38.407Z"
   },
   {
    "duration": 179,
    "start_time": "2023-04-01T19:14:38.493Z"
   },
   {
    "duration": 288,
    "start_time": "2023-04-01T19:19:03.689Z"
   },
   {
    "duration": 404,
    "start_time": "2023-04-01T19:19:21.862Z"
   },
   {
    "duration": 828,
    "start_time": "2023-04-01T19:19:22.269Z"
   },
   {
    "duration": 28,
    "start_time": "2023-04-01T19:19:23.098Z"
   },
   {
    "duration": 50,
    "start_time": "2023-04-01T19:19:23.128Z"
   },
   {
    "duration": 103,
    "start_time": "2023-04-01T19:19:23.180Z"
   },
   {
    "duration": 3,
    "start_time": "2023-04-01T19:19:23.285Z"
   },
   {
    "duration": 11,
    "start_time": "2023-04-01T19:19:23.290Z"
   },
   {
    "duration": 91,
    "start_time": "2023-04-01T19:19:23.302Z"
   },
   {
    "duration": 213,
    "start_time": "2023-04-01T19:19:23.395Z"
   },
   {
    "duration": 5,
    "start_time": "2023-04-01T19:20:07.429Z"
   },
   {
    "duration": 71,
    "start_time": "2023-04-01T19:20:10.800Z"
   },
   {
    "duration": 5,
    "start_time": "2023-04-01T19:20:38.444Z"
   },
   {
    "duration": 83,
    "start_time": "2023-04-01T19:20:39.185Z"
   },
   {
    "duration": 156,
    "start_time": "2023-04-01T19:20:43.384Z"
   },
   {
    "duration": 61,
    "start_time": "2023-04-02T10:34:47.543Z"
   },
   {
    "duration": 458,
    "start_time": "2023-04-02T10:35:25.626Z"
   },
   {
    "duration": 3234,
    "start_time": "2023-04-02T10:35:26.088Z"
   },
   {
    "duration": 28,
    "start_time": "2023-04-02T10:35:29.324Z"
   },
   {
    "duration": 174,
    "start_time": "2023-04-02T10:35:29.354Z"
   },
   {
    "duration": 557,
    "start_time": "2023-04-02T10:35:29.529Z"
   },
   {
    "duration": 771,
    "start_time": "2023-04-02T10:35:30.090Z"
   },
   {
    "duration": 44,
    "start_time": "2023-04-02T10:35:30.863Z"
   },
   {
    "duration": 72,
    "start_time": "2023-04-02T10:35:30.909Z"
   },
   {
    "duration": 173,
    "start_time": "2023-04-02T10:35:30.983Z"
   },
   {
    "duration": 51,
    "start_time": "2023-04-03T12:41:35.401Z"
   },
   {
    "duration": 496,
    "start_time": "2023-04-03T12:41:40.664Z"
   },
   {
    "duration": 3143,
    "start_time": "2023-04-03T12:41:41.162Z"
   },
   {
    "duration": 30,
    "start_time": "2023-04-03T12:41:44.307Z"
   },
   {
    "duration": 161,
    "start_time": "2023-04-03T12:41:44.338Z"
   },
   {
    "duration": 568,
    "start_time": "2023-04-03T12:41:44.502Z"
   },
   {
    "duration": 657,
    "start_time": "2023-04-03T12:41:45.072Z"
   },
   {
    "duration": 545,
    "start_time": "2023-04-03T12:41:45.731Z"
   },
   {
    "duration": 43,
    "start_time": "2023-04-03T12:41:46.278Z"
   },
   {
    "duration": 29,
    "start_time": "2023-04-03T12:41:46.322Z"
   },
   {
    "duration": 122,
    "start_time": "2023-04-03T12:41:46.353Z"
   },
   {
    "duration": 291,
    "start_time": "2023-04-03T12:47:43.844Z"
   },
   {
    "duration": 203,
    "start_time": "2023-04-03T12:47:46.892Z"
   },
   {
    "duration": 484,
    "start_time": "2023-04-03T12:47:51.521Z"
   },
   {
    "duration": 969,
    "start_time": "2023-04-03T12:47:52.008Z"
   },
   {
    "duration": 38,
    "start_time": "2023-04-03T12:47:52.978Z"
   },
   {
    "duration": 169,
    "start_time": "2023-04-03T12:47:53.019Z"
   },
   {
    "duration": 567,
    "start_time": "2023-04-03T12:47:53.192Z"
   },
   {
    "duration": 634,
    "start_time": "2023-04-03T12:47:53.761Z"
   },
   {
    "duration": 536,
    "start_time": "2023-04-03T12:47:54.396Z"
   },
   {
    "duration": 35,
    "start_time": "2023-04-03T12:47:54.934Z"
   },
   {
    "duration": 17,
    "start_time": "2023-04-03T12:47:54.971Z"
   },
   {
    "duration": 125,
    "start_time": "2023-04-03T12:47:54.992Z"
   },
   {
    "duration": 5,
    "start_time": "2023-04-03T13:59:08.484Z"
   },
   {
    "duration": 102,
    "start_time": "2023-04-03T13:59:09.286Z"
   },
   {
    "duration": 69,
    "start_time": "2023-04-03T14:09:21.392Z"
   },
   {
    "duration": 75,
    "start_time": "2023-04-03T14:09:48.188Z"
   },
   {
    "duration": 8,
    "start_time": "2023-04-03T14:56:14.435Z"
   },
   {
    "duration": 8,
    "start_time": "2023-04-03T14:56:29.103Z"
   },
   {
    "duration": 8,
    "start_time": "2023-04-03T14:57:16.343Z"
   },
   {
    "duration": 8,
    "start_time": "2023-04-03T14:57:25.744Z"
   },
   {
    "duration": 8,
    "start_time": "2023-04-03T14:57:36.448Z"
   },
   {
    "duration": 5,
    "start_time": "2023-04-03T15:05:52.598Z"
   },
   {
    "duration": 92,
    "start_time": "2023-04-03T15:07:10.151Z"
   },
   {
    "duration": 11,
    "start_time": "2023-04-03T15:07:17.073Z"
   },
   {
    "duration": 3,
    "start_time": "2023-04-03T15:09:05.730Z"
   },
   {
    "duration": 4,
    "start_time": "2023-04-03T15:09:09.337Z"
   },
   {
    "duration": 5,
    "start_time": "2023-04-03T15:09:26.839Z"
   },
   {
    "duration": 5,
    "start_time": "2023-04-03T15:09:52.130Z"
   },
   {
    "duration": 361,
    "start_time": "2023-04-03T15:14:36.733Z"
   },
   {
    "duration": 300,
    "start_time": "2023-04-03T15:14:55.393Z"
   },
   {
    "duration": 97,
    "start_time": "2023-04-03T15:17:17.585Z"
   },
   {
    "duration": 8,
    "start_time": "2023-04-03T15:18:39.887Z"
   },
   {
    "duration": 5,
    "start_time": "2023-04-03T15:18:57.541Z"
   },
   {
    "duration": 5,
    "start_time": "2023-04-03T15:19:07.934Z"
   },
   {
    "duration": 6,
    "start_time": "2023-04-03T15:19:21.502Z"
   },
   {
    "duration": 11,
    "start_time": "2023-04-03T15:19:30.792Z"
   },
   {
    "duration": 6,
    "start_time": "2023-04-03T15:19:39.891Z"
   },
   {
    "duration": 429,
    "start_time": "2023-04-03T15:19:49.685Z"
   },
   {
    "duration": 1004,
    "start_time": "2023-04-03T15:19:50.116Z"
   },
   {
    "duration": 41,
    "start_time": "2023-04-03T15:19:51.123Z"
   },
   {
    "duration": 157,
    "start_time": "2023-04-03T15:19:51.166Z"
   },
   {
    "duration": 497,
    "start_time": "2023-04-03T15:19:51.325Z"
   },
   {
    "duration": 593,
    "start_time": "2023-04-03T15:19:51.823Z"
   },
   {
    "duration": 38,
    "start_time": "2023-04-03T15:19:52.418Z"
   },
   {
    "duration": 20,
    "start_time": "2023-04-03T15:19:52.458Z"
   },
   {
    "duration": 113,
    "start_time": "2023-04-03T15:19:52.479Z"
   },
   {
    "duration": 81,
    "start_time": "2023-04-03T15:19:52.594Z"
   },
   {
    "duration": 11,
    "start_time": "2023-04-03T15:19:52.676Z"
   },
   {
    "duration": 20,
    "start_time": "2023-04-03T15:19:52.689Z"
   },
   {
    "duration": 61,
    "start_time": "2023-04-03T15:20:10.538Z"
   },
   {
    "duration": 11,
    "start_time": "2023-04-03T15:20:20.079Z"
   },
   {
    "duration": 5,
    "start_time": "2023-04-03T15:22:22.774Z"
   },
   {
    "duration": 981,
    "start_time": "2023-04-03T15:22:43.207Z"
   },
   {
    "duration": 143,
    "start_time": "2023-04-03T15:23:41.220Z"
   },
   {
    "duration": 45,
    "start_time": "2023-04-03T15:24:48.076Z"
   },
   {
    "duration": 7,
    "start_time": "2023-04-03T15:25:10.335Z"
   },
   {
    "duration": 8,
    "start_time": "2023-04-03T15:25:23.751Z"
   },
   {
    "duration": 5,
    "start_time": "2023-04-03T15:25:53.790Z"
   },
   {
    "duration": 7,
    "start_time": "2023-04-03T15:25:57.293Z"
   },
   {
    "duration": 4,
    "start_time": "2023-04-03T15:26:14.095Z"
   },
   {
    "duration": 51,
    "start_time": "2023-04-03T15:26:19.709Z"
   },
   {
    "duration": 7,
    "start_time": "2023-04-03T15:26:34.979Z"
   },
   {
    "duration": 6,
    "start_time": "2023-04-03T15:26:42.578Z"
   },
   {
    "duration": 101,
    "start_time": "2023-04-03T15:26:52.694Z"
   },
   {
    "duration": 6,
    "start_time": "2023-04-03T15:27:03.314Z"
   },
   {
    "duration": 6,
    "start_time": "2023-04-03T15:27:07.841Z"
   },
   {
    "duration": 98,
    "start_time": "2023-04-03T15:27:14.578Z"
   },
   {
    "duration": 5,
    "start_time": "2023-04-03T15:27:19.580Z"
   },
   {
    "duration": 7,
    "start_time": "2023-04-03T15:27:26.977Z"
   },
   {
    "duration": 6,
    "start_time": "2023-04-03T15:27:32.524Z"
   },
   {
    "duration": 6,
    "start_time": "2023-04-03T15:27:38.956Z"
   },
   {
    "duration": 6,
    "start_time": "2023-04-03T15:27:52.204Z"
   },
   {
    "duration": 30,
    "start_time": "2023-04-03T15:39:55.318Z"
   },
   {
    "duration": 818,
    "start_time": "2023-04-03T15:48:13.086Z"
   },
   {
    "duration": 7,
    "start_time": "2023-04-03T15:48:49.828Z"
   },
   {
    "duration": 8,
    "start_time": "2023-04-03T15:49:04.106Z"
   },
   {
    "duration": 7,
    "start_time": "2023-04-03T15:49:15.307Z"
   },
   {
    "duration": 7,
    "start_time": "2023-04-03T15:49:24.819Z"
   },
   {
    "duration": 8,
    "start_time": "2023-04-03T15:49:31.534Z"
   },
   {
    "duration": 8,
    "start_time": "2023-04-03T15:49:41.361Z"
   },
   {
    "duration": 5,
    "start_time": "2023-04-03T15:50:10.467Z"
   },
   {
    "duration": 9,
    "start_time": "2023-04-03T15:51:37.819Z"
   },
   {
    "duration": 8,
    "start_time": "2023-04-03T15:51:47.554Z"
   },
   {
    "duration": 7,
    "start_time": "2023-04-03T15:55:06.225Z"
   },
   {
    "duration": 8,
    "start_time": "2023-04-03T15:55:12.882Z"
   },
   {
    "duration": 8,
    "start_time": "2023-04-03T15:55:19.529Z"
   },
   {
    "duration": 10,
    "start_time": "2023-04-03T15:55:56.433Z"
   },
   {
    "duration": 9,
    "start_time": "2023-04-03T16:01:47.247Z"
   },
   {
    "duration": 6,
    "start_time": "2023-04-03T16:02:12.912Z"
   },
   {
    "duration": 51,
    "start_time": "2023-04-03T16:03:26.025Z"
   },
   {
    "duration": 22,
    "start_time": "2023-04-03T16:03:40.533Z"
   },
   {
    "duration": 454,
    "start_time": "2023-04-03T16:05:16.746Z"
   },
   {
    "duration": 6,
    "start_time": "2023-04-03T16:05:23.689Z"
   },
   {
    "duration": 12,
    "start_time": "2023-04-03T16:10:08.111Z"
   },
   {
    "duration": 9,
    "start_time": "2023-04-03T16:18:04.068Z"
   },
   {
    "duration": 10,
    "start_time": "2023-04-03T16:18:34.957Z"
   },
   {
    "duration": 9,
    "start_time": "2023-04-03T16:18:45.500Z"
   },
   {
    "duration": 9,
    "start_time": "2023-04-03T16:18:57.108Z"
   },
   {
    "duration": 7,
    "start_time": "2023-04-03T16:19:09.877Z"
   },
   {
    "duration": 952,
    "start_time": "2023-04-03T16:20:55.764Z"
   },
   {
    "duration": 6,
    "start_time": "2023-04-03T16:21:08.267Z"
   },
   {
    "duration": 11,
    "start_time": "2023-04-03T16:57:47.600Z"
   },
   {
    "duration": 91,
    "start_time": "2023-04-03T16:58:08.694Z"
   },
   {
    "duration": 27,
    "start_time": "2023-04-03T16:58:32.791Z"
   },
   {
    "duration": 96,
    "start_time": "2023-04-03T16:58:41.519Z"
   },
   {
    "duration": 15,
    "start_time": "2023-04-03T16:59:30.240Z"
   },
   {
    "duration": 21,
    "start_time": "2023-04-03T16:59:38.905Z"
   },
   {
    "duration": 10,
    "start_time": "2023-04-03T16:59:51.649Z"
   },
   {
    "duration": 377,
    "start_time": "2023-04-03T17:00:39.367Z"
   },
   {
    "duration": 66,
    "start_time": "2023-04-03T17:01:23.077Z"
   },
   {
    "duration": 195,
    "start_time": "2023-04-03T17:29:09.368Z"
   },
   {
    "duration": 56,
    "start_time": "2023-04-03T17:29:14.264Z"
   },
   {
    "duration": 7,
    "start_time": "2023-04-03T17:29:39.207Z"
   },
   {
    "duration": 63,
    "start_time": "2023-04-03T17:29:53.879Z"
   },
   {
    "duration": 7,
    "start_time": "2023-04-03T17:33:13.727Z"
   },
   {
    "duration": 48,
    "start_time": "2023-04-03T17:38:39.848Z"
   },
   {
    "duration": 9,
    "start_time": "2023-04-03T17:39:00.443Z"
   },
   {
    "duration": 84,
    "start_time": "2023-04-03T17:39:38.456Z"
   },
   {
    "duration": 8,
    "start_time": "2023-04-03T17:39:52.422Z"
   },
   {
    "duration": 9,
    "start_time": "2023-04-03T17:41:43.896Z"
   },
   {
    "duration": 6,
    "start_time": "2023-04-03T17:44:45.566Z"
   },
   {
    "duration": 62,
    "start_time": "2023-04-03T17:45:24.435Z"
   },
   {
    "duration": 5,
    "start_time": "2023-04-03T17:45:37.364Z"
   },
   {
    "duration": 10,
    "start_time": "2023-04-03T17:46:28.021Z"
   },
   {
    "duration": 11,
    "start_time": "2023-04-03T17:47:04.177Z"
   },
   {
    "duration": 2,
    "start_time": "2023-04-03T17:51:10.881Z"
   },
   {
    "duration": 9,
    "start_time": "2023-04-03T17:51:18.031Z"
   },
   {
    "duration": 10,
    "start_time": "2023-04-03T17:51:22.510Z"
   },
   {
    "duration": 11,
    "start_time": "2023-04-03T17:51:46.685Z"
   },
   {
    "duration": 530,
    "start_time": "2023-04-03T17:51:50.571Z"
   },
   {
    "duration": 952,
    "start_time": "2023-04-03T17:51:51.104Z"
   },
   {
    "duration": 40,
    "start_time": "2023-04-03T17:51:52.058Z"
   },
   {
    "duration": 154,
    "start_time": "2023-04-03T17:51:52.106Z"
   },
   {
    "duration": 521,
    "start_time": "2023-04-03T17:51:52.262Z"
   },
   {
    "duration": 653,
    "start_time": "2023-04-03T17:51:52.787Z"
   },
   {
    "duration": 39,
    "start_time": "2023-04-03T17:51:53.442Z"
   },
   {
    "duration": 40,
    "start_time": "2023-04-03T17:51:53.487Z"
   },
   {
    "duration": 125,
    "start_time": "2023-04-03T17:51:53.529Z"
   },
   {
    "duration": 92,
    "start_time": "2023-04-03T17:51:53.657Z"
   },
   {
    "duration": 9,
    "start_time": "2023-04-03T17:51:53.751Z"
   },
   {
    "duration": 81,
    "start_time": "2023-04-03T17:51:53.761Z"
   },
   {
    "duration": 11,
    "start_time": "2023-04-03T17:51:53.844Z"
   },
   {
    "duration": 8,
    "start_time": "2023-04-03T17:51:53.857Z"
   },
   {
    "duration": 39,
    "start_time": "2023-04-03T17:51:53.867Z"
   },
   {
    "duration": 64,
    "start_time": "2023-04-03T17:51:53.910Z"
   },
   {
    "duration": 3,
    "start_time": "2023-04-03T17:51:53.976Z"
   },
   {
    "duration": 45,
    "start_time": "2023-04-03T17:51:53.982Z"
   },
   {
    "duration": 7,
    "start_time": "2023-04-03T17:51:54.029Z"
   },
   {
    "duration": 14,
    "start_time": "2023-04-03T17:51:54.038Z"
   },
   {
    "duration": 14,
    "start_time": "2023-04-03T17:51:54.054Z"
   },
   {
    "duration": 15,
    "start_time": "2023-04-03T17:54:01.915Z"
   },
   {
    "duration": 443,
    "start_time": "2023-04-03T17:54:16.559Z"
   },
   {
    "duration": 932,
    "start_time": "2023-04-03T17:54:17.004Z"
   },
   {
    "duration": 52,
    "start_time": "2023-04-03T17:54:17.938Z"
   },
   {
    "duration": 177,
    "start_time": "2023-04-03T17:54:17.993Z"
   },
   {
    "duration": 549,
    "start_time": "2023-04-03T17:54:18.172Z"
   },
   {
    "duration": 676,
    "start_time": "2023-04-03T17:54:18.724Z"
   },
   {
    "duration": 46,
    "start_time": "2023-04-03T17:54:19.402Z"
   },
   {
    "duration": 4,
    "start_time": "2023-04-03T17:54:19.450Z"
   },
   {
    "duration": 113,
    "start_time": "2023-04-03T17:54:19.456Z"
   },
   {
    "duration": 92,
    "start_time": "2023-04-03T17:54:19.572Z"
   },
   {
    "duration": 28,
    "start_time": "2023-04-03T17:54:19.666Z"
   },
   {
    "duration": 53,
    "start_time": "2023-04-03T17:54:19.696Z"
   },
   {
    "duration": 26,
    "start_time": "2023-04-03T17:54:19.750Z"
   },
   {
    "duration": 41,
    "start_time": "2023-04-03T17:54:19.777Z"
   },
   {
    "duration": 49,
    "start_time": "2023-04-03T17:54:19.819Z"
   },
   {
    "duration": 59,
    "start_time": "2023-04-03T17:54:19.871Z"
   },
   {
    "duration": 9,
    "start_time": "2023-04-03T17:54:19.932Z"
   },
   {
    "duration": 12,
    "start_time": "2023-04-03T17:54:19.942Z"
   },
   {
    "duration": 7,
    "start_time": "2023-04-03T17:54:19.956Z"
   },
   {
    "duration": 59,
    "start_time": "2023-04-03T17:54:19.965Z"
   },
   {
    "duration": 22,
    "start_time": "2023-04-03T17:54:36.182Z"
   },
   {
    "duration": 8,
    "start_time": "2023-04-03T17:55:03.013Z"
   },
   {
    "duration": 12,
    "start_time": "2023-04-03T17:55:12.380Z"
   },
   {
    "duration": 8,
    "start_time": "2023-04-03T17:55:19.417Z"
   },
   {
    "duration": 8,
    "start_time": "2023-04-03T17:55:26.311Z"
   },
   {
    "duration": 9,
    "start_time": "2023-04-03T17:55:32.616Z"
   },
   {
    "duration": 8,
    "start_time": "2023-04-03T17:55:39.938Z"
   },
   {
    "duration": 8,
    "start_time": "2023-04-03T17:55:47.571Z"
   },
   {
    "duration": 11,
    "start_time": "2023-04-03T17:55:54.339Z"
   },
   {
    "duration": 8,
    "start_time": "2023-04-03T17:55:59.310Z"
   },
   {
    "duration": 9,
    "start_time": "2023-04-03T17:56:05.835Z"
   },
   {
    "duration": 18,
    "start_time": "2023-04-03T17:56:19.738Z"
   },
   {
    "duration": 31,
    "start_time": "2023-04-03T17:56:40.085Z"
   },
   {
    "duration": 14,
    "start_time": "2023-04-03T17:57:15.532Z"
   },
   {
    "duration": 8,
    "start_time": "2023-04-03T17:57:32.822Z"
   },
   {
    "duration": 23,
    "start_time": "2023-04-03T17:57:39.478Z"
   },
   {
    "duration": 14,
    "start_time": "2023-04-03T17:58:04.140Z"
   },
   {
    "duration": 7,
    "start_time": "2023-04-03T17:58:11.518Z"
   },
   {
    "duration": 25,
    "start_time": "2023-04-03T17:58:16.757Z"
   },
   {
    "duration": 8,
    "start_time": "2023-04-03T18:06:56.064Z"
   },
   {
    "duration": 21,
    "start_time": "2023-04-03T18:07:07.254Z"
   },
   {
    "duration": 10,
    "start_time": "2023-04-03T18:08:32.229Z"
   },
   {
    "duration": 9,
    "start_time": "2023-04-03T18:09:22.766Z"
   },
   {
    "duration": 8,
    "start_time": "2023-04-03T18:09:28.836Z"
   },
   {
    "duration": 14,
    "start_time": "2023-04-03T18:10:24.286Z"
   },
   {
    "duration": 8,
    "start_time": "2023-04-03T18:10:32.623Z"
   },
   {
    "duration": 8,
    "start_time": "2023-04-03T18:10:43.422Z"
   },
   {
    "duration": 29,
    "start_time": "2023-04-03T18:10:51.981Z"
   },
   {
    "duration": 8,
    "start_time": "2023-04-03T18:12:08.719Z"
   },
   {
    "duration": 27,
    "start_time": "2023-04-03T18:12:11.936Z"
   },
   {
    "duration": 25,
    "start_time": "2023-04-03T18:12:22.359Z"
   },
   {
    "duration": 9,
    "start_time": "2023-04-03T18:13:09.343Z"
   },
   {
    "duration": 7,
    "start_time": "2023-04-03T18:13:21.726Z"
   },
   {
    "duration": 22,
    "start_time": "2023-04-03T18:13:39.049Z"
   },
   {
    "duration": 9,
    "start_time": "2023-04-03T18:16:42.241Z"
   },
   {
    "duration": 31,
    "start_time": "2023-04-03T18:17:00.916Z"
   },
   {
    "duration": 44,
    "start_time": "2023-04-03T18:17:17.382Z"
   },
   {
    "duration": 8,
    "start_time": "2023-04-03T18:19:40.432Z"
   },
   {
    "duration": 82,
    "start_time": "2023-04-03T18:24:44.262Z"
   },
   {
    "duration": 10,
    "start_time": "2023-04-03T18:25:07.331Z"
   },
   {
    "duration": 48,
    "start_time": "2023-04-03T18:26:42.671Z"
   },
   {
    "duration": 8,
    "start_time": "2023-04-03T18:26:43.419Z"
   },
   {
    "duration": 18,
    "start_time": "2023-04-03T18:27:12.031Z"
   },
   {
    "duration": 22,
    "start_time": "2023-04-03T18:31:08.943Z"
   },
   {
    "duration": 11,
    "start_time": "2023-04-03T18:31:20.263Z"
   },
   {
    "duration": 15,
    "start_time": "2023-04-03T18:31:33.079Z"
   },
   {
    "duration": 36,
    "start_time": "2023-04-03T18:31:48.968Z"
   },
   {
    "duration": 15,
    "start_time": "2023-04-03T18:31:59.916Z"
   },
   {
    "duration": 16,
    "start_time": "2023-04-03T18:32:10.832Z"
   },
   {
    "duration": 1182,
    "start_time": "2023-04-03T18:41:51.206Z"
   },
   {
    "duration": 7,
    "start_time": "2023-04-03T18:42:25.777Z"
   },
   {
    "duration": 15,
    "start_time": "2023-04-03T18:53:04.905Z"
   },
   {
    "duration": 20,
    "start_time": "2023-04-03T19:07:12.742Z"
   },
   {
    "duration": 24,
    "start_time": "2023-04-03T19:14:36.344Z"
   },
   {
    "duration": 0,
    "start_time": "2023-04-03T19:16:05.435Z"
   },
   {
    "duration": 18704,
    "start_time": "2023-04-03T19:16:09.227Z"
   },
   {
    "duration": 28,
    "start_time": "2023-04-03T19:16:52.528Z"
   },
   {
    "duration": 64,
    "start_time": "2023-04-03T19:17:42.208Z"
   },
   {
    "duration": 44,
    "start_time": "2023-04-03T19:17:43.128Z"
   },
   {
    "duration": 490,
    "start_time": "2023-04-03T19:18:43.045Z"
   },
   {
    "duration": 1218,
    "start_time": "2023-04-03T19:18:43.543Z"
   },
   {
    "duration": 45,
    "start_time": "2023-04-03T19:18:44.762Z"
   },
   {
    "duration": 302,
    "start_time": "2023-04-03T19:18:44.809Z"
   },
   {
    "duration": 766,
    "start_time": "2023-04-03T19:18:45.114Z"
   },
   {
    "duration": 832,
    "start_time": "2023-04-03T19:18:45.882Z"
   },
   {
    "duration": 54,
    "start_time": "2023-04-03T19:18:46.719Z"
   },
   {
    "duration": 5,
    "start_time": "2023-04-03T19:18:46.775Z"
   },
   {
    "duration": 193,
    "start_time": "2023-04-03T19:18:46.782Z"
   },
   {
    "duration": 104,
    "start_time": "2023-04-03T19:18:46.977Z"
   },
   {
    "duration": 54,
    "start_time": "2023-04-03T19:18:47.083Z"
   },
   {
    "duration": 75,
    "start_time": "2023-04-03T19:18:47.139Z"
   },
   {
    "duration": 42,
    "start_time": "2023-04-03T19:18:47.216Z"
   },
   {
    "duration": 22,
    "start_time": "2023-04-03T19:18:47.261Z"
   },
   {
    "duration": 110,
    "start_time": "2023-04-03T19:18:47.285Z"
   },
   {
    "duration": 67,
    "start_time": "2023-04-03T19:18:47.397Z"
   },
   {
    "duration": 9,
    "start_time": "2023-04-03T19:18:47.467Z"
   },
   {
    "duration": 66,
    "start_time": "2023-04-03T19:18:47.478Z"
   },
   {
    "duration": 64,
    "start_time": "2023-04-03T19:18:47.546Z"
   },
   {
    "duration": 19,
    "start_time": "2023-04-03T19:18:47.614Z"
   },
   {
    "duration": 36,
    "start_time": "2023-04-03T19:18:47.636Z"
   },
   {
    "duration": 30,
    "start_time": "2023-04-03T19:18:47.675Z"
   },
   {
    "duration": 1749,
    "start_time": "2023-04-03T19:18:47.722Z"
   },
   {
    "duration": 54,
    "start_time": "2023-04-03T19:27:38.332Z"
   },
   {
    "duration": 97,
    "start_time": "2023-04-03T19:28:44.186Z"
   },
   {
    "duration": 44,
    "start_time": "2023-04-03T19:28:46.816Z"
   },
   {
    "duration": 497,
    "start_time": "2023-04-03T19:29:21.022Z"
   },
   {
    "duration": 1341,
    "start_time": "2023-04-03T19:29:21.523Z"
   },
   {
    "duration": 55,
    "start_time": "2023-04-03T19:29:22.867Z"
   },
   {
    "duration": 295,
    "start_time": "2023-04-03T19:29:22.924Z"
   },
   {
    "duration": 885,
    "start_time": "2023-04-03T19:29:23.224Z"
   },
   {
    "duration": 863,
    "start_time": "2023-04-03T19:29:24.111Z"
   },
   {
    "duration": 60,
    "start_time": "2023-04-03T19:29:24.976Z"
   },
   {
    "duration": 12,
    "start_time": "2023-04-03T19:29:25.039Z"
   },
   {
    "duration": 152,
    "start_time": "2023-04-03T19:29:25.053Z"
   },
   {
    "duration": 123,
    "start_time": "2023-04-03T19:29:25.207Z"
   },
   {
    "duration": 14,
    "start_time": "2023-04-03T19:29:25.337Z"
   },
   {
    "duration": 61,
    "start_time": "2023-04-03T19:29:25.354Z"
   },
   {
    "duration": 26,
    "start_time": "2023-04-03T19:29:25.425Z"
   },
   {
    "duration": 12,
    "start_time": "2023-04-03T19:29:25.455Z"
   },
   {
    "duration": 61,
    "start_time": "2023-04-03T19:29:25.469Z"
   },
   {
    "duration": 66,
    "start_time": "2023-04-03T19:29:25.532Z"
   },
   {
    "duration": 10,
    "start_time": "2023-04-03T19:29:25.601Z"
   },
   {
    "duration": 57,
    "start_time": "2023-04-03T19:29:25.613Z"
   },
   {
    "duration": 55,
    "start_time": "2023-04-03T19:29:25.672Z"
   },
   {
    "duration": 11,
    "start_time": "2023-04-03T19:29:25.729Z"
   },
   {
    "duration": 33,
    "start_time": "2023-04-03T19:29:25.743Z"
   },
   {
    "duration": 40,
    "start_time": "2023-04-03T19:29:25.777Z"
   },
   {
    "duration": 1921,
    "start_time": "2023-04-03T19:29:25.825Z"
   },
   {
    "duration": 8,
    "start_time": "2023-04-03T19:36:31.759Z"
   },
   {
    "duration": 95,
    "start_time": "2023-04-03T19:36:43.276Z"
   },
   {
    "duration": 15,
    "start_time": "2023-04-03T19:37:16.288Z"
   },
   {
    "duration": 13,
    "start_time": "2023-04-03T19:38:06.707Z"
   },
   {
    "duration": 131,
    "start_time": "2023-04-03T19:38:28.906Z"
   },
   {
    "duration": 103,
    "start_time": "2023-04-03T19:38:35.811Z"
   },
   {
    "duration": 70,
    "start_time": "2023-04-03T19:38:40.493Z"
   },
   {
    "duration": 12,
    "start_time": "2023-04-03T19:38:43.543Z"
   },
   {
    "duration": 61,
    "start_time": "2023-04-03T19:40:00.086Z"
   },
   {
    "duration": 11,
    "start_time": "2023-04-03T19:40:02.527Z"
   },
   {
    "duration": 13,
    "start_time": "2023-04-03T19:40:10.117Z"
   },
   {
    "duration": 7,
    "start_time": "2023-04-03T19:40:53.643Z"
   },
   {
    "duration": 44,
    "start_time": "2023-04-03T19:41:04.239Z"
   },
   {
    "duration": 12,
    "start_time": "2023-04-03T19:41:11.363Z"
   },
   {
    "duration": 36,
    "start_time": "2023-04-03T19:41:59.563Z"
   },
   {
    "duration": 496,
    "start_time": "2023-04-03T19:42:04.919Z"
   },
   {
    "duration": 1086,
    "start_time": "2023-04-03T19:42:05.425Z"
   },
   {
    "duration": 41,
    "start_time": "2023-04-03T19:42:06.513Z"
   },
   {
    "duration": 211,
    "start_time": "2023-04-03T19:42:06.557Z"
   },
   {
    "duration": 655,
    "start_time": "2023-04-03T19:42:06.771Z"
   },
   {
    "duration": 781,
    "start_time": "2023-04-03T19:42:07.428Z"
   },
   {
    "duration": 45,
    "start_time": "2023-04-03T19:42:08.215Z"
   },
   {
    "duration": 14,
    "start_time": "2023-04-03T19:42:08.264Z"
   },
   {
    "duration": 174,
    "start_time": "2023-04-03T19:42:08.280Z"
   },
   {
    "duration": 114,
    "start_time": "2023-04-03T19:42:08.458Z"
   },
   {
    "duration": 32,
    "start_time": "2023-04-03T19:42:08.574Z"
   },
   {
    "duration": 64,
    "start_time": "2023-04-03T19:42:08.608Z"
   },
   {
    "duration": 17,
    "start_time": "2023-04-03T19:42:08.675Z"
   },
   {
    "duration": 26,
    "start_time": "2023-04-03T19:42:08.699Z"
   },
   {
    "duration": 79,
    "start_time": "2023-04-03T19:42:08.726Z"
   },
   {
    "duration": 55,
    "start_time": "2023-04-03T19:42:08.807Z"
   },
   {
    "duration": 10,
    "start_time": "2023-04-03T19:42:08.864Z"
   },
   {
    "duration": 89,
    "start_time": "2023-04-03T19:42:08.876Z"
   },
   {
    "duration": 62,
    "start_time": "2023-04-03T19:42:08.967Z"
   },
   {
    "duration": 10,
    "start_time": "2023-04-03T19:42:09.030Z"
   },
   {
    "duration": 31,
    "start_time": "2023-04-03T19:42:09.042Z"
   },
   {
    "duration": 24,
    "start_time": "2023-04-03T19:42:09.075Z"
   },
   {
    "duration": 1871,
    "start_time": "2023-04-03T19:42:09.113Z"
   },
   {
    "duration": 91,
    "start_time": "2023-04-03T19:51:52.959Z"
   },
   {
    "duration": 13,
    "start_time": "2023-04-03T19:51:56.984Z"
   },
   {
    "duration": 5,
    "start_time": "2023-04-03T19:52:06.942Z"
   },
   {
    "duration": 41,
    "start_time": "2023-04-03T19:52:12.115Z"
   },
   {
    "duration": 18,
    "start_time": "2023-04-03T19:52:37.046Z"
   },
   {
    "duration": 32,
    "start_time": "2023-04-03T19:53:04.366Z"
   },
   {
    "duration": 47,
    "start_time": "2023-04-03T19:53:31.225Z"
   },
   {
    "duration": 22,
    "start_time": "2023-04-03T19:53:45.277Z"
   },
   {
    "duration": 77,
    "start_time": "2023-04-03T19:53:54.146Z"
   },
   {
    "duration": 11,
    "start_time": "2023-04-03T19:53:56.648Z"
   },
   {
    "duration": 15,
    "start_time": "2023-04-03T19:54:09.023Z"
   },
   {
    "duration": 78,
    "start_time": "2023-04-03T19:55:03.830Z"
   },
   {
    "duration": 26,
    "start_time": "2023-04-03T19:55:07.333Z"
   },
   {
    "duration": 23,
    "start_time": "2023-04-03T19:55:18.211Z"
   },
   {
    "duration": 77,
    "start_time": "2023-04-03T19:55:53.876Z"
   },
   {
    "duration": 12,
    "start_time": "2023-04-03T19:56:00.381Z"
   },
   {
    "duration": 37,
    "start_time": "2023-04-03T19:56:17.484Z"
   },
   {
    "duration": 82,
    "start_time": "2023-04-03T19:56:37.941Z"
   },
   {
    "duration": 11,
    "start_time": "2023-04-03T19:56:41.815Z"
   },
   {
    "duration": 53,
    "start_time": "2023-04-03T19:57:05.533Z"
   },
   {
    "duration": 25,
    "start_time": "2023-04-03T19:57:07.990Z"
   },
   {
    "duration": 32,
    "start_time": "2023-04-03T19:57:13.786Z"
   },
   {
    "duration": 638,
    "start_time": "2023-04-03T19:57:41.592Z"
   },
   {
    "duration": 1195,
    "start_time": "2023-04-03T19:57:42.233Z"
   },
   {
    "duration": 41,
    "start_time": "2023-04-03T19:57:43.437Z"
   },
   {
    "duration": 219,
    "start_time": "2023-04-03T19:57:43.481Z"
   },
   {
    "duration": 649,
    "start_time": "2023-04-03T19:57:43.705Z"
   },
   {
    "duration": 861,
    "start_time": "2023-04-03T19:57:44.358Z"
   },
   {
    "duration": 43,
    "start_time": "2023-04-03T19:57:45.221Z"
   },
   {
    "duration": 20,
    "start_time": "2023-04-03T19:57:45.266Z"
   },
   {
    "duration": 177,
    "start_time": "2023-04-03T19:57:45.292Z"
   },
   {
    "duration": 212,
    "start_time": "2023-04-03T19:57:45.472Z"
   },
   {
    "duration": 29,
    "start_time": "2023-04-03T19:57:45.688Z"
   },
   {
    "duration": 42,
    "start_time": "2023-04-03T19:57:45.719Z"
   },
   {
    "duration": 15,
    "start_time": "2023-04-03T19:57:45.763Z"
   },
   {
    "duration": 50,
    "start_time": "2023-04-03T19:57:45.787Z"
   },
   {
    "duration": 82,
    "start_time": "2023-04-03T19:57:45.840Z"
   },
   {
    "duration": 52,
    "start_time": "2023-04-03T19:57:45.930Z"
   },
   {
    "duration": 16,
    "start_time": "2023-04-03T19:57:45.984Z"
   },
   {
    "duration": 60,
    "start_time": "2023-04-03T19:57:46.002Z"
   },
   {
    "duration": 70,
    "start_time": "2023-04-03T19:57:46.064Z"
   },
   {
    "duration": 9,
    "start_time": "2023-04-03T19:57:46.136Z"
   },
   {
    "duration": 32,
    "start_time": "2023-04-03T19:57:46.147Z"
   },
   {
    "duration": 25,
    "start_time": "2023-04-03T19:57:46.182Z"
   },
   {
    "duration": 1206,
    "start_time": "2023-04-03T19:57:46.213Z"
   },
   {
    "duration": 0,
    "start_time": "2023-04-03T19:57:47.421Z"
   },
   {
    "duration": 453,
    "start_time": "2023-04-03T20:00:23.531Z"
   },
   {
    "duration": 1164,
    "start_time": "2023-04-03T20:00:23.987Z"
   },
   {
    "duration": 60,
    "start_time": "2023-04-03T20:00:25.153Z"
   },
   {
    "duration": 310,
    "start_time": "2023-04-03T20:00:25.221Z"
   },
   {
    "duration": 809,
    "start_time": "2023-04-03T20:00:25.539Z"
   },
   {
    "duration": 819,
    "start_time": "2023-04-03T20:00:26.355Z"
   },
   {
    "duration": 59,
    "start_time": "2023-04-03T20:00:27.175Z"
   },
   {
    "duration": 8,
    "start_time": "2023-04-03T20:00:27.236Z"
   },
   {
    "duration": 147,
    "start_time": "2023-04-03T20:00:27.248Z"
   },
   {
    "duration": 121,
    "start_time": "2023-04-03T20:00:27.398Z"
   },
   {
    "duration": 13,
    "start_time": "2023-04-03T20:00:27.521Z"
   },
   {
    "duration": 64,
    "start_time": "2023-04-03T20:00:27.537Z"
   },
   {
    "duration": 52,
    "start_time": "2023-04-03T20:00:27.603Z"
   },
   {
    "duration": 16,
    "start_time": "2023-04-03T20:00:27.658Z"
   },
   {
    "duration": 69,
    "start_time": "2023-04-03T20:00:27.676Z"
   },
   {
    "duration": 69,
    "start_time": "2023-04-03T20:00:27.760Z"
   },
   {
    "duration": 11,
    "start_time": "2023-04-03T20:00:27.831Z"
   },
   {
    "duration": 25,
    "start_time": "2023-04-03T20:00:27.844Z"
   },
   {
    "duration": 60,
    "start_time": "2023-04-03T20:00:27.890Z"
   },
   {
    "duration": 12,
    "start_time": "2023-04-03T20:00:27.952Z"
   },
   {
    "duration": 53,
    "start_time": "2023-04-03T20:00:27.966Z"
   },
   {
    "duration": 33,
    "start_time": "2023-04-03T20:00:28.022Z"
   },
   {
    "duration": 2173,
    "start_time": "2023-04-03T20:00:28.057Z"
   },
   {
    "duration": 0,
    "start_time": "2023-04-03T20:00:30.232Z"
   },
   {
    "duration": 12,
    "start_time": "2023-04-03T20:03:42.534Z"
   },
   {
    "duration": 34,
    "start_time": "2023-04-03T20:03:59.686Z"
   },
   {
    "duration": 8,
    "start_time": "2023-04-03T20:04:57.775Z"
   },
   {
    "duration": 13,
    "start_time": "2023-04-03T20:05:13.688Z"
   },
   {
    "duration": 10,
    "start_time": "2023-04-03T20:49:39.269Z"
   },
   {
    "duration": 15,
    "start_time": "2023-04-03T20:49:52.923Z"
   },
   {
    "duration": 29,
    "start_time": "2023-04-03T20:50:10.684Z"
   },
   {
    "duration": 20,
    "start_time": "2023-04-03T20:50:51.063Z"
   },
   {
    "duration": 17,
    "start_time": "2023-04-03T20:50:56.921Z"
   },
   {
    "duration": 15,
    "start_time": "2023-04-03T20:51:10.113Z"
   },
   {
    "duration": 30,
    "start_time": "2023-04-03T20:51:18.523Z"
   },
   {
    "duration": 17,
    "start_time": "2023-04-03T20:51:27.414Z"
   },
   {
    "duration": 27,
    "start_time": "2023-04-03T20:51:32.986Z"
   },
   {
    "duration": 2363,
    "start_time": "2023-04-03T20:52:40.310Z"
   },
   {
    "duration": 45,
    "start_time": "2023-04-03T20:53:02.385Z"
   },
   {
    "duration": 126,
    "start_time": "2023-04-03T20:55:05.759Z"
   },
   {
    "duration": 28,
    "start_time": "2023-04-03T20:55:07.354Z"
   },
   {
    "duration": 58,
    "start_time": "2023-04-03T20:55:16.431Z"
   },
   {
    "duration": 28,
    "start_time": "2023-04-03T21:01:22.222Z"
   },
   {
    "duration": 23,
    "start_time": "2023-04-03T21:01:32.210Z"
   },
   {
    "duration": 71,
    "start_time": "2023-04-03T21:01:54.642Z"
   },
   {
    "duration": 15,
    "start_time": "2023-04-03T21:18:57.063Z"
   },
   {
    "duration": 25,
    "start_time": "2023-04-03T21:19:22.288Z"
   },
   {
    "duration": 129,
    "start_time": "2023-04-03T21:19:23.564Z"
   },
   {
    "duration": 93,
    "start_time": "2023-04-03T21:19:31.324Z"
   },
   {
    "duration": 18,
    "start_time": "2023-04-03T21:47:36.914Z"
   },
   {
    "duration": 24,
    "start_time": "2023-04-03T21:47:59.587Z"
   },
   {
    "duration": 8,
    "start_time": "2023-04-03T21:48:08.238Z"
   },
   {
    "duration": 21,
    "start_time": "2023-04-03T21:50:01.319Z"
   },
   {
    "duration": 25,
    "start_time": "2023-04-03T21:50:16.122Z"
   },
   {
    "duration": 65,
    "start_time": "2023-04-03T21:53:57.027Z"
   },
   {
    "duration": 68,
    "start_time": "2023-04-03T21:54:07.142Z"
   },
   {
    "duration": 21,
    "start_time": "2023-04-03T21:54:37.316Z"
   },
   {
    "duration": 38,
    "start_time": "2023-04-03T21:54:43.884Z"
   },
   {
    "duration": 55,
    "start_time": "2023-04-03T21:57:24.219Z"
   },
   {
    "duration": 73,
    "start_time": "2023-04-03T21:59:11.308Z"
   },
   {
    "duration": 41,
    "start_time": "2023-04-03T21:59:51.834Z"
   },
   {
    "duration": 51,
    "start_time": "2023-04-03T21:59:57.118Z"
   },
   {
    "duration": 11,
    "start_time": "2023-04-03T22:00:10.625Z"
   },
   {
    "duration": 427,
    "start_time": "2023-04-03T22:00:15.904Z"
   },
   {
    "duration": 973,
    "start_time": "2023-04-03T22:00:16.332Z"
   },
   {
    "duration": 9,
    "start_time": "2023-04-03T22:00:17.307Z"
   },
   {
    "duration": 26,
    "start_time": "2023-04-03T22:00:17.318Z"
   },
   {
    "duration": 159,
    "start_time": "2023-04-03T22:00:17.346Z"
   },
   {
    "duration": 542,
    "start_time": "2023-04-03T22:00:17.507Z"
   },
   {
    "duration": 638,
    "start_time": "2023-04-03T22:00:18.051Z"
   },
   {
    "duration": 45,
    "start_time": "2023-04-03T22:00:18.697Z"
   },
   {
    "duration": 4,
    "start_time": "2023-04-03T22:00:18.745Z"
   },
   {
    "duration": 168,
    "start_time": "2023-04-03T22:00:18.754Z"
   },
   {
    "duration": 90,
    "start_time": "2023-04-03T22:00:18.924Z"
   },
   {
    "duration": 9,
    "start_time": "2023-04-03T22:00:19.016Z"
   },
   {
    "duration": 44,
    "start_time": "2023-04-03T22:00:19.027Z"
   },
   {
    "duration": 16,
    "start_time": "2023-04-03T22:00:19.089Z"
   },
   {
    "duration": 13,
    "start_time": "2023-04-03T22:00:19.107Z"
   },
   {
    "duration": 52,
    "start_time": "2023-04-03T22:00:19.121Z"
   },
   {
    "duration": 56,
    "start_time": "2023-04-03T22:00:19.186Z"
   },
   {
    "duration": 8,
    "start_time": "2023-04-03T22:00:19.244Z"
   },
   {
    "duration": 39,
    "start_time": "2023-04-03T22:00:19.254Z"
   },
   {
    "duration": 46,
    "start_time": "2023-04-03T22:00:19.294Z"
   },
   {
    "duration": 8,
    "start_time": "2023-04-03T22:00:19.341Z"
   },
   {
    "duration": 54,
    "start_time": "2023-04-03T22:00:19.351Z"
   },
   {
    "duration": 8,
    "start_time": "2023-04-03T22:00:19.408Z"
   },
   {
    "duration": 48,
    "start_time": "2023-04-03T22:00:19.418Z"
   },
   {
    "duration": 43,
    "start_time": "2023-04-03T22:00:19.468Z"
   },
   {
    "duration": 10,
    "start_time": "2023-04-03T22:00:19.514Z"
   },
   {
    "duration": 71,
    "start_time": "2023-04-03T22:00:19.526Z"
   },
   {
    "duration": 9,
    "start_time": "2023-04-03T22:00:19.608Z"
   },
   {
    "duration": 25,
    "start_time": "2023-04-03T22:00:19.619Z"
   },
   {
    "duration": 1037,
    "start_time": "2023-04-03T22:00:19.646Z"
   },
   {
    "duration": 0,
    "start_time": "2023-04-03T22:00:20.685Z"
   },
   {
    "duration": 0,
    "start_time": "2023-04-03T22:00:20.687Z"
   },
   {
    "duration": 0,
    "start_time": "2023-04-03T22:00:20.688Z"
   },
   {
    "duration": 23,
    "start_time": "2023-04-03T22:01:00.396Z"
   },
   {
    "duration": 23,
    "start_time": "2023-04-03T22:02:18.023Z"
   },
   {
    "duration": 25,
    "start_time": "2023-04-03T22:02:33.843Z"
   },
   {
    "duration": 28,
    "start_time": "2023-04-03T22:06:09.785Z"
   },
   {
    "duration": 14,
    "start_time": "2023-04-03T22:06:21.160Z"
   },
   {
    "duration": 13,
    "start_time": "2023-04-03T22:06:28.305Z"
   },
   {
    "duration": 13,
    "start_time": "2023-04-03T22:06:48.136Z"
   },
   {
    "duration": 15,
    "start_time": "2023-04-03T22:07:40.751Z"
   },
   {
    "duration": 23,
    "start_time": "2023-04-03T22:07:58.188Z"
   },
   {
    "duration": 3,
    "start_time": "2023-04-03T22:44:45.753Z"
   },
   {
    "duration": 11,
    "start_time": "2023-04-03T22:59:39.418Z"
   },
   {
    "duration": 471,
    "start_time": "2023-04-03T23:21:48.292Z"
   },
   {
    "duration": 1013,
    "start_time": "2023-04-03T23:21:48.765Z"
   },
   {
    "duration": 14,
    "start_time": "2023-04-03T23:21:49.780Z"
   },
   {
    "duration": 59,
    "start_time": "2023-04-03T23:21:49.807Z"
   },
   {
    "duration": 167,
    "start_time": "2023-04-03T23:21:49.868Z"
   },
   {
    "duration": 629,
    "start_time": "2023-04-03T23:21:50.036Z"
   },
   {
    "duration": 752,
    "start_time": "2023-04-03T23:21:50.667Z"
   },
   {
    "duration": 39,
    "start_time": "2023-04-03T23:21:51.421Z"
   },
   {
    "duration": 7,
    "start_time": "2023-04-03T23:21:51.462Z"
   },
   {
    "duration": 139,
    "start_time": "2023-04-03T23:21:51.470Z"
   },
   {
    "duration": 108,
    "start_time": "2023-04-03T23:21:51.611Z"
   },
   {
    "duration": 10,
    "start_time": "2023-04-03T23:21:51.722Z"
   },
   {
    "duration": 38,
    "start_time": "2023-04-03T23:21:51.733Z"
   },
   {
    "duration": 57,
    "start_time": "2023-04-03T23:21:51.774Z"
   },
   {
    "duration": 16,
    "start_time": "2023-04-03T23:21:51.832Z"
   },
   {
    "duration": 60,
    "start_time": "2023-04-03T23:21:51.850Z"
   },
   {
    "duration": 52,
    "start_time": "2023-04-03T23:21:51.912Z"
   },
   {
    "duration": 36,
    "start_time": "2023-04-03T23:21:51.965Z"
   },
   {
    "duration": 21,
    "start_time": "2023-04-03T23:21:52.003Z"
   },
   {
    "duration": 48,
    "start_time": "2023-04-03T23:21:52.027Z"
   },
   {
    "duration": 37,
    "start_time": "2023-04-03T23:21:52.077Z"
   },
   {
    "duration": 26,
    "start_time": "2023-04-03T23:21:52.117Z"
   },
   {
    "duration": 8,
    "start_time": "2023-04-03T23:21:52.144Z"
   },
   {
    "duration": 62,
    "start_time": "2023-04-03T23:21:52.154Z"
   },
   {
    "duration": 17,
    "start_time": "2023-04-03T23:21:52.218Z"
   },
   {
    "duration": 9,
    "start_time": "2023-04-03T23:21:52.237Z"
   },
   {
    "duration": 76,
    "start_time": "2023-04-03T23:21:52.249Z"
   },
   {
    "duration": 14,
    "start_time": "2023-04-03T23:21:52.327Z"
   },
   {
    "duration": 25,
    "start_time": "2023-04-03T23:21:52.343Z"
   },
   {
    "duration": 16,
    "start_time": "2023-04-03T23:21:52.387Z"
   },
   {
    "duration": 946,
    "start_time": "2023-04-03T23:21:52.405Z"
   },
   {
    "duration": 0,
    "start_time": "2023-04-03T23:21:53.352Z"
   },
   {
    "duration": 0,
    "start_time": "2023-04-03T23:21:53.354Z"
   },
   {
    "duration": 0,
    "start_time": "2023-04-03T23:21:53.355Z"
   },
   {
    "duration": 0,
    "start_time": "2023-04-03T23:21:53.356Z"
   },
   {
    "duration": 27,
    "start_time": "2023-04-03T23:22:25.625Z"
   },
   {
    "duration": 14,
    "start_time": "2023-04-03T23:22:36.827Z"
   },
   {
    "duration": 22,
    "start_time": "2023-04-03T23:30:52.618Z"
   },
   {
    "duration": 36,
    "start_time": "2023-04-03T23:34:52.019Z"
   },
   {
    "duration": 6,
    "start_time": "2023-04-03T23:35:48.434Z"
   },
   {
    "duration": 6,
    "start_time": "2023-04-03T23:39:10.049Z"
   },
   {
    "duration": 4,
    "start_time": "2023-04-03T23:39:14.610Z"
   },
   {
    "duration": 24,
    "start_time": "2023-04-03T23:39:20.323Z"
   },
   {
    "duration": 14,
    "start_time": "2023-04-03T23:45:27.673Z"
   },
   {
    "duration": 13,
    "start_time": "2023-04-03T23:45:47.416Z"
   },
   {
    "duration": 21,
    "start_time": "2023-04-03T23:48:57.801Z"
   },
   {
    "duration": 28,
    "start_time": "2023-04-04T00:01:10.504Z"
   },
   {
    "duration": 6,
    "start_time": "2023-04-04T00:01:32.133Z"
   },
   {
    "duration": 16,
    "start_time": "2023-04-04T00:04:10.382Z"
   },
   {
    "duration": 2760,
    "start_time": "2023-04-04T00:04:24.414Z"
   },
   {
    "duration": 1296,
    "start_time": "2023-04-04T00:05:39.972Z"
   },
   {
    "duration": 7,
    "start_time": "2023-04-04T00:06:29.723Z"
   },
   {
    "duration": 1622,
    "start_time": "2023-04-04T00:06:31.653Z"
   },
   {
    "duration": 9,
    "start_time": "2023-04-04T00:07:28.921Z"
   },
   {
    "duration": 1704,
    "start_time": "2023-04-04T00:07:30.035Z"
   },
   {
    "duration": 6,
    "start_time": "2023-04-04T00:07:38.346Z"
   },
   {
    "duration": 24,
    "start_time": "2023-04-04T00:07:38.891Z"
   },
   {
    "duration": 1438,
    "start_time": "2023-04-04T00:07:40.124Z"
   },
   {
    "duration": 22,
    "start_time": "2023-04-04T00:08:37.730Z"
   },
   {
    "duration": 7,
    "start_time": "2023-04-04T00:08:42.849Z"
   },
   {
    "duration": 52,
    "start_time": "2023-04-04T00:08:47.000Z"
   },
   {
    "duration": 25,
    "start_time": "2023-04-04T00:09:51.905Z"
   },
   {
    "duration": 47,
    "start_time": "2023-04-04T00:09:53.505Z"
   },
   {
    "duration": 465,
    "start_time": "2023-04-04T00:10:20.858Z"
   },
   {
    "duration": 901,
    "start_time": "2023-04-04T00:10:21.325Z"
   },
   {
    "duration": 10,
    "start_time": "2023-04-04T00:10:22.228Z"
   },
   {
    "duration": 39,
    "start_time": "2023-04-04T00:10:22.240Z"
   },
   {
    "duration": 168,
    "start_time": "2023-04-04T00:10:22.280Z"
   },
   {
    "duration": 550,
    "start_time": "2023-04-04T00:10:22.450Z"
   },
   {
    "duration": 640,
    "start_time": "2023-04-04T00:10:23.002Z"
   },
   {
    "duration": 48,
    "start_time": "2023-04-04T00:10:23.644Z"
   },
   {
    "duration": 14,
    "start_time": "2023-04-04T00:10:23.698Z"
   },
   {
    "duration": 92,
    "start_time": "2023-04-04T00:10:23.715Z"
   },
   {
    "duration": 95,
    "start_time": "2023-04-04T00:10:23.809Z"
   },
   {
    "duration": 10,
    "start_time": "2023-04-04T00:10:23.906Z"
   },
   {
    "duration": 35,
    "start_time": "2023-04-04T00:10:23.918Z"
   },
   {
    "duration": 8,
    "start_time": "2023-04-04T00:10:23.955Z"
   },
   {
    "duration": 11,
    "start_time": "2023-04-04T00:10:23.987Z"
   },
   {
    "duration": 63,
    "start_time": "2023-04-04T00:10:24.000Z"
   },
   {
    "duration": 60,
    "start_time": "2023-04-04T00:10:24.065Z"
   },
   {
    "duration": 8,
    "start_time": "2023-04-04T00:10:24.127Z"
   },
   {
    "duration": 22,
    "start_time": "2023-04-04T00:10:24.136Z"
   },
   {
    "duration": 61,
    "start_time": "2023-04-04T00:10:24.159Z"
   },
   {
    "duration": 8,
    "start_time": "2023-04-04T00:10:24.222Z"
   },
   {
    "duration": 26,
    "start_time": "2023-04-04T00:10:24.232Z"
   },
   {
    "duration": 36,
    "start_time": "2023-04-04T00:10:24.259Z"
   },
   {
    "duration": 63,
    "start_time": "2023-04-04T00:10:24.297Z"
   },
   {
    "duration": 16,
    "start_time": "2023-04-04T00:10:24.362Z"
   },
   {
    "duration": 32,
    "start_time": "2023-04-04T00:10:24.379Z"
   },
   {
    "duration": 68,
    "start_time": "2023-04-04T00:10:24.414Z"
   },
   {
    "duration": 20,
    "start_time": "2023-04-04T00:10:24.485Z"
   },
   {
    "duration": 33,
    "start_time": "2023-04-04T00:10:24.507Z"
   },
   {
    "duration": 22,
    "start_time": "2023-04-04T00:10:24.541Z"
   },
   {
    "duration": 25,
    "start_time": "2023-04-04T00:10:24.564Z"
   },
   {
    "duration": 128,
    "start_time": "2023-04-04T00:10:24.596Z"
   },
   {
    "duration": 0,
    "start_time": "2023-04-04T00:10:24.727Z"
   },
   {
    "duration": 0,
    "start_time": "2023-04-04T00:10:24.728Z"
   },
   {
    "duration": 0,
    "start_time": "2023-04-04T00:10:24.730Z"
   },
   {
    "duration": 0,
    "start_time": "2023-04-04T00:10:24.731Z"
   },
   {
    "duration": 0,
    "start_time": "2023-04-04T00:10:24.733Z"
   },
   {
    "duration": 74,
    "start_time": "2023-04-04T00:12:36.465Z"
   },
   {
    "duration": 58,
    "start_time": "2023-04-04T00:12:52.911Z"
   },
   {
    "duration": 22,
    "start_time": "2023-04-04T00:13:06.839Z"
   },
   {
    "duration": 7,
    "start_time": "2023-04-04T00:13:18.745Z"
   },
   {
    "duration": 50,
    "start_time": "2023-04-04T00:13:27.151Z"
   },
   {
    "duration": 2,
    "start_time": "2023-04-04T00:14:20.215Z"
   },
   {
    "duration": 22,
    "start_time": "2023-04-04T00:14:27.305Z"
   },
   {
    "duration": 6,
    "start_time": "2023-04-04T00:14:28.137Z"
   },
   {
    "duration": 3423541,
    "start_time": "2023-04-04T00:14:29.000Z"
   },
   {
    "duration": 718,
    "start_time": "2023-04-04T01:34:19.549Z"
   },
   {
    "duration": 10,
    "start_time": "2023-04-04T01:34:36.309Z"
   },
   {
    "duration": 51,
    "start_time": "2023-04-04T01:37:28.893Z"
   },
   {
    "duration": 7,
    "start_time": "2023-04-04T01:38:21.333Z"
   },
   {
    "duration": 8,
    "start_time": "2023-04-04T01:38:35.357Z"
   },
   {
    "duration": 14,
    "start_time": "2023-04-04T01:47:42.369Z"
   },
   {
    "duration": 17,
    "start_time": "2023-04-04T01:51:15.937Z"
   },
   {
    "duration": 13,
    "start_time": "2023-04-04T01:51:36.520Z"
   },
   {
    "duration": 30,
    "start_time": "2023-04-04T01:52:24.391Z"
   },
   {
    "duration": 12,
    "start_time": "2023-04-04T01:52:31.631Z"
   },
   {
    "duration": 13,
    "start_time": "2023-04-04T01:53:03.024Z"
   },
   {
    "duration": 13,
    "start_time": "2023-04-04T01:53:15.231Z"
   },
   {
    "duration": 13,
    "start_time": "2023-04-04T01:53:27.264Z"
   },
   {
    "duration": 15,
    "start_time": "2023-04-04T01:53:36.552Z"
   },
   {
    "duration": 13,
    "start_time": "2023-04-04T01:55:39.280Z"
   },
   {
    "duration": 13,
    "start_time": "2023-04-04T01:55:59.848Z"
   },
   {
    "duration": 16,
    "start_time": "2023-04-04T02:07:15.180Z"
   },
   {
    "duration": 14,
    "start_time": "2023-04-04T02:07:31.883Z"
   },
   {
    "duration": 16,
    "start_time": "2023-04-04T02:07:53.500Z"
   },
   {
    "duration": 17,
    "start_time": "2023-04-04T02:13:37.226Z"
   },
   {
    "duration": 29,
    "start_time": "2023-04-04T02:13:49.131Z"
   },
   {
    "duration": 33,
    "start_time": "2023-04-04T02:14:58.698Z"
   },
   {
    "duration": 890,
    "start_time": "2023-04-04T02:17:24.763Z"
   },
   {
    "duration": 30,
    "start_time": "2023-04-04T02:17:46.483Z"
   },
   {
    "duration": 249843,
    "start_time": "2023-04-04T02:17:47.745Z"
   },
   {
    "duration": 10,
    "start_time": "2023-04-04T02:24:49.345Z"
   },
   {
    "duration": 794,
    "start_time": "2023-04-04T02:28:57.199Z"
   },
   {
    "duration": 4,
    "start_time": "2023-04-04T02:29:06.487Z"
   },
   {
    "duration": 6,
    "start_time": "2023-04-04T02:29:27.615Z"
   },
   {
    "duration": 8,
    "start_time": "2023-04-04T02:29:35.601Z"
   },
   {
    "duration": 8,
    "start_time": "2023-04-04T02:29:42.735Z"
   },
   {
    "duration": 6,
    "start_time": "2023-04-04T02:29:50.991Z"
   },
   {
    "duration": 6,
    "start_time": "2023-04-04T02:31:11.695Z"
   },
   {
    "duration": 7,
    "start_time": "2023-04-04T02:31:38.308Z"
   },
   {
    "duration": 7,
    "start_time": "2023-04-04T02:33:47.608Z"
   },
   {
    "duration": 6,
    "start_time": "2023-04-04T02:33:53.598Z"
   },
   {
    "duration": 403,
    "start_time": "2023-04-04T02:34:01.528Z"
   },
   {
    "duration": 869,
    "start_time": "2023-04-04T02:34:01.933Z"
   },
   {
    "duration": 10,
    "start_time": "2023-04-04T02:34:02.807Z"
   },
   {
    "duration": 48,
    "start_time": "2023-04-04T02:34:02.818Z"
   },
   {
    "duration": 138,
    "start_time": "2023-04-04T02:34:02.868Z"
   },
   {
    "duration": 491,
    "start_time": "2023-04-04T02:34:03.008Z"
   },
   {
    "duration": 600,
    "start_time": "2023-04-04T02:34:03.501Z"
   },
   {
    "duration": 39,
    "start_time": "2023-04-04T02:34:04.103Z"
   },
   {
    "duration": 6,
    "start_time": "2023-04-04T02:34:04.145Z"
   },
   {
    "duration": 101,
    "start_time": "2023-04-04T02:34:04.153Z"
   },
   {
    "duration": 82,
    "start_time": "2023-04-04T02:34:04.255Z"
   },
   {
    "duration": 9,
    "start_time": "2023-04-04T02:34:04.339Z"
   },
   {
    "duration": 51,
    "start_time": "2023-04-04T02:34:04.349Z"
   },
   {
    "duration": 21,
    "start_time": "2023-04-04T02:34:04.402Z"
   },
   {
    "duration": 18,
    "start_time": "2023-04-04T02:34:04.425Z"
   },
   {
    "duration": 65,
    "start_time": "2023-04-04T02:34:04.445Z"
   },
   {
    "duration": 49,
    "start_time": "2023-04-04T02:34:04.512Z"
   },
   {
    "duration": 7,
    "start_time": "2023-04-04T02:34:04.563Z"
   },
   {
    "duration": 34,
    "start_time": "2023-04-04T02:34:04.572Z"
   },
   {
    "duration": 56,
    "start_time": "2023-04-04T02:34:04.609Z"
   },
   {
    "duration": 8,
    "start_time": "2023-04-04T02:34:04.667Z"
   },
   {
    "duration": 22,
    "start_time": "2023-04-04T02:34:04.688Z"
   },
   {
    "duration": 8,
    "start_time": "2023-04-04T02:34:04.712Z"
   },
   {
    "duration": 46,
    "start_time": "2023-04-04T02:34:04.722Z"
   },
   {
    "duration": 21,
    "start_time": "2023-04-04T02:34:04.787Z"
   },
   {
    "duration": 20,
    "start_time": "2023-04-04T02:34:04.810Z"
   },
   {
    "duration": 58,
    "start_time": "2023-04-04T02:34:04.834Z"
   },
   {
    "duration": 14,
    "start_time": "2023-04-04T02:34:04.894Z"
   },
   {
    "duration": 43,
    "start_time": "2023-04-04T02:34:04.910Z"
   },
   {
    "duration": 20,
    "start_time": "2023-04-04T02:34:04.955Z"
   },
   {
    "duration": 9,
    "start_time": "2023-04-04T02:34:04.977Z"
   },
   {
    "duration": 10,
    "start_time": "2023-04-04T08:04:49.081Z"
   },
   {
    "duration": 380,
    "start_time": "2023-04-04T08:04:54.076Z"
   },
   {
    "duration": 964,
    "start_time": "2023-04-04T08:04:54.458Z"
   },
   {
    "duration": 8,
    "start_time": "2023-04-04T08:04:55.423Z"
   },
   {
    "duration": 27,
    "start_time": "2023-04-04T08:04:55.432Z"
   },
   {
    "duration": 97,
    "start_time": "2023-04-04T08:04:55.460Z"
   },
   {
    "duration": 393,
    "start_time": "2023-04-04T08:04:55.559Z"
   },
   {
    "duration": 476,
    "start_time": "2023-04-04T08:04:55.954Z"
   },
   {
    "duration": 37,
    "start_time": "2023-04-04T08:04:56.432Z"
   },
   {
    "duration": 5,
    "start_time": "2023-04-04T08:04:56.471Z"
   },
   {
    "duration": 61,
    "start_time": "2023-04-04T08:04:56.479Z"
   },
   {
    "duration": 75,
    "start_time": "2023-04-04T08:04:56.542Z"
   },
   {
    "duration": 9,
    "start_time": "2023-04-04T08:04:56.619Z"
   },
   {
    "duration": 42,
    "start_time": "2023-04-04T08:04:56.629Z"
   },
   {
    "duration": 7,
    "start_time": "2023-04-04T08:04:56.673Z"
   },
   {
    "duration": 9,
    "start_time": "2023-04-04T08:04:56.681Z"
   },
   {
    "duration": 32,
    "start_time": "2023-04-04T08:04:56.692Z"
   },
   {
    "duration": 71,
    "start_time": "2023-04-04T08:04:56.726Z"
   },
   {
    "duration": 7,
    "start_time": "2023-04-04T08:04:56.799Z"
   },
   {
    "duration": 17,
    "start_time": "2023-04-04T08:04:56.807Z"
   },
   {
    "duration": 55,
    "start_time": "2023-04-04T08:04:56.826Z"
   },
   {
    "duration": 7,
    "start_time": "2023-04-04T08:04:56.882Z"
   },
   {
    "duration": 19,
    "start_time": "2023-04-04T08:04:56.890Z"
   },
   {
    "duration": 7,
    "start_time": "2023-04-04T08:04:56.910Z"
   },
   {
    "duration": 61,
    "start_time": "2023-04-04T08:04:56.918Z"
   },
   {
    "duration": 14,
    "start_time": "2023-04-04T08:04:56.980Z"
   },
   {
    "duration": 16,
    "start_time": "2023-04-04T08:04:56.995Z"
   },
   {
    "duration": 40,
    "start_time": "2023-04-04T08:04:57.012Z"
   },
   {
    "duration": 21,
    "start_time": "2023-04-04T08:04:57.055Z"
   },
   {
    "duration": 19,
    "start_time": "2023-04-04T08:04:57.078Z"
   },
   {
    "duration": 3,
    "start_time": "2023-04-04T08:04:57.099Z"
   },
   {
    "duration": 80,
    "start_time": "2023-04-04T08:04:57.103Z"
   },
   {
    "duration": 0,
    "start_time": "2023-04-04T08:04:57.184Z"
   },
   {
    "duration": 0,
    "start_time": "2023-04-04T08:04:57.185Z"
   },
   {
    "duration": 0,
    "start_time": "2023-04-04T08:04:57.186Z"
   },
   {
    "duration": 0,
    "start_time": "2023-04-04T08:04:57.187Z"
   },
   {
    "duration": 0,
    "start_time": "2023-04-04T08:04:57.188Z"
   },
   {
    "duration": 0,
    "start_time": "2023-04-04T08:04:57.189Z"
   },
   {
    "duration": 0,
    "start_time": "2023-04-04T08:04:57.190Z"
   },
   {
    "duration": 0,
    "start_time": "2023-04-04T08:04:57.191Z"
   },
   {
    "duration": 1,
    "start_time": "2023-04-04T08:04:57.191Z"
   },
   {
    "duration": 0,
    "start_time": "2023-04-04T08:04:57.193Z"
   },
   {
    "duration": 0,
    "start_time": "2023-04-04T08:04:57.194Z"
   },
   {
    "duration": 0,
    "start_time": "2023-04-04T08:04:57.195Z"
   },
   {
    "duration": 17,
    "start_time": "2023-04-04T08:07:29.467Z"
   },
   {
    "duration": 5,
    "start_time": "2023-04-04T08:07:33.638Z"
   },
   {
    "duration": 421,
    "start_time": "2023-04-04T08:08:34.640Z"
   },
   {
    "duration": 748,
    "start_time": "2023-04-04T08:08:35.063Z"
   },
   {
    "duration": 8,
    "start_time": "2023-04-04T08:08:35.812Z"
   },
   {
    "duration": 37,
    "start_time": "2023-04-04T08:08:35.822Z"
   },
   {
    "duration": 95,
    "start_time": "2023-04-04T08:08:35.861Z"
   },
   {
    "duration": 390,
    "start_time": "2023-04-04T08:08:35.958Z"
   },
   {
    "duration": 462,
    "start_time": "2023-04-04T08:08:36.349Z"
   },
   {
    "duration": 25,
    "start_time": "2023-04-04T08:08:36.812Z"
   },
   {
    "duration": 9,
    "start_time": "2023-04-04T08:08:36.838Z"
   },
   {
    "duration": 71,
    "start_time": "2023-04-04T08:08:36.850Z"
   },
   {
    "duration": 68,
    "start_time": "2023-04-04T08:08:36.922Z"
   },
   {
    "duration": 7,
    "start_time": "2023-04-04T08:08:36.991Z"
   },
   {
    "duration": 27,
    "start_time": "2023-04-04T08:08:36.999Z"
   },
   {
    "duration": 8,
    "start_time": "2023-04-04T08:08:37.027Z"
   },
   {
    "duration": 8,
    "start_time": "2023-04-04T08:08:37.037Z"
   },
   {
    "duration": 33,
    "start_time": "2023-04-04T08:08:37.068Z"
   },
   {
    "duration": 41,
    "start_time": "2023-04-04T08:08:37.103Z"
   },
   {
    "duration": 7,
    "start_time": "2023-04-04T08:08:37.145Z"
   },
   {
    "duration": 33,
    "start_time": "2023-04-04T08:08:37.153Z"
   },
   {
    "duration": 36,
    "start_time": "2023-04-04T08:08:37.187Z"
   },
   {
    "duration": 7,
    "start_time": "2023-04-04T08:08:37.224Z"
   },
   {
    "duration": 46,
    "start_time": "2023-04-04T08:08:37.232Z"
   },
   {
    "duration": 7,
    "start_time": "2023-04-04T08:08:37.279Z"
   },
   {
    "duration": 47,
    "start_time": "2023-04-04T08:08:37.287Z"
   },
   {
    "duration": 15,
    "start_time": "2023-04-04T08:08:37.336Z"
   },
   {
    "duration": 22,
    "start_time": "2023-04-04T08:08:37.352Z"
   },
   {
    "duration": 41,
    "start_time": "2023-04-04T08:08:37.376Z"
   },
   {
    "duration": 12,
    "start_time": "2023-04-04T08:08:37.420Z"
   },
   {
    "duration": 37,
    "start_time": "2023-04-04T08:08:37.433Z"
   },
   {
    "duration": 18,
    "start_time": "2023-04-04T08:08:37.472Z"
   },
   {
    "duration": 11,
    "start_time": "2023-04-04T08:08:37.492Z"
   },
   {
    "duration": 424,
    "start_time": "2023-04-04T08:08:57.455Z"
   },
   {
    "duration": 782,
    "start_time": "2023-04-04T08:08:57.881Z"
   },
   {
    "duration": 8,
    "start_time": "2023-04-04T08:08:58.665Z"
   },
   {
    "duration": 30,
    "start_time": "2023-04-04T08:08:58.675Z"
   },
   {
    "duration": 127,
    "start_time": "2023-04-04T08:08:58.707Z"
   },
   {
    "duration": 453,
    "start_time": "2023-04-04T08:08:58.835Z"
   },
   {
    "duration": 568,
    "start_time": "2023-04-04T08:08:59.289Z"
   },
   {
    "duration": 39,
    "start_time": "2023-04-04T08:08:59.858Z"
   },
   {
    "duration": 11,
    "start_time": "2023-04-04T08:08:59.899Z"
   },
   {
    "duration": 69,
    "start_time": "2023-04-04T08:08:59.914Z"
   },
   {
    "duration": 66,
    "start_time": "2023-04-04T08:08:59.984Z"
   },
   {
    "duration": 20,
    "start_time": "2023-04-04T08:09:00.052Z"
   },
   {
    "duration": 45,
    "start_time": "2023-04-04T08:09:00.074Z"
   },
   {
    "duration": 47,
    "start_time": "2023-04-04T08:09:00.121Z"
   },
   {
    "duration": 48,
    "start_time": "2023-04-04T08:09:00.170Z"
   },
   {
    "duration": 103,
    "start_time": "2023-04-04T08:09:00.220Z"
   },
   {
    "duration": 45,
    "start_time": "2023-04-04T08:09:00.325Z"
   },
   {
    "duration": 8,
    "start_time": "2023-04-04T08:09:00.371Z"
   },
   {
    "duration": 48,
    "start_time": "2023-04-04T08:09:00.381Z"
   },
   {
    "duration": 67,
    "start_time": "2023-04-04T08:09:00.430Z"
   },
   {
    "duration": 7,
    "start_time": "2023-04-04T08:09:00.499Z"
   },
   {
    "duration": 69,
    "start_time": "2023-04-04T08:09:00.507Z"
   },
   {
    "duration": 53,
    "start_time": "2023-04-04T08:09:00.577Z"
   },
   {
    "duration": 71,
    "start_time": "2023-04-04T08:09:00.632Z"
   },
   {
    "duration": 18,
    "start_time": "2023-04-04T08:09:00.705Z"
   },
   {
    "duration": 68,
    "start_time": "2023-04-04T08:09:00.724Z"
   },
   {
    "duration": 79,
    "start_time": "2023-04-04T08:09:00.794Z"
   },
   {
    "duration": 22,
    "start_time": "2023-04-04T08:09:00.876Z"
   },
   {
    "duration": 45,
    "start_time": "2023-04-04T08:09:00.899Z"
   },
   {
    "duration": 26,
    "start_time": "2023-04-04T08:09:00.946Z"
   },
   {
    "duration": 22,
    "start_time": "2023-04-04T08:09:00.973Z"
   },
   {
    "duration": 447,
    "start_time": "2023-04-04T08:31:11.558Z"
   },
   {
    "duration": 956,
    "start_time": "2023-04-04T08:31:12.008Z"
   },
   {
    "duration": 10,
    "start_time": "2023-04-04T08:31:12.966Z"
   },
   {
    "duration": 46,
    "start_time": "2023-04-04T08:31:12.978Z"
   },
   {
    "duration": 128,
    "start_time": "2023-04-04T08:31:13.026Z"
   },
   {
    "duration": 482,
    "start_time": "2023-04-04T08:31:13.155Z"
   },
   {
    "duration": 634,
    "start_time": "2023-04-04T08:31:13.639Z"
   },
   {
    "duration": 37,
    "start_time": "2023-04-04T08:31:14.274Z"
   },
   {
    "duration": 4,
    "start_time": "2023-04-04T08:31:14.313Z"
   },
   {
    "duration": 98,
    "start_time": "2023-04-04T08:31:14.321Z"
   },
   {
    "duration": 78,
    "start_time": "2023-04-04T08:31:14.421Z"
   },
   {
    "duration": 10,
    "start_time": "2023-04-04T08:31:14.500Z"
   },
   {
    "duration": 29,
    "start_time": "2023-04-04T08:31:14.511Z"
   },
   {
    "duration": 27,
    "start_time": "2023-04-04T08:31:14.542Z"
   },
   {
    "duration": 12,
    "start_time": "2023-04-04T08:31:14.571Z"
   },
   {
    "duration": 41,
    "start_time": "2023-04-04T08:31:14.585Z"
   },
   {
    "duration": 74,
    "start_time": "2023-04-04T08:31:14.628Z"
   },
   {
    "duration": 9,
    "start_time": "2023-04-04T08:31:14.704Z"
   },
   {
    "duration": 26,
    "start_time": "2023-04-04T08:31:14.715Z"
   },
   {
    "duration": 75,
    "start_time": "2023-04-04T08:31:14.743Z"
   },
   {
    "duration": 10,
    "start_time": "2023-04-04T08:31:14.820Z"
   },
   {
    "duration": 36,
    "start_time": "2023-04-04T08:31:14.833Z"
   },
   {
    "duration": 7,
    "start_time": "2023-04-04T08:31:14.872Z"
   },
   {
    "duration": 47,
    "start_time": "2023-04-04T08:31:14.881Z"
   },
   {
    "duration": 38,
    "start_time": "2023-04-04T08:31:14.930Z"
   },
   {
    "duration": 8,
    "start_time": "2023-04-04T08:31:14.970Z"
   },
   {
    "duration": 43,
    "start_time": "2023-04-04T08:31:14.980Z"
   },
   {
    "duration": 13,
    "start_time": "2023-04-04T08:31:15.026Z"
   },
   {
    "duration": 57,
    "start_time": "2023-04-04T08:31:15.041Z"
   },
   {
    "duration": 18,
    "start_time": "2023-04-04T08:31:15.100Z"
   },
   {
    "duration": 6,
    "start_time": "2023-04-04T08:31:15.120Z"
   },
   {
    "duration": 17,
    "start_time": "2023-04-04T08:31:15.128Z"
   },
   {
    "duration": 54,
    "start_time": "2023-04-04T08:31:15.168Z"
   },
   {
    "duration": 12,
    "start_time": "2023-04-04T08:31:15.224Z"
   },
   {
    "duration": 46,
    "start_time": "2023-04-04T08:31:15.238Z"
   },
   {
    "duration": 165568,
    "start_time": "2023-04-04T08:31:15.286Z"
   },
   {
    "duration": 16,
    "start_time": "2023-04-04T08:34:00.855Z"
   },
   {
    "duration": 61,
    "start_time": "2023-04-04T08:34:00.873Z"
   },
   {
    "duration": 7,
    "start_time": "2023-04-04T08:34:00.937Z"
   },
   {
    "duration": 31,
    "start_time": "2023-04-04T08:34:00.946Z"
   },
   {
    "duration": 21,
    "start_time": "2023-04-04T08:34:00.979Z"
   },
   {
    "duration": 35,
    "start_time": "2023-04-04T08:34:01.002Z"
   },
   {
    "duration": 9,
    "start_time": "2023-04-04T08:41:33.501Z"
   },
   {
    "duration": 5,
    "start_time": "2023-04-04T08:41:38.853Z"
   },
   {
    "duration": 6,
    "start_time": "2023-04-04T08:41:41.039Z"
   },
   {
    "duration": 376,
    "start_time": "2023-04-04T08:41:53.674Z"
   },
   {
    "duration": 738,
    "start_time": "2023-04-04T08:41:54.052Z"
   },
   {
    "duration": 8,
    "start_time": "2023-04-04T08:41:54.791Z"
   },
   {
    "duration": 22,
    "start_time": "2023-04-04T08:41:54.800Z"
   },
   {
    "duration": 129,
    "start_time": "2023-04-04T08:41:54.823Z"
   },
   {
    "duration": 412,
    "start_time": "2023-04-04T08:41:54.953Z"
   },
   {
    "duration": 511,
    "start_time": "2023-04-04T08:41:55.368Z"
   },
   {
    "duration": 33,
    "start_time": "2023-04-04T08:41:55.881Z"
   },
   {
    "duration": 9,
    "start_time": "2023-04-04T08:41:55.916Z"
   },
   {
    "duration": 72,
    "start_time": "2023-04-04T08:41:55.928Z"
   },
   {
    "duration": 76,
    "start_time": "2023-04-04T08:41:56.002Z"
   },
   {
    "duration": 10,
    "start_time": "2023-04-04T08:41:56.079Z"
   },
   {
    "duration": 39,
    "start_time": "2023-04-04T08:41:56.090Z"
   },
   {
    "duration": 7,
    "start_time": "2023-04-04T08:41:56.131Z"
   },
   {
    "duration": 34,
    "start_time": "2023-04-04T08:41:56.139Z"
   },
   {
    "duration": 39,
    "start_time": "2023-04-04T08:41:56.174Z"
   },
   {
    "duration": 42,
    "start_time": "2023-04-04T08:41:56.215Z"
   },
   {
    "duration": 8,
    "start_time": "2023-04-04T08:41:56.269Z"
   },
   {
    "duration": 20,
    "start_time": "2023-04-04T08:41:56.278Z"
   },
   {
    "duration": 37,
    "start_time": "2023-04-04T08:41:56.300Z"
   },
   {
    "duration": 7,
    "start_time": "2023-04-04T08:41:56.339Z"
   },
   {
    "duration": 20,
    "start_time": "2023-04-04T08:41:56.368Z"
   },
   {
    "duration": 7,
    "start_time": "2023-04-04T08:41:56.390Z"
   },
   {
    "duration": 37,
    "start_time": "2023-04-04T08:41:56.398Z"
   },
   {
    "duration": 38,
    "start_time": "2023-04-04T08:41:56.437Z"
   },
   {
    "duration": 10,
    "start_time": "2023-04-04T08:41:56.477Z"
   },
   {
    "duration": 41,
    "start_time": "2023-04-04T08:41:56.488Z"
   },
   {
    "duration": 36,
    "start_time": "2023-04-04T08:41:56.532Z"
   },
   {
    "duration": 22,
    "start_time": "2023-04-04T08:41:56.570Z"
   },
   {
    "duration": 16,
    "start_time": "2023-04-04T08:41:56.594Z"
   },
   {
    "duration": 5,
    "start_time": "2023-04-04T08:41:56.612Z"
   },
   {
    "duration": 431,
    "start_time": "2023-04-04T09:03:52.198Z"
   },
   {
    "duration": 689,
    "start_time": "2023-04-04T09:03:52.631Z"
   },
   {
    "duration": 8,
    "start_time": "2023-04-04T09:03:53.321Z"
   },
   {
    "duration": 22,
    "start_time": "2023-04-04T09:03:53.330Z"
   },
   {
    "duration": 117,
    "start_time": "2023-04-04T09:03:53.354Z"
   },
   {
    "duration": 415,
    "start_time": "2023-04-04T09:03:53.473Z"
   },
   {
    "duration": 517,
    "start_time": "2023-04-04T09:03:53.890Z"
   },
   {
    "duration": 33,
    "start_time": "2023-04-04T09:03:54.408Z"
   },
   {
    "duration": 14,
    "start_time": "2023-04-04T09:03:54.443Z"
   },
   {
    "duration": 63,
    "start_time": "2023-04-04T09:03:54.458Z"
   },
   {
    "duration": 66,
    "start_time": "2023-04-04T09:03:54.523Z"
   },
   {
    "duration": 9,
    "start_time": "2023-04-04T09:03:54.590Z"
   },
   {
    "duration": 27,
    "start_time": "2023-04-04T09:03:54.600Z"
   },
   {
    "duration": 7,
    "start_time": "2023-04-04T09:03:54.630Z"
   },
   {
    "duration": 34,
    "start_time": "2023-04-04T09:03:54.638Z"
   },
   {
    "duration": 32,
    "start_time": "2023-04-04T09:03:54.674Z"
   },
   {
    "duration": 41,
    "start_time": "2023-04-04T09:03:54.708Z"
   },
   {
    "duration": 21,
    "start_time": "2023-04-04T09:03:54.751Z"
   },
   {
    "duration": 28,
    "start_time": "2023-04-04T09:03:54.774Z"
   },
   {
    "duration": 36,
    "start_time": "2023-04-04T09:03:54.804Z"
   },
   {
    "duration": 7,
    "start_time": "2023-04-04T09:03:54.841Z"
   },
   {
    "duration": 34,
    "start_time": "2023-04-04T09:03:54.849Z"
   },
   {
    "duration": 7,
    "start_time": "2023-04-04T09:03:54.885Z"
   },
   {
    "duration": 39,
    "start_time": "2023-04-04T09:03:54.893Z"
   },
   {
    "duration": 15,
    "start_time": "2023-04-04T09:03:54.933Z"
   },
   {
    "duration": 7,
    "start_time": "2023-04-04T09:03:54.969Z"
   },
   {
    "duration": 37,
    "start_time": "2023-04-04T09:03:54.977Z"
   },
   {
    "duration": 12,
    "start_time": "2023-04-04T09:03:55.016Z"
   },
   {
    "duration": 44,
    "start_time": "2023-04-04T09:03:55.030Z"
   },
   {
    "duration": 72,
    "start_time": "2023-04-04T09:03:55.076Z"
   },
   {
    "duration": 0,
    "start_time": "2023-04-04T09:03:55.149Z"
   },
   {
    "duration": 0,
    "start_time": "2023-04-04T09:03:55.151Z"
   },
   {
    "duration": 0,
    "start_time": "2023-04-04T09:03:55.152Z"
   },
   {
    "duration": 0,
    "start_time": "2023-04-04T09:03:55.153Z"
   },
   {
    "duration": 0,
    "start_time": "2023-04-04T09:03:55.153Z"
   },
   {
    "duration": 0,
    "start_time": "2023-04-04T09:03:55.155Z"
   },
   {
    "duration": 0,
    "start_time": "2023-04-04T09:03:55.156Z"
   },
   {
    "duration": 0,
    "start_time": "2023-04-04T09:03:55.157Z"
   },
   {
    "duration": 0,
    "start_time": "2023-04-04T09:03:55.159Z"
   },
   {
    "duration": 0,
    "start_time": "2023-04-04T09:03:55.160Z"
   },
   {
    "duration": 0,
    "start_time": "2023-04-04T09:03:55.161Z"
   },
   {
    "duration": 0,
    "start_time": "2023-04-04T09:03:55.162Z"
   },
   {
    "duration": 1,
    "start_time": "2023-04-04T09:03:55.163Z"
   },
   {
    "duration": 17,
    "start_time": "2023-04-04T09:05:49.192Z"
   },
   {
    "duration": 5,
    "start_time": "2023-04-04T09:05:52.753Z"
   },
   {
    "duration": 164,
    "start_time": "2023-04-04T09:05:53.440Z"
   },
   {
    "duration": 160,
    "start_time": "2023-04-04T09:07:49.031Z"
   },
   {
    "duration": 23,
    "start_time": "2023-04-04T09:10:10.264Z"
   },
   {
    "duration": 5,
    "start_time": "2023-04-04T09:10:11.225Z"
   },
   {
    "duration": 15,
    "start_time": "2023-04-04T09:41:01.678Z"
   },
   {
    "duration": 387,
    "start_time": "2023-04-04T09:41:06.152Z"
   },
   {
    "duration": 722,
    "start_time": "2023-04-04T09:41:06.540Z"
   },
   {
    "duration": 16,
    "start_time": "2023-04-04T09:41:07.264Z"
   },
   {
    "duration": 27,
    "start_time": "2023-04-04T09:41:07.282Z"
   },
   {
    "duration": 123,
    "start_time": "2023-04-04T09:41:07.311Z"
   },
   {
    "duration": 412,
    "start_time": "2023-04-04T09:41:07.436Z"
   },
   {
    "duration": 494,
    "start_time": "2023-04-04T09:41:07.849Z"
   },
   {
    "duration": 42,
    "start_time": "2023-04-04T09:41:08.344Z"
   },
   {
    "duration": 6,
    "start_time": "2023-04-04T09:41:08.388Z"
   },
   {
    "duration": 73,
    "start_time": "2023-04-04T09:41:08.398Z"
   },
   {
    "duration": 67,
    "start_time": "2023-04-04T09:41:08.479Z"
   },
   {
    "duration": 8,
    "start_time": "2023-04-04T09:41:08.548Z"
   },
   {
    "duration": 47,
    "start_time": "2023-04-04T09:41:08.557Z"
   },
   {
    "duration": 7,
    "start_time": "2023-04-04T09:41:08.606Z"
   },
   {
    "duration": 25,
    "start_time": "2023-04-04T09:41:08.614Z"
   },
   {
    "duration": 50,
    "start_time": "2023-04-04T09:41:08.640Z"
   },
   {
    "duration": 56,
    "start_time": "2023-04-04T09:41:08.692Z"
   },
   {
    "duration": 23,
    "start_time": "2023-04-04T09:41:08.750Z"
   },
   {
    "duration": 32,
    "start_time": "2023-04-04T09:41:08.774Z"
   },
   {
    "duration": 47,
    "start_time": "2023-04-04T09:41:08.808Z"
   },
   {
    "duration": 20,
    "start_time": "2023-04-04T09:41:08.857Z"
   },
   {
    "duration": 27,
    "start_time": "2023-04-04T09:41:08.878Z"
   },
   {
    "duration": 17,
    "start_time": "2023-04-04T09:41:08.907Z"
   },
   {
    "duration": 67,
    "start_time": "2023-04-04T09:41:08.926Z"
   },
   {
    "duration": 22,
    "start_time": "2023-04-04T09:41:08.995Z"
   },
   {
    "duration": 9,
    "start_time": "2023-04-04T09:41:09.019Z"
   },
   {
    "duration": 59,
    "start_time": "2023-04-04T09:41:09.030Z"
   },
   {
    "duration": 13,
    "start_time": "2023-04-04T09:41:09.095Z"
   },
   {
    "duration": 27,
    "start_time": "2023-04-04T09:41:09.110Z"
   },
   {
    "duration": 47,
    "start_time": "2023-04-04T09:41:09.140Z"
   },
   {
    "duration": 5,
    "start_time": "2023-04-04T09:41:09.189Z"
   },
   {
    "duration": 60,
    "start_time": "2023-04-04T09:41:09.195Z"
   },
   {
    "duration": 0,
    "start_time": "2023-04-04T09:41:09.256Z"
   },
   {
    "duration": 0,
    "start_time": "2023-04-04T09:41:09.258Z"
   },
   {
    "duration": 0,
    "start_time": "2023-04-04T09:41:09.259Z"
   },
   {
    "duration": 0,
    "start_time": "2023-04-04T09:41:09.260Z"
   },
   {
    "duration": 0,
    "start_time": "2023-04-04T09:41:09.261Z"
   },
   {
    "duration": 0,
    "start_time": "2023-04-04T09:41:09.269Z"
   },
   {
    "duration": 0,
    "start_time": "2023-04-04T09:41:09.278Z"
   },
   {
    "duration": 0,
    "start_time": "2023-04-04T09:41:09.279Z"
   },
   {
    "duration": 0,
    "start_time": "2023-04-04T09:41:09.279Z"
   },
   {
    "duration": 1,
    "start_time": "2023-04-04T09:41:09.283Z"
   },
   {
    "duration": 0,
    "start_time": "2023-04-04T09:41:09.284Z"
   },
   {
    "duration": 18,
    "start_time": "2023-04-04T09:42:17.602Z"
   },
   {
    "duration": 5,
    "start_time": "2023-04-04T09:42:18.665Z"
   },
   {
    "duration": 11,
    "start_time": "2023-04-04T09:42:19.409Z"
   },
   {
    "duration": 12,
    "start_time": "2023-04-04T09:42:47.279Z"
   },
   {
    "duration": 17,
    "start_time": "2023-04-04T09:43:14.921Z"
   },
   {
    "duration": 5,
    "start_time": "2023-04-04T09:43:16.216Z"
   },
   {
    "duration": 383,
    "start_time": "2023-04-04T09:44:03.102Z"
   },
   {
    "duration": 740,
    "start_time": "2023-04-04T09:44:03.487Z"
   },
   {
    "duration": 8,
    "start_time": "2023-04-04T09:44:04.228Z"
   },
   {
    "duration": 42,
    "start_time": "2023-04-04T09:44:04.238Z"
   },
   {
    "duration": 157,
    "start_time": "2023-04-04T09:44:04.283Z"
   },
   {
    "duration": 446,
    "start_time": "2023-04-04T09:44:04.442Z"
   },
   {
    "duration": 531,
    "start_time": "2023-04-04T09:44:04.890Z"
   },
   {
    "duration": 30,
    "start_time": "2023-04-04T09:44:05.423Z"
   },
   {
    "duration": 19,
    "start_time": "2023-04-04T09:44:05.456Z"
   },
   {
    "duration": 69,
    "start_time": "2023-04-04T09:44:05.484Z"
   },
   {
    "duration": 78,
    "start_time": "2023-04-04T09:44:05.554Z"
   },
   {
    "duration": 8,
    "start_time": "2023-04-04T09:44:05.634Z"
   },
   {
    "duration": 58,
    "start_time": "2023-04-04T09:44:05.644Z"
   },
   {
    "duration": 9,
    "start_time": "2023-04-04T09:44:05.706Z"
   },
   {
    "duration": 12,
    "start_time": "2023-04-04T09:44:05.716Z"
   },
   {
    "duration": 61,
    "start_time": "2023-04-04T09:44:05.730Z"
   },
   {
    "duration": 65,
    "start_time": "2023-04-04T09:44:05.794Z"
   },
   {
    "duration": 23,
    "start_time": "2023-04-04T09:44:05.861Z"
   },
   {
    "duration": 34,
    "start_time": "2023-04-04T09:44:05.886Z"
   },
   {
    "duration": 42,
    "start_time": "2023-04-04T09:44:05.921Z"
   },
   {
    "duration": 10,
    "start_time": "2023-04-04T09:44:05.965Z"
   },
   {
    "duration": 33,
    "start_time": "2023-04-04T09:44:05.977Z"
   },
   {
    "duration": 10,
    "start_time": "2023-04-04T09:44:06.012Z"
   },
   {
    "duration": 75,
    "start_time": "2023-04-04T09:44:06.023Z"
   },
   {
    "duration": 24,
    "start_time": "2023-04-04T09:44:06.100Z"
   },
   {
    "duration": 9,
    "start_time": "2023-04-04T09:44:06.126Z"
   },
   {
    "duration": 83,
    "start_time": "2023-04-04T09:44:06.137Z"
   },
   {
    "duration": 16,
    "start_time": "2023-04-04T09:44:06.222Z"
   },
   {
    "duration": 45,
    "start_time": "2023-04-04T09:44:06.240Z"
   },
   {
    "duration": 19,
    "start_time": "2023-04-04T09:44:06.292Z"
   },
   {
    "duration": 7,
    "start_time": "2023-04-04T09:44:06.313Z"
   },
   {
    "duration": 335,
    "start_time": "2023-04-04T10:19:01.811Z"
   },
   {
    "duration": 718,
    "start_time": "2023-04-04T10:19:02.149Z"
   },
   {
    "duration": 11,
    "start_time": "2023-04-04T10:19:02.869Z"
   },
   {
    "duration": 27,
    "start_time": "2023-04-04T10:19:02.884Z"
   },
   {
    "duration": 146,
    "start_time": "2023-04-04T10:19:02.913Z"
   },
   {
    "duration": 434,
    "start_time": "2023-04-04T10:19:03.061Z"
   },
   {
    "duration": 499,
    "start_time": "2023-04-04T10:19:03.496Z"
   },
   {
    "duration": 31,
    "start_time": "2023-04-04T10:19:03.997Z"
   },
   {
    "duration": 5,
    "start_time": "2023-04-04T10:19:04.030Z"
   },
   {
    "duration": 82,
    "start_time": "2023-04-04T10:19:04.038Z"
   },
   {
    "duration": 71,
    "start_time": "2023-04-04T10:19:04.121Z"
   },
   {
    "duration": 8,
    "start_time": "2023-04-04T10:19:04.193Z"
   },
   {
    "duration": 30,
    "start_time": "2023-04-04T10:19:04.202Z"
   },
   {
    "duration": 10,
    "start_time": "2023-04-04T10:19:04.234Z"
   },
   {
    "duration": 32,
    "start_time": "2023-04-04T10:19:04.246Z"
   },
   {
    "duration": 34,
    "start_time": "2023-04-04T10:19:04.279Z"
   },
   {
    "duration": 42,
    "start_time": "2023-04-04T10:19:04.314Z"
   },
   {
    "duration": 19,
    "start_time": "2023-04-04T10:19:04.358Z"
   },
   {
    "duration": 23,
    "start_time": "2023-04-04T10:19:04.378Z"
   },
   {
    "duration": 44,
    "start_time": "2023-04-04T10:19:04.403Z"
   },
   {
    "duration": 6,
    "start_time": "2023-04-04T10:19:04.448Z"
   },
   {
    "duration": 30,
    "start_time": "2023-04-04T10:19:04.456Z"
   },
   {
    "duration": 7,
    "start_time": "2023-04-04T10:19:04.487Z"
   },
   {
    "duration": 35,
    "start_time": "2023-04-04T10:19:04.495Z"
   },
   {
    "duration": 15,
    "start_time": "2023-04-04T10:19:04.531Z"
   },
   {
    "duration": 33,
    "start_time": "2023-04-04T10:19:04.547Z"
   },
   {
    "duration": 36,
    "start_time": "2023-04-04T10:19:04.582Z"
   },
   {
    "duration": 11,
    "start_time": "2023-04-04T10:19:04.621Z"
   },
   {
    "duration": 19,
    "start_time": "2023-04-04T10:19:04.634Z"
   },
   {
    "duration": 32,
    "start_time": "2023-04-04T10:19:04.655Z"
   },
   {
    "duration": 5,
    "start_time": "2023-04-04T10:19:04.688Z"
   },
   {
    "duration": 14,
    "start_time": "2023-04-04T10:19:04.694Z"
   },
   {
    "duration": 323312,
    "start_time": "2023-04-04T10:19:04.709Z"
   },
   {
    "duration": 7,
    "start_time": "2023-04-04T10:24:28.023Z"
   },
   {
    "duration": 51,
    "start_time": "2023-04-04T10:24:28.032Z"
   },
   {
    "duration": 12,
    "start_time": "2023-04-04T10:24:28.084Z"
   },
   {
    "duration": 21,
    "start_time": "2023-04-04T10:24:28.097Z"
   },
   {
    "duration": 211087,
    "start_time": "2023-04-04T10:24:28.119Z"
   },
   {
    "duration": 8,
    "start_time": "2023-04-04T10:27:59.207Z"
   },
   {
    "duration": 60,
    "start_time": "2023-04-04T10:27:59.217Z"
   },
   {
    "duration": 7,
    "start_time": "2023-04-04T10:27:59.279Z"
   },
   {
    "duration": 30,
    "start_time": "2023-04-04T10:27:59.288Z"
   },
   {
    "duration": 3,
    "start_time": "2023-04-04T10:27:59.319Z"
   },
   {
    "duration": 5,
    "start_time": "2023-04-04T10:27:59.323Z"
   },
   {
    "duration": 1264,
    "start_time": "2023-04-04T12:11:07.621Z"
   },
   {
    "duration": 25,
    "start_time": "2023-04-04T12:11:16.922Z"
   },
   {
    "duration": 121,
    "start_time": "2023-04-04T12:20:04.140Z"
   },
   {
    "duration": 4,
    "start_time": "2023-04-04T12:23:41.266Z"
   },
   {
    "duration": 52,
    "start_time": "2023-04-05T06:30:01.259Z"
   },
   {
    "duration": 415,
    "start_time": "2023-04-05T06:30:23.158Z"
   },
   {
    "duration": 2,
    "start_time": "2023-04-05T06:30:23.575Z"
   },
   {
    "duration": 82,
    "start_time": "2023-04-05T06:30:23.579Z"
   },
   {
    "duration": 0,
    "start_time": "2023-04-05T06:30:23.665Z"
   },
   {
    "duration": 0,
    "start_time": "2023-04-05T06:30:23.666Z"
   },
   {
    "duration": 0,
    "start_time": "2023-04-05T06:30:23.668Z"
   },
   {
    "duration": 0,
    "start_time": "2023-04-05T06:30:23.669Z"
   },
   {
    "duration": 0,
    "start_time": "2023-04-05T06:30:23.670Z"
   },
   {
    "duration": 0,
    "start_time": "2023-04-05T06:30:23.671Z"
   },
   {
    "duration": 0,
    "start_time": "2023-04-05T06:30:23.672Z"
   },
   {
    "duration": 0,
    "start_time": "2023-04-05T06:30:23.673Z"
   },
   {
    "duration": 0,
    "start_time": "2023-04-05T06:30:23.674Z"
   },
   {
    "duration": 0,
    "start_time": "2023-04-05T06:30:23.675Z"
   },
   {
    "duration": 0,
    "start_time": "2023-04-05T06:30:23.676Z"
   },
   {
    "duration": 0,
    "start_time": "2023-04-05T06:30:23.677Z"
   },
   {
    "duration": 0,
    "start_time": "2023-04-05T06:30:23.678Z"
   },
   {
    "duration": 0,
    "start_time": "2023-04-05T06:30:23.679Z"
   },
   {
    "duration": 0,
    "start_time": "2023-04-05T06:30:23.680Z"
   },
   {
    "duration": 0,
    "start_time": "2023-04-05T06:30:23.681Z"
   },
   {
    "duration": 0,
    "start_time": "2023-04-05T06:30:23.682Z"
   },
   {
    "duration": 0,
    "start_time": "2023-04-05T06:30:23.683Z"
   },
   {
    "duration": 0,
    "start_time": "2023-04-05T06:30:23.684Z"
   },
   {
    "duration": 0,
    "start_time": "2023-04-05T06:30:23.686Z"
   },
   {
    "duration": 0,
    "start_time": "2023-04-05T06:30:23.687Z"
   },
   {
    "duration": 0,
    "start_time": "2023-04-05T06:30:23.688Z"
   },
   {
    "duration": 0,
    "start_time": "2023-04-05T06:30:23.689Z"
   },
   {
    "duration": 0,
    "start_time": "2023-04-05T06:30:23.691Z"
   },
   {
    "duration": 0,
    "start_time": "2023-04-05T06:30:23.692Z"
   },
   {
    "duration": 0,
    "start_time": "2023-04-05T06:30:23.693Z"
   },
   {
    "duration": 0,
    "start_time": "2023-04-05T06:30:23.694Z"
   },
   {
    "duration": 0,
    "start_time": "2023-04-05T06:30:23.696Z"
   },
   {
    "duration": 0,
    "start_time": "2023-04-05T06:30:23.697Z"
   },
   {
    "duration": 0,
    "start_time": "2023-04-05T06:30:23.698Z"
   },
   {
    "duration": 0,
    "start_time": "2023-04-05T06:30:23.699Z"
   },
   {
    "duration": 0,
    "start_time": "2023-04-05T06:30:23.701Z"
   },
   {
    "duration": 0,
    "start_time": "2023-04-05T06:30:23.702Z"
   },
   {
    "duration": 0,
    "start_time": "2023-04-05T06:30:23.703Z"
   },
   {
    "duration": 0,
    "start_time": "2023-04-05T06:30:23.743Z"
   },
   {
    "duration": 0,
    "start_time": "2023-04-05T06:30:23.743Z"
   },
   {
    "duration": 0,
    "start_time": "2023-04-05T06:30:23.744Z"
   },
   {
    "duration": 0,
    "start_time": "2023-04-05T06:30:23.744Z"
   },
   {
    "duration": 0,
    "start_time": "2023-04-05T06:30:23.745Z"
   },
   {
    "duration": 0,
    "start_time": "2023-04-05T06:30:23.745Z"
   },
   {
    "duration": 0,
    "start_time": "2023-04-05T06:30:23.746Z"
   },
   {
    "duration": 0,
    "start_time": "2023-04-05T06:30:23.746Z"
   },
   {
    "duration": 0,
    "start_time": "2023-04-05T06:30:23.747Z"
   },
   {
    "duration": 0,
    "start_time": "2023-04-05T06:30:23.747Z"
   },
   {
    "duration": 0,
    "start_time": "2023-04-05T06:30:23.748Z"
   },
   {
    "duration": 0,
    "start_time": "2023-04-05T06:30:23.748Z"
   },
   {
    "duration": 0,
    "start_time": "2023-04-05T06:30:23.749Z"
   },
   {
    "duration": 0,
    "start_time": "2023-04-05T06:30:23.749Z"
   },
   {
    "duration": 0,
    "start_time": "2023-04-05T06:30:23.750Z"
   },
   {
    "duration": 396,
    "start_time": "2023-04-05T06:31:07.395Z"
   },
   {
    "duration": 2,
    "start_time": "2023-04-05T06:31:07.793Z"
   },
   {
    "duration": 3,
    "start_time": "2023-04-05T06:31:07.797Z"
   },
   {
    "duration": 3,
    "start_time": "2023-04-05T06:31:07.803Z"
   },
   {
    "duration": 5,
    "start_time": "2023-04-05T06:31:07.808Z"
   },
   {
    "duration": 1153,
    "start_time": "2023-04-05T06:31:07.814Z"
   },
   {
    "duration": 8,
    "start_time": "2023-04-05T06:31:08.968Z"
   },
   {
    "duration": 39,
    "start_time": "2023-04-05T06:31:08.978Z"
   },
   {
    "duration": 150,
    "start_time": "2023-04-05T06:31:09.019Z"
   },
   {
    "duration": 438,
    "start_time": "2023-04-05T06:31:09.172Z"
   },
   {
    "duration": 550,
    "start_time": "2023-04-05T06:31:09.612Z"
   },
   {
    "duration": 41,
    "start_time": "2023-04-05T06:31:10.164Z"
   },
   {
    "duration": 29,
    "start_time": "2023-04-05T06:31:10.207Z"
   },
   {
    "duration": 87,
    "start_time": "2023-04-05T06:31:10.238Z"
   },
   {
    "duration": 78,
    "start_time": "2023-04-05T06:31:10.327Z"
   },
   {
    "duration": 11,
    "start_time": "2023-04-05T06:31:10.407Z"
   },
   {
    "duration": 65,
    "start_time": "2023-04-05T06:31:10.420Z"
   },
   {
    "duration": 8,
    "start_time": "2023-04-05T06:31:10.487Z"
   },
   {
    "duration": 9,
    "start_time": "2023-04-05T06:31:10.497Z"
   },
   {
    "duration": 68,
    "start_time": "2023-04-05T06:31:10.508Z"
   },
   {
    "duration": 51,
    "start_time": "2023-04-05T06:31:10.578Z"
   },
   {
    "duration": 27,
    "start_time": "2023-04-05T06:31:10.631Z"
   },
   {
    "duration": 21,
    "start_time": "2023-04-05T06:31:10.659Z"
   },
   {
    "duration": 35,
    "start_time": "2023-04-05T06:31:10.682Z"
   },
   {
    "duration": 38,
    "start_time": "2023-04-05T06:31:10.719Z"
   },
   {
    "duration": 20,
    "start_time": "2023-04-05T06:31:10.759Z"
   },
   {
    "duration": 7,
    "start_time": "2023-04-05T06:31:10.781Z"
   },
   {
    "duration": 44,
    "start_time": "2023-04-05T06:31:10.791Z"
   },
   {
    "duration": 35,
    "start_time": "2023-04-05T06:31:10.836Z"
   },
   {
    "duration": 10,
    "start_time": "2023-04-05T06:31:10.872Z"
   },
   {
    "duration": 35,
    "start_time": "2023-04-05T06:31:10.884Z"
   },
   {
    "duration": 32,
    "start_time": "2023-04-05T06:31:10.921Z"
   },
   {
    "duration": 22,
    "start_time": "2023-04-05T06:31:10.955Z"
   },
   {
    "duration": 19,
    "start_time": "2023-04-05T06:31:10.979Z"
   },
   {
    "duration": 4,
    "start_time": "2023-04-05T06:31:11.000Z"
   },
   {
    "duration": 39,
    "start_time": "2023-04-05T06:31:11.006Z"
   },
   {
    "duration": 386163,
    "start_time": "2023-04-05T06:31:11.046Z"
   },
   {
    "duration": 7,
    "start_time": "2023-04-05T06:37:37.210Z"
   },
   {
    "duration": 59,
    "start_time": "2023-04-05T06:37:37.219Z"
   },
   {
    "duration": 11,
    "start_time": "2023-04-05T06:37:37.280Z"
   },
   {
    "duration": 23,
    "start_time": "2023-04-05T06:37:37.293Z"
   },
   {
    "duration": 253113,
    "start_time": "2023-04-05T06:37:37.318Z"
   },
   {
    "duration": 33,
    "start_time": "2023-04-05T06:41:50.432Z"
   },
   {
    "duration": 36,
    "start_time": "2023-04-05T06:41:50.468Z"
   },
   {
    "duration": 7,
    "start_time": "2023-04-05T06:41:50.506Z"
   },
   {
    "duration": 33,
    "start_time": "2023-04-05T06:41:50.522Z"
   },
   {
    "duration": 120,
    "start_time": "2023-04-05T06:41:50.564Z"
   },
   {
    "duration": 0,
    "start_time": "2023-04-05T06:41:50.686Z"
   },
   {
    "duration": 0,
    "start_time": "2023-04-05T06:41:50.687Z"
   },
   {
    "duration": 0,
    "start_time": "2023-04-05T06:41:50.688Z"
   },
   {
    "duration": 0,
    "start_time": "2023-04-05T06:41:50.690Z"
   },
   {
    "duration": 0,
    "start_time": "2023-04-05T06:41:50.691Z"
   },
   {
    "duration": 58,
    "start_time": "2023-04-05T08:36:52.396Z"
   },
   {
    "duration": 250,
    "start_time": "2023-04-05T08:36:53.717Z"
   },
   {
    "duration": 5,
    "start_time": "2023-04-05T08:36:57.860Z"
   },
   {
    "duration": 48,
    "start_time": "2023-04-05T08:37:00.507Z"
   },
   {
    "duration": 31,
    "start_time": "2023-04-05T08:37:04.483Z"
   },
   {
    "duration": 113,
    "start_time": "2023-04-05T08:37:07.812Z"
   },
   {
    "duration": 74,
    "start_time": "2023-04-05T09:53:32.353Z"
   },
   {
    "duration": 137,
    "start_time": "2023-04-05T10:21:04.766Z"
   },
   {
    "duration": 7,
    "start_time": "2023-04-05T10:21:05.508Z"
   },
   {
    "duration": 5,
    "start_time": "2023-04-05T10:21:06.581Z"
   },
   {
    "duration": 3,
    "start_time": "2023-04-05T10:21:13.416Z"
   },
   {
    "duration": 58,
    "start_time": "2023-04-05T10:21:14.215Z"
   },
   {
    "duration": 876,
    "start_time": "2023-04-05T10:23:29.504Z"
   },
   {
    "duration": 124,
    "start_time": "2023-04-05T10:24:49.197Z"
   },
   {
    "duration": 934,
    "start_time": "2023-04-05T10:26:55.820Z"
   },
   {
    "duration": 509,
    "start_time": "2023-04-05T10:27:03.416Z"
   },
   {
    "duration": 5,
    "start_time": "2023-04-05T10:38:52.864Z"
   },
   {
    "duration": 56,
    "start_time": "2023-04-05T10:41:07.230Z"
   },
   {
    "duration": 23,
    "start_time": "2023-04-05T10:41:41.402Z"
   },
   {
    "duration": 18,
    "start_time": "2023-04-05T10:42:59.372Z"
   },
   {
    "duration": 79,
    "start_time": "2023-04-05T10:43:07.703Z"
   },
   {
    "duration": 5,
    "start_time": "2023-04-05T10:48:06.560Z"
   },
   {
    "duration": 43,
    "start_time": "2023-04-05T17:28:53.911Z"
   },
   {
    "duration": 405,
    "start_time": "2023-04-05T17:33:45.548Z"
   },
   {
    "duration": 2,
    "start_time": "2023-04-05T17:33:45.955Z"
   },
   {
    "duration": 5,
    "start_time": "2023-04-05T17:33:45.969Z"
   },
   {
    "duration": 669,
    "start_time": "2023-04-05T17:33:45.976Z"
   },
   {
    "duration": 2,
    "start_time": "2023-04-05T17:33:46.646Z"
   },
   {
    "duration": 996,
    "start_time": "2023-04-05T17:33:46.650Z"
   },
   {
    "duration": 7,
    "start_time": "2023-04-05T17:33:47.647Z"
   },
   {
    "duration": 20,
    "start_time": "2023-04-05T17:33:47.655Z"
   },
   {
    "duration": 101,
    "start_time": "2023-04-05T17:33:47.677Z"
   },
   {
    "duration": 390,
    "start_time": "2023-04-05T17:33:47.781Z"
   },
   {
    "duration": 475,
    "start_time": "2023-04-05T17:33:48.173Z"
   },
   {
    "duration": 36,
    "start_time": "2023-04-05T17:33:48.650Z"
   },
   {
    "duration": 5,
    "start_time": "2023-04-05T17:33:48.687Z"
   },
   {
    "duration": 66,
    "start_time": "2023-04-05T17:33:48.693Z"
   },
   {
    "duration": 63,
    "start_time": "2023-04-05T17:33:48.769Z"
   },
   {
    "duration": 7,
    "start_time": "2023-04-05T17:33:48.834Z"
   },
   {
    "duration": 40,
    "start_time": "2023-04-05T17:33:48.843Z"
   },
   {
    "duration": 10,
    "start_time": "2023-04-05T17:33:48.885Z"
   },
   {
    "duration": 9,
    "start_time": "2023-04-05T17:33:48.896Z"
   },
   {
    "duration": 37,
    "start_time": "2023-04-05T17:33:48.906Z"
   },
   {
    "duration": 65,
    "start_time": "2023-04-05T17:33:48.944Z"
   },
   {
    "duration": 7,
    "start_time": "2023-04-05T17:33:49.010Z"
   },
   {
    "duration": 25,
    "start_time": "2023-04-05T17:33:49.018Z"
   },
   {
    "duration": 50,
    "start_time": "2023-04-05T17:33:49.045Z"
   },
   {
    "duration": 9,
    "start_time": "2023-04-05T17:33:49.097Z"
   },
   {
    "duration": 21,
    "start_time": "2023-04-05T17:33:49.108Z"
   },
   {
    "duration": 7,
    "start_time": "2023-04-05T17:33:49.131Z"
   },
   {
    "duration": 64,
    "start_time": "2023-04-05T17:33:49.141Z"
   },
   {
    "duration": 15,
    "start_time": "2023-04-05T17:33:49.207Z"
   },
   {
    "duration": 13,
    "start_time": "2023-04-05T17:33:49.223Z"
   },
   {
    "duration": 56,
    "start_time": "2023-04-05T17:33:49.237Z"
   },
   {
    "duration": 12,
    "start_time": "2023-04-05T17:33:49.294Z"
   },
   {
    "duration": 19,
    "start_time": "2023-04-05T17:33:49.308Z"
   },
   {
    "duration": 17,
    "start_time": "2023-04-05T17:33:49.329Z"
   },
   {
    "duration": 6,
    "start_time": "2023-04-05T17:33:49.368Z"
   },
   {
    "duration": 16,
    "start_time": "2023-04-05T17:33:49.375Z"
   },
   {
    "duration": 285278,
    "start_time": "2023-04-05T17:33:49.393Z"
   },
   {
    "duration": 8,
    "start_time": "2023-04-05T17:38:34.672Z"
   },
   {
    "duration": 44,
    "start_time": "2023-04-05T17:38:34.681Z"
   },
   {
    "duration": 12,
    "start_time": "2023-04-05T17:38:34.726Z"
   },
   {
    "duration": 168,
    "start_time": "2023-04-05T17:38:34.739Z"
   },
   {
    "duration": 194783,
    "start_time": "2023-04-05T17:38:34.909Z"
   },
   {
    "duration": 9,
    "start_time": "2023-04-05T17:41:49.693Z"
   },
   {
    "duration": 51,
    "start_time": "2023-04-05T17:41:49.703Z"
   },
   {
    "duration": 34,
    "start_time": "2023-04-05T17:41:49.756Z"
   },
   {
    "duration": 141,
    "start_time": "2023-04-05T17:41:49.792Z"
   },
   {
    "duration": 4,
    "start_time": "2023-04-05T17:41:49.935Z"
   },
   {
    "duration": 42,
    "start_time": "2023-04-05T17:41:49.940Z"
   },
   {
    "duration": 18,
    "start_time": "2023-04-05T17:41:49.983Z"
   },
   {
    "duration": 67,
    "start_time": "2023-04-05T17:41:50.003Z"
   },
   {
    "duration": 2,
    "start_time": "2023-04-05T17:41:50.072Z"
   },
   {
    "duration": 5,
    "start_time": "2023-04-05T17:41:50.076Z"
   },
   {
    "duration": 7,
    "start_time": "2023-04-05T17:41:50.083Z"
   },
   {
    "duration": 107,
    "start_time": "2023-04-05T17:41:50.091Z"
   },
   {
    "duration": 4,
    "start_time": "2023-04-05T17:41:50.200Z"
   },
   {
    "duration": 107,
    "start_time": "2023-04-05T17:41:50.206Z"
   },
   {
    "duration": 0,
    "start_time": "2023-04-05T17:41:50.314Z"
   },
   {
    "duration": 0,
    "start_time": "2023-04-05T17:41:50.316Z"
   },
   {
    "duration": 0,
    "start_time": "2023-04-05T17:41:50.317Z"
   },
   {
    "duration": 150,
    "start_time": "2023-04-05T17:54:29.878Z"
   },
   {
    "duration": 554,
    "start_time": "2023-04-05T17:55:20.376Z"
   },
   {
    "duration": 10,
    "start_time": "2023-04-05T17:55:26.462Z"
   },
   {
    "duration": 4,
    "start_time": "2023-04-05T17:59:00.255Z"
   },
   {
    "duration": 7054,
    "start_time": "2023-04-05T17:59:02.516Z"
   },
   {
    "duration": 93,
    "start_time": "2023-04-05T18:03:00.139Z"
   },
   {
    "duration": 76,
    "start_time": "2023-04-05T18:03:13.747Z"
   },
   {
    "duration": 27,
    "start_time": "2023-04-05T18:03:31.713Z"
   },
   {
    "duration": 4,
    "start_time": "2023-04-05T18:43:14.009Z"
   },
   {
    "duration": 339163,
    "start_time": "2023-04-05T18:44:15.336Z"
   },
   {
    "duration": 98,
    "start_time": "2023-04-05T19:35:37.837Z"
   },
   {
    "duration": 20269,
    "start_time": "2023-04-05T19:39:14.314Z"
   },
   {
    "duration": 76,
    "start_time": "2023-04-05T19:39:55.208Z"
   },
   {
    "duration": 55491,
    "start_time": "2023-04-05T19:40:33.080Z"
   },
   {
    "duration": 13891,
    "start_time": "2023-04-05T19:42:16.878Z"
   },
   {
    "duration": 55101,
    "start_time": "2023-04-05T19:43:48.335Z"
   },
   {
    "duration": 53706,
    "start_time": "2023-04-05T19:44:54.454Z"
   },
   {
    "duration": 8,
    "start_time": "2023-04-05T19:46:00.150Z"
   },
   {
    "duration": 92,
    "start_time": "2023-04-05T20:03:54.813Z"
   },
   {
    "duration": 45,
    "start_time": "2023-04-05T20:04:18.583Z"
   },
   {
    "duration": 3145,
    "start_time": "2023-04-05T20:04:25.123Z"
   },
   {
    "duration": 14,
    "start_time": "2023-04-05T20:06:00.709Z"
   },
   {
    "duration": 3,
    "start_time": "2023-04-05T20:07:08.116Z"
   },
   {
    "duration": 14,
    "start_time": "2023-04-05T20:07:15.992Z"
   },
   {
    "duration": 9,
    "start_time": "2023-04-05T20:07:51.964Z"
   },
   {
    "duration": 177,
    "start_time": "2023-04-05T20:10:14.892Z"
   },
   {
    "duration": 142,
    "start_time": "2023-04-05T20:10:43.827Z"
   },
   {
    "duration": 58,
    "start_time": "2023-04-05T20:13:14.435Z"
   },
   {
    "duration": 3,
    "start_time": "2023-04-05T20:13:58.506Z"
   },
   {
    "duration": 63,
    "start_time": "2023-04-05T20:13:59.829Z"
   },
   {
    "duration": 10,
    "start_time": "2023-04-05T21:17:51.919Z"
   },
   {
    "duration": 81,
    "start_time": "2023-04-05T21:17:54.303Z"
   },
   {
    "duration": 188347,
    "start_time": "2023-04-05T21:27:12.061Z"
   },
   {
    "duration": 3,
    "start_time": "2023-04-05T21:44:25.629Z"
   },
   {
    "duration": 75,
    "start_time": "2023-04-05T21:44:40.620Z"
   },
   {
    "duration": 70,
    "start_time": "2023-04-05T21:46:48.590Z"
   },
   {
    "duration": 74,
    "start_time": "2023-04-05T21:52:19.406Z"
   },
   {
    "duration": 32,
    "start_time": "2023-04-05T21:52:20.248Z"
   },
   {
    "duration": 80,
    "start_time": "2023-04-05T21:52:27.415Z"
   },
   {
    "duration": 55,
    "start_time": "2023-04-05T21:57:15.570Z"
   },
   {
    "duration": 248,
    "start_time": "2023-04-05T22:00:45.814Z"
   },
   {
    "duration": 9,
    "start_time": "2023-04-05T22:01:18.348Z"
   },
   {
    "duration": 3,
    "start_time": "2023-04-05T22:01:41.612Z"
   },
   {
    "duration": 10,
    "start_time": "2023-04-05T22:01:57.106Z"
   },
   {
    "duration": 37,
    "start_time": "2023-04-05T22:09:45.564Z"
   },
   {
    "duration": 13,
    "start_time": "2023-04-05T22:10:00.492Z"
   },
   {
    "duration": 41,
    "start_time": "2023-04-05T22:10:18.538Z"
   },
   {
    "duration": 239,
    "start_time": "2023-04-05T22:10:19.493Z"
   },
   {
    "duration": 145,
    "start_time": "2023-04-05T22:10:20.611Z"
   },
   {
    "duration": 10,
    "start_time": "2023-04-05T22:11:31.891Z"
   },
   {
    "duration": 5,
    "start_time": "2023-04-05T22:13:15.874Z"
   },
   {
    "duration": 81,
    "start_time": "2023-04-05T22:13:19.771Z"
   },
   {
    "duration": 22,
    "start_time": "2023-04-05T22:14:39.267Z"
   },
   {
    "duration": 2,
    "start_time": "2023-04-05T22:14:48.836Z"
   },
   {
    "duration": 121,
    "start_time": "2023-04-05T22:14:52.454Z"
   },
   {
    "duration": 9833,
    "start_time": "2023-04-05T22:16:39.337Z"
   },
   {
    "duration": 65,
    "start_time": "2023-04-05T22:18:18.999Z"
   },
   {
    "duration": 5,
    "start_time": "2023-04-05T22:22:40.041Z"
   },
   {
    "duration": 7273,
    "start_time": "2023-04-05T22:22:55.097Z"
   },
   {
    "duration": 52,
    "start_time": "2023-04-05T22:23:40.993Z"
   },
   {
    "duration": 4,
    "start_time": "2023-04-05T22:25:26.290Z"
   },
   {
    "duration": 8760,
    "start_time": "2023-04-05T22:25:35.210Z"
   },
   {
    "duration": 60,
    "start_time": "2023-04-05T22:25:55.040Z"
   },
   {
    "duration": 7463,
    "start_time": "2023-04-05T22:30:18.209Z"
   },
   {
    "duration": 3,
    "start_time": "2023-04-05T22:31:06.336Z"
   },
   {
    "duration": 197937,
    "start_time": "2023-04-05T22:33:21.280Z"
   },
   {
    "duration": 2,
    "start_time": "2023-04-05T22:40:57.722Z"
   },
   {
    "duration": 34,
    "start_time": "2023-04-05T22:40:58.304Z"
   },
   {
    "duration": 219,
    "start_time": "2023-04-05T22:40:59.238Z"
   },
   {
    "duration": 143,
    "start_time": "2023-04-05T22:40:59.974Z"
   },
   {
    "duration": 107,
    "start_time": "2023-04-05T22:41:01.868Z"
   },
   {
    "duration": 3,
    "start_time": "2023-04-05T22:41:06.595Z"
   },
   {
    "duration": 5,
    "start_time": "2023-04-05T22:41:21.422Z"
   },
   {
    "duration": 4,
    "start_time": "2023-04-05T22:42:35.224Z"
   },
   {
    "duration": 2,
    "start_time": "2023-04-05T22:42:35.629Z"
   },
   {
    "duration": 3,
    "start_time": "2023-04-05T22:42:37.188Z"
   },
   {
    "duration": 8101,
    "start_time": "2023-04-05T22:42:39.662Z"
   },
   {
    "duration": 0,
    "start_time": "2023-04-05T22:42:47.764Z"
   },
   {
    "duration": 7254,
    "start_time": "2023-04-05T22:43:20.715Z"
   },
   {
    "duration": 9397,
    "start_time": "2023-04-05T22:43:58.783Z"
   },
   {
    "duration": 3,
    "start_time": "2023-04-05T22:44:21.586Z"
   },
   {
    "duration": 8232,
    "start_time": "2023-04-05T22:44:29.937Z"
   },
   {
    "duration": 8353,
    "start_time": "2023-04-05T22:44:43.880Z"
   },
   {
    "duration": 3,
    "start_time": "2023-04-05T22:45:16.648Z"
   },
   {
    "duration": 166720,
    "start_time": "2023-04-05T22:45:30.433Z"
   },
   {
    "duration": 7691,
    "start_time": "2023-04-05T22:52:01.582Z"
   },
   {
    "duration": 9949,
    "start_time": "2023-04-05T22:52:17.822Z"
   },
   {
    "duration": 3,
    "start_time": "2023-04-05T22:52:27.774Z"
   },
   {
    "duration": 405,
    "start_time": "2023-04-05T23:05:52.175Z"
   },
   {
    "duration": 3,
    "start_time": "2023-04-05T23:05:52.582Z"
   },
   {
    "duration": 678,
    "start_time": "2023-04-05T23:05:52.587Z"
   },
   {
    "duration": 3,
    "start_time": "2023-04-05T23:05:53.267Z"
   },
   {
    "duration": 5,
    "start_time": "2023-04-05T23:05:53.271Z"
   },
   {
    "duration": 185,
    "start_time": "2023-04-05T23:05:53.278Z"
   },
   {
    "duration": 897,
    "start_time": "2023-04-05T23:05:53.464Z"
   },
   {
    "duration": 7,
    "start_time": "2023-04-05T23:05:54.363Z"
   },
   {
    "duration": 24,
    "start_time": "2023-04-05T23:05:54.372Z"
   },
   {
    "duration": 109,
    "start_time": "2023-04-05T23:05:54.399Z"
   },
   {
    "duration": 431,
    "start_time": "2023-04-05T23:05:54.510Z"
   },
   {
    "duration": 520,
    "start_time": "2023-04-05T23:05:54.943Z"
   },
   {
    "duration": 35,
    "start_time": "2023-04-05T23:05:55.465Z"
   },
   {
    "duration": 9,
    "start_time": "2023-04-05T23:05:55.501Z"
   },
   {
    "duration": 69,
    "start_time": "2023-04-05T23:05:55.511Z"
   },
   {
    "duration": 73,
    "start_time": "2023-04-05T23:05:55.582Z"
   },
   {
    "duration": 12,
    "start_time": "2023-04-05T23:05:55.657Z"
   },
   {
    "duration": 27,
    "start_time": "2023-04-05T23:05:55.670Z"
   },
   {
    "duration": 6,
    "start_time": "2023-04-05T23:05:55.698Z"
   },
   {
    "duration": 8,
    "start_time": "2023-04-05T23:05:55.706Z"
   },
   {
    "duration": 57,
    "start_time": "2023-04-05T23:05:55.715Z"
   },
   {
    "duration": 42,
    "start_time": "2023-04-05T23:05:55.773Z"
   },
   {
    "duration": 7,
    "start_time": "2023-04-05T23:05:55.816Z"
   },
   {
    "duration": 17,
    "start_time": "2023-04-05T23:05:55.824Z"
   },
   {
    "duration": 53,
    "start_time": "2023-04-05T23:05:55.842Z"
   },
   {
    "duration": 7,
    "start_time": "2023-04-05T23:05:55.896Z"
   },
   {
    "duration": 18,
    "start_time": "2023-04-05T23:05:55.904Z"
   },
   {
    "duration": 6,
    "start_time": "2023-04-05T23:05:55.925Z"
   },
   {
    "duration": 63,
    "start_time": "2023-04-05T23:05:55.932Z"
   },
   {
    "duration": 14,
    "start_time": "2023-04-05T23:05:55.996Z"
   },
   {
    "duration": 6,
    "start_time": "2023-04-05T23:05:56.012Z"
   },
   {
    "duration": 49,
    "start_time": "2023-04-05T23:05:56.020Z"
   },
   {
    "duration": 12,
    "start_time": "2023-04-05T23:05:56.070Z"
   },
   {
    "duration": 19,
    "start_time": "2023-04-05T23:05:56.083Z"
   },
   {
    "duration": 17,
    "start_time": "2023-04-05T23:05:56.104Z"
   },
   {
    "duration": 4,
    "start_time": "2023-04-05T23:05:56.122Z"
   },
   {
    "duration": 14,
    "start_time": "2023-04-05T23:05:56.128Z"
   },
   {
    "duration": 283042,
    "start_time": "2023-04-05T23:05:56.143Z"
   },
   {
    "duration": 7,
    "start_time": "2023-04-05T23:10:39.187Z"
   },
   {
    "duration": 4,
    "start_time": "2023-04-05T23:10:39.196Z"
   },
   {
    "duration": 45,
    "start_time": "2023-04-05T23:10:39.201Z"
   },
   {
    "duration": 30,
    "start_time": "2023-04-05T23:10:39.248Z"
   },
   {
    "duration": 21,
    "start_time": "2023-04-05T23:10:39.279Z"
   },
   {
    "duration": 185195,
    "start_time": "2023-04-05T23:10:39.302Z"
   },
   {
    "duration": 8,
    "start_time": "2023-04-05T23:13:44.499Z"
   },
   {
    "duration": 4,
    "start_time": "2023-04-05T23:13:44.509Z"
   },
   {
    "duration": 70,
    "start_time": "2023-04-05T23:13:44.514Z"
   },
   {
    "duration": 27,
    "start_time": "2023-04-05T23:13:44.586Z"
   },
   {
    "duration": 127,
    "start_time": "2023-04-05T23:13:44.615Z"
   },
   {
    "duration": 4,
    "start_time": "2023-04-05T23:13:44.743Z"
   },
   {
    "duration": 39,
    "start_time": "2023-04-05T23:13:44.748Z"
   },
   {
    "duration": 17,
    "start_time": "2023-04-05T23:13:44.789Z"
   },
   {
    "duration": 68,
    "start_time": "2023-04-05T23:13:44.808Z"
   },
   {
    "duration": 3,
    "start_time": "2023-04-05T23:13:44.878Z"
   },
   {
    "duration": 5,
    "start_time": "2023-04-05T23:13:44.883Z"
   },
   {
    "duration": 4,
    "start_time": "2023-04-05T23:13:44.889Z"
   },
   {
    "duration": 99,
    "start_time": "2023-04-05T23:13:44.895Z"
   },
   {
    "duration": 4,
    "start_time": "2023-04-05T23:13:44.996Z"
   },
   {
    "duration": 135,
    "start_time": "2023-04-05T23:13:45.002Z"
   },
   {
    "duration": 3,
    "start_time": "2023-04-05T23:13:45.139Z"
   },
   {
    "duration": 166,
    "start_time": "2023-04-05T23:13:45.144Z"
   },
   {
    "duration": 76,
    "start_time": "2023-04-05T23:13:45.312Z"
   },
   {
    "duration": 11,
    "start_time": "2023-04-05T23:13:45.390Z"
   },
   {
    "duration": 0,
    "start_time": "2023-04-05T23:13:45.403Z"
   },
   {
    "duration": 0,
    "start_time": "2023-04-05T23:13:45.404Z"
   },
   {
    "duration": 0,
    "start_time": "2023-04-05T23:13:45.405Z"
   },
   {
    "duration": 0,
    "start_time": "2023-04-05T23:13:45.406Z"
   },
   {
    "duration": 0,
    "start_time": "2023-04-05T23:13:45.407Z"
   },
   {
    "duration": 0,
    "start_time": "2023-04-05T23:13:45.408Z"
   },
   {
    "duration": 0,
    "start_time": "2023-04-05T23:13:45.409Z"
   },
   {
    "duration": 0,
    "start_time": "2023-04-05T23:13:45.410Z"
   },
   {
    "duration": 0,
    "start_time": "2023-04-05T23:13:45.411Z"
   },
   {
    "duration": 0,
    "start_time": "2023-04-05T23:13:45.412Z"
   },
   {
    "duration": 0,
    "start_time": "2023-04-05T23:13:45.413Z"
   },
   {
    "duration": 0,
    "start_time": "2023-04-05T23:13:45.414Z"
   },
   {
    "duration": 0,
    "start_time": "2023-04-05T23:13:45.415Z"
   },
   {
    "duration": 0,
    "start_time": "2023-04-05T23:13:45.416Z"
   },
   {
    "duration": 0,
    "start_time": "2023-04-05T23:13:45.416Z"
   },
   {
    "duration": 0,
    "start_time": "2023-04-05T23:13:45.417Z"
   },
   {
    "duration": 126,
    "start_time": "2023-04-05T23:17:24.431Z"
   },
   {
    "duration": 11,
    "start_time": "2023-04-05T23:17:25.353Z"
   },
   {
    "duration": 79,
    "start_time": "2023-04-05T23:17:40.016Z"
   },
   {
    "duration": 12,
    "start_time": "2023-04-05T23:17:41.959Z"
   },
   {
    "duration": 4,
    "start_time": "2023-04-05T23:18:16.818Z"
   },
   {
    "duration": 9,
    "start_time": "2023-04-05T23:18:20.055Z"
   },
   {
    "duration": 70,
    "start_time": "2023-04-05T23:18:39.713Z"
   },
   {
    "duration": 3,
    "start_time": "2023-04-05T23:18:55.428Z"
   },
   {
    "duration": 10,
    "start_time": "2023-04-05T23:18:57.591Z"
   },
   {
    "duration": 2,
    "start_time": "2023-04-05T23:19:10.809Z"
   },
   {
    "duration": 8,
    "start_time": "2023-04-05T23:19:11.418Z"
   },
   {
    "duration": 34871,
    "start_time": "2023-04-05T23:20:13.328Z"
   },
   {
    "duration": 410,
    "start_time": "2023-04-05T23:21:46.282Z"
   },
   {
    "duration": 2,
    "start_time": "2023-04-05T23:21:46.695Z"
   },
   {
    "duration": 713,
    "start_time": "2023-04-05T23:21:46.699Z"
   },
   {
    "duration": 2,
    "start_time": "2023-04-05T23:21:47.413Z"
   },
   {
    "duration": 4,
    "start_time": "2023-04-05T23:21:47.417Z"
   },
   {
    "duration": 177,
    "start_time": "2023-04-05T23:21:47.422Z"
   },
   {
    "duration": 725,
    "start_time": "2023-04-05T23:21:47.601Z"
   },
   {
    "duration": 8,
    "start_time": "2023-04-05T23:21:48.327Z"
   },
   {
    "duration": 21,
    "start_time": "2023-04-05T23:21:48.336Z"
   },
   {
    "duration": 106,
    "start_time": "2023-04-05T23:21:48.369Z"
   },
   {
    "duration": 433,
    "start_time": "2023-04-05T23:21:48.477Z"
   },
   {
    "duration": 535,
    "start_time": "2023-04-05T23:21:48.912Z"
   },
   {
    "duration": 46,
    "start_time": "2023-04-05T23:21:49.448Z"
   },
   {
    "duration": 3,
    "start_time": "2023-04-05T23:21:49.497Z"
   },
   {
    "duration": 68,
    "start_time": "2023-04-05T23:21:49.501Z"
   },
   {
    "duration": 64,
    "start_time": "2023-04-05T23:21:49.571Z"
   },
   {
    "duration": 8,
    "start_time": "2023-04-05T23:21:49.637Z"
   },
   {
    "duration": 47,
    "start_time": "2023-04-05T23:21:49.646Z"
   },
   {
    "duration": 15,
    "start_time": "2023-04-05T23:21:49.695Z"
   },
   {
    "duration": 8,
    "start_time": "2023-04-05T23:21:49.712Z"
   },
   {
    "duration": 49,
    "start_time": "2023-04-05T23:21:49.722Z"
   },
   {
    "duration": 44,
    "start_time": "2023-04-05T23:21:49.773Z"
   },
   {
    "duration": 6,
    "start_time": "2023-04-05T23:21:49.819Z"
   },
   {
    "duration": 17,
    "start_time": "2023-04-05T23:21:49.827Z"
   },
   {
    "duration": 65,
    "start_time": "2023-04-05T23:21:49.846Z"
   },
   {
    "duration": 6,
    "start_time": "2023-04-05T23:21:49.912Z"
   },
   {
    "duration": 18,
    "start_time": "2023-04-05T23:21:49.920Z"
   },
   {
    "duration": 6,
    "start_time": "2023-04-05T23:21:49.940Z"
   },
   {
    "duration": 59,
    "start_time": "2023-04-05T23:21:49.947Z"
   },
   {
    "duration": 14,
    "start_time": "2023-04-05T23:21:50.007Z"
   },
   {
    "duration": 7,
    "start_time": "2023-04-05T23:21:50.022Z"
   },
   {
    "duration": 57,
    "start_time": "2023-04-05T23:21:50.030Z"
   },
   {
    "duration": 12,
    "start_time": "2023-04-05T23:21:50.088Z"
   },
   {
    "duration": 20,
    "start_time": "2023-04-05T23:21:50.101Z"
   },
   {
    "duration": 16,
    "start_time": "2023-04-05T23:21:50.123Z"
   },
   {
    "duration": 4,
    "start_time": "2023-04-05T23:21:50.142Z"
   },
   {
    "duration": 16,
    "start_time": "2023-04-05T23:21:50.169Z"
   },
   {
    "duration": 284207,
    "start_time": "2023-04-05T23:21:50.186Z"
   },
   {
    "duration": 7,
    "start_time": "2023-04-05T23:26:34.395Z"
   },
   {
    "duration": 4,
    "start_time": "2023-04-05T23:26:34.403Z"
   },
   {
    "duration": 58,
    "start_time": "2023-04-05T23:26:34.411Z"
   },
   {
    "duration": 12,
    "start_time": "2023-04-05T23:26:34.471Z"
   },
   {
    "duration": 21,
    "start_time": "2023-04-05T23:26:34.484Z"
   },
   {
    "duration": 183583,
    "start_time": "2023-04-05T23:26:34.507Z"
   },
   {
    "duration": 8,
    "start_time": "2023-04-05T23:29:38.091Z"
   },
   {
    "duration": 4,
    "start_time": "2023-04-05T23:29:38.101Z"
   },
   {
    "duration": 62,
    "start_time": "2023-04-05T23:29:38.106Z"
   },
   {
    "duration": 24,
    "start_time": "2023-04-05T23:29:38.170Z"
   },
   {
    "duration": 115,
    "start_time": "2023-04-05T23:29:38.195Z"
   },
   {
    "duration": 4,
    "start_time": "2023-04-05T23:29:38.311Z"
   },
   {
    "duration": 26,
    "start_time": "2023-04-05T23:29:38.316Z"
   },
   {
    "duration": 28,
    "start_time": "2023-04-05T23:29:38.343Z"
   },
   {
    "duration": 48,
    "start_time": "2023-04-05T23:29:38.372Z"
   },
   {
    "duration": 3,
    "start_time": "2023-04-05T23:29:38.421Z"
   },
   {
    "duration": 6,
    "start_time": "2023-04-05T23:29:38.425Z"
   },
   {
    "duration": 4,
    "start_time": "2023-04-05T23:29:38.432Z"
   },
   {
    "duration": 103,
    "start_time": "2023-04-05T23:29:38.437Z"
   },
   {
    "duration": 4,
    "start_time": "2023-04-05T23:29:38.541Z"
   },
   {
    "duration": 5,
    "start_time": "2023-04-05T23:29:38.546Z"
   },
   {
    "duration": 136,
    "start_time": "2023-04-05T23:29:38.552Z"
   },
   {
    "duration": 3,
    "start_time": "2023-04-05T23:29:38.689Z"
   },
   {
    "duration": 156,
    "start_time": "2023-04-05T23:29:38.694Z"
   },
   {
    "duration": 79,
    "start_time": "2023-04-05T23:29:38.851Z"
   },
   {
    "duration": 11,
    "start_time": "2023-04-05T23:29:38.931Z"
   },
   {
    "duration": 0,
    "start_time": "2023-04-05T23:29:38.943Z"
   },
   {
    "duration": 0,
    "start_time": "2023-04-05T23:29:38.944Z"
   },
   {
    "duration": 0,
    "start_time": "2023-04-05T23:29:38.945Z"
   },
   {
    "duration": 0,
    "start_time": "2023-04-05T23:29:38.946Z"
   },
   {
    "duration": 1,
    "start_time": "2023-04-05T23:29:38.946Z"
   },
   {
    "duration": 0,
    "start_time": "2023-04-05T23:29:38.947Z"
   },
   {
    "duration": 0,
    "start_time": "2023-04-05T23:29:38.948Z"
   },
   {
    "duration": 0,
    "start_time": "2023-04-05T23:29:38.949Z"
   },
   {
    "duration": 0,
    "start_time": "2023-04-05T23:29:38.950Z"
   },
   {
    "duration": 0,
    "start_time": "2023-04-05T23:29:38.951Z"
   },
   {
    "duration": 0,
    "start_time": "2023-04-05T23:29:38.951Z"
   },
   {
    "duration": 0,
    "start_time": "2023-04-05T23:29:38.952Z"
   },
   {
    "duration": 0,
    "start_time": "2023-04-05T23:29:38.953Z"
   },
   {
    "duration": 0,
    "start_time": "2023-04-05T23:29:38.953Z"
   },
   {
    "duration": 0,
    "start_time": "2023-04-05T23:29:38.954Z"
   },
   {
    "duration": 0,
    "start_time": "2023-04-05T23:29:38.955Z"
   },
   {
    "duration": 2,
    "start_time": "2023-04-05T23:31:03.857Z"
   },
   {
    "duration": 11,
    "start_time": "2023-04-05T23:31:04.743Z"
   },
   {
    "duration": 3,
    "start_time": "2023-04-05T23:31:15.853Z"
   },
   {
    "duration": 11,
    "start_time": "2023-04-05T23:31:16.630Z"
   },
   {
    "duration": 4,
    "start_time": "2023-04-05T23:31:20.205Z"
   },
   {
    "duration": 2,
    "start_time": "2023-04-05T23:31:36.344Z"
   },
   {
    "duration": 12,
    "start_time": "2023-04-05T23:31:37.145Z"
   },
   {
    "duration": 2,
    "start_time": "2023-04-05T23:31:49.981Z"
   },
   {
    "duration": 13,
    "start_time": "2023-04-05T23:31:51.080Z"
   },
   {
    "duration": 3,
    "start_time": "2023-04-05T23:32:05.980Z"
   },
   {
    "duration": 12,
    "start_time": "2023-04-05T23:32:07.680Z"
   },
   {
    "duration": 2,
    "start_time": "2023-04-05T23:32:31.311Z"
   },
   {
    "duration": 11,
    "start_time": "2023-04-05T23:32:32.745Z"
   },
   {
    "duration": 3,
    "start_time": "2023-04-05T23:33:21.691Z"
   },
   {
    "duration": 9,
    "start_time": "2023-04-05T23:33:22.496Z"
   },
   {
    "duration": 2,
    "start_time": "2023-04-05T23:33:43.085Z"
   },
   {
    "duration": 10,
    "start_time": "2023-04-05T23:33:43.966Z"
   },
   {
    "duration": 4,
    "start_time": "2023-04-05T23:33:47.060Z"
   },
   {
    "duration": 19840,
    "start_time": "2023-04-05T23:33:48.150Z"
   },
   {
    "duration": 16777,
    "start_time": "2023-04-05T23:34:07.992Z"
   },
   {
    "duration": 15320,
    "start_time": "2023-04-05T23:34:24.771Z"
   },
   {
    "duration": 52908,
    "start_time": "2023-04-05T23:34:40.093Z"
   },
   {
    "duration": 54402,
    "start_time": "2023-04-05T23:35:33.002Z"
   },
   {
    "duration": 3,
    "start_time": "2023-04-05T23:41:43.930Z"
   },
   {
    "duration": 31,
    "start_time": "2023-04-05T23:41:45.052Z"
   },
   {
    "duration": 701,
    "start_time": "2023-04-05T23:41:48.144Z"
   },
   {
    "duration": 360,
    "start_time": "2023-04-05T23:41:49.210Z"
   },
   {
    "duration": 3,
    "start_time": "2023-04-05T23:41:56.042Z"
   },
   {
    "duration": 2,
    "start_time": "2023-04-05T23:41:56.731Z"
   },
   {
    "duration": 84,
    "start_time": "2023-04-05T23:41:59.723Z"
   },
   {
    "duration": 3,
    "start_time": "2023-04-05T23:43:24.391Z"
   },
   {
    "duration": 3391,
    "start_time": "2023-04-05T23:43:41.050Z"
   },
   {
    "duration": 325,
    "start_time": "2023-04-05T23:47:43.829Z"
   },
   {
    "duration": 2,
    "start_time": "2023-04-05T23:47:47.596Z"
   },
   {
    "duration": 499990,
    "start_time": "2023-04-05T23:47:48.955Z"
   },
   {
    "duration": 9,
    "start_time": "2023-04-05T23:56:35.645Z"
   },
   {
    "duration": 13,
    "start_time": "2023-04-05T23:57:19.566Z"
   },
   {
    "duration": 9,
    "start_time": "2023-04-05T23:57:23.555Z"
   },
   {
    "duration": 10,
    "start_time": "2023-04-06T00:00:29.956Z"
   },
   {
    "duration": 9,
    "start_time": "2023-04-06T00:01:18.312Z"
   },
   {
    "duration": 5,
    "start_time": "2023-04-06T00:02:18.157Z"
   },
   {
    "duration": 22566,
    "start_time": "2023-04-06T00:02:26.975Z"
   },
   {
    "duration": 2,
    "start_time": "2023-04-06T00:02:55.094Z"
   },
   {
    "duration": 22250,
    "start_time": "2023-04-06T00:02:58.948Z"
   },
   {
    "duration": 19986,
    "start_time": "2023-04-06T00:03:21.200Z"
   },
   {
    "duration": 95,
    "start_time": "2023-04-06T00:03:41.194Z"
   },
   {
    "duration": 4,
    "start_time": "2023-04-06T00:04:28.157Z"
   },
   {
    "duration": 7,
    "start_time": "2023-04-06T00:04:35.103Z"
   },
   {
    "duration": 3,
    "start_time": "2023-04-06T00:04:54.709Z"
   },
   {
    "duration": 14,
    "start_time": "2023-04-06T00:06:53.795Z"
   },
   {
    "duration": 13,
    "start_time": "2023-04-06T00:07:43.861Z"
   },
   {
    "duration": 4,
    "start_time": "2023-04-06T00:07:54.332Z"
   },
   {
    "duration": 12,
    "start_time": "2023-04-06T00:07:58.332Z"
   },
   {
    "duration": 8,
    "start_time": "2023-04-06T00:09:24.309Z"
   },
   {
    "duration": 12,
    "start_time": "2023-04-06T00:09:37.101Z"
   },
   {
    "duration": 13,
    "start_time": "2023-04-06T00:10:10.083Z"
   },
   {
    "duration": 14,
    "start_time": "2023-04-06T00:10:41.548Z"
   },
   {
    "duration": 80,
    "start_time": "2023-04-06T00:11:22.141Z"
   },
   {
    "duration": 3,
    "start_time": "2023-04-06T00:11:45.788Z"
   },
   {
    "duration": 3,
    "start_time": "2023-04-06T00:11:54.820Z"
   },
   {
    "duration": 16,
    "start_time": "2023-04-06T00:12:01.659Z"
   },
   {
    "duration": 13,
    "start_time": "2023-04-06T00:12:40.907Z"
   },
   {
    "duration": 3,
    "start_time": "2023-04-06T00:16:42.547Z"
   },
   {
    "duration": 333,
    "start_time": "2023-04-06T00:22:48.318Z"
   },
   {
    "duration": 652,
    "start_time": "2023-04-06T00:22:48.653Z"
   },
   {
    "duration": 3,
    "start_time": "2023-04-06T00:22:49.307Z"
   },
   {
    "duration": 179,
    "start_time": "2023-04-06T00:22:49.311Z"
   },
   {
    "duration": 712,
    "start_time": "2023-04-06T00:22:49.492Z"
   },
   {
    "duration": 8,
    "start_time": "2023-04-06T00:22:50.206Z"
   },
   {
    "duration": 30,
    "start_time": "2023-04-06T00:22:50.216Z"
   },
   {
    "duration": 121,
    "start_time": "2023-04-06T00:22:50.247Z"
   },
   {
    "duration": 449,
    "start_time": "2023-04-06T00:22:50.370Z"
   },
   {
    "duration": 538,
    "start_time": "2023-04-06T00:22:50.820Z"
   },
   {
    "duration": 38,
    "start_time": "2023-04-06T00:22:51.360Z"
   },
   {
    "duration": 7,
    "start_time": "2023-04-06T00:22:51.399Z"
   },
   {
    "duration": 83,
    "start_time": "2023-04-06T00:22:51.407Z"
   },
   {
    "duration": 77,
    "start_time": "2023-04-06T00:22:51.493Z"
   },
   {
    "duration": 9,
    "start_time": "2023-04-06T00:22:51.571Z"
   },
   {
    "duration": 30,
    "start_time": "2023-04-06T00:22:51.581Z"
   },
   {
    "duration": 8,
    "start_time": "2023-04-06T00:22:51.612Z"
   },
   {
    "duration": 14,
    "start_time": "2023-04-06T00:22:51.621Z"
   },
   {
    "duration": 65,
    "start_time": "2023-04-06T00:22:51.637Z"
   },
   {
    "duration": 48,
    "start_time": "2023-04-06T00:22:51.704Z"
   },
   {
    "duration": 19,
    "start_time": "2023-04-06T00:22:51.754Z"
   },
   {
    "duration": 19,
    "start_time": "2023-04-06T00:22:51.775Z"
   },
   {
    "duration": 38,
    "start_time": "2023-04-06T00:22:51.796Z"
   },
   {
    "duration": 33,
    "start_time": "2023-04-06T00:22:51.836Z"
   },
   {
    "duration": 26,
    "start_time": "2023-04-06T00:22:51.871Z"
   },
   {
    "duration": 8,
    "start_time": "2023-04-06T00:22:51.899Z"
   },
   {
    "duration": 37,
    "start_time": "2023-04-06T00:22:51.908Z"
   },
   {
    "duration": 34,
    "start_time": "2023-04-06T00:22:51.946Z"
   },
   {
    "duration": 7,
    "start_time": "2023-04-06T00:22:51.981Z"
   },
   {
    "duration": 35,
    "start_time": "2023-04-06T00:22:51.989Z"
   },
   {
    "duration": 11,
    "start_time": "2023-04-06T00:22:52.026Z"
   },
   {
    "duration": 42,
    "start_time": "2023-04-06T00:22:52.038Z"
   },
   {
    "duration": 17,
    "start_time": "2023-04-06T00:22:52.082Z"
   },
   {
    "duration": 4,
    "start_time": "2023-04-06T00:22:52.100Z"
   },
   {
    "duration": 16,
    "start_time": "2023-04-06T00:22:52.106Z"
   },
   {
    "duration": 275282,
    "start_time": "2023-04-06T00:22:52.123Z"
   },
   {
    "duration": 7,
    "start_time": "2023-04-06T00:27:27.407Z"
   },
   {
    "duration": 9,
    "start_time": "2023-04-06T00:27:27.415Z"
   },
   {
    "duration": 58,
    "start_time": "2023-04-06T00:27:27.425Z"
   },
   {
    "duration": 11,
    "start_time": "2023-04-06T00:27:27.485Z"
   },
   {
    "duration": 21,
    "start_time": "2023-04-06T00:27:27.499Z"
   },
   {
    "duration": 181774,
    "start_time": "2023-04-06T00:27:27.521Z"
   },
   {
    "duration": 7,
    "start_time": "2023-04-06T00:30:29.297Z"
   },
   {
    "duration": 3,
    "start_time": "2023-04-06T00:30:29.306Z"
   },
   {
    "duration": 63,
    "start_time": "2023-04-06T00:30:29.311Z"
   },
   {
    "duration": 26,
    "start_time": "2023-04-06T00:30:29.375Z"
   },
   {
    "duration": 115,
    "start_time": "2023-04-06T00:30:29.402Z"
   },
   {
    "duration": 3,
    "start_time": "2023-04-06T00:30:29.519Z"
   },
   {
    "duration": 27,
    "start_time": "2023-04-06T00:30:29.523Z"
   },
   {
    "duration": 30,
    "start_time": "2023-04-06T00:30:29.551Z"
   },
   {
    "duration": 58,
    "start_time": "2023-04-06T00:30:29.582Z"
   },
   {
    "duration": 2,
    "start_time": "2023-04-06T00:30:29.642Z"
   },
   {
    "duration": 5,
    "start_time": "2023-04-06T00:30:29.646Z"
   },
   {
    "duration": 17,
    "start_time": "2023-04-06T00:30:29.652Z"
   },
   {
    "duration": 82,
    "start_time": "2023-04-06T00:30:29.670Z"
   },
   {
    "duration": 4,
    "start_time": "2023-04-06T00:30:29.754Z"
   },
   {
    "duration": 127,
    "start_time": "2023-04-06T00:30:29.760Z"
   },
   {
    "duration": 3,
    "start_time": "2023-04-06T00:30:29.888Z"
   },
   {
    "duration": 208,
    "start_time": "2023-04-06T00:30:29.892Z"
   },
   {
    "duration": 77,
    "start_time": "2023-04-06T00:30:30.102Z"
   },
   {
    "duration": 11,
    "start_time": "2023-04-06T00:30:30.180Z"
   },
   {
    "duration": 0,
    "start_time": "2023-04-06T00:30:30.193Z"
   },
   {
    "duration": 0,
    "start_time": "2023-04-06T00:30:30.194Z"
   },
   {
    "duration": 0,
    "start_time": "2023-04-06T00:30:30.196Z"
   },
   {
    "duration": 0,
    "start_time": "2023-04-06T00:30:30.197Z"
   },
   {
    "duration": 0,
    "start_time": "2023-04-06T00:30:30.198Z"
   },
   {
    "duration": 0,
    "start_time": "2023-04-06T00:30:30.199Z"
   },
   {
    "duration": 0,
    "start_time": "2023-04-06T00:30:30.201Z"
   },
   {
    "duration": 0,
    "start_time": "2023-04-06T00:30:30.202Z"
   },
   {
    "duration": 0,
    "start_time": "2023-04-06T00:30:30.203Z"
   },
   {
    "duration": 0,
    "start_time": "2023-04-06T00:30:30.204Z"
   },
   {
    "duration": 0,
    "start_time": "2023-04-06T00:30:30.205Z"
   },
   {
    "duration": 0,
    "start_time": "2023-04-06T00:30:30.206Z"
   },
   {
    "duration": 0,
    "start_time": "2023-04-06T00:30:30.208Z"
   },
   {
    "duration": 0,
    "start_time": "2023-04-06T00:30:30.209Z"
   },
   {
    "duration": 0,
    "start_time": "2023-04-06T00:30:30.210Z"
   },
   {
    "duration": 0,
    "start_time": "2023-04-06T00:30:30.212Z"
   },
   {
    "duration": 3,
    "start_time": "2023-04-06T00:33:44.687Z"
   },
   {
    "duration": 8654,
    "start_time": "2023-04-06T00:34:07.923Z"
   },
   {
    "duration": 15716,
    "start_time": "2023-04-06T00:36:14.250Z"
   },
   {
    "duration": 2,
    "start_time": "2023-04-06T00:37:36.289Z"
   },
   {
    "duration": 4,
    "start_time": "2023-04-06T00:37:56.937Z"
   },
   {
    "duration": 7983,
    "start_time": "2023-04-06T00:37:58.225Z"
   },
   {
    "duration": 16101,
    "start_time": "2023-04-06T00:38:10.988Z"
   },
   {
    "duration": 10,
    "start_time": "2023-04-06T00:39:53.257Z"
   },
   {
    "duration": 4,
    "start_time": "2023-04-06T00:39:54.018Z"
   },
   {
    "duration": 7955,
    "start_time": "2023-04-06T00:39:54.654Z"
   },
   {
    "duration": 16189,
    "start_time": "2023-04-06T00:40:02.610Z"
   },
   {
    "duration": 19696,
    "start_time": "2023-04-06T00:40:18.800Z"
   },
   {
    "duration": 49897,
    "start_time": "2023-04-06T00:40:48.050Z"
   },
   {
    "duration": 51316,
    "start_time": "2023-04-06T00:41:37.948Z"
   },
   {
    "duration": 8,
    "start_time": "2023-04-06T00:42:29.265Z"
   },
   {
    "duration": 3,
    "start_time": "2023-04-06T00:42:29.275Z"
   },
   {
    "duration": 36,
    "start_time": "2023-04-06T00:42:29.279Z"
   },
   {
    "duration": 651,
    "start_time": "2023-04-06T00:42:29.316Z"
   },
   {
    "duration": 338,
    "start_time": "2023-04-06T00:42:29.968Z"
   },
   {
    "duration": 314,
    "start_time": "2023-04-06T00:42:30.307Z"
   },
   {
    "duration": 2,
    "start_time": "2023-04-06T00:42:30.623Z"
   },
   {
    "duration": 471700,
    "start_time": "2023-04-06T00:42:30.627Z"
   },
   {
    "duration": 5,
    "start_time": "2023-04-06T00:50:22.328Z"
   },
   {
    "duration": 4,
    "start_time": "2023-04-06T00:50:22.334Z"
   },
   {
    "duration": 5,
    "start_time": "2023-04-06T00:50:22.339Z"
   },
   {
    "duration": 22609,
    "start_time": "2023-04-06T00:50:22.345Z"
   },
   {
    "duration": 20030,
    "start_time": "2023-04-06T00:50:44.956Z"
   },
   {
    "duration": 4,
    "start_time": "2023-04-06T00:51:05.069Z"
   },
   {
    "duration": 52,
    "start_time": "2023-04-06T06:47:20.359Z"
   },
   {
    "duration": 9,
    "start_time": "2023-04-06T06:47:30.280Z"
   },
   {
    "duration": 147,
    "start_time": "2023-04-06T07:01:21.780Z"
   },
   {
    "duration": 8,
    "start_time": "2023-04-06T07:01:37.278Z"
   },
   {
    "duration": 12,
    "start_time": "2023-04-06T07:01:41.132Z"
   },
   {
    "duration": 457,
    "start_time": "2023-04-06T07:02:42.891Z"
   },
   {
    "duration": 747,
    "start_time": "2023-04-06T07:02:43.356Z"
   },
   {
    "duration": 4,
    "start_time": "2023-04-06T07:02:44.105Z"
   },
   {
    "duration": 232,
    "start_time": "2023-04-06T07:02:44.112Z"
   },
   {
    "duration": 1348,
    "start_time": "2023-04-06T07:02:44.346Z"
   },
   {
    "duration": 10,
    "start_time": "2023-04-06T07:02:45.696Z"
   },
   {
    "duration": 43,
    "start_time": "2023-04-06T07:02:45.707Z"
   },
   {
    "duration": 160,
    "start_time": "2023-04-06T07:02:45.752Z"
   },
   {
    "duration": 547,
    "start_time": "2023-04-06T07:02:45.914Z"
   },
   {
    "duration": 601,
    "start_time": "2023-04-06T07:02:46.465Z"
   },
   {
    "duration": 37,
    "start_time": "2023-04-06T07:02:47.068Z"
   },
   {
    "duration": 31,
    "start_time": "2023-04-06T07:02:47.108Z"
   },
   {
    "duration": 112,
    "start_time": "2023-04-06T07:02:47.145Z"
   },
   {
    "duration": 95,
    "start_time": "2023-04-06T07:02:47.259Z"
   },
   {
    "duration": 11,
    "start_time": "2023-04-06T07:02:47.356Z"
   },
   {
    "duration": 82,
    "start_time": "2023-04-06T07:02:47.369Z"
   },
   {
    "duration": 27,
    "start_time": "2023-04-06T07:02:47.453Z"
   },
   {
    "duration": 25,
    "start_time": "2023-04-06T07:02:47.481Z"
   },
   {
    "duration": 70,
    "start_time": "2023-04-06T07:02:47.507Z"
   },
   {
    "duration": 50,
    "start_time": "2023-04-06T07:02:47.579Z"
   },
   {
    "duration": 18,
    "start_time": "2023-04-06T07:02:47.632Z"
   },
   {
    "duration": 21,
    "start_time": "2023-04-06T07:02:47.657Z"
   },
   {
    "duration": 67,
    "start_time": "2023-04-06T07:02:47.680Z"
   },
   {
    "duration": 12,
    "start_time": "2023-04-06T07:02:47.749Z"
   },
   {
    "duration": 25,
    "start_time": "2023-04-06T07:02:47.763Z"
   },
   {
    "duration": 10,
    "start_time": "2023-04-06T07:02:47.790Z"
   },
   {
    "duration": 68,
    "start_time": "2023-04-06T07:02:47.802Z"
   },
   {
    "duration": 18,
    "start_time": "2023-04-06T07:02:47.874Z"
   },
   {
    "duration": 10,
    "start_time": "2023-04-06T07:02:47.894Z"
   },
   {
    "duration": 70,
    "start_time": "2023-04-06T07:02:47.906Z"
   },
   {
    "duration": 13,
    "start_time": "2023-04-06T07:02:47.978Z"
   },
   {
    "duration": 23,
    "start_time": "2023-04-06T07:02:47.993Z"
   },
   {
    "duration": 51,
    "start_time": "2023-04-06T07:02:48.018Z"
   },
   {
    "duration": 25,
    "start_time": "2023-04-06T07:02:48.071Z"
   },
   {
    "duration": 25,
    "start_time": "2023-04-06T07:02:48.098Z"
   },
   {
    "duration": 69,
    "start_time": "2023-04-06T07:02:48.125Z"
   },
   {
    "duration": 0,
    "start_time": "2023-04-06T07:02:48.196Z"
   },
   {
    "duration": 0,
    "start_time": "2023-04-06T07:02:48.197Z"
   },
   {
    "duration": 0,
    "start_time": "2023-04-06T07:02:48.199Z"
   },
   {
    "duration": 0,
    "start_time": "2023-04-06T07:02:48.200Z"
   },
   {
    "duration": 0,
    "start_time": "2023-04-06T07:02:48.201Z"
   },
   {
    "duration": 0,
    "start_time": "2023-04-06T07:02:48.203Z"
   },
   {
    "duration": 0,
    "start_time": "2023-04-06T07:02:48.204Z"
   },
   {
    "duration": 0,
    "start_time": "2023-04-06T07:02:48.205Z"
   },
   {
    "duration": 0,
    "start_time": "2023-04-06T07:02:48.207Z"
   },
   {
    "duration": 0,
    "start_time": "2023-04-06T07:02:48.208Z"
   },
   {
    "duration": 0,
    "start_time": "2023-04-06T07:02:48.210Z"
   },
   {
    "duration": 0,
    "start_time": "2023-04-06T07:02:48.211Z"
   },
   {
    "duration": 0,
    "start_time": "2023-04-06T07:02:48.212Z"
   },
   {
    "duration": 0,
    "start_time": "2023-04-06T07:02:48.213Z"
   },
   {
    "duration": 0,
    "start_time": "2023-04-06T07:02:48.214Z"
   },
   {
    "duration": 0,
    "start_time": "2023-04-06T07:02:48.216Z"
   },
   {
    "duration": 0,
    "start_time": "2023-04-06T07:02:48.217Z"
   },
   {
    "duration": 0,
    "start_time": "2023-04-06T07:02:48.218Z"
   },
   {
    "duration": 0,
    "start_time": "2023-04-06T07:02:48.219Z"
   },
   {
    "duration": 0,
    "start_time": "2023-04-06T07:02:48.220Z"
   },
   {
    "duration": 0,
    "start_time": "2023-04-06T07:02:48.221Z"
   },
   {
    "duration": 0,
    "start_time": "2023-04-06T07:02:48.222Z"
   },
   {
    "duration": 0,
    "start_time": "2023-04-06T07:02:48.223Z"
   },
   {
    "duration": 0,
    "start_time": "2023-04-06T07:02:48.224Z"
   },
   {
    "duration": 0,
    "start_time": "2023-04-06T07:02:48.225Z"
   },
   {
    "duration": 0,
    "start_time": "2023-04-06T07:02:48.226Z"
   },
   {
    "duration": 0,
    "start_time": "2023-04-06T07:02:48.227Z"
   },
   {
    "duration": 0,
    "start_time": "2023-04-06T07:02:48.229Z"
   },
   {
    "duration": 0,
    "start_time": "2023-04-06T07:02:48.230Z"
   },
   {
    "duration": 0,
    "start_time": "2023-04-06T07:02:48.231Z"
   },
   {
    "duration": 0,
    "start_time": "2023-04-06T07:02:48.232Z"
   },
   {
    "duration": 0,
    "start_time": "2023-04-06T07:02:48.247Z"
   },
   {
    "duration": 0,
    "start_time": "2023-04-06T07:02:48.249Z"
   },
   {
    "duration": 0,
    "start_time": "2023-04-06T07:02:48.250Z"
   },
   {
    "duration": 0,
    "start_time": "2023-04-06T07:02:48.251Z"
   },
   {
    "duration": 0,
    "start_time": "2023-04-06T07:02:48.252Z"
   },
   {
    "duration": 0,
    "start_time": "2023-04-06T07:02:48.253Z"
   },
   {
    "duration": 1,
    "start_time": "2023-04-06T07:02:48.254Z"
   },
   {
    "duration": 0,
    "start_time": "2023-04-06T07:02:48.256Z"
   },
   {
    "duration": 0,
    "start_time": "2023-04-06T07:02:48.257Z"
   },
   {
    "duration": 0,
    "start_time": "2023-04-06T07:02:48.258Z"
   },
   {
    "duration": 0,
    "start_time": "2023-04-06T07:02:48.259Z"
   },
   {
    "duration": 422850,
    "start_time": "2023-04-06T07:06:09.186Z"
   },
   {
    "duration": 312,
    "start_time": "2023-04-06T07:30:22.708Z"
   },
   {
    "duration": 576,
    "start_time": "2023-04-06T09:11:47.391Z"
   },
   {
    "duration": 974,
    "start_time": "2023-04-06T09:11:47.969Z"
   },
   {
    "duration": 4,
    "start_time": "2023-04-06T09:11:48.944Z"
   },
   {
    "duration": 301,
    "start_time": "2023-04-06T09:11:48.949Z"
   },
   {
    "duration": 4915,
    "start_time": "2023-04-06T09:11:49.260Z"
   },
   {
    "duration": 10,
    "start_time": "2023-04-06T09:11:54.177Z"
   },
   {
    "duration": 53,
    "start_time": "2023-04-06T09:11:54.189Z"
   },
   {
    "duration": 279,
    "start_time": "2023-04-06T09:11:54.244Z"
   },
   {
    "duration": 697,
    "start_time": "2023-04-06T09:11:54.525Z"
   },
   {
    "duration": 831,
    "start_time": "2023-04-06T09:11:55.233Z"
   },
   {
    "duration": 46,
    "start_time": "2023-04-06T09:11:56.065Z"
   },
   {
    "duration": 75,
    "start_time": "2023-04-06T09:11:56.113Z"
   },
   {
    "duration": 204,
    "start_time": "2023-04-06T09:11:56.190Z"
   },
   {
    "duration": 101,
    "start_time": "2023-04-06T09:11:56.398Z"
   },
   {
    "duration": 169,
    "start_time": "2023-04-06T09:11:56.501Z"
   },
   {
    "duration": 79,
    "start_time": "2023-04-06T09:11:56.672Z"
   },
   {
    "duration": 57,
    "start_time": "2023-04-06T09:11:56.754Z"
   },
   {
    "duration": 89,
    "start_time": "2023-04-06T09:11:56.814Z"
   },
   {
    "duration": 68,
    "start_time": "2023-04-06T09:11:56.906Z"
   },
   {
    "duration": 79,
    "start_time": "2023-04-06T09:11:56.983Z"
   },
   {
    "duration": 66,
    "start_time": "2023-04-06T09:11:57.064Z"
   },
   {
    "duration": 155,
    "start_time": "2023-04-06T09:11:57.133Z"
   },
   {
    "duration": 68,
    "start_time": "2023-04-06T09:11:57.294Z"
   },
   {
    "duration": 31,
    "start_time": "2023-04-06T09:11:57.369Z"
   },
   {
    "duration": 74,
    "start_time": "2023-04-06T09:11:57.402Z"
   },
   {
    "duration": 37,
    "start_time": "2023-04-06T09:11:57.478Z"
   },
   {
    "duration": 105,
    "start_time": "2023-04-06T09:11:57.531Z"
   },
   {
    "duration": 35,
    "start_time": "2023-04-06T09:11:57.642Z"
   },
   {
    "duration": 29,
    "start_time": "2023-04-06T09:11:57.682Z"
   },
   {
    "duration": 107,
    "start_time": "2023-04-06T09:11:57.713Z"
   },
   {
    "duration": 20,
    "start_time": "2023-04-06T09:11:57.823Z"
   },
   {
    "duration": 96,
    "start_time": "2023-04-06T09:11:57.845Z"
   },
   {
    "duration": 73,
    "start_time": "2023-04-06T09:11:57.942Z"
   },
   {
    "duration": 18,
    "start_time": "2023-04-06T09:11:58.017Z"
   },
   {
    "duration": 71,
    "start_time": "2023-04-06T09:11:58.037Z"
   },
   {
    "duration": 578033,
    "start_time": "2023-04-06T09:11:58.111Z"
   },
   {
    "duration": 9,
    "start_time": "2023-04-06T09:21:36.146Z"
   },
   {
    "duration": 12,
    "start_time": "2023-04-06T09:21:36.158Z"
   },
   {
    "duration": 95,
    "start_time": "2023-04-06T09:21:36.172Z"
   },
   {
    "duration": 14,
    "start_time": "2023-04-06T09:21:36.269Z"
   },
   {
    "duration": 42,
    "start_time": "2023-04-06T09:21:36.287Z"
   },
   {
    "duration": 327375,
    "start_time": "2023-04-06T09:21:36.331Z"
   },
   {
    "duration": 22,
    "start_time": "2023-04-06T09:27:03.707Z"
   },
   {
    "duration": 30,
    "start_time": "2023-04-06T09:27:03.731Z"
   },
   {
    "duration": 80,
    "start_time": "2023-04-06T09:27:03.764Z"
   },
   {
    "duration": 46,
    "start_time": "2023-04-06T09:27:03.846Z"
   },
   {
    "duration": 385,
    "start_time": "2023-04-06T09:27:03.895Z"
   },
   {
    "duration": 4,
    "start_time": "2023-04-06T09:27:04.282Z"
   },
   {
    "duration": 90,
    "start_time": "2023-04-06T09:27:04.288Z"
   },
   {
    "duration": 22,
    "start_time": "2023-04-06T09:27:04.380Z"
   },
   {
    "duration": 137,
    "start_time": "2023-04-06T09:27:04.404Z"
   },
   {
    "duration": 4,
    "start_time": "2023-04-06T09:27:04.543Z"
   },
   {
    "duration": 39,
    "start_time": "2023-04-06T09:27:04.548Z"
   },
   {
    "duration": 9,
    "start_time": "2023-04-06T09:27:04.590Z"
   },
   {
    "duration": 199,
    "start_time": "2023-04-06T09:27:04.601Z"
   },
   {
    "duration": 0,
    "start_time": "2023-04-06T09:27:04.803Z"
   },
   {
    "duration": 0,
    "start_time": "2023-04-06T09:27:04.805Z"
   },
   {
    "duration": 0,
    "start_time": "2023-04-06T09:27:04.822Z"
   },
   {
    "duration": 0,
    "start_time": "2023-04-06T09:27:04.823Z"
   },
   {
    "duration": 0,
    "start_time": "2023-04-06T09:27:04.824Z"
   },
   {
    "duration": 0,
    "start_time": "2023-04-06T09:27:04.825Z"
   },
   {
    "duration": 0,
    "start_time": "2023-04-06T09:27:04.825Z"
   },
   {
    "duration": 0,
    "start_time": "2023-04-06T09:27:04.829Z"
   },
   {
    "duration": 0,
    "start_time": "2023-04-06T09:27:04.835Z"
   },
   {
    "duration": 0,
    "start_time": "2023-04-06T09:27:04.837Z"
   },
   {
    "duration": 0,
    "start_time": "2023-04-06T09:27:04.840Z"
   },
   {
    "duration": 0,
    "start_time": "2023-04-06T09:27:04.841Z"
   },
   {
    "duration": 0,
    "start_time": "2023-04-06T09:27:04.844Z"
   },
   {
    "duration": 0,
    "start_time": "2023-04-06T09:27:04.845Z"
   },
   {
    "duration": 0,
    "start_time": "2023-04-06T09:27:04.847Z"
   },
   {
    "duration": 0,
    "start_time": "2023-04-06T09:27:04.848Z"
   },
   {
    "duration": 0,
    "start_time": "2023-04-06T09:27:04.849Z"
   },
   {
    "duration": 0,
    "start_time": "2023-04-06T09:27:04.853Z"
   },
   {
    "duration": 0,
    "start_time": "2023-04-06T09:27:04.854Z"
   },
   {
    "duration": 0,
    "start_time": "2023-04-06T09:27:04.856Z"
   },
   {
    "duration": 0,
    "start_time": "2023-04-06T09:27:04.857Z"
   },
   {
    "duration": 0,
    "start_time": "2023-04-06T09:27:04.861Z"
   },
   {
    "duration": 0,
    "start_time": "2023-04-06T09:27:04.862Z"
   },
   {
    "duration": 25,
    "start_time": "2023-04-06T10:01:26.068Z"
   },
   {
    "duration": 5,
    "start_time": "2023-04-06T10:01:30.039Z"
   },
   {
    "duration": 58,
    "start_time": "2023-04-06T10:02:18.851Z"
   },
   {
    "duration": 141,
    "start_time": "2023-04-06T10:02:37.716Z"
   },
   {
    "duration": 6,
    "start_time": "2023-04-06T10:02:43.498Z"
   },
   {
    "duration": 166,
    "start_time": "2023-04-06T10:02:44.338Z"
   },
   {
    "duration": 6,
    "start_time": "2023-04-06T10:02:47.312Z"
   },
   {
    "duration": 570357,
    "start_time": "2023-04-06T10:02:52.203Z"
   },
   {
    "duration": 154,
    "start_time": "2023-04-06T10:12:22.562Z"
   },
   {
    "duration": 3,
    "start_time": "2023-04-06T10:17:39.302Z"
   },
   {
    "duration": 245,
    "start_time": "2023-04-06T10:17:51.499Z"
   },
   {
    "duration": 173,
    "start_time": "2023-04-06T10:18:45.449Z"
   },
   {
    "duration": 99,
    "start_time": "2023-04-06T10:20:28.152Z"
   },
   {
    "duration": 1226267,
    "start_time": "2023-04-06T10:52:12.156Z"
   },
   {
    "duration": 69,
    "start_time": "2023-04-06T11:36:57.032Z"
   },
   {
    "duration": 448,
    "start_time": "2023-04-06T11:37:08.562Z"
   },
   {
    "duration": 992,
    "start_time": "2023-04-06T11:37:09.013Z"
   },
   {
    "duration": 3,
    "start_time": "2023-04-06T11:37:10.008Z"
   },
   {
    "duration": 303,
    "start_time": "2023-04-06T11:37:10.013Z"
   },
   {
    "duration": 1150,
    "start_time": "2023-04-06T11:37:10.319Z"
   },
   {
    "duration": 15,
    "start_time": "2023-04-06T11:37:11.471Z"
   },
   {
    "duration": 46,
    "start_time": "2023-04-06T11:37:11.488Z"
   },
   {
    "duration": 217,
    "start_time": "2023-04-06T11:37:11.536Z"
   },
   {
    "duration": 745,
    "start_time": "2023-04-06T11:37:11.755Z"
   },
   {
    "duration": 913,
    "start_time": "2023-04-06T11:37:12.502Z"
   },
   {
    "duration": 50,
    "start_time": "2023-04-06T11:37:13.417Z"
   },
   {
    "duration": 10,
    "start_time": "2023-04-06T11:37:13.471Z"
   },
   {
    "duration": 132,
    "start_time": "2023-04-06T11:37:13.483Z"
   },
   {
    "duration": 108,
    "start_time": "2023-04-06T11:37:13.621Z"
   },
   {
    "duration": 12,
    "start_time": "2023-04-06T11:37:13.731Z"
   },
   {
    "duration": 62,
    "start_time": "2023-04-06T11:37:13.744Z"
   },
   {
    "duration": 46,
    "start_time": "2023-04-06T11:37:13.808Z"
   },
   {
    "duration": 33,
    "start_time": "2023-04-06T11:37:13.856Z"
   },
   {
    "duration": 60,
    "start_time": "2023-04-06T11:37:13.891Z"
   },
   {
    "duration": 71,
    "start_time": "2023-04-06T11:37:13.953Z"
   },
   {
    "duration": 18,
    "start_time": "2023-04-06T11:37:14.027Z"
   },
   {
    "duration": 50,
    "start_time": "2023-04-06T11:37:14.047Z"
   },
   {
    "duration": 68,
    "start_time": "2023-04-06T11:37:14.100Z"
   },
   {
    "duration": 13,
    "start_time": "2023-04-06T11:37:14.171Z"
   },
   {
    "duration": 46,
    "start_time": "2023-04-06T11:37:14.186Z"
   },
   {
    "duration": 15,
    "start_time": "2023-04-06T11:37:14.237Z"
   },
   {
    "duration": 95,
    "start_time": "2023-04-06T11:37:14.254Z"
   },
   {
    "duration": 24,
    "start_time": "2023-04-06T11:37:14.361Z"
   },
   {
    "duration": 18,
    "start_time": "2023-04-06T11:37:14.387Z"
   },
   {
    "duration": 76,
    "start_time": "2023-04-06T11:37:14.407Z"
   },
   {
    "duration": 16,
    "start_time": "2023-04-06T11:37:14.486Z"
   },
   {
    "duration": 44,
    "start_time": "2023-04-06T11:37:14.504Z"
   },
   {
    "duration": 30,
    "start_time": "2023-04-06T11:37:14.549Z"
   },
   {
    "duration": 14,
    "start_time": "2023-04-06T11:37:14.581Z"
   },
   {
    "duration": 76,
    "start_time": "2023-04-06T11:37:14.597Z"
   },
   {
    "duration": 537626,
    "start_time": "2023-04-06T11:37:14.675Z"
   },
   {
    "duration": 33,
    "start_time": "2023-04-06T11:46:12.303Z"
   },
   {
    "duration": 24,
    "start_time": "2023-04-06T11:46:12.340Z"
   },
   {
    "duration": 97,
    "start_time": "2023-04-06T11:46:12.367Z"
   },
   {
    "duration": 37,
    "start_time": "2023-04-06T11:46:12.466Z"
   },
   {
    "duration": 114,
    "start_time": "2023-04-06T11:46:12.509Z"
   },
   {
    "duration": 363083,
    "start_time": "2023-04-06T11:46:12.625Z"
   },
   {
    "duration": 25,
    "start_time": "2023-04-06T11:52:15.721Z"
   },
   {
    "duration": 38,
    "start_time": "2023-04-06T11:52:15.748Z"
   },
   {
    "duration": 113,
    "start_time": "2023-04-06T11:52:15.788Z"
   },
   {
    "duration": 54,
    "start_time": "2023-04-06T11:52:15.905Z"
   },
   {
    "duration": 221,
    "start_time": "2023-04-06T11:52:15.961Z"
   },
   {
    "duration": 5,
    "start_time": "2023-04-06T11:52:16.184Z"
   },
   {
    "duration": 80,
    "start_time": "2023-04-06T11:52:16.191Z"
   },
   {
    "duration": 25,
    "start_time": "2023-04-06T11:52:16.273Z"
   },
   {
    "duration": 110,
    "start_time": "2023-04-06T11:52:16.300Z"
   },
   {
    "duration": 14,
    "start_time": "2023-04-06T11:52:16.412Z"
   },
   {
    "duration": 59,
    "start_time": "2023-04-06T11:52:16.428Z"
   },
   {
    "duration": 19,
    "start_time": "2023-04-06T11:52:16.489Z"
   },
   {
    "duration": 272,
    "start_time": "2023-04-06T11:52:16.512Z"
   },
   {
    "duration": 6,
    "start_time": "2023-04-06T11:52:16.787Z"
   },
   {
    "duration": 289,
    "start_time": "2023-04-06T11:52:16.795Z"
   },
   {
    "duration": 7,
    "start_time": "2023-04-06T11:52:17.087Z"
   },
   {
    "duration": 425963,
    "start_time": "2023-04-06T11:52:17.096Z"
   },
   {
    "duration": 1064059,
    "start_time": "2023-04-06T11:59:23.061Z"
   },
   {
    "duration": 1132160,
    "start_time": "2023-04-06T12:17:07.123Z"
   },
   {
    "duration": 74777,
    "start_time": "2023-04-06T12:35:59.286Z"
   },
   {
    "duration": 79301,
    "start_time": "2023-04-06T12:37:14.066Z"
   },
   {
    "duration": 11,
    "start_time": "2023-04-06T12:38:33.369Z"
   },
   {
    "duration": 23,
    "start_time": "2023-04-06T12:38:33.381Z"
   },
   {
    "duration": 94,
    "start_time": "2023-04-06T12:38:33.407Z"
   },
   {
    "duration": 1025,
    "start_time": "2023-04-06T12:38:33.503Z"
   },
   {
    "duration": 457,
    "start_time": "2023-04-06T12:38:34.531Z"
   },
   {
    "duration": 95,
    "start_time": "2023-04-06T12:38:34.990Z"
   },
   {
    "duration": 0,
    "start_time": "2023-04-06T12:38:35.088Z"
   },
   {
    "duration": 0,
    "start_time": "2023-04-06T12:38:35.093Z"
   },
   {
    "duration": 0,
    "start_time": "2023-04-06T12:38:35.095Z"
   },
   {
    "duration": 0,
    "start_time": "2023-04-06T12:38:35.097Z"
   },
   {
    "duration": 0,
    "start_time": "2023-04-06T12:38:35.098Z"
   },
   {
    "duration": 0,
    "start_time": "2023-04-06T12:38:35.100Z"
   },
   {
    "duration": 0,
    "start_time": "2023-04-06T12:38:35.102Z"
   },
   {
    "duration": 0,
    "start_time": "2023-04-06T12:38:35.104Z"
   },
   {
    "duration": 0,
    "start_time": "2023-04-06T12:38:35.105Z"
   },
   {
    "duration": 455,
    "start_time": "2023-04-06T12:48:16.845Z"
   },
   {
    "duration": 5,
    "start_time": "2023-04-06T12:48:19.803Z"
   },
   {
    "duration": 783888,
    "start_time": "2023-04-06T12:48:21.703Z"
   },
   {
    "duration": 10,
    "start_time": "2023-04-06T13:01:25.594Z"
   },
   {
    "duration": 65,
    "start_time": "2023-04-06T13:01:25.621Z"
   },
   {
    "duration": 72,
    "start_time": "2023-04-06T13:01:25.688Z"
   },
   {
    "duration": 33140,
    "start_time": "2023-04-06T13:01:25.763Z"
   },
   {
    "duration": 0,
    "start_time": "2023-04-06T13:01:58.907Z"
   },
   {
    "duration": 0,
    "start_time": "2023-04-06T13:01:58.908Z"
   },
   {
    "duration": 0,
    "start_time": "2023-04-06T13:01:58.910Z"
   },
   {
    "duration": 30897,
    "start_time": "2023-04-06T13:33:36.171Z"
   },
   {
    "duration": 32660,
    "start_time": "2023-04-06T13:46:39.447Z"
   },
   {
    "duration": 8,
    "start_time": "2023-04-06T13:47:25.834Z"
   },
   {
    "duration": 32192,
    "start_time": "2023-04-06T13:47:30.295Z"
   },
   {
    "duration": 34009,
    "start_time": "2023-04-06T13:49:18.778Z"
   },
   {
    "duration": 3,
    "start_time": "2023-04-06T13:50:48.178Z"
   },
   {
    "duration": 32974,
    "start_time": "2023-04-06T13:51:04.463Z"
   },
   {
    "duration": 68381,
    "start_time": "2023-04-06T13:52:01.287Z"
   },
   {
    "duration": 0,
    "start_time": "2023-04-06T13:53:09.673Z"
   },
   {
    "duration": 32076,
    "start_time": "2023-04-06T13:53:42.198Z"
   },
   {
    "duration": 60280,
    "start_time": "2023-04-06T13:55:23.455Z"
   },
   {
    "duration": 6,
    "start_time": "2023-04-06T13:57:37.921Z"
   },
   {
    "duration": 33818,
    "start_time": "2023-04-06T13:57:43.844Z"
   },
   {
    "duration": 6,
    "start_time": "2023-04-06T13:59:13.757Z"
   },
   {
    "duration": 4,
    "start_time": "2023-04-06T13:59:21.094Z"
   },
   {
    "duration": 122,
    "start_time": "2023-04-06T13:59:42.355Z"
   },
   {
    "duration": 13,
    "start_time": "2023-04-06T13:59:55.240Z"
   },
   {
    "duration": 104,
    "start_time": "2023-04-06T14:09:35.118Z"
   },
   {
    "duration": 8,
    "start_time": "2023-04-06T18:23:14.315Z"
   },
   {
    "duration": 35172,
    "start_time": "2023-04-06T18:25:48.009Z"
   },
   {
    "duration": 35023,
    "start_time": "2023-04-06T18:27:01.038Z"
   },
   {
    "duration": 34759,
    "start_time": "2023-04-06T18:37:43.349Z"
   },
   {
    "duration": 36092,
    "start_time": "2023-04-06T18:41:32.315Z"
   },
   {
    "duration": 1057,
    "start_time": "2023-04-07T07:03:03.310Z"
   },
   {
    "duration": 145,
    "start_time": "2023-04-07T07:03:33.216Z"
   },
   {
    "duration": 434,
    "start_time": "2023-04-07T07:03:42.562Z"
   },
   {
    "duration": 790,
    "start_time": "2023-04-07T07:03:42.998Z"
   },
   {
    "duration": 3,
    "start_time": "2023-04-07T07:03:43.790Z"
   },
   {
    "duration": 242,
    "start_time": "2023-04-07T07:03:43.795Z"
   },
   {
    "duration": 3016,
    "start_time": "2023-04-07T07:03:44.040Z"
   },
   {
    "duration": 9,
    "start_time": "2023-04-07T07:03:47.058Z"
   },
   {
    "duration": 31,
    "start_time": "2023-04-07T07:03:47.068Z"
   },
   {
    "duration": 166,
    "start_time": "2023-04-07T07:03:47.101Z"
   },
   {
    "duration": 580,
    "start_time": "2023-04-07T07:03:47.269Z"
   },
   {
    "duration": 645,
    "start_time": "2023-04-07T07:03:47.852Z"
   },
   {
    "duration": 42,
    "start_time": "2023-04-07T07:03:48.499Z"
   },
   {
    "duration": 7,
    "start_time": "2023-04-07T07:03:48.543Z"
   },
   {
    "duration": 103,
    "start_time": "2023-04-07T07:03:48.552Z"
   },
   {
    "duration": 90,
    "start_time": "2023-04-07T07:03:48.657Z"
   },
   {
    "duration": 10,
    "start_time": "2023-04-07T07:03:48.750Z"
   },
   {
    "duration": 38,
    "start_time": "2023-04-07T07:03:48.763Z"
   },
   {
    "duration": 32,
    "start_time": "2023-04-07T07:03:48.803Z"
   },
   {
    "duration": 10,
    "start_time": "2023-04-07T07:03:48.837Z"
   },
   {
    "duration": 44,
    "start_time": "2023-04-07T07:03:48.849Z"
   },
   {
    "duration": 71,
    "start_time": "2023-04-07T07:03:48.895Z"
   },
   {
    "duration": 7,
    "start_time": "2023-04-07T07:03:48.968Z"
   },
   {
    "duration": 23,
    "start_time": "2023-04-07T07:03:48.977Z"
   },
   {
    "duration": 71,
    "start_time": "2023-04-07T07:03:49.002Z"
   },
   {
    "duration": 9,
    "start_time": "2023-04-07T07:03:49.074Z"
   },
   {
    "duration": 48,
    "start_time": "2023-04-07T07:03:49.085Z"
   },
   {
    "duration": 11,
    "start_time": "2023-04-07T07:03:49.136Z"
   },
   {
    "duration": 52,
    "start_time": "2023-04-07T07:03:49.149Z"
   },
   {
    "duration": 46,
    "start_time": "2023-04-07T07:03:49.206Z"
   },
   {
    "duration": 11,
    "start_time": "2023-04-07T07:03:49.255Z"
   },
   {
    "duration": 77,
    "start_time": "2023-04-07T07:03:49.269Z"
   },
   {
    "duration": 14,
    "start_time": "2023-04-07T07:03:49.348Z"
   },
   {
    "duration": 25,
    "start_time": "2023-04-07T07:03:49.363Z"
   },
   {
    "duration": 53,
    "start_time": "2023-04-07T07:03:49.389Z"
   },
   {
    "duration": 9,
    "start_time": "2023-04-07T07:03:49.444Z"
   },
   {
    "duration": 28,
    "start_time": "2023-04-07T07:03:49.456Z"
   },
   {
    "duration": 412564,
    "start_time": "2023-04-07T07:03:49.486Z"
   },
   {
    "duration": 12,
    "start_time": "2023-04-07T07:10:42.052Z"
   },
   {
    "duration": 6,
    "start_time": "2023-04-07T07:10:42.066Z"
   },
   {
    "duration": 88,
    "start_time": "2023-04-07T07:10:42.074Z"
   },
   {
    "duration": 18,
    "start_time": "2023-04-07T07:10:42.164Z"
   },
   {
    "duration": 27,
    "start_time": "2023-04-07T07:10:42.184Z"
   },
   {
    "duration": 281781,
    "start_time": "2023-04-07T07:10:42.213Z"
   },
   {
    "duration": 9,
    "start_time": "2023-04-07T07:15:23.996Z"
   },
   {
    "duration": 11,
    "start_time": "2023-04-07T07:15:24.007Z"
   },
   {
    "duration": 68,
    "start_time": "2023-04-07T07:15:24.020Z"
   },
   {
    "duration": 50,
    "start_time": "2023-04-07T07:15:24.090Z"
   },
   {
    "duration": 150,
    "start_time": "2023-04-07T07:15:24.142Z"
   },
   {
    "duration": 5,
    "start_time": "2023-04-07T07:15:24.293Z"
   },
   {
    "duration": 74,
    "start_time": "2023-04-07T07:15:24.299Z"
   },
   {
    "duration": 39,
    "start_time": "2023-04-07T07:15:24.375Z"
   },
   {
    "duration": 89,
    "start_time": "2023-04-07T07:15:24.416Z"
   },
   {
    "duration": 3,
    "start_time": "2023-04-07T07:15:24.507Z"
   },
   {
    "duration": 13,
    "start_time": "2023-04-07T07:15:24.512Z"
   },
   {
    "duration": 13,
    "start_time": "2023-04-07T07:15:24.533Z"
   },
   {
    "duration": 147,
    "start_time": "2023-04-07T07:15:24.548Z"
   },
   {
    "duration": 5,
    "start_time": "2023-04-07T07:15:24.697Z"
   },
   {
    "duration": 184,
    "start_time": "2023-04-07T07:15:24.703Z"
   },
   {
    "duration": 4,
    "start_time": "2023-04-07T07:15:24.889Z"
   },
   {
    "duration": 553664,
    "start_time": "2023-04-07T07:15:24.895Z"
   },
   {
    "duration": 148,
    "start_time": "2023-04-07T07:38:50.478Z"
   },
   {
    "duration": 10,
    "start_time": "2023-04-07T07:39:00.812Z"
   },
   {
    "duration": 1390,
    "start_time": "2023-04-07T07:40:51.228Z"
   },
   {
    "duration": 224,
    "start_time": "2023-04-07T07:41:03.061Z"
   },
   {
    "duration": 1428,
    "start_time": "2023-04-07T07:41:29.779Z"
   },
   {
    "duration": 59,
    "start_time": "2023-04-07T07:41:31.210Z"
   },
   {
    "duration": 3,
    "start_time": "2023-04-07T07:41:31.271Z"
   },
   {
    "duration": 158,
    "start_time": "2023-04-07T07:41:31.276Z"
   },
   {
    "duration": 1037,
    "start_time": "2023-04-07T07:41:31.437Z"
   },
   {
    "duration": 9,
    "start_time": "2023-04-07T07:41:32.476Z"
   },
   {
    "duration": 41,
    "start_time": "2023-04-07T07:41:32.487Z"
   },
   {
    "duration": 236,
    "start_time": "2023-04-07T07:41:32.529Z"
   },
   {
    "duration": 645,
    "start_time": "2023-04-07T07:41:32.767Z"
   },
   {
    "duration": 690,
    "start_time": "2023-04-07T07:41:33.414Z"
   },
   {
    "duration": 45,
    "start_time": "2023-04-07T07:41:34.107Z"
   },
   {
    "duration": 42,
    "start_time": "2023-04-07T07:41:34.154Z"
   },
   {
    "duration": 159,
    "start_time": "2023-04-07T07:41:34.199Z"
   },
   {
    "duration": 107,
    "start_time": "2023-04-07T07:41:34.363Z"
   },
   {
    "duration": 15,
    "start_time": "2023-04-07T07:41:34.472Z"
   },
   {
    "duration": 75,
    "start_time": "2023-04-07T07:41:34.490Z"
   },
   {
    "duration": 24,
    "start_time": "2023-04-07T07:41:34.568Z"
   },
   {
    "duration": 22,
    "start_time": "2023-04-07T07:41:34.595Z"
   },
   {
    "duration": 62,
    "start_time": "2023-04-07T07:41:34.620Z"
   },
   {
    "duration": 73,
    "start_time": "2023-04-07T07:41:34.685Z"
   },
   {
    "duration": 10,
    "start_time": "2023-04-07T07:41:34.759Z"
   },
   {
    "duration": 27,
    "start_time": "2023-04-07T07:41:34.771Z"
   },
   {
    "duration": 69,
    "start_time": "2023-04-07T07:41:34.800Z"
   },
   {
    "duration": 8,
    "start_time": "2023-04-07T07:41:34.871Z"
   },
   {
    "duration": 35,
    "start_time": "2023-04-07T07:41:34.881Z"
   },
   {
    "duration": 24,
    "start_time": "2023-04-07T07:41:34.918Z"
   },
   {
    "duration": 48,
    "start_time": "2023-04-07T07:41:34.945Z"
   },
   {
    "duration": 47,
    "start_time": "2023-04-07T07:41:34.995Z"
   },
   {
    "duration": 12,
    "start_time": "2023-04-07T07:41:35.045Z"
   },
   {
    "duration": 58,
    "start_time": "2023-04-07T07:41:35.059Z"
   },
   {
    "duration": 30,
    "start_time": "2023-04-07T07:41:35.119Z"
   },
   {
    "duration": 33,
    "start_time": "2023-04-07T07:41:35.151Z"
   },
   {
    "duration": 24,
    "start_time": "2023-04-07T07:41:35.186Z"
   },
   {
    "duration": 25,
    "start_time": "2023-04-07T07:41:35.212Z"
   },
   {
    "duration": 30,
    "start_time": "2023-04-07T07:41:35.239Z"
   },
   {
    "duration": 479959,
    "start_time": "2023-04-07T07:41:35.272Z"
   },
   {
    "duration": 13,
    "start_time": "2023-04-07T07:49:35.234Z"
   },
   {
    "duration": 32,
    "start_time": "2023-04-07T07:49:35.250Z"
   },
   {
    "duration": 104,
    "start_time": "2023-04-07T07:49:35.284Z"
   },
   {
    "duration": 32,
    "start_time": "2023-04-07T07:49:35.390Z"
   },
   {
    "duration": 65,
    "start_time": "2023-04-07T07:49:35.429Z"
   },
   {
    "duration": 1523,
    "start_time": "2023-04-07T07:51:19.860Z"
   },
   {
    "duration": 56,
    "start_time": "2023-04-07T07:51:21.386Z"
   },
   {
    "duration": 5,
    "start_time": "2023-04-07T07:51:21.445Z"
   },
   {
    "duration": 158,
    "start_time": "2023-04-07T07:51:21.453Z"
   },
   {
    "duration": 1198,
    "start_time": "2023-04-07T07:51:21.614Z"
   },
   {
    "duration": 19,
    "start_time": "2023-04-07T07:51:22.814Z"
   },
   {
    "duration": 72,
    "start_time": "2023-04-07T07:51:22.838Z"
   },
   {
    "duration": 220,
    "start_time": "2023-04-07T07:51:22.912Z"
   },
   {
    "duration": 649,
    "start_time": "2023-04-07T07:51:23.135Z"
   },
   {
    "duration": 814,
    "start_time": "2023-04-07T07:51:23.786Z"
   },
   {
    "duration": 56,
    "start_time": "2023-04-07T07:51:24.602Z"
   },
   {
    "duration": 9,
    "start_time": "2023-04-07T07:51:24.660Z"
   },
   {
    "duration": 122,
    "start_time": "2023-04-07T07:51:24.671Z"
   },
   {
    "duration": 110,
    "start_time": "2023-04-07T07:51:24.797Z"
   },
   {
    "duration": 26,
    "start_time": "2023-04-07T07:51:24.909Z"
   },
   {
    "duration": 65,
    "start_time": "2023-04-07T07:51:24.938Z"
   },
   {
    "duration": 10,
    "start_time": "2023-04-07T07:51:25.005Z"
   },
   {
    "duration": 37,
    "start_time": "2023-04-07T07:51:25.019Z"
   },
   {
    "duration": 61,
    "start_time": "2023-04-07T07:51:25.061Z"
   },
   {
    "duration": 76,
    "start_time": "2023-04-07T07:51:25.124Z"
   },
   {
    "duration": 10,
    "start_time": "2023-04-07T07:51:25.202Z"
   },
   {
    "duration": 53,
    "start_time": "2023-04-07T07:51:25.213Z"
   },
   {
    "duration": 46,
    "start_time": "2023-04-07T07:51:25.270Z"
   },
   {
    "duration": 24,
    "start_time": "2023-04-07T07:51:25.318Z"
   },
   {
    "duration": 38,
    "start_time": "2023-04-07T07:51:25.345Z"
   },
   {
    "duration": 12,
    "start_time": "2023-04-07T07:51:25.385Z"
   },
   {
    "duration": 84,
    "start_time": "2023-04-07T07:51:25.399Z"
   },
   {
    "duration": 19,
    "start_time": "2023-04-07T07:51:25.485Z"
   },
   {
    "duration": 13,
    "start_time": "2023-04-07T07:51:25.506Z"
   },
   {
    "duration": 65,
    "start_time": "2023-04-07T07:51:25.535Z"
   },
   {
    "duration": 15,
    "start_time": "2023-04-07T07:51:25.602Z"
   },
   {
    "duration": 62,
    "start_time": "2023-04-07T07:51:25.619Z"
   },
   {
    "duration": 37,
    "start_time": "2023-04-07T07:51:25.683Z"
   },
   {
    "duration": 7,
    "start_time": "2023-04-07T07:51:25.725Z"
   },
   {
    "duration": 62,
    "start_time": "2023-04-07T07:51:25.734Z"
   },
   {
    "duration": 514346,
    "start_time": "2023-04-07T07:51:25.798Z"
   },
   {
    "duration": 16,
    "start_time": "2023-04-07T08:00:00.146Z"
   },
   {
    "duration": 29,
    "start_time": "2023-04-07T08:00:00.164Z"
   },
   {
    "duration": 97,
    "start_time": "2023-04-07T08:00:00.195Z"
   },
   {
    "duration": 14,
    "start_time": "2023-04-07T08:00:00.295Z"
   },
   {
    "duration": 86,
    "start_time": "2023-04-07T08:00:00.315Z"
   },
   {
    "duration": 318906,
    "start_time": "2023-04-07T08:00:00.403Z"
   },
   {
    "duration": 10,
    "start_time": "2023-04-07T08:05:19.311Z"
   },
   {
    "duration": 41,
    "start_time": "2023-04-07T08:05:19.336Z"
   },
   {
    "duration": 86,
    "start_time": "2023-04-07T08:05:19.379Z"
   },
   {
    "duration": 36,
    "start_time": "2023-04-07T08:05:19.468Z"
   },
   {
    "duration": 177,
    "start_time": "2023-04-07T08:05:19.506Z"
   },
   {
    "duration": 5,
    "start_time": "2023-04-07T08:05:19.684Z"
   },
   {
    "duration": 79,
    "start_time": "2023-04-07T08:05:19.691Z"
   },
   {
    "duration": 34,
    "start_time": "2023-04-07T08:05:19.773Z"
   },
   {
    "duration": 103,
    "start_time": "2023-04-07T08:05:19.809Z"
   },
   {
    "duration": 3,
    "start_time": "2023-04-07T08:05:19.914Z"
   },
   {
    "duration": 16,
    "start_time": "2023-04-07T08:05:19.919Z"
   },
   {
    "duration": 52,
    "start_time": "2023-04-07T08:05:19.940Z"
   },
   {
    "duration": 123,
    "start_time": "2023-04-07T08:05:19.994Z"
   },
   {
    "duration": 6,
    "start_time": "2023-04-07T08:05:20.119Z"
   },
   {
    "duration": 215,
    "start_time": "2023-04-07T08:05:20.126Z"
   },
   {
    "duration": 10,
    "start_time": "2023-04-07T08:05:20.353Z"
   },
   {
    "duration": 457700,
    "start_time": "2023-04-07T08:05:20.365Z"
   },
   {
    "duration": 631508,
    "start_time": "2023-04-07T08:12:58.069Z"
   },
   {
    "duration": 764503,
    "start_time": "2023-04-07T08:23:29.579Z"
   },
   {
    "duration": 74825,
    "start_time": "2023-04-07T08:36:14.084Z"
   },
   {
    "duration": 73846,
    "start_time": "2023-04-07T08:37:28.911Z"
   },
   {
    "duration": 9,
    "start_time": "2023-04-07T08:38:42.759Z"
   },
   {
    "duration": 18,
    "start_time": "2023-04-07T08:38:42.769Z"
   },
   {
    "duration": 62,
    "start_time": "2023-04-07T08:38:42.789Z"
   },
   {
    "duration": 1110,
    "start_time": "2023-04-07T08:38:42.853Z"
   },
   {
    "duration": 438,
    "start_time": "2023-04-07T08:38:43.965Z"
   },
   {
    "duration": 404,
    "start_time": "2023-04-07T08:38:44.405Z"
   },
   {
    "duration": 5,
    "start_time": "2023-04-07T08:38:44.811Z"
   },
   {
    "duration": 684764,
    "start_time": "2023-04-07T08:38:44.820Z"
   },
   {
    "duration": 6,
    "start_time": "2023-04-07T08:50:09.585Z"
   },
   {
    "duration": 8,
    "start_time": "2023-04-07T08:50:09.593Z"
   },
   {
    "duration": 9,
    "start_time": "2023-04-07T08:50:09.603Z"
   },
   {
    "duration": 31840,
    "start_time": "2023-04-07T08:50:09.613Z"
   },
   {
    "duration": 32060,
    "start_time": "2023-04-07T08:50:41.456Z"
   },
   {
    "duration": 56335,
    "start_time": "2023-04-07T08:51:13.517Z"
   },
   {
    "duration": 85,
    "start_time": "2023-04-07T08:52:09.855Z"
   },
   {
    "duration": 32075,
    "start_time": "2023-04-07T08:52:09.945Z"
   },
   {
    "duration": 0,
    "start_time": "2023-04-07T08:52:42.022Z"
   },
   {
    "duration": 0,
    "start_time": "2023-04-07T08:52:42.023Z"
   },
   {
    "duration": 0,
    "start_time": "2023-04-07T08:52:42.023Z"
   },
   {
    "duration": 10,
    "start_time": "2023-04-07T08:57:42.509Z"
   },
   {
    "duration": 19,
    "start_time": "2023-04-07T08:57:53.830Z"
   },
   {
    "duration": 10,
    "start_time": "2023-04-07T09:01:13.092Z"
   },
   {
    "duration": 11,
    "start_time": "2023-04-07T09:02:05.661Z"
   },
   {
    "duration": 13,
    "start_time": "2023-04-07T09:03:22.626Z"
   },
   {
    "duration": 12,
    "start_time": "2023-04-07T09:04:09.811Z"
   },
   {
    "duration": 4,
    "start_time": "2023-04-07T09:05:21.131Z"
   },
   {
    "duration": 27310,
    "start_time": "2023-04-07T09:05:21.811Z"
   },
   {
    "duration": 3,
    "start_time": "2023-04-07T09:06:11.954Z"
   },
   {
    "duration": 4275,
    "start_time": "2023-04-07T09:06:27.292Z"
   },
   {
    "duration": 7,
    "start_time": "2023-04-07T09:08:26.455Z"
   },
   {
    "duration": 13,
    "start_time": "2023-04-07T09:08:40.433Z"
   },
   {
    "duration": 4519,
    "start_time": "2023-04-07T09:08:44.858Z"
   },
   {
    "duration": 4,
    "start_time": "2023-04-07T09:09:43.876Z"
   },
   {
    "duration": 9,
    "start_time": "2023-04-07T09:10:00.363Z"
   },
   {
    "duration": 63,
    "start_time": "2023-04-07T09:26:17.208Z"
   },
   {
    "duration": 41,
    "start_time": "2023-04-07T09:27:16.113Z"
   },
   {
    "duration": 47,
    "start_time": "2023-04-07T09:27:37.599Z"
   },
   {
    "duration": 139,
    "start_time": "2023-04-07T09:35:24.048Z"
   },
   {
    "duration": 144,
    "start_time": "2023-04-07T09:35:57.968Z"
   },
   {
    "duration": 4,
    "start_time": "2023-04-07T09:36:09.029Z"
   },
   {
    "duration": 4163,
    "start_time": "2023-04-07T09:37:43.406Z"
   },
   {
    "duration": 4033,
    "start_time": "2023-04-07T09:38:01.867Z"
   },
   {
    "duration": 4160,
    "start_time": "2023-04-07T09:38:11.484Z"
   },
   {
    "duration": 4135,
    "start_time": "2023-04-07T09:38:38.853Z"
   },
   {
    "duration": 4142,
    "start_time": "2023-04-07T09:39:16.488Z"
   },
   {
    "duration": 4219,
    "start_time": "2023-04-07T09:39:43.237Z"
   },
   {
    "duration": 21,
    "start_time": "2023-04-07T09:40:11.114Z"
   },
   {
    "duration": 4259,
    "start_time": "2023-04-07T09:40:25.721Z"
   },
   {
    "duration": 144,
    "start_time": "2023-04-07T09:46:20.741Z"
   },
   {
    "duration": 138,
    "start_time": "2023-04-07T09:46:42.292Z"
   },
   {
    "duration": 5,
    "start_time": "2023-04-07T10:31:37.828Z"
   },
   {
    "duration": 374,
    "start_time": "2023-04-07T10:31:53.530Z"
   },
   {
    "duration": 53,
    "start_time": "2023-04-07T10:32:06.030Z"
   },
   {
    "duration": 4,
    "start_time": "2023-04-07T10:32:19.840Z"
   },
   {
    "duration": 681,
    "start_time": "2023-04-07T10:59:08.913Z"
   },
   {
    "duration": 695,
    "start_time": "2023-04-07T10:59:18.756Z"
   },
   {
    "duration": 5,
    "start_time": "2023-04-07T10:59:28.458Z"
   },
   {
    "duration": 675,
    "start_time": "2023-04-07T10:59:29.208Z"
   },
   {
    "duration": 635,
    "start_time": "2023-04-07T11:00:35.610Z"
   },
   {
    "duration": 733,
    "start_time": "2023-04-07T11:02:32.809Z"
   },
   {
    "duration": 627,
    "start_time": "2023-04-07T11:04:02.914Z"
   },
   {
    "duration": 3181,
    "start_time": "2023-04-07T11:07:59.949Z"
   },
   {
    "duration": 3277,
    "start_time": "2023-04-07T11:08:39.323Z"
   },
   {
    "duration": 3301,
    "start_time": "2023-04-07T11:09:12.055Z"
   },
   {
    "duration": 3391,
    "start_time": "2023-04-07T11:10:27.939Z"
   },
   {
    "duration": 20943,
    "start_time": "2023-04-07T11:10:43.541Z"
   },
   {
    "duration": 6,
    "start_time": "2023-04-07T11:11:04.486Z"
   },
   {
    "duration": 3563,
    "start_time": "2023-04-07T11:12:25.558Z"
   },
   {
    "duration": 13,
    "start_time": "2023-04-07T11:13:19.622Z"
   },
   {
    "duration": 10,
    "start_time": "2023-04-07T11:13:41.245Z"
   },
   {
    "duration": 11,
    "start_time": "2023-04-07T11:14:43.100Z"
   },
   {
    "duration": 51,
    "start_time": "2023-04-07T11:15:00.603Z"
   },
   {
    "duration": 847,
    "start_time": "2023-04-07T19:20:07.797Z"
   },
   {
    "duration": 1219,
    "start_time": "2023-04-07T19:20:22.298Z"
   },
   {
    "duration": 44,
    "start_time": "2023-04-07T19:20:23.519Z"
   },
   {
    "duration": 3,
    "start_time": "2023-04-07T19:20:23.565Z"
   },
   {
    "duration": 97,
    "start_time": "2023-04-07T19:20:23.570Z"
   },
   {
    "duration": 2778,
    "start_time": "2023-04-07T19:20:23.668Z"
   },
   {
    "duration": 7,
    "start_time": "2023-04-07T19:20:26.447Z"
   },
   {
    "duration": 23,
    "start_time": "2023-04-07T19:20:26.455Z"
   },
   {
    "duration": 124,
    "start_time": "2023-04-07T19:20:26.480Z"
   },
   {
    "duration": 413,
    "start_time": "2023-04-07T19:20:26.606Z"
   },
   {
    "duration": 506,
    "start_time": "2023-04-07T19:20:27.021Z"
   },
   {
    "duration": 37,
    "start_time": "2023-04-07T19:20:27.528Z"
   },
   {
    "duration": 5,
    "start_time": "2023-04-07T19:20:27.567Z"
   },
   {
    "duration": 85,
    "start_time": "2023-04-07T19:20:27.573Z"
   },
   {
    "duration": 69,
    "start_time": "2023-04-07T19:20:27.659Z"
   },
   {
    "duration": 19,
    "start_time": "2023-04-07T19:20:27.730Z"
   },
   {
    "duration": 30,
    "start_time": "2023-04-07T19:20:27.750Z"
   },
   {
    "duration": 13,
    "start_time": "2023-04-07T19:20:27.781Z"
   },
   {
    "duration": 9,
    "start_time": "2023-04-07T19:20:27.795Z"
   },
   {
    "duration": 51,
    "start_time": "2023-04-07T19:20:27.805Z"
   },
   {
    "duration": 41,
    "start_time": "2023-04-07T19:20:27.857Z"
   },
   {
    "duration": 7,
    "start_time": "2023-04-07T19:20:27.900Z"
   },
   {
    "duration": 41,
    "start_time": "2023-04-07T19:20:27.908Z"
   },
   {
    "duration": 36,
    "start_time": "2023-04-07T19:20:27.950Z"
   },
   {
    "duration": 7,
    "start_time": "2023-04-07T19:20:27.988Z"
   },
   {
    "duration": 19,
    "start_time": "2023-04-07T19:20:27.997Z"
   },
   {
    "duration": 6,
    "start_time": "2023-04-07T19:20:28.018Z"
   },
   {
    "duration": 35,
    "start_time": "2023-04-07T19:20:28.049Z"
   },
   {
    "duration": 15,
    "start_time": "2023-04-07T19:20:28.088Z"
   },
   {
    "duration": 6,
    "start_time": "2023-04-07T19:20:28.105Z"
   },
   {
    "duration": 64,
    "start_time": "2023-04-07T19:20:28.113Z"
   },
   {
    "duration": 11,
    "start_time": "2023-04-07T19:20:28.179Z"
   },
   {
    "duration": 21,
    "start_time": "2023-04-07T19:20:28.192Z"
   },
   {
    "duration": 36,
    "start_time": "2023-04-07T19:20:28.214Z"
   },
   {
    "duration": 4,
    "start_time": "2023-04-07T19:20:28.252Z"
   },
   {
    "duration": 15,
    "start_time": "2023-04-07T19:20:28.258Z"
   },
   {
    "duration": 327204,
    "start_time": "2023-04-07T19:20:28.274Z"
   },
   {
    "duration": 6,
    "start_time": "2023-04-07T19:25:55.479Z"
   },
   {
    "duration": 7,
    "start_time": "2023-04-07T19:25:55.487Z"
   },
   {
    "duration": 43,
    "start_time": "2023-04-07T19:25:55.495Z"
   },
   {
    "duration": 10,
    "start_time": "2023-04-07T19:25:55.549Z"
   },
   {
    "duration": 21,
    "start_time": "2023-04-07T19:25:55.561Z"
   },
   {
    "duration": 221521,
    "start_time": "2023-04-07T19:25:55.584Z"
   },
   {
    "duration": 7,
    "start_time": "2023-04-07T19:29:37.107Z"
   },
   {
    "duration": 5,
    "start_time": "2023-04-07T19:29:37.115Z"
   },
   {
    "duration": 62,
    "start_time": "2023-04-07T19:29:37.121Z"
   },
   {
    "duration": 31,
    "start_time": "2023-04-07T19:29:37.185Z"
   },
   {
    "duration": 149,
    "start_time": "2023-04-07T19:29:37.218Z"
   },
   {
    "duration": 4,
    "start_time": "2023-04-07T19:29:37.369Z"
   },
   {
    "duration": 42,
    "start_time": "2023-04-07T19:29:37.374Z"
   },
   {
    "duration": 17,
    "start_time": "2023-04-07T19:29:37.418Z"
   },
   {
    "duration": 80,
    "start_time": "2023-04-07T19:29:37.437Z"
   },
   {
    "duration": 3,
    "start_time": "2023-04-07T19:29:37.518Z"
   },
   {
    "duration": 6,
    "start_time": "2023-04-07T19:29:37.523Z"
   },
   {
    "duration": 34,
    "start_time": "2023-04-07T19:29:37.531Z"
   },
   {
    "duration": 93,
    "start_time": "2023-04-07T19:29:37.567Z"
   },
   {
    "duration": 6,
    "start_time": "2023-04-07T19:29:37.662Z"
   },
   {
    "duration": 165,
    "start_time": "2023-04-07T19:29:37.670Z"
   },
   {
    "duration": 4,
    "start_time": "2023-04-07T19:29:37.837Z"
   },
   {
    "duration": 704207,
    "start_time": "2023-04-07T19:29:37.849Z"
   },
   {
    "duration": 2026497,
    "start_time": "2023-04-07T19:41:22.060Z"
   },
   {
    "duration": 7,
    "start_time": "2023-04-07T20:25:27.131Z"
   },
   {
    "duration": 1135,
    "start_time": "2023-04-07T20:26:58.371Z"
   },
   {
    "duration": 61,
    "start_time": "2023-04-07T20:26:59.509Z"
   },
   {
    "duration": 4,
    "start_time": "2023-04-07T20:26:59.572Z"
   },
   {
    "duration": 105,
    "start_time": "2023-04-07T20:26:59.579Z"
   },
   {
    "duration": 847,
    "start_time": "2023-04-07T20:26:59.686Z"
   },
   {
    "duration": 8,
    "start_time": "2023-04-07T20:27:00.535Z"
   },
   {
    "duration": 61,
    "start_time": "2023-04-07T20:27:00.544Z"
   },
   {
    "duration": 136,
    "start_time": "2023-04-07T20:27:00.607Z"
   },
   {
    "duration": 490,
    "start_time": "2023-04-07T20:27:00.745Z"
   },
   {
    "duration": 597,
    "start_time": "2023-04-07T20:27:01.237Z"
   },
   {
    "duration": 42,
    "start_time": "2023-04-07T20:27:01.835Z"
   },
   {
    "duration": 23,
    "start_time": "2023-04-07T20:27:01.879Z"
   },
   {
    "duration": 114,
    "start_time": "2023-04-07T20:27:01.903Z"
   },
   {
    "duration": 114,
    "start_time": "2023-04-07T20:27:02.018Z"
   },
   {
    "duration": 11,
    "start_time": "2023-04-07T20:27:02.134Z"
   },
   {
    "duration": 60,
    "start_time": "2023-04-07T20:27:02.147Z"
   },
   {
    "duration": 24,
    "start_time": "2023-04-07T20:27:02.208Z"
   },
   {
    "duration": 39,
    "start_time": "2023-04-07T20:27:02.233Z"
   },
   {
    "duration": 57,
    "start_time": "2023-04-07T20:27:02.273Z"
   },
   {
    "duration": 50,
    "start_time": "2023-04-07T20:27:02.332Z"
   },
   {
    "duration": 7,
    "start_time": "2023-04-07T20:27:02.383Z"
   },
   {
    "duration": 41,
    "start_time": "2023-04-07T20:27:02.391Z"
   },
   {
    "duration": 41,
    "start_time": "2023-04-07T20:27:02.434Z"
   },
   {
    "duration": 11,
    "start_time": "2023-04-07T20:27:02.477Z"
   },
   {
    "duration": 44,
    "start_time": "2023-04-07T20:27:02.490Z"
   },
   {
    "duration": 33,
    "start_time": "2023-04-07T20:27:02.535Z"
   },
   {
    "duration": 90,
    "start_time": "2023-04-07T20:27:02.569Z"
   },
   {
    "duration": 18,
    "start_time": "2023-04-07T20:27:02.664Z"
   },
   {
    "duration": 8,
    "start_time": "2023-04-07T20:27:02.683Z"
   },
   {
    "duration": 54,
    "start_time": "2023-04-07T20:27:02.692Z"
   },
   {
    "duration": 14,
    "start_time": "2023-04-07T20:27:02.748Z"
   },
   {
    "duration": 33,
    "start_time": "2023-04-07T20:27:02.765Z"
   },
   {
    "duration": 19,
    "start_time": "2023-04-07T20:27:02.800Z"
   },
   {
    "duration": 11,
    "start_time": "2023-04-07T20:27:02.820Z"
   },
   {
    "duration": 35,
    "start_time": "2023-04-07T20:27:02.832Z"
   },
   {
    "duration": 365827,
    "start_time": "2023-04-07T20:27:02.869Z"
   },
   {
    "duration": 7,
    "start_time": "2023-04-07T20:33:08.697Z"
   },
   {
    "duration": 13,
    "start_time": "2023-04-07T20:33:08.705Z"
   },
   {
    "duration": 65,
    "start_time": "2023-04-07T20:33:08.720Z"
   },
   {
    "duration": 12,
    "start_time": "2023-04-07T20:33:08.787Z"
   },
   {
    "duration": 26,
    "start_time": "2023-04-07T20:33:08.801Z"
   },
   {
    "duration": 244811,
    "start_time": "2023-04-07T20:33:08.828Z"
   },
   {
    "duration": 8,
    "start_time": "2023-04-07T20:37:13.641Z"
   },
   {
    "duration": 27,
    "start_time": "2023-04-07T20:37:13.651Z"
   },
   {
    "duration": 49,
    "start_time": "2023-04-07T20:37:13.680Z"
   },
   {
    "duration": 37,
    "start_time": "2023-04-07T20:37:13.731Z"
   },
   {
    "duration": 163,
    "start_time": "2023-04-07T20:37:13.770Z"
   },
   {
    "duration": 13,
    "start_time": "2023-04-07T20:37:13.935Z"
   },
   {
    "duration": 50,
    "start_time": "2023-04-07T20:37:13.950Z"
   },
   {
    "duration": 23,
    "start_time": "2023-04-07T20:37:14.001Z"
   },
   {
    "duration": 88,
    "start_time": "2023-04-07T20:37:14.026Z"
   },
   {
    "duration": 3,
    "start_time": "2023-04-07T20:37:14.116Z"
   },
   {
    "duration": 5,
    "start_time": "2023-04-07T20:37:14.121Z"
   },
   {
    "duration": 4,
    "start_time": "2023-04-07T20:37:14.127Z"
   },
   {
    "duration": 78,
    "start_time": "2023-04-07T20:37:14.156Z"
   },
   {
    "duration": 5,
    "start_time": "2023-04-07T20:37:14.235Z"
   },
   {
    "duration": 174,
    "start_time": "2023-04-07T20:37:14.242Z"
   },
   {
    "duration": 4,
    "start_time": "2023-04-07T20:37:14.418Z"
   },
   {
    "duration": 1033953,
    "start_time": "2023-04-07T20:37:14.423Z"
   },
   {
    "duration": 497473,
    "start_time": "2023-04-07T20:54:28.378Z"
   },
   {
    "duration": 18205,
    "start_time": "2023-04-07T21:02:45.853Z"
   },
   {
    "duration": 62819,
    "start_time": "2023-04-07T21:03:04.060Z"
   },
   {
    "duration": 62600,
    "start_time": "2023-04-07T21:04:06.880Z"
   },
   {
    "duration": 8,
    "start_time": "2023-04-07T21:05:09.482Z"
   },
   {
    "duration": 6,
    "start_time": "2023-04-07T21:05:09.492Z"
   },
   {
    "duration": 52,
    "start_time": "2023-04-07T21:05:09.499Z"
   },
   {
    "duration": 575,
    "start_time": "2023-04-07T21:05:09.552Z"
   },
   {
    "duration": 310,
    "start_time": "2023-04-07T21:05:10.129Z"
   },
   {
    "duration": 250,
    "start_time": "2023-04-07T21:05:10.441Z"
   },
   {
    "duration": 2,
    "start_time": "2023-04-07T21:05:10.693Z"
   },
   {
    "duration": 413160,
    "start_time": "2023-04-07T21:05:10.697Z"
   },
   {
    "duration": 4,
    "start_time": "2023-04-07T21:12:03.859Z"
   },
   {
    "duration": 11,
    "start_time": "2023-04-07T21:12:03.865Z"
   },
   {
    "duration": 6,
    "start_time": "2023-04-07T21:12:03.877Z"
   },
   {
    "duration": 3170,
    "start_time": "2023-04-07T21:12:03.884Z"
   },
   {
    "duration": 19139,
    "start_time": "2023-04-07T21:12:07.056Z"
   },
   {
    "duration": 17470,
    "start_time": "2023-04-07T21:12:26.196Z"
   },
   {
    "duration": 82,
    "start_time": "2023-04-07T21:12:43.668Z"
   },
   {
    "duration": 234,
    "start_time": "2023-04-07T21:12:43.752Z"
   },
   {
    "duration": 0,
    "start_time": "2023-04-07T21:12:43.987Z"
   },
   {
    "duration": 0,
    "start_time": "2023-04-07T21:12:43.989Z"
   },
   {
    "duration": 0,
    "start_time": "2023-04-07T21:12:43.990Z"
   },
   {
    "duration": 0,
    "start_time": "2023-04-07T21:12:43.991Z"
   },
   {
    "duration": 0,
    "start_time": "2023-04-07T21:12:43.992Z"
   },
   {
    "duration": 0,
    "start_time": "2023-04-07T21:12:43.993Z"
   },
   {
    "duration": 0,
    "start_time": "2023-04-07T21:12:43.994Z"
   },
   {
    "duration": 0,
    "start_time": "2023-04-07T21:12:43.994Z"
   },
   {
    "duration": 3059,
    "start_time": "2023-04-07T21:15:45.984Z"
   },
   {
    "duration": 3076,
    "start_time": "2023-04-07T21:31:25.925Z"
   },
   {
    "duration": 14,
    "start_time": "2023-04-07T21:39:32.782Z"
   },
   {
    "duration": 59,
    "start_time": "2023-04-07T21:42:50.951Z"
   },
   {
    "duration": 63,
    "start_time": "2023-04-07T21:43:30.032Z"
   },
   {
    "duration": 32,
    "start_time": "2023-04-07T21:43:46.800Z"
   },
   {
    "duration": 29,
    "start_time": "2023-04-07T21:44:13.531Z"
   },
   {
    "duration": 10,
    "start_time": "2023-04-07T21:45:21.252Z"
   },
   {
    "duration": 77,
    "start_time": "2023-04-07T21:46:47.321Z"
   },
   {
    "duration": 72,
    "start_time": "2023-04-07T21:49:20.515Z"
   },
   {
    "duration": 33,
    "start_time": "2023-04-07T21:51:26.662Z"
   },
   {
    "duration": 90,
    "start_time": "2023-04-07T21:51:28.793Z"
   },
   {
    "duration": 9,
    "start_time": "2023-04-07T21:53:16.725Z"
   },
   {
    "duration": 3,
    "start_time": "2023-04-07T21:55:55.868Z"
   },
   {
    "duration": 9,
    "start_time": "2023-04-07T21:55:56.882Z"
   },
   {
    "duration": 2,
    "start_time": "2023-04-07T21:57:32.814Z"
   },
   {
    "duration": 756,
    "start_time": "2023-04-07T21:57:35.369Z"
   },
   {
    "duration": 37,
    "start_time": "2023-04-07T21:57:43.476Z"
   },
   {
    "duration": 92,
    "start_time": "2023-04-07T21:57:46.077Z"
   },
   {
    "duration": 3,
    "start_time": "2023-04-07T21:59:06.169Z"
   },
   {
    "duration": 130,
    "start_time": "2023-04-07T21:59:09.162Z"
   },
   {
    "duration": 34,
    "start_time": "2023-04-07T21:59:12.865Z"
   },
   {
    "duration": 86,
    "start_time": "2023-04-07T21:59:13.832Z"
   },
   {
    "duration": 81,
    "start_time": "2023-04-07T21:59:19.136Z"
   },
   {
    "duration": 52,
    "start_time": "2023-04-07T21:59:35.743Z"
   },
   {
    "duration": 346,
    "start_time": "2023-04-07T22:02:20.289Z"
   },
   {
    "duration": 94,
    "start_time": "2023-04-07T22:02:24.080Z"
   },
   {
    "duration": 25,
    "start_time": "2023-04-07T22:03:00.653Z"
   },
   {
    "duration": 136,
    "start_time": "2023-04-07T22:03:08.329Z"
   },
   {
    "duration": 36,
    "start_time": "2023-04-07T22:03:12.933Z"
   },
   {
    "duration": 90,
    "start_time": "2023-04-07T22:03:13.985Z"
   },
   {
    "duration": 92,
    "start_time": "2023-04-07T22:05:40.440Z"
   },
   {
    "duration": 50,
    "start_time": "2023-04-07T22:17:44.390Z"
   },
   {
    "duration": 42,
    "start_time": "2023-04-07T22:19:58.117Z"
   },
   {
    "duration": 17,
    "start_time": "2023-04-07T22:25:42.752Z"
   },
   {
    "duration": 11,
    "start_time": "2023-04-07T22:26:21.713Z"
   },
   {
    "duration": 13,
    "start_time": "2023-04-07T22:27:30.665Z"
   },
   {
    "duration": 3,
    "start_time": "2023-04-07T22:27:51.108Z"
   },
   {
    "duration": 178,
    "start_time": "2023-04-07T22:27:59.546Z"
   },
   {
    "duration": 37,
    "start_time": "2023-04-07T22:28:00.208Z"
   },
   {
    "duration": 82,
    "start_time": "2023-04-07T22:28:01.365Z"
   },
   {
    "duration": 40,
    "start_time": "2023-04-07T22:35:10.997Z"
   },
   {
    "duration": 3,
    "start_time": "2023-04-07T22:36:12.353Z"
   },
   {
    "duration": 2,
    "start_time": "2023-04-07T22:38:29.723Z"
   },
   {
    "duration": 8,
    "start_time": "2023-04-07T22:38:30.432Z"
   },
   {
    "duration": 11,
    "start_time": "2023-04-07T22:38:32.060Z"
   },
   {
    "duration": 125,
    "start_time": "2023-04-07T22:38:43.124Z"
   },
   {
    "duration": 3,
    "start_time": "2023-04-07T22:42:25.104Z"
   },
   {
    "duration": 26,
    "start_time": "2023-04-07T22:42:25.669Z"
   },
   {
    "duration": 15,
    "start_time": "2023-04-07T22:42:26.276Z"
   },
   {
    "duration": 2,
    "start_time": "2023-04-07T22:42:26.781Z"
   },
   {
    "duration": 162,
    "start_time": "2023-04-07T22:42:27.556Z"
   },
   {
    "duration": 798,
    "start_time": "2023-04-07T22:42:28.461Z"
   },
   {
    "duration": 134505,
    "start_time": "2023-04-07T22:42:33.862Z"
   },
   {
    "duration": 22,
    "start_time": "2023-04-07T22:44:58.668Z"
   },
   {
    "duration": 1045,
    "start_time": "2023-04-07T23:01:25.408Z"
   },
   {
    "duration": 44,
    "start_time": "2023-04-07T23:01:26.455Z"
   },
   {
    "duration": 3,
    "start_time": "2023-04-07T23:01:26.501Z"
   },
   {
    "duration": 112,
    "start_time": "2023-04-07T23:01:26.506Z"
   },
   {
    "duration": 806,
    "start_time": "2023-04-07T23:01:26.620Z"
   },
   {
    "duration": 8,
    "start_time": "2023-04-07T23:01:27.428Z"
   },
   {
    "duration": 41,
    "start_time": "2023-04-07T23:01:27.437Z"
   },
   {
    "duration": 122,
    "start_time": "2023-04-07T23:01:27.480Z"
   },
   {
    "duration": 419,
    "start_time": "2023-04-07T23:01:27.604Z"
   },
   {
    "duration": 539,
    "start_time": "2023-04-07T23:01:28.026Z"
   },
   {
    "duration": 36,
    "start_time": "2023-04-07T23:01:28.567Z"
   },
   {
    "duration": 17,
    "start_time": "2023-04-07T23:01:28.605Z"
   },
   {
    "duration": 91,
    "start_time": "2023-04-07T23:01:28.624Z"
   },
   {
    "duration": 95,
    "start_time": "2023-04-07T23:01:28.717Z"
   },
   {
    "duration": 10,
    "start_time": "2023-04-07T23:01:28.813Z"
   },
   {
    "duration": 42,
    "start_time": "2023-04-07T23:01:28.824Z"
   },
   {
    "duration": 49,
    "start_time": "2023-04-07T23:01:28.867Z"
   },
   {
    "duration": 38,
    "start_time": "2023-04-07T23:01:28.918Z"
   },
   {
    "duration": 58,
    "start_time": "2023-04-07T23:01:28.958Z"
   },
   {
    "duration": 51,
    "start_time": "2023-04-07T23:01:29.018Z"
   },
   {
    "duration": 9,
    "start_time": "2023-04-07T23:01:29.070Z"
   },
   {
    "duration": 21,
    "start_time": "2023-04-07T23:01:29.080Z"
   },
   {
    "duration": 62,
    "start_time": "2023-04-07T23:01:29.103Z"
   },
   {
    "duration": 9,
    "start_time": "2023-04-07T23:01:29.167Z"
   },
   {
    "duration": 20,
    "start_time": "2023-04-07T23:01:29.177Z"
   },
   {
    "duration": 7,
    "start_time": "2023-04-07T23:01:29.198Z"
   },
   {
    "duration": 58,
    "start_time": "2023-04-07T23:01:29.207Z"
   },
   {
    "duration": 15,
    "start_time": "2023-04-07T23:01:29.269Z"
   },
   {
    "duration": 8,
    "start_time": "2023-04-07T23:01:29.286Z"
   },
   {
    "duration": 58,
    "start_time": "2023-04-07T23:01:29.296Z"
   },
   {
    "duration": 13,
    "start_time": "2023-04-07T23:01:29.356Z"
   },
   {
    "duration": 23,
    "start_time": "2023-04-07T23:01:29.370Z"
   },
   {
    "duration": 20,
    "start_time": "2023-04-07T23:01:29.395Z"
   },
   {
    "duration": 5,
    "start_time": "2023-04-07T23:01:29.416Z"
   },
   {
    "duration": 18,
    "start_time": "2023-04-07T23:01:29.448Z"
   },
   {
    "duration": 320141,
    "start_time": "2023-04-07T23:01:29.467Z"
   },
   {
    "duration": 6,
    "start_time": "2023-04-07T23:06:49.610Z"
   },
   {
    "duration": 9,
    "start_time": "2023-04-07T23:06:49.617Z"
   },
   {
    "duration": 57,
    "start_time": "2023-04-07T23:06:49.627Z"
   },
   {
    "duration": 12,
    "start_time": "2023-04-07T23:06:49.686Z"
   },
   {
    "duration": 28,
    "start_time": "2023-04-07T23:06:49.699Z"
   },
   {
    "duration": 212636,
    "start_time": "2023-04-07T23:06:49.729Z"
   },
   {
    "duration": 8,
    "start_time": "2023-04-07T23:10:22.367Z"
   },
   {
    "duration": 6,
    "start_time": "2023-04-07T23:10:22.377Z"
   },
   {
    "duration": 49,
    "start_time": "2023-04-07T23:10:22.385Z"
   },
   {
    "duration": 29,
    "start_time": "2023-04-07T23:10:22.449Z"
   },
   {
    "duration": 125,
    "start_time": "2023-04-07T23:10:22.480Z"
   },
   {
    "duration": 4,
    "start_time": "2023-04-07T23:10:22.606Z"
   },
   {
    "duration": 42,
    "start_time": "2023-04-07T23:10:22.611Z"
   },
   {
    "duration": 16,
    "start_time": "2023-04-07T23:10:22.655Z"
   },
   {
    "duration": 60,
    "start_time": "2023-04-07T23:10:22.673Z"
   },
   {
    "duration": 15,
    "start_time": "2023-04-07T23:10:22.735Z"
   },
   {
    "duration": 7,
    "start_time": "2023-04-07T23:10:22.751Z"
   },
   {
    "duration": 4,
    "start_time": "2023-04-07T23:10:22.759Z"
   },
   {
    "duration": 73,
    "start_time": "2023-04-07T23:10:22.764Z"
   },
   {
    "duration": 11,
    "start_time": "2023-04-07T23:10:22.839Z"
   },
   {
    "duration": 154,
    "start_time": "2023-04-07T23:10:22.851Z"
   },
   {
    "duration": 4,
    "start_time": "2023-04-07T23:10:23.006Z"
   },
   {
    "duration": 374076,
    "start_time": "2023-04-07T23:10:23.012Z"
   },
   {
    "duration": 451259,
    "start_time": "2023-04-07T23:16:37.090Z"
   },
   {
    "duration": 18398,
    "start_time": "2023-04-07T23:24:08.351Z"
   },
   {
    "duration": 61968,
    "start_time": "2023-04-07T23:24:26.751Z"
   },
   {
    "duration": 62774,
    "start_time": "2023-04-07T23:25:28.720Z"
   },
   {
    "duration": 8,
    "start_time": "2023-04-07T23:26:31.496Z"
   },
   {
    "duration": 43,
    "start_time": "2023-04-07T23:26:31.505Z"
   },
   {
    "duration": 57,
    "start_time": "2023-04-07T23:26:31.549Z"
   },
   {
    "duration": 534,
    "start_time": "2023-04-07T23:26:31.608Z"
   },
   {
    "duration": 315,
    "start_time": "2023-04-07T23:26:32.143Z"
   },
   {
    "duration": 247,
    "start_time": "2023-04-07T23:26:32.460Z"
   },
   {
    "duration": 3,
    "start_time": "2023-04-07T23:26:32.708Z"
   },
   {
    "duration": 410210,
    "start_time": "2023-04-07T23:26:32.712Z"
   },
   {
    "duration": 5,
    "start_time": "2023-04-07T23:33:22.924Z"
   },
   {
    "duration": 7,
    "start_time": "2023-04-07T23:33:22.931Z"
   },
   {
    "duration": 10,
    "start_time": "2023-04-07T23:33:22.940Z"
   },
   {
    "duration": 3072,
    "start_time": "2023-04-07T23:33:22.951Z"
   },
   {
    "duration": 18755,
    "start_time": "2023-04-07T23:33:26.025Z"
   },
   {
    "duration": 17980,
    "start_time": "2023-04-07T23:33:44.781Z"
   },
   {
    "duration": 89,
    "start_time": "2023-04-07T23:34:02.763Z"
   },
   {
    "duration": 107,
    "start_time": "2023-04-07T23:34:02.854Z"
   },
   {
    "duration": 69,
    "start_time": "2023-04-07T23:34:02.962Z"
   },
   {
    "duration": 30,
    "start_time": "2023-04-07T23:34:03.033Z"
   },
   {
    "duration": 3,
    "start_time": "2023-04-07T23:34:03.068Z"
   },
   {
    "duration": 753,
    "start_time": "2023-04-07T23:34:03.072Z"
   },
   {
    "duration": 189,
    "start_time": "2023-04-07T23:34:03.827Z"
   },
   {
    "duration": 0,
    "start_time": "2023-04-07T23:34:04.019Z"
   },
   {
    "duration": 0,
    "start_time": "2023-04-07T23:34:04.019Z"
   },
   {
    "duration": 2,
    "start_time": "2023-04-07T23:39:43.248Z"
   },
   {
    "duration": 132,
    "start_time": "2023-04-07T23:39:46.305Z"
   },
   {
    "duration": 74,
    "start_time": "2023-04-07T23:39:47.952Z"
   },
   {
    "duration": 71,
    "start_time": "2023-04-07T23:39:58.536Z"
   },
   {
    "duration": 31451,
    "start_time": "2023-04-07T23:40:03.616Z"
   },
   {
    "duration": 0,
    "start_time": "2023-04-07T23:40:35.069Z"
   },
   {
    "duration": 1121,
    "start_time": "2023-04-07T23:42:22.379Z"
   },
   {
    "duration": 788,
    "start_time": "2023-04-07T23:42:32.435Z"
   },
   {
    "duration": 206,
    "start_time": "2023-04-07T23:42:57.434Z"
   },
   {
    "duration": 79,
    "start_time": "2023-04-07T23:43:12.726Z"
   },
   {
    "duration": 10,
    "start_time": "2023-04-07T23:43:13.391Z"
   },
   {
    "duration": 3,
    "start_time": "2023-04-07T23:43:14.095Z"
   },
   {
    "duration": 92,
    "start_time": "2023-04-07T23:43:14.678Z"
   },
   {
    "duration": 764,
    "start_time": "2023-04-07T23:43:21.847Z"
   },
   {
    "duration": 2,
    "start_time": "2023-04-07T23:43:43.239Z"
   },
   {
    "duration": 151,
    "start_time": "2023-04-07T23:43:44.351Z"
   },
   {
    "duration": 3,
    "start_time": "2023-04-07T23:44:00.355Z"
   },
   {
    "duration": 2,
    "start_time": "2023-04-07T23:44:00.903Z"
   },
   {
    "duration": 3,
    "start_time": "2023-04-07T23:44:01.375Z"
   },
   {
    "duration": 2,
    "start_time": "2023-04-07T23:44:01.896Z"
   },
   {
    "duration": 787,
    "start_time": "2023-04-07T23:44:02.455Z"
   },
   {
    "duration": 8,
    "start_time": "2023-04-07T23:44:03.244Z"
   },
   {
    "duration": 21,
    "start_time": "2023-04-07T23:44:03.355Z"
   },
   {
    "duration": 130,
    "start_time": "2023-04-07T23:44:04.201Z"
   },
   {
    "duration": 417,
    "start_time": "2023-04-07T23:44:04.710Z"
   },
   {
    "duration": 496,
    "start_time": "2023-04-07T23:44:05.591Z"
   },
   {
    "duration": 28,
    "start_time": "2023-04-07T23:44:07.615Z"
   },
   {
    "duration": 3,
    "start_time": "2023-04-07T23:44:10.395Z"
   },
   {
    "duration": 67,
    "start_time": "2023-04-07T23:44:11.579Z"
   },
   {
    "duration": 69,
    "start_time": "2023-04-07T23:44:12.535Z"
   },
   {
    "duration": 9,
    "start_time": "2023-04-07T23:44:18.063Z"
   },
   {
    "duration": 32,
    "start_time": "2023-04-07T23:44:18.947Z"
   },
   {
    "duration": 6,
    "start_time": "2023-04-07T23:44:23.759Z"
   },
   {
    "duration": 9,
    "start_time": "2023-04-07T23:44:25.891Z"
   },
   {
    "duration": 30,
    "start_time": "2023-04-07T23:44:26.654Z"
   },
   {
    "duration": 35,
    "start_time": "2023-04-07T23:44:27.226Z"
   },
   {
    "duration": 6,
    "start_time": "2023-04-07T23:44:27.679Z"
   },
   {
    "duration": 19,
    "start_time": "2023-04-07T23:44:28.420Z"
   },
   {
    "duration": 36,
    "start_time": "2023-04-07T23:44:32.523Z"
   },
   {
    "duration": 7,
    "start_time": "2023-04-07T23:44:33.087Z"
   },
   {
    "duration": 22,
    "start_time": "2023-04-07T23:44:35.015Z"
   },
   {
    "duration": 7,
    "start_time": "2023-04-07T23:44:36.750Z"
   },
   {
    "duration": 37,
    "start_time": "2023-04-07T23:44:37.183Z"
   },
   {
    "duration": 16,
    "start_time": "2023-04-07T23:44:37.654Z"
   },
   {
    "duration": 7,
    "start_time": "2023-04-07T23:44:38.996Z"
   },
   {
    "duration": 37,
    "start_time": "2023-04-07T23:44:39.439Z"
   },
   {
    "duration": 12,
    "start_time": "2023-04-07T23:44:40.335Z"
   },
   {
    "duration": 23,
    "start_time": "2023-04-07T23:44:41.042Z"
   },
   {
    "duration": 20,
    "start_time": "2023-04-07T23:44:43.503Z"
   },
   {
    "duration": 5,
    "start_time": "2023-04-07T23:44:44.359Z"
   },
   {
    "duration": 15,
    "start_time": "2023-04-07T23:44:45.351Z"
   },
   {
    "duration": 309235,
    "start_time": "2023-04-07T23:44:49.247Z"
   },
   {
    "duration": 7,
    "start_time": "2023-04-07T23:51:27.338Z"
   },
   {
    "duration": 5,
    "start_time": "2023-04-07T23:51:28.006Z"
   },
   {
    "duration": 44,
    "start_time": "2023-04-07T23:51:28.515Z"
   },
   {
    "duration": 12,
    "start_time": "2023-04-07T23:51:29.446Z"
   },
   {
    "duration": 27,
    "start_time": "2023-04-07T23:51:31.039Z"
   },
   {
    "duration": 210838,
    "start_time": "2023-04-07T23:51:31.899Z"
   },
   {
    "duration": 8,
    "start_time": "2023-04-07T23:59:36.514Z"
   },
   {
    "duration": 5,
    "start_time": "2023-04-07T23:59:37.422Z"
   },
   {
    "duration": 41,
    "start_time": "2023-04-07T23:59:38.170Z"
   },
   {
    "duration": 32,
    "start_time": "2023-04-07T23:59:39.715Z"
   },
   {
    "duration": 119,
    "start_time": "2023-04-07T23:59:43.247Z"
   },
   {
    "duration": 4,
    "start_time": "2023-04-07T23:59:47.315Z"
   },
   {
    "duration": 28,
    "start_time": "2023-04-07T23:59:48.167Z"
   },
   {
    "duration": 17,
    "start_time": "2023-04-07T23:59:53.688Z"
   },
   {
    "duration": 59,
    "start_time": "2023-04-07T23:59:55.570Z"
   },
   {
    "duration": 3,
    "start_time": "2023-04-08T00:00:01.871Z"
   },
   {
    "duration": 3,
    "start_time": "2023-04-08T00:00:04.323Z"
   },
   {
    "duration": 77,
    "start_time": "2023-04-08T00:00:39.286Z"
   },
   {
    "duration": 28,
    "start_time": "2023-04-08T00:00:40.746Z"
   },
   {
    "duration": 3,
    "start_time": "2023-04-08T00:00:47.426Z"
   },
   {
    "duration": 1021,
    "start_time": "2023-04-08T00:00:48.534Z"
   },
   {
    "duration": 3,
    "start_time": "2023-04-08T00:00:57.622Z"
   },
   {
    "duration": 3,
    "start_time": "2023-04-08T00:00:58.490Z"
   },
   {
    "duration": 713,
    "start_time": "2023-04-08T00:00:59.239Z"
   },
   {
    "duration": 54,
    "start_time": "2023-04-08T00:01:00.521Z"
   },
   {
    "duration": 22558,
    "start_time": "2023-04-08T00:01:02.526Z"
   },
   {
    "duration": 0,
    "start_time": "2023-04-08T00:01:25.086Z"
   },
   {
    "duration": 711,
    "start_time": "2023-04-08T00:01:42.686Z"
   },
   {
    "duration": 52,
    "start_time": "2023-04-08T00:01:44.995Z"
   },
   {
    "duration": 47,
    "start_time": "2023-04-08T00:01:54.199Z"
   },
   {
    "duration": 24,
    "start_time": "2023-04-08T00:01:54.850Z"
   },
   {
    "duration": 3,
    "start_time": "2023-04-08T00:01:55.498Z"
   },
   {
    "duration": 2,
    "start_time": "2023-04-08T00:01:56.155Z"
   },
   {
    "duration": 804,
    "start_time": "2023-04-08T00:01:59.626Z"
   },
   {
    "duration": 84,
    "start_time": "2023-04-08T00:02:01.999Z"
   },
   {
    "duration": 33289,
    "start_time": "2023-04-08T00:02:03.587Z"
   },
   {
    "duration": 22,
    "start_time": "2023-04-08T00:03:20.890Z"
   },
   {
    "duration": 2,
    "start_time": "2023-04-08T00:03:21.955Z"
   },
   {
    "duration": 2,
    "start_time": "2023-04-08T00:03:23.482Z"
   },
   {
    "duration": 650,
    "start_time": "2023-04-08T00:03:24.654Z"
   },
   {
    "duration": 23,
    "start_time": "2023-04-08T00:04:36.187Z"
   },
   {
    "duration": 2,
    "start_time": "2023-04-08T00:04:37.547Z"
   },
   {
    "duration": 3,
    "start_time": "2023-04-08T00:04:38.066Z"
   },
   {
    "duration": 671,
    "start_time": "2023-04-08T00:04:38.899Z"
   },
   {
    "duration": 78,
    "start_time": "2023-04-08T00:04:41.924Z"
   },
   {
    "duration": 3,
    "start_time": "2023-04-08T00:05:49.289Z"
   },
   {
    "duration": 656,
    "start_time": "2023-04-08T00:05:51.830Z"
   },
   {
    "duration": 76,
    "start_time": "2023-04-08T00:05:53.239Z"
   },
   {
    "duration": 32838,
    "start_time": "2023-04-08T00:05:54.286Z"
   },
   {
    "duration": 0,
    "start_time": "2023-04-08T00:06:27.126Z"
   },
   {
    "duration": 43,
    "start_time": "2023-04-08T00:06:28.495Z"
   },
   {
    "duration": 24,
    "start_time": "2023-04-08T00:06:29.554Z"
   },
   {
    "duration": 2,
    "start_time": "2023-04-08T00:06:38.403Z"
   },
   {
    "duration": 2,
    "start_time": "2023-04-08T00:06:39.139Z"
   },
   {
    "duration": 3,
    "start_time": "2023-04-08T00:06:39.718Z"
   },
   {
    "duration": 592,
    "start_time": "2023-04-08T00:06:40.566Z"
   },
   {
    "duration": 94,
    "start_time": "2023-04-08T00:06:41.754Z"
   },
   {
    "duration": 8,
    "start_time": "2023-04-08T00:06:47.262Z"
   },
   {
    "duration": 636,
    "start_time": "2023-04-08T00:07:31.496Z"
   },
   {
    "duration": 2,
    "start_time": "2023-04-08T00:08:25.919Z"
   },
   {
    "duration": 503,
    "start_time": "2023-04-08T00:08:28.266Z"
   },
   {
    "duration": 83,
    "start_time": "2023-04-08T00:08:29.167Z"
   },
   {
    "duration": 78,
    "start_time": "2023-04-08T00:08:40.075Z"
   },
   {
    "duration": 32918,
    "start_time": "2023-04-08T00:08:41.938Z"
   },
   {
    "duration": 0,
    "start_time": "2023-04-08T00:09:14.857Z"
   },
   {
    "duration": 2,
    "start_time": "2023-04-08T00:10:34.982Z"
   },
   {
    "duration": 79,
    "start_time": "2023-04-08T00:10:43.998Z"
   },
   {
    "duration": 78,
    "start_time": "2023-04-08T00:10:56.218Z"
   },
   {
    "duration": 33111,
    "start_time": "2023-04-08T00:11:15.158Z"
   },
   {
    "duration": 0,
    "start_time": "2023-04-08T00:11:48.270Z"
   },
   {
    "duration": 78,
    "start_time": "2023-04-08T00:13:54.019Z"
   },
   {
    "duration": 2,
    "start_time": "2023-04-08T00:16:36.254Z"
   },
   {
    "duration": 2,
    "start_time": "2023-04-08T00:16:37.098Z"
   },
   {
    "duration": 2,
    "start_time": "2023-04-08T00:16:37.875Z"
   },
   {
    "duration": 129,
    "start_time": "2023-04-08T00:16:38.870Z"
   },
   {
    "duration": 3,
    "start_time": "2023-04-08T00:16:43.986Z"
   },
   {
    "duration": 79,
    "start_time": "2023-04-08T00:16:44.859Z"
   },
   {
    "duration": 2,
    "start_time": "2023-04-08T00:17:34.802Z"
   },
   {
    "duration": 8,
    "start_time": "2023-04-08T00:17:45.706Z"
   },
   {
    "duration": 3,
    "start_time": "2023-04-08T00:17:51.054Z"
   },
   {
    "duration": 132,
    "start_time": "2023-04-08T00:17:53.498Z"
   },
   {
    "duration": 3,
    "start_time": "2023-04-08T00:17:56.086Z"
   },
   {
    "duration": 9,
    "start_time": "2023-04-08T00:17:58.662Z"
   },
   {
    "duration": 2,
    "start_time": "2023-04-08T00:18:49.454Z"
   },
   {
    "duration": 9,
    "start_time": "2023-04-08T00:18:54.982Z"
   },
   {
    "duration": 27,
    "start_time": "2023-04-08T00:19:03.266Z"
   },
   {
    "duration": 15,
    "start_time": "2023-04-08T00:19:04.935Z"
   },
   {
    "duration": 3,
    "start_time": "2023-04-08T00:19:09.926Z"
   },
   {
    "duration": 128,
    "start_time": "2023-04-08T00:19:11.914Z"
   },
   {
    "duration": 2,
    "start_time": "2023-04-08T00:19:16.192Z"
   },
   {
    "duration": 1008,
    "start_time": "2023-04-08T00:19:17.159Z"
   },
   {
    "duration": 147654,
    "start_time": "2023-04-08T00:19:18.562Z"
   },
   {
    "duration": 30,
    "start_time": "2023-04-08T00:21:46.218Z"
   },
   {
    "duration": 1097,
    "start_time": "2023-04-08T00:33:24.550Z"
   },
   {
    "duration": 42,
    "start_time": "2023-04-08T00:33:25.648Z"
   },
   {
    "duration": 3,
    "start_time": "2023-04-08T00:33:25.691Z"
   },
   {
    "duration": 101,
    "start_time": "2023-04-08T00:33:25.696Z"
   },
   {
    "duration": 749,
    "start_time": "2023-04-08T00:33:25.798Z"
   },
   {
    "duration": 8,
    "start_time": "2023-04-08T00:33:26.549Z"
   },
   {
    "duration": 23,
    "start_time": "2023-04-08T00:33:26.558Z"
   },
   {
    "duration": 131,
    "start_time": "2023-04-08T00:33:26.582Z"
   },
   {
    "duration": 411,
    "start_time": "2023-04-08T00:33:26.715Z"
   },
   {
    "duration": 503,
    "start_time": "2023-04-08T00:33:27.128Z"
   },
   {
    "duration": 38,
    "start_time": "2023-04-08T00:33:27.632Z"
   },
   {
    "duration": 6,
    "start_time": "2023-04-08T00:33:27.672Z"
   },
   {
    "duration": 85,
    "start_time": "2023-04-08T00:33:27.679Z"
   },
   {
    "duration": 70,
    "start_time": "2023-04-08T00:33:27.765Z"
   },
   {
    "duration": 19,
    "start_time": "2023-04-08T00:33:27.836Z"
   },
   {
    "duration": 33,
    "start_time": "2023-04-08T00:33:27.857Z"
   },
   {
    "duration": 9,
    "start_time": "2023-04-08T00:33:27.891Z"
   },
   {
    "duration": 9,
    "start_time": "2023-04-08T00:33:27.902Z"
   },
   {
    "duration": 60,
    "start_time": "2023-04-08T00:33:27.912Z"
   },
   {
    "duration": 43,
    "start_time": "2023-04-08T00:33:27.974Z"
   },
   {
    "duration": 7,
    "start_time": "2023-04-08T00:33:28.018Z"
   },
   {
    "duration": 41,
    "start_time": "2023-04-08T00:33:28.026Z"
   },
   {
    "duration": 36,
    "start_time": "2023-04-08T00:33:28.068Z"
   },
   {
    "duration": 8,
    "start_time": "2023-04-08T00:33:28.105Z"
   },
   {
    "duration": 40,
    "start_time": "2023-04-08T00:33:28.114Z"
   },
   {
    "duration": 7,
    "start_time": "2023-04-08T00:33:28.155Z"
   },
   {
    "duration": 40,
    "start_time": "2023-04-08T00:33:28.163Z"
   },
   {
    "duration": 16,
    "start_time": "2023-04-08T00:33:28.207Z"
   },
   {
    "duration": 28,
    "start_time": "2023-04-08T00:33:28.224Z"
   },
   {
    "duration": 37,
    "start_time": "2023-04-08T00:33:28.253Z"
   },
   {
    "duration": 13,
    "start_time": "2023-04-08T00:33:28.291Z"
   },
   {
    "duration": 44,
    "start_time": "2023-04-08T00:33:28.305Z"
   },
   {
    "duration": 20,
    "start_time": "2023-04-08T00:33:28.350Z"
   },
   {
    "duration": 6,
    "start_time": "2023-04-08T00:33:28.371Z"
   },
   {
    "duration": 21,
    "start_time": "2023-04-08T00:33:28.378Z"
   },
   {
    "duration": 318880,
    "start_time": "2023-04-08T00:33:28.400Z"
   },
   {
    "duration": 7,
    "start_time": "2023-04-08T00:38:47.281Z"
   },
   {
    "duration": 12,
    "start_time": "2023-04-08T00:38:47.289Z"
   },
   {
    "duration": 51,
    "start_time": "2023-04-08T00:38:47.303Z"
   },
   {
    "duration": 11,
    "start_time": "2023-04-08T00:38:47.356Z"
   },
   {
    "duration": 24,
    "start_time": "2023-04-08T00:38:47.369Z"
   },
   {
    "duration": 212436,
    "start_time": "2023-04-08T00:38:47.395Z"
   },
   {
    "duration": 18,
    "start_time": "2023-04-08T00:42:19.833Z"
   },
   {
    "duration": 4,
    "start_time": "2023-04-08T00:42:19.853Z"
   },
   {
    "duration": 54,
    "start_time": "2023-04-08T00:42:19.858Z"
   },
   {
    "duration": 35,
    "start_time": "2023-04-08T00:42:19.914Z"
   },
   {
    "duration": 126,
    "start_time": "2023-04-08T00:42:19.951Z"
   },
   {
    "duration": 4,
    "start_time": "2023-04-08T00:42:20.079Z"
   },
   {
    "duration": 30,
    "start_time": "2023-04-08T00:42:20.085Z"
   },
   {
    "duration": 40,
    "start_time": "2023-04-08T00:42:20.116Z"
   },
   {
    "duration": 68,
    "start_time": "2023-04-08T00:42:20.158Z"
   },
   {
    "duration": 3,
    "start_time": "2023-04-08T00:42:20.227Z"
   },
   {
    "duration": 16,
    "start_time": "2023-04-08T00:42:20.232Z"
   },
   {
    "duration": 9,
    "start_time": "2023-04-08T00:42:20.250Z"
   },
   {
    "duration": 85,
    "start_time": "2023-04-08T00:42:20.261Z"
   },
   {
    "duration": 5,
    "start_time": "2023-04-08T00:42:20.347Z"
   },
   {
    "duration": 159,
    "start_time": "2023-04-08T00:42:20.354Z"
   },
   {
    "duration": 5,
    "start_time": "2023-04-08T00:42:20.514Z"
   },
   {
    "duration": 10930,
    "start_time": "2023-04-08T00:42:20.521Z"
   },
   {
    "duration": 17498,
    "start_time": "2023-04-08T00:42:31.452Z"
   },
   {
    "duration": 17805,
    "start_time": "2023-04-08T00:42:48.951Z"
   },
   {
    "duration": 62264,
    "start_time": "2023-04-08T00:43:06.759Z"
   },
   {
    "duration": 62242,
    "start_time": "2023-04-08T00:44:09.024Z"
   },
   {
    "duration": 10,
    "start_time": "2023-04-08T00:45:11.267Z"
   },
   {
    "duration": 19,
    "start_time": "2023-04-08T00:45:11.279Z"
   },
   {
    "duration": 57,
    "start_time": "2023-04-08T00:45:11.300Z"
   },
   {
    "duration": 546,
    "start_time": "2023-04-08T00:45:11.359Z"
   },
   {
    "duration": 334,
    "start_time": "2023-04-08T00:45:11.907Z"
   },
   {
    "duration": 253,
    "start_time": "2023-04-08T00:45:12.243Z"
   },
   {
    "duration": 2,
    "start_time": "2023-04-08T00:45:12.498Z"
   },
   {
    "duration": 409608,
    "start_time": "2023-04-08T00:45:12.502Z"
   },
   {
    "duration": 5,
    "start_time": "2023-04-08T00:52:02.112Z"
   },
   {
    "duration": 27,
    "start_time": "2023-04-08T00:52:02.118Z"
   },
   {
    "duration": 23,
    "start_time": "2023-04-08T00:52:02.147Z"
   },
   {
    "duration": 3219,
    "start_time": "2023-04-08T00:52:02.171Z"
   },
   {
    "duration": 18945,
    "start_time": "2023-04-08T00:52:05.392Z"
   },
   {
    "duration": 17124,
    "start_time": "2023-04-08T00:52:24.338Z"
   },
   {
    "duration": 87,
    "start_time": "2023-04-08T00:52:41.463Z"
   },
   {
    "duration": 159,
    "start_time": "2023-04-08T00:52:41.552Z"
   },
   {
    "duration": 26,
    "start_time": "2023-04-08T00:52:41.712Z"
   },
   {
    "duration": 2,
    "start_time": "2023-04-08T00:52:41.749Z"
   },
   {
    "duration": 927,
    "start_time": "2023-04-08T00:52:41.757Z"
   },
   {
    "duration": 0,
    "start_time": "2023-04-08T00:52:42.686Z"
   },
   {
    "duration": 0,
    "start_time": "2023-04-08T00:52:42.687Z"
   },
   {
    "duration": 0,
    "start_time": "2023-04-08T00:52:42.689Z"
   },
   {
    "duration": 0,
    "start_time": "2023-04-08T00:52:42.690Z"
   },
   {
    "duration": 2,
    "start_time": "2023-04-08T01:00:12.790Z"
   },
   {
    "duration": 603,
    "start_time": "2023-04-08T01:00:13.766Z"
   },
   {
    "duration": 57,
    "start_time": "2023-04-08T01:00:39.552Z"
   },
   {
    "duration": 3,
    "start_time": "2023-04-08T01:00:48.042Z"
   },
   {
    "duration": 9,
    "start_time": "2023-04-08T01:00:51.511Z"
   },
   {
    "duration": 2,
    "start_time": "2023-04-08T01:00:55.743Z"
   },
   {
    "duration": 186,
    "start_time": "2023-04-08T01:00:56.790Z"
   },
   {
    "duration": 75,
    "start_time": "2023-04-08T01:01:00.614Z"
   },
   {
    "duration": 30,
    "start_time": "2023-04-08T01:01:24.815Z"
   },
   {
    "duration": 3,
    "start_time": "2023-04-08T01:01:25.546Z"
   },
   {
    "duration": 2,
    "start_time": "2023-04-08T01:01:26.251Z"
   },
   {
    "duration": 180,
    "start_time": "2023-04-08T01:01:26.847Z"
   },
   {
    "duration": 73,
    "start_time": "2023-04-08T01:01:28.034Z"
   },
   {
    "duration": 31287,
    "start_time": "2023-04-08T01:01:30.635Z"
   },
   {
    "duration": 0,
    "start_time": "2023-04-08T01:02:01.925Z"
   },
   {
    "duration": 74,
    "start_time": "2023-04-08T01:02:51.794Z"
   },
   {
    "duration": 8,
    "start_time": "2023-04-08T01:02:58.435Z"
   },
   {
    "duration": 28,
    "start_time": "2023-04-08T01:03:14.467Z"
   },
   {
    "duration": 15,
    "start_time": "2023-04-08T01:03:15.198Z"
   },
   {
    "duration": 3,
    "start_time": "2023-04-08T01:03:15.958Z"
   },
   {
    "duration": 2,
    "start_time": "2023-04-08T01:03:16.631Z"
   },
   {
    "duration": 182,
    "start_time": "2023-04-08T01:03:17.367Z"
   },
   {
    "duration": 798,
    "start_time": "2023-04-08T01:03:18.423Z"
   },
   {
    "duration": 828,
    "start_time": "2023-04-08T01:04:00.354Z"
   },
   {
    "duration": 2,
    "start_time": "2023-04-08T01:04:25.470Z"
   },
   {
    "duration": 24,
    "start_time": "2023-04-08T01:04:29.186Z"
   },
   {
    "duration": 13,
    "start_time": "2023-04-08T01:04:29.954Z"
   },
   {
    "duration": 2,
    "start_time": "2023-04-08T01:04:32.522Z"
   },
   {
    "duration": 182,
    "start_time": "2023-04-08T01:04:33.346Z"
   },
   {
    "duration": 804,
    "start_time": "2023-04-08T01:04:34.502Z"
   },
   {
    "duration": 2,
    "start_time": "2023-04-08T01:05:13.598Z"
   },
   {
    "duration": 24,
    "start_time": "2023-04-08T01:05:17.751Z"
   },
   {
    "duration": 14,
    "start_time": "2023-04-08T01:05:18.537Z"
   },
   {
    "duration": 9,
    "start_time": "2023-04-08T01:05:25.015Z"
   },
   {
    "duration": 8,
    "start_time": "2023-04-08T01:06:27.070Z"
   },
   {
    "duration": 9,
    "start_time": "2023-04-08T01:06:42.910Z"
   },
   {
    "duration": 22,
    "start_time": "2023-04-08T01:06:46.759Z"
   },
   {
    "duration": 13,
    "start_time": "2023-04-08T01:06:47.483Z"
   },
   {
    "duration": 9,
    "start_time": "2023-04-08T01:07:03.370Z"
   },
   {
    "duration": 10,
    "start_time": "2023-04-08T01:07:05.227Z"
   },
   {
    "duration": 2,
    "start_time": "2023-04-08T01:07:16.450Z"
   },
   {
    "duration": 180,
    "start_time": "2023-04-08T01:07:21.130Z"
   },
   {
    "duration": 814,
    "start_time": "2023-04-08T01:07:24.359Z"
   },
   {
    "duration": 26,
    "start_time": "2023-04-08T01:08:00.818Z"
   },
   {
    "duration": 13,
    "start_time": "2023-04-08T01:08:02.232Z"
   },
   {
    "duration": 2,
    "start_time": "2023-04-08T01:08:05.020Z"
   },
   {
    "duration": 3,
    "start_time": "2023-04-08T01:08:13.054Z"
   },
   {
    "duration": 183,
    "start_time": "2023-04-08T01:08:15.786Z"
   },
   {
    "duration": 810,
    "start_time": "2023-04-08T01:08:19.174Z"
   },
   {
    "duration": 133041,
    "start_time": "2023-04-08T01:08:25.321Z"
   },
   {
    "duration": 21,
    "start_time": "2023-04-08T01:10:38.363Z"
   },
   {
    "duration": 2,
    "start_time": "2023-04-08T01:11:38.960Z"
   },
   {
    "duration": 2,
    "start_time": "2023-04-08T01:11:46.978Z"
   },
   {
    "duration": 180,
    "start_time": "2023-04-08T01:11:49.471Z"
   },
   {
    "duration": 809,
    "start_time": "2023-04-08T01:11:51.243Z"
   },
   {
    "duration": 2,
    "start_time": "2023-04-08T01:12:08.647Z"
   },
   {
    "duration": 24,
    "start_time": "2023-04-08T01:12:12.510Z"
   },
   {
    "duration": 14,
    "start_time": "2023-04-08T01:12:13.218Z"
   },
   {
    "duration": 9,
    "start_time": "2023-04-08T01:12:17.835Z"
   },
   {
    "duration": 8,
    "start_time": "2023-04-08T01:12:34.962Z"
   },
   {
    "duration": 2,
    "start_time": "2023-04-08T01:12:46.630Z"
   },
   {
    "duration": 181,
    "start_time": "2023-04-08T01:12:49.043Z"
   },
   {
    "duration": 786,
    "start_time": "2023-04-08T01:12:52.442Z"
   },
   {
    "duration": 3,
    "start_time": "2023-04-08T01:13:11.358Z"
   },
   {
    "duration": 23,
    "start_time": "2023-04-08T01:13:19.589Z"
   },
   {
    "duration": 14,
    "start_time": "2023-04-08T01:13:20.266Z"
   },
   {
    "duration": 3,
    "start_time": "2023-04-08T01:13:20.830Z"
   },
   {
    "duration": 178,
    "start_time": "2023-04-08T01:13:21.582Z"
   },
   {
    "duration": 802,
    "start_time": "2023-04-08T01:13:22.495Z"
   },
   {
    "duration": 133033,
    "start_time": "2023-04-08T01:13:23.411Z"
   },
   {
    "duration": 1139,
    "start_time": "2023-04-08T01:15:50.224Z"
   },
   {
    "duration": 45,
    "start_time": "2023-04-08T01:15:51.366Z"
   },
   {
    "duration": 3,
    "start_time": "2023-04-08T01:15:51.413Z"
   },
   {
    "duration": 109,
    "start_time": "2023-04-08T01:15:51.418Z"
   },
   {
    "duration": 760,
    "start_time": "2023-04-08T01:15:51.529Z"
   },
   {
    "duration": 8,
    "start_time": "2023-04-08T01:15:52.290Z"
   },
   {
    "duration": 40,
    "start_time": "2023-04-08T01:15:52.299Z"
   },
   {
    "duration": 106,
    "start_time": "2023-04-08T01:15:52.340Z"
   },
   {
    "duration": 396,
    "start_time": "2023-04-08T01:15:52.448Z"
   },
   {
    "duration": 494,
    "start_time": "2023-04-08T01:15:52.848Z"
   },
   {
    "duration": 33,
    "start_time": "2023-04-08T01:15:53.343Z"
   },
   {
    "duration": 5,
    "start_time": "2023-04-08T01:15:53.378Z"
   },
   {
    "duration": 87,
    "start_time": "2023-04-08T01:15:53.384Z"
   },
   {
    "duration": 81,
    "start_time": "2023-04-08T01:15:53.473Z"
   },
   {
    "duration": 10,
    "start_time": "2023-04-08T01:15:53.556Z"
   },
   {
    "duration": 33,
    "start_time": "2023-04-08T01:15:53.568Z"
   },
   {
    "duration": 8,
    "start_time": "2023-04-08T01:15:53.603Z"
   },
   {
    "duration": 41,
    "start_time": "2023-04-08T01:15:53.613Z"
   },
   {
    "duration": 37,
    "start_time": "2023-04-08T01:15:53.656Z"
   },
   {
    "duration": 60,
    "start_time": "2023-04-08T01:15:53.695Z"
   },
   {
    "duration": 8,
    "start_time": "2023-04-08T01:15:53.757Z"
   },
   {
    "duration": 26,
    "start_time": "2023-04-08T01:15:53.766Z"
   },
   {
    "duration": 55,
    "start_time": "2023-04-08T01:15:53.794Z"
   },
   {
    "duration": 9,
    "start_time": "2023-04-08T01:15:53.850Z"
   },
   {
    "duration": 20,
    "start_time": "2023-04-08T01:15:53.861Z"
   },
   {
    "duration": 8,
    "start_time": "2023-04-08T01:15:53.883Z"
   },
   {
    "duration": 65,
    "start_time": "2023-04-08T01:15:53.893Z"
   },
   {
    "duration": 16,
    "start_time": "2023-04-08T01:15:53.962Z"
   },
   {
    "duration": 7,
    "start_time": "2023-04-08T01:15:53.980Z"
   },
   {
    "duration": 41,
    "start_time": "2023-04-08T01:15:53.989Z"
   },
   {
    "duration": 13,
    "start_time": "2023-04-08T01:15:54.048Z"
   },
   {
    "duration": 25,
    "start_time": "2023-04-08T01:15:54.063Z"
   },
   {
    "duration": 21,
    "start_time": "2023-04-08T01:15:54.090Z"
   },
   {
    "duration": 5,
    "start_time": "2023-04-08T01:15:54.112Z"
   },
   {
    "duration": 43,
    "start_time": "2023-04-08T01:15:54.118Z"
   },
   {
    "duration": 314957,
    "start_time": "2023-04-08T01:15:54.162Z"
   },
   {
    "duration": 7,
    "start_time": "2023-04-08T01:21:09.121Z"
   },
   {
    "duration": 29,
    "start_time": "2023-04-08T01:21:09.129Z"
   },
   {
    "duration": 63,
    "start_time": "2023-04-08T01:21:09.159Z"
   },
   {
    "duration": 12,
    "start_time": "2023-04-08T01:21:09.224Z"
   },
   {
    "duration": 24,
    "start_time": "2023-04-08T01:21:09.237Z"
   },
   {
    "duration": 209498,
    "start_time": "2023-04-08T01:21:09.262Z"
   },
   {
    "duration": 6,
    "start_time": "2023-04-08T01:24:38.762Z"
   },
   {
    "duration": 11,
    "start_time": "2023-04-08T01:24:38.770Z"
   },
   {
    "duration": 50,
    "start_time": "2023-04-08T01:24:38.782Z"
   },
   {
    "duration": 32,
    "start_time": "2023-04-08T01:24:38.834Z"
   },
   {
    "duration": 133,
    "start_time": "2023-04-08T01:24:38.867Z"
   },
   {
    "duration": 3,
    "start_time": "2023-04-08T01:24:39.002Z"
   },
   {
    "duration": 31,
    "start_time": "2023-04-08T01:24:39.006Z"
   },
   {
    "duration": 17,
    "start_time": "2023-04-08T01:24:39.048Z"
   },
   {
    "duration": 59,
    "start_time": "2023-04-08T01:24:39.066Z"
   },
   {
    "duration": 2,
    "start_time": "2023-04-08T01:24:39.126Z"
   },
   {
    "duration": 28,
    "start_time": "2023-04-08T01:24:39.130Z"
   },
   {
    "duration": 6,
    "start_time": "2023-04-08T01:24:39.159Z"
   },
   {
    "duration": 68,
    "start_time": "2023-04-08T01:24:39.166Z"
   },
   {
    "duration": 3,
    "start_time": "2023-04-08T01:24:39.236Z"
   },
   {
    "duration": 148,
    "start_time": "2023-04-08T01:24:39.241Z"
   },
   {
    "duration": 3,
    "start_time": "2023-04-08T01:24:39.391Z"
   },
   {
    "duration": 9254,
    "start_time": "2023-04-08T01:24:39.396Z"
   },
   {
    "duration": 17703,
    "start_time": "2023-04-08T01:24:48.652Z"
   },
   {
    "duration": 17612,
    "start_time": "2023-04-08T01:25:06.357Z"
   },
   {
    "duration": 61736,
    "start_time": "2023-04-08T01:25:24.049Z"
   },
   {
    "duration": 61711,
    "start_time": "2023-04-08T01:26:25.787Z"
   },
   {
    "duration": 8,
    "start_time": "2023-04-08T01:27:27.499Z"
   },
   {
    "duration": 4,
    "start_time": "2023-04-08T01:27:27.509Z"
   },
   {
    "duration": 44,
    "start_time": "2023-04-08T01:27:27.514Z"
   },
   {
    "duration": 493,
    "start_time": "2023-04-08T01:27:27.560Z"
   },
   {
    "duration": 312,
    "start_time": "2023-04-08T01:27:28.054Z"
   },
   {
    "duration": 248,
    "start_time": "2023-04-08T01:27:28.368Z"
   },
   {
    "duration": 3,
    "start_time": "2023-04-08T01:27:28.618Z"
   },
   {
    "duration": 408499,
    "start_time": "2023-04-08T01:27:28.622Z"
   },
   {
    "duration": 5,
    "start_time": "2023-04-08T01:34:17.122Z"
   },
   {
    "duration": 12,
    "start_time": "2023-04-08T01:34:17.128Z"
   },
   {
    "duration": 14,
    "start_time": "2023-04-08T01:34:17.142Z"
   },
   {
    "duration": 3104,
    "start_time": "2023-04-08T01:34:17.158Z"
   },
   {
    "duration": 18712,
    "start_time": "2023-04-08T01:34:20.264Z"
   },
   {
    "duration": 17179,
    "start_time": "2023-04-08T01:34:38.978Z"
   },
   {
    "duration": 87,
    "start_time": "2023-04-08T01:34:56.163Z"
   },
   {
    "duration": 162,
    "start_time": "2023-04-08T01:34:56.251Z"
   },
   {
    "duration": 25,
    "start_time": "2023-04-08T01:34:56.414Z"
   },
   {
    "duration": 7,
    "start_time": "2023-04-08T01:34:56.441Z"
   },
   {
    "duration": 810,
    "start_time": "2023-04-08T01:34:56.453Z"
   },
   {
    "duration": 176,
    "start_time": "2023-04-08T01:34:57.265Z"
   },
   {
    "duration": 0,
    "start_time": "2023-04-08T01:34:57.442Z"
   },
   {
    "duration": 0,
    "start_time": "2023-04-08T01:34:57.443Z"
   },
   {
    "duration": 31,
    "start_time": "2023-04-08T01:39:05.287Z"
   },
   {
    "duration": 2,
    "start_time": "2023-04-08T01:39:06.100Z"
   },
   {
    "duration": 189,
    "start_time": "2023-04-08T01:39:07.029Z"
   },
   {
    "duration": 72,
    "start_time": "2023-04-08T01:39:08.521Z"
   },
   {
    "duration": 2,
    "start_time": "2023-04-08T01:39:45.911Z"
   },
   {
    "duration": 2,
    "start_time": "2023-04-08T01:39:53.319Z"
   },
   {
    "duration": 178,
    "start_time": "2023-04-08T01:39:55.972Z"
   },
   {
    "duration": 72,
    "start_time": "2023-04-08T01:39:57.211Z"
   },
   {
    "duration": 9,
    "start_time": "2023-04-08T01:40:18.542Z"
   },
   {
    "duration": 30,
    "start_time": "2023-04-08T01:40:26.345Z"
   },
   {
    "duration": 14,
    "start_time": "2023-04-08T01:40:27.071Z"
   },
   {
    "duration": 3,
    "start_time": "2023-04-08T01:40:27.779Z"
   },
   {
    "duration": 2,
    "start_time": "2023-04-08T01:40:28.587Z"
   },
   {
    "duration": 9,
    "start_time": "2023-04-08T01:40:29.283Z"
   },
   {
    "duration": 822,
    "start_time": "2023-04-08T01:40:30.143Z"
   },
   {
    "duration": 10,
    "start_time": "2023-04-08T01:41:19.767Z"
   },
   {
    "duration": 3,
    "start_time": "2023-04-08T01:41:28.715Z"
   },
   {
    "duration": 185,
    "start_time": "2023-04-08T01:41:31.055Z"
   },
   {
    "duration": 818,
    "start_time": "2023-04-08T01:41:35.878Z"
   },
   {
    "duration": 8,
    "start_time": "2023-04-08T01:41:40.723Z"
   },
   {
    "duration": 3,
    "start_time": "2023-04-08T01:42:29.138Z"
   },
   {
    "duration": 2,
    "start_time": "2023-04-08T01:42:29.655Z"
   },
   {
    "duration": 3,
    "start_time": "2023-04-08T01:42:30.159Z"
   },
   {
    "duration": 809,
    "start_time": "2023-04-08T01:42:32.899Z"
   },
   {
    "duration": 2,
    "start_time": "2023-04-08T01:43:07.923Z"
   },
   {
    "duration": 824,
    "start_time": "2023-04-08T01:43:10.495Z"
   },
   {
    "duration": 24,
    "start_time": "2023-04-08T01:43:20.563Z"
   },
   {
    "duration": 13,
    "start_time": "2023-04-08T01:43:21.311Z"
   },
   {
    "duration": 7,
    "start_time": "2023-04-08T01:43:47.071Z"
   },
   {
    "duration": 803,
    "start_time": "2023-04-08T01:43:58.575Z"
   },
   {
    "duration": 132894,
    "start_time": "2023-04-08T01:44:07.523Z"
   },
   {
    "duration": 30,
    "start_time": "2023-04-08T01:46:20.419Z"
   },
   {
    "duration": 23,
    "start_time": "2023-04-08T01:47:37.571Z"
   },
   {
    "duration": 14,
    "start_time": "2023-04-08T01:47:38.231Z"
   },
   {
    "duration": 787,
    "start_time": "2023-04-08T01:47:38.855Z"
   },
   {
    "duration": 132450,
    "start_time": "2023-04-08T01:47:39.728Z"
   },
   {
    "duration": 23,
    "start_time": "2023-04-08T01:49:52.180Z"
   },
   {
    "duration": 1090,
    "start_time": "2023-04-08T01:52:37.950Z"
   },
   {
    "duration": 46,
    "start_time": "2023-04-08T01:52:39.041Z"
   },
   {
    "duration": 3,
    "start_time": "2023-04-08T01:52:39.088Z"
   },
   {
    "duration": 92,
    "start_time": "2023-04-08T01:52:39.093Z"
   },
   {
    "duration": 773,
    "start_time": "2023-04-08T01:52:39.187Z"
   },
   {
    "duration": 7,
    "start_time": "2023-04-08T01:52:39.962Z"
   },
   {
    "duration": 24,
    "start_time": "2023-04-08T01:52:39.970Z"
   },
   {
    "duration": 128,
    "start_time": "2023-04-08T01:52:39.995Z"
   },
   {
    "duration": 414,
    "start_time": "2023-04-08T01:52:40.125Z"
   },
   {
    "duration": 509,
    "start_time": "2023-04-08T01:52:40.542Z"
   },
   {
    "duration": 36,
    "start_time": "2023-04-08T01:52:41.053Z"
   },
   {
    "duration": 5,
    "start_time": "2023-04-08T01:52:41.091Z"
   },
   {
    "duration": 80,
    "start_time": "2023-04-08T01:52:41.097Z"
   },
   {
    "duration": 77,
    "start_time": "2023-04-08T01:52:41.179Z"
   },
   {
    "duration": 9,
    "start_time": "2023-04-08T01:52:41.258Z"
   },
   {
    "duration": 30,
    "start_time": "2023-04-08T01:52:41.268Z"
   },
   {
    "duration": 9,
    "start_time": "2023-04-08T01:52:41.300Z"
   },
   {
    "duration": 8,
    "start_time": "2023-04-08T01:52:41.311Z"
   },
   {
    "duration": 58,
    "start_time": "2023-04-08T01:52:41.320Z"
   },
   {
    "duration": 42,
    "start_time": "2023-04-08T01:52:41.380Z"
   },
   {
    "duration": 7,
    "start_time": "2023-04-08T01:52:41.423Z"
   },
   {
    "duration": 19,
    "start_time": "2023-04-08T01:52:41.448Z"
   },
   {
    "duration": 33,
    "start_time": "2023-04-08T01:52:41.469Z"
   },
   {
    "duration": 7,
    "start_time": "2023-04-08T01:52:41.504Z"
   },
   {
    "duration": 43,
    "start_time": "2023-04-08T01:52:41.512Z"
   },
   {
    "duration": 6,
    "start_time": "2023-04-08T01:52:41.557Z"
   },
   {
    "duration": 42,
    "start_time": "2023-04-08T01:52:41.565Z"
   },
   {
    "duration": 15,
    "start_time": "2023-04-08T01:52:41.611Z"
   },
   {
    "duration": 24,
    "start_time": "2023-04-08T01:52:41.628Z"
   },
   {
    "duration": 35,
    "start_time": "2023-04-08T01:52:41.654Z"
   },
   {
    "duration": 12,
    "start_time": "2023-04-08T01:52:41.691Z"
   },
   {
    "duration": 21,
    "start_time": "2023-04-08T01:52:41.705Z"
   },
   {
    "duration": 37,
    "start_time": "2023-04-08T01:52:41.728Z"
   },
   {
    "duration": 6,
    "start_time": "2023-04-08T01:52:41.766Z"
   },
   {
    "duration": 16,
    "start_time": "2023-04-08T01:52:41.773Z"
   },
   {
    "duration": 314691,
    "start_time": "2023-04-08T01:52:41.790Z"
   },
   {
    "duration": 7,
    "start_time": "2023-04-08T01:57:56.483Z"
   },
   {
    "duration": 6,
    "start_time": "2023-04-08T01:57:56.491Z"
   },
   {
    "duration": 54,
    "start_time": "2023-04-08T01:57:56.498Z"
   },
   {
    "duration": 12,
    "start_time": "2023-04-08T01:57:56.554Z"
   },
   {
    "duration": 24,
    "start_time": "2023-04-08T01:57:56.567Z"
   },
   {
    "duration": 208380,
    "start_time": "2023-04-08T01:57:56.592Z"
   },
   {
    "duration": 8,
    "start_time": "2023-04-08T02:01:24.973Z"
   },
   {
    "duration": 10,
    "start_time": "2023-04-08T02:01:24.982Z"
   },
   {
    "duration": 55,
    "start_time": "2023-04-08T02:01:24.994Z"
   },
   {
    "duration": 27,
    "start_time": "2023-04-08T02:01:25.050Z"
   },
   {
    "duration": 133,
    "start_time": "2023-04-08T02:01:25.079Z"
   },
   {
    "duration": 3,
    "start_time": "2023-04-08T02:01:25.214Z"
   },
   {
    "duration": 33,
    "start_time": "2023-04-08T02:01:25.218Z"
   },
   {
    "duration": 17,
    "start_time": "2023-04-08T02:01:25.253Z"
   },
   {
    "duration": 59,
    "start_time": "2023-04-08T02:01:25.272Z"
   },
   {
    "duration": 2,
    "start_time": "2023-04-08T02:01:25.333Z"
   },
   {
    "duration": 3,
    "start_time": "2023-04-08T02:01:25.348Z"
   },
   {
    "duration": 4,
    "start_time": "2023-04-08T02:01:25.352Z"
   },
   {
    "duration": 67,
    "start_time": "2023-04-08T02:01:25.357Z"
   },
   {
    "duration": 4,
    "start_time": "2023-04-08T02:01:25.426Z"
   },
   {
    "duration": 149,
    "start_time": "2023-04-08T02:01:25.449Z"
   },
   {
    "duration": 3,
    "start_time": "2023-04-08T02:01:25.600Z"
   },
   {
    "duration": 9444,
    "start_time": "2023-04-08T02:01:25.604Z"
   },
   {
    "duration": 17899,
    "start_time": "2023-04-08T02:01:35.050Z"
   },
   {
    "duration": 17802,
    "start_time": "2023-04-08T02:01:52.951Z"
   },
   {
    "duration": 61603,
    "start_time": "2023-04-08T02:02:10.755Z"
   },
   {
    "duration": 62419,
    "start_time": "2023-04-08T02:03:12.360Z"
   },
   {
    "duration": 7,
    "start_time": "2023-04-08T02:04:14.781Z"
   },
   {
    "duration": 4,
    "start_time": "2023-04-08T02:04:14.790Z"
   },
   {
    "duration": 30,
    "start_time": "2023-04-08T02:04:14.796Z"
   },
   {
    "duration": 513,
    "start_time": "2023-04-08T02:04:14.827Z"
   },
   {
    "duration": 307,
    "start_time": "2023-04-08T02:04:15.342Z"
   },
   {
    "duration": 251,
    "start_time": "2023-04-08T02:04:15.650Z"
   },
   {
    "duration": 3,
    "start_time": "2023-04-08T02:04:15.903Z"
   },
   {
    "duration": 408754,
    "start_time": "2023-04-08T02:04:15.907Z"
   },
   {
    "duration": 4,
    "start_time": "2023-04-08T02:11:04.663Z"
   },
   {
    "duration": 15,
    "start_time": "2023-04-08T02:11:04.669Z"
   },
   {
    "duration": 12,
    "start_time": "2023-04-08T02:11:04.686Z"
   },
   {
    "duration": 3174,
    "start_time": "2023-04-08T02:11:04.699Z"
   },
   {
    "duration": 18777,
    "start_time": "2023-04-08T02:11:07.874Z"
   },
   {
    "duration": 17506,
    "start_time": "2023-04-08T02:11:26.652Z"
   },
   {
    "duration": 89,
    "start_time": "2023-04-08T02:11:44.160Z"
   },
   {
    "duration": 171,
    "start_time": "2023-04-08T02:11:44.251Z"
   },
   {
    "duration": 33,
    "start_time": "2023-04-08T02:11:44.424Z"
   },
   {
    "duration": 184,
    "start_time": "2023-04-08T02:11:44.458Z"
   },
   {
    "duration": 0,
    "start_time": "2023-04-08T02:11:44.643Z"
   },
   {
    "duration": 0,
    "start_time": "2023-04-08T02:11:44.649Z"
   },
   {
    "duration": 74,
    "start_time": "2023-04-08T02:12:54.298Z"
   },
   {
    "duration": 9,
    "start_time": "2023-04-08T02:13:02.122Z"
   },
   {
    "duration": 72,
    "start_time": "2023-04-08T02:13:05.674Z"
   },
   {
    "duration": 31141,
    "start_time": "2023-04-08T02:13:09.286Z"
   },
   {
    "duration": 53,
    "start_time": "2023-04-08T02:14:15.947Z"
   },
   {
    "duration": 26,
    "start_time": "2023-04-08T02:14:16.630Z"
   },
   {
    "duration": 78,
    "start_time": "2023-04-08T02:14:17.590Z"
   },
   {
    "duration": 31632,
    "start_time": "2023-04-08T02:14:19.786Z"
   },
   {
    "duration": 9,
    "start_time": "2023-04-08T02:14:51.419Z"
   },
   {
    "duration": 845,
    "start_time": "2023-04-08T02:19:26.118Z"
   },
   {
    "duration": 45,
    "start_time": "2023-04-08T02:19:28.266Z"
   },
   {
    "duration": 20,
    "start_time": "2023-04-08T02:19:29.099Z"
   },
   {
    "duration": 817,
    "start_time": "2023-04-08T02:19:30.014Z"
   },
   {
    "duration": 136002,
    "start_time": "2023-04-08T02:19:33.654Z"
   },
   {
    "duration": 22,
    "start_time": "2023-04-08T02:21:49.658Z"
   },
   {
    "duration": 662,
    "start_time": "2023-04-08T02:23:06.278Z"
   },
   {
    "duration": 36,
    "start_time": "2023-04-08T02:23:07.886Z"
   },
   {
    "duration": 18,
    "start_time": "2023-04-08T02:23:15.710Z"
   },
   {
    "duration": 788,
    "start_time": "2023-04-08T02:23:16.570Z"
   },
   {
    "duration": 2097,
    "start_time": "2023-04-08T02:23:37.034Z"
   },
   {
    "duration": 62,
    "start_time": "2023-04-08T02:23:42.998Z"
   },
   {
    "duration": 3,
    "start_time": "2023-04-08T02:23:43.846Z"
   },
   {
    "duration": 311,
    "start_time": "2023-04-08T02:24:20.686Z"
   },
   {
    "duration": 3,
    "start_time": "2023-04-08T02:24:25.283Z"
   },
   {
    "duration": 1123,
    "start_time": "2023-04-08T02:24:36.224Z"
   },
   {
    "duration": 42,
    "start_time": "2023-04-08T02:24:37.349Z"
   },
   {
    "duration": 3,
    "start_time": "2023-04-08T02:24:37.393Z"
   },
   {
    "duration": 110,
    "start_time": "2023-04-08T02:24:37.399Z"
   },
   {
    "duration": 769,
    "start_time": "2023-04-08T02:24:37.510Z"
   },
   {
    "duration": 7,
    "start_time": "2023-04-08T02:24:38.280Z"
   },
   {
    "duration": 22,
    "start_time": "2023-04-08T02:24:38.289Z"
   },
   {
    "duration": 126,
    "start_time": "2023-04-08T02:24:38.313Z"
   },
   {
    "duration": 415,
    "start_time": "2023-04-08T02:24:38.440Z"
   },
   {
    "duration": 503,
    "start_time": "2023-04-08T02:24:38.858Z"
   },
   {
    "duration": 38,
    "start_time": "2023-04-08T02:24:39.362Z"
   },
   {
    "duration": 4,
    "start_time": "2023-04-08T02:24:39.402Z"
   },
   {
    "duration": 90,
    "start_time": "2023-04-08T02:24:39.408Z"
   },
   {
    "duration": 80,
    "start_time": "2023-04-08T02:24:39.500Z"
   },
   {
    "duration": 9,
    "start_time": "2023-04-08T02:24:39.581Z"
   },
   {
    "duration": 33,
    "start_time": "2023-04-08T02:24:39.591Z"
   },
   {
    "duration": 23,
    "start_time": "2023-04-08T02:24:39.626Z"
   },
   {
    "duration": 10,
    "start_time": "2023-04-08T02:24:39.651Z"
   },
   {
    "duration": 36,
    "start_time": "2023-04-08T02:24:39.663Z"
   },
   {
    "duration": 72,
    "start_time": "2023-04-08T02:24:39.701Z"
   },
   {
    "duration": 8,
    "start_time": "2023-04-08T02:24:39.775Z"
   },
   {
    "duration": 31,
    "start_time": "2023-04-08T02:24:39.785Z"
   },
   {
    "duration": 56,
    "start_time": "2023-04-08T02:24:39.818Z"
   },
   {
    "duration": 9,
    "start_time": "2023-04-08T02:24:39.875Z"
   },
   {
    "duration": 20,
    "start_time": "2023-04-08T02:24:39.886Z"
   },
   {
    "duration": 6,
    "start_time": "2023-04-08T02:24:39.908Z"
   },
   {
    "duration": 60,
    "start_time": "2023-04-08T02:24:39.916Z"
   },
   {
    "duration": 16,
    "start_time": "2023-04-08T02:24:39.979Z"
   },
   {
    "duration": 7,
    "start_time": "2023-04-08T02:24:39.996Z"
   },
   {
    "duration": 53,
    "start_time": "2023-04-08T02:24:40.004Z"
   },
   {
    "duration": 12,
    "start_time": "2023-04-08T02:24:40.059Z"
   },
   {
    "duration": 25,
    "start_time": "2023-04-08T02:24:40.072Z"
   },
   {
    "duration": 20,
    "start_time": "2023-04-08T02:24:40.098Z"
   },
   {
    "duration": 8,
    "start_time": "2023-04-08T02:24:40.119Z"
   },
   {
    "duration": 29,
    "start_time": "2023-04-08T02:24:40.129Z"
   },
   {
    "duration": 315084,
    "start_time": "2023-04-08T02:24:40.159Z"
   },
   {
    "duration": 9,
    "start_time": "2023-04-08T02:29:55.244Z"
   },
   {
    "duration": 4,
    "start_time": "2023-04-08T02:29:55.254Z"
   },
   {
    "duration": 47,
    "start_time": "2023-04-08T02:29:55.259Z"
   },
   {
    "duration": 12,
    "start_time": "2023-04-08T02:29:55.308Z"
   },
   {
    "duration": 45,
    "start_time": "2023-04-08T02:29:55.321Z"
   },
   {
    "duration": 208811,
    "start_time": "2023-04-08T02:29:55.368Z"
   },
   {
    "duration": 7,
    "start_time": "2023-04-08T02:33:24.180Z"
   },
   {
    "duration": 4,
    "start_time": "2023-04-08T02:33:24.188Z"
   },
   {
    "duration": 62,
    "start_time": "2023-04-08T02:33:24.193Z"
   },
   {
    "duration": 27,
    "start_time": "2023-04-08T02:33:24.257Z"
   },
   {
    "duration": 131,
    "start_time": "2023-04-08T02:33:24.285Z"
   },
   {
    "duration": 4,
    "start_time": "2023-04-08T02:33:24.418Z"
   },
   {
    "duration": 46,
    "start_time": "2023-04-08T02:33:24.424Z"
   },
   {
    "duration": 27,
    "start_time": "2023-04-08T02:33:24.472Z"
   },
   {
    "duration": 68,
    "start_time": "2023-04-08T02:33:24.500Z"
   },
   {
    "duration": 4,
    "start_time": "2023-04-08T02:33:24.569Z"
   },
   {
    "duration": 6,
    "start_time": "2023-04-08T02:33:24.574Z"
   },
   {
    "duration": 4,
    "start_time": "2023-04-08T02:33:24.581Z"
   },
   {
    "duration": 90,
    "start_time": "2023-04-08T02:33:24.587Z"
   },
   {
    "duration": 6,
    "start_time": "2023-04-08T02:33:24.678Z"
   },
   {
    "duration": 166,
    "start_time": "2023-04-08T02:33:24.685Z"
   },
   {
    "duration": 5,
    "start_time": "2023-04-08T02:33:24.852Z"
   },
   {
    "duration": 9492,
    "start_time": "2023-04-08T02:33:24.858Z"
   },
   {
    "duration": 17427,
    "start_time": "2023-04-08T02:33:34.352Z"
   },
   {
    "duration": 17499,
    "start_time": "2023-04-08T02:33:51.850Z"
   },
   {
    "duration": 62112,
    "start_time": "2023-04-08T02:34:09.351Z"
   },
   {
    "duration": 63151,
    "start_time": "2023-04-08T02:35:11.464Z"
   },
   {
    "duration": 8,
    "start_time": "2023-04-08T02:36:14.617Z"
   },
   {
    "duration": 6,
    "start_time": "2023-04-08T02:36:14.627Z"
   },
   {
    "duration": 36,
    "start_time": "2023-04-08T02:36:14.634Z"
   },
   {
    "duration": 532,
    "start_time": "2023-04-08T02:36:14.672Z"
   },
   {
    "duration": 319,
    "start_time": "2023-04-08T02:36:15.205Z"
   },
   {
    "duration": 250,
    "start_time": "2023-04-08T02:36:15.525Z"
   },
   {
    "duration": 2,
    "start_time": "2023-04-08T02:36:15.776Z"
   },
   {
    "duration": 408633,
    "start_time": "2023-04-08T02:36:15.779Z"
   },
   {
    "duration": 7,
    "start_time": "2023-04-08T02:43:04.414Z"
   },
   {
    "duration": 9,
    "start_time": "2023-04-08T02:43:04.422Z"
   },
   {
    "duration": 16,
    "start_time": "2023-04-08T02:43:04.433Z"
   },
   {
    "duration": 3180,
    "start_time": "2023-04-08T02:43:04.451Z"
   },
   {
    "duration": 18714,
    "start_time": "2023-04-08T02:43:07.633Z"
   },
   {
    "duration": 17702,
    "start_time": "2023-04-08T02:43:26.348Z"
   },
   {
    "duration": 97,
    "start_time": "2023-04-08T02:43:44.052Z"
   },
   {
    "duration": 845,
    "start_time": "2023-04-08T02:43:44.151Z"
   },
   {
    "duration": 52,
    "start_time": "2023-04-08T02:43:44.997Z"
   },
   {
    "duration": 20,
    "start_time": "2023-04-08T02:43:45.050Z"
   },
   {
    "duration": 812,
    "start_time": "2023-04-08T02:43:45.075Z"
   },
   {
    "duration": 134806,
    "start_time": "2023-04-08T02:43:45.889Z"
   },
   {
    "duration": 24,
    "start_time": "2023-04-08T02:46:00.696Z"
   },
   {
    "duration": 54,
    "start_time": "2023-04-11T08:20:35.117Z"
   },
   {
    "duration": 7,
    "start_time": "2023-04-11T08:21:21.591Z"
   },
   {
    "duration": 58,
    "start_time": "2023-04-11T08:22:09.696Z"
   },
   {
    "duration": 1557,
    "start_time": "2023-04-11T08:22:14.547Z"
   },
   {
    "duration": 58,
    "start_time": "2023-04-11T08:22:16.106Z"
   },
   {
    "duration": 4,
    "start_time": "2023-04-11T08:22:16.166Z"
   },
   {
    "duration": 143,
    "start_time": "2023-04-11T08:22:16.173Z"
   },
   {
    "duration": 3005,
    "start_time": "2023-04-11T08:22:16.319Z"
   },
   {
    "duration": 10,
    "start_time": "2023-04-11T08:22:19.326Z"
   },
   {
    "duration": 48,
    "start_time": "2023-04-11T08:22:19.338Z"
   },
   {
    "duration": 164,
    "start_time": "2023-04-11T08:22:19.387Z"
   },
   {
    "duration": 572,
    "start_time": "2023-04-11T08:22:19.554Z"
   },
   {
    "duration": 732,
    "start_time": "2023-04-11T08:22:20.129Z"
   },
   {
    "duration": 80,
    "start_time": "2023-04-11T08:22:20.865Z"
   },
   {
    "duration": 30,
    "start_time": "2023-04-11T08:22:20.950Z"
   },
   {
    "duration": 107,
    "start_time": "2023-04-11T08:22:20.984Z"
   },
   {
    "duration": 102,
    "start_time": "2023-04-11T08:22:21.093Z"
   },
   {
    "duration": 13,
    "start_time": "2023-04-11T08:22:21.196Z"
   },
   {
    "duration": 56,
    "start_time": "2023-04-11T08:22:21.211Z"
   },
   {
    "duration": 24,
    "start_time": "2023-04-11T08:22:21.269Z"
   },
   {
    "duration": 15,
    "start_time": "2023-04-11T08:22:21.295Z"
   },
   {
    "duration": 65,
    "start_time": "2023-04-11T08:22:21.312Z"
   },
   {
    "duration": 1656,
    "start_time": "2023-04-11T08:22:21.379Z"
   },
   {
    "duration": 0,
    "start_time": "2023-04-11T08:22:23.039Z"
   },
   {
    "duration": 0,
    "start_time": "2023-04-11T08:22:23.041Z"
   },
   {
    "duration": 0,
    "start_time": "2023-04-11T08:22:23.043Z"
   },
   {
    "duration": 0,
    "start_time": "2023-04-11T08:22:23.044Z"
   },
   {
    "duration": 0,
    "start_time": "2023-04-11T08:22:23.046Z"
   },
   {
    "duration": 0,
    "start_time": "2023-04-11T08:22:23.047Z"
   },
   {
    "duration": 0,
    "start_time": "2023-04-11T08:22:23.048Z"
   },
   {
    "duration": 1,
    "start_time": "2023-04-11T08:22:23.049Z"
   },
   {
    "duration": 0,
    "start_time": "2023-04-11T08:22:23.051Z"
   },
   {
    "duration": 0,
    "start_time": "2023-04-11T08:22:23.052Z"
   },
   {
    "duration": 0,
    "start_time": "2023-04-11T08:22:23.053Z"
   },
   {
    "duration": 0,
    "start_time": "2023-04-11T08:22:23.055Z"
   },
   {
    "duration": 0,
    "start_time": "2023-04-11T08:22:23.056Z"
   },
   {
    "duration": 0,
    "start_time": "2023-04-11T08:22:23.058Z"
   },
   {
    "duration": 0,
    "start_time": "2023-04-11T08:22:23.059Z"
   },
   {
    "duration": 0,
    "start_time": "2023-04-11T08:22:23.061Z"
   },
   {
    "duration": 0,
    "start_time": "2023-04-11T08:22:23.062Z"
   },
   {
    "duration": 0,
    "start_time": "2023-04-11T08:22:23.063Z"
   },
   {
    "duration": 0,
    "start_time": "2023-04-11T08:22:23.065Z"
   },
   {
    "duration": 0,
    "start_time": "2023-04-11T08:22:23.066Z"
   },
   {
    "duration": 0,
    "start_time": "2023-04-11T08:22:23.067Z"
   },
   {
    "duration": 0,
    "start_time": "2023-04-11T08:22:23.068Z"
   },
   {
    "duration": 0,
    "start_time": "2023-04-11T08:22:23.070Z"
   },
   {
    "duration": 0,
    "start_time": "2023-04-11T08:22:23.071Z"
   },
   {
    "duration": 0,
    "start_time": "2023-04-11T08:22:23.072Z"
   },
   {
    "duration": 0,
    "start_time": "2023-04-11T08:22:23.073Z"
   },
   {
    "duration": 0,
    "start_time": "2023-04-11T08:22:23.075Z"
   },
   {
    "duration": 0,
    "start_time": "2023-04-11T08:22:23.076Z"
   },
   {
    "duration": 0,
    "start_time": "2023-04-11T08:22:23.134Z"
   },
   {
    "duration": 0,
    "start_time": "2023-04-11T08:22:23.135Z"
   },
   {
    "duration": 0,
    "start_time": "2023-04-11T08:22:23.137Z"
   },
   {
    "duration": 0,
    "start_time": "2023-04-11T08:22:23.139Z"
   },
   {
    "duration": 0,
    "start_time": "2023-04-11T08:22:23.141Z"
   },
   {
    "duration": 0,
    "start_time": "2023-04-11T08:22:23.143Z"
   },
   {
    "duration": 0,
    "start_time": "2023-04-11T08:22:23.145Z"
   },
   {
    "duration": 0,
    "start_time": "2023-04-11T08:22:23.146Z"
   },
   {
    "duration": 0,
    "start_time": "2023-04-11T08:22:23.148Z"
   },
   {
    "duration": 0,
    "start_time": "2023-04-11T08:22:23.150Z"
   },
   {
    "duration": 0,
    "start_time": "2023-04-11T08:22:23.151Z"
   },
   {
    "duration": 0,
    "start_time": "2023-04-11T08:22:23.153Z"
   },
   {
    "duration": 0,
    "start_time": "2023-04-11T08:22:23.154Z"
   },
   {
    "duration": 0,
    "start_time": "2023-04-11T08:22:23.155Z"
   },
   {
    "duration": 0,
    "start_time": "2023-04-11T08:22:23.156Z"
   },
   {
    "duration": 0,
    "start_time": "2023-04-11T08:22:23.158Z"
   },
   {
    "duration": 0,
    "start_time": "2023-04-11T08:22:23.159Z"
   },
   {
    "duration": 0,
    "start_time": "2023-04-11T08:22:23.160Z"
   },
   {
    "duration": 0,
    "start_time": "2023-04-11T08:22:23.161Z"
   },
   {
    "duration": 1,
    "start_time": "2023-04-11T08:22:23.162Z"
   },
   {
    "duration": 0,
    "start_time": "2023-04-11T08:22:23.164Z"
   },
   {
    "duration": 0,
    "start_time": "2023-04-11T08:22:23.165Z"
   },
   {
    "duration": 0,
    "start_time": "2023-04-11T08:22:23.167Z"
   },
   {
    "duration": 0,
    "start_time": "2023-04-11T08:22:23.168Z"
   },
   {
    "duration": 0,
    "start_time": "2023-04-11T08:22:23.170Z"
   },
   {
    "duration": 1,
    "start_time": "2023-04-11T08:22:23.171Z"
   },
   {
    "duration": 0,
    "start_time": "2023-04-11T08:22:23.234Z"
   },
   {
    "duration": 0,
    "start_time": "2023-04-11T08:22:23.235Z"
   },
   {
    "duration": 0,
    "start_time": "2023-04-11T08:22:23.236Z"
   },
   {
    "duration": 0,
    "start_time": "2023-04-11T08:22:23.237Z"
   },
   {
    "duration": 0,
    "start_time": "2023-04-11T08:22:23.239Z"
   },
   {
    "duration": 0,
    "start_time": "2023-04-11T08:22:23.240Z"
   },
   {
    "duration": 0,
    "start_time": "2023-04-11T08:22:23.241Z"
   },
   {
    "duration": 0,
    "start_time": "2023-04-11T08:22:23.242Z"
   },
   {
    "duration": 0,
    "start_time": "2023-04-11T08:22:23.243Z"
   },
   {
    "duration": 0,
    "start_time": "2023-04-11T08:22:23.245Z"
   },
   {
    "duration": 0,
    "start_time": "2023-04-11T08:22:23.246Z"
   },
   {
    "duration": 26,
    "start_time": "2023-04-11T08:26:42.616Z"
   },
   {
    "duration": 3,
    "start_time": "2023-04-11T08:27:46.131Z"
   },
   {
    "duration": 23,
    "start_time": "2023-04-11T08:32:19.528Z"
   },
   {
    "duration": 23,
    "start_time": "2023-04-11T08:32:54.531Z"
   },
   {
    "duration": 23,
    "start_time": "2023-04-11T08:33:15.320Z"
   },
   {
    "duration": 23,
    "start_time": "2023-04-11T08:33:56.875Z"
   },
   {
    "duration": 38,
    "start_time": "2023-04-11T08:44:55.395Z"
   },
   {
    "duration": 39,
    "start_time": "2023-04-11T08:54:28.229Z"
   },
   {
    "duration": 58,
    "start_time": "2023-04-11T08:54:29.195Z"
   },
   {
    "duration": 1266,
    "start_time": "2023-04-11T08:54:41.288Z"
   },
   {
    "duration": 2711,
    "start_time": "2023-04-11T08:55:01.883Z"
   },
   {
    "duration": 39,
    "start_time": "2023-04-11T09:00:17.322Z"
   },
   {
    "duration": 34,
    "start_time": "2023-04-11T09:02:50.407Z"
   },
   {
    "duration": 34,
    "start_time": "2023-04-11T09:02:53.344Z"
   },
   {
    "duration": 10,
    "start_time": "2023-04-11T09:12:11.235Z"
   },
   {
    "duration": 11,
    "start_time": "2023-04-11T09:15:10.743Z"
   },
   {
    "duration": 3,
    "start_time": "2023-04-11T09:15:18.051Z"
   },
   {
    "duration": 10,
    "start_time": "2023-04-11T09:15:27.173Z"
   },
   {
    "duration": 3,
    "start_time": "2023-04-11T09:15:34.219Z"
   },
   {
    "duration": 2,
    "start_time": "2023-04-11T09:26:40.485Z"
   },
   {
    "duration": 4,
    "start_time": "2023-04-11T09:29:49.681Z"
   },
   {
    "duration": 110,
    "start_time": "2023-04-11T09:29:54.881Z"
   },
   {
    "duration": 113,
    "start_time": "2023-04-11T09:29:59.310Z"
   },
   {
    "duration": 1359,
    "start_time": "2023-04-11T09:30:48.014Z"
   },
   {
    "duration": 58,
    "start_time": "2023-04-11T09:30:49.375Z"
   },
   {
    "duration": 4,
    "start_time": "2023-04-11T09:30:49.435Z"
   },
   {
    "duration": 143,
    "start_time": "2023-04-11T09:30:49.441Z"
   },
   {
    "duration": 1209,
    "start_time": "2023-04-11T09:30:49.587Z"
   },
   {
    "duration": 11,
    "start_time": "2023-04-11T09:30:50.798Z"
   },
   {
    "duration": 43,
    "start_time": "2023-04-11T09:30:50.811Z"
   },
   {
    "duration": 182,
    "start_time": "2023-04-11T09:30:50.857Z"
   },
   {
    "duration": 671,
    "start_time": "2023-04-11T09:30:51.042Z"
   },
   {
    "duration": 839,
    "start_time": "2023-04-11T09:30:51.716Z"
   },
   {
    "duration": 44,
    "start_time": "2023-04-11T09:30:52.557Z"
   },
   {
    "duration": 12,
    "start_time": "2023-04-11T09:30:52.603Z"
   },
   {
    "duration": 115,
    "start_time": "2023-04-11T09:30:52.618Z"
   },
   {
    "duration": 104,
    "start_time": "2023-04-11T09:30:52.738Z"
   },
   {
    "duration": 11,
    "start_time": "2023-04-11T09:30:52.845Z"
   },
   {
    "duration": 44,
    "start_time": "2023-04-11T09:30:52.858Z"
   },
   {
    "duration": 36,
    "start_time": "2023-04-11T09:30:52.905Z"
   },
   {
    "duration": 14,
    "start_time": "2023-04-11T09:30:52.943Z"
   },
   {
    "duration": 87,
    "start_time": "2023-04-11T09:30:52.959Z"
   },
   {
    "duration": 26,
    "start_time": "2023-04-11T09:30:53.049Z"
   },
   {
    "duration": 134,
    "start_time": "2023-04-11T09:30:53.078Z"
   },
   {
    "duration": 28,
    "start_time": "2023-04-11T09:30:53.214Z"
   },
   {
    "duration": 28,
    "start_time": "2023-04-11T09:30:53.244Z"
   },
   {
    "duration": 65,
    "start_time": "2023-04-11T09:30:53.274Z"
   },
   {
    "duration": 10,
    "start_time": "2023-04-11T09:30:53.341Z"
   },
   {
    "duration": 37,
    "start_time": "2023-04-11T09:30:53.354Z"
   },
   {
    "duration": 43,
    "start_time": "2023-04-11T09:30:53.393Z"
   },
   {
    "duration": 53,
    "start_time": "2023-04-11T09:30:53.437Z"
   },
   {
    "duration": 48,
    "start_time": "2023-04-11T09:30:53.493Z"
   },
   {
    "duration": 14,
    "start_time": "2023-04-11T09:30:53.543Z"
   },
   {
    "duration": 62,
    "start_time": "2023-04-11T09:30:53.560Z"
   },
   {
    "duration": 18,
    "start_time": "2023-04-11T09:30:53.635Z"
   },
   {
    "duration": 30,
    "start_time": "2023-04-11T09:30:53.656Z"
   },
   {
    "duration": 58,
    "start_time": "2023-04-11T09:30:53.689Z"
   },
   {
    "duration": 8,
    "start_time": "2023-04-11T09:30:53.750Z"
   },
   {
    "duration": 24,
    "start_time": "2023-04-11T09:30:53.760Z"
   },
   {
    "duration": 1228,
    "start_time": "2023-04-11T09:31:35.523Z"
   },
   {
    "duration": 6,
    "start_time": "2023-04-11T09:31:36.753Z"
   },
   {
    "duration": 288,
    "start_time": "2023-04-11T09:31:38.914Z"
   },
   {
    "duration": 4,
    "start_time": "2023-04-11T09:31:39.525Z"
   },
   {
    "duration": 5,
    "start_time": "2023-04-11T09:31:40.036Z"
   },
   {
    "duration": 128,
    "start_time": "2023-04-11T09:31:40.675Z"
   },
   {
    "duration": 955,
    "start_time": "2023-04-11T09:31:51.251Z"
   },
   {
    "duration": 9,
    "start_time": "2023-04-11T09:31:52.209Z"
   },
   {
    "duration": 25,
    "start_time": "2023-04-11T09:31:52.509Z"
   },
   {
    "duration": 146,
    "start_time": "2023-04-11T09:31:52.843Z"
   },
   {
    "duration": 527,
    "start_time": "2023-04-11T09:31:53.339Z"
   },
   {
    "duration": 686,
    "start_time": "2023-04-11T09:31:54.035Z"
   },
   {
    "duration": 43,
    "start_time": "2023-04-11T09:31:54.723Z"
   },
   {
    "duration": 4,
    "start_time": "2023-04-11T09:31:55.025Z"
   },
   {
    "duration": 95,
    "start_time": "2023-04-11T09:31:55.113Z"
   },
   {
    "duration": 87,
    "start_time": "2023-04-11T09:31:55.528Z"
   },
   {
    "duration": 13,
    "start_time": "2023-04-11T09:31:56.829Z"
   },
   {
    "duration": 42,
    "start_time": "2023-04-11T09:31:57.335Z"
   },
   {
    "duration": 9,
    "start_time": "2023-04-11T09:31:59.667Z"
   },
   {
    "duration": 12,
    "start_time": "2023-04-11T09:32:00.179Z"
   },
   {
    "duration": 49,
    "start_time": "2023-04-11T09:32:00.783Z"
   },
   {
    "duration": 24,
    "start_time": "2023-04-11T09:32:02.334Z"
   },
   {
    "duration": 61,
    "start_time": "2023-04-11T09:32:04.025Z"
   },
   {
    "duration": 10,
    "start_time": "2023-04-11T09:32:07.010Z"
   },
   {
    "duration": 32,
    "start_time": "2023-04-11T09:32:07.747Z"
   },
   {
    "duration": 50,
    "start_time": "2023-04-11T09:32:12.619Z"
   },
   {
    "duration": 9,
    "start_time": "2023-04-11T09:32:13.313Z"
   },
   {
    "duration": 33,
    "start_time": "2023-04-11T09:32:14.843Z"
   },
   {
    "duration": 10,
    "start_time": "2023-04-11T09:32:18.842Z"
   },
   {
    "duration": 79,
    "start_time": "2023-04-11T09:32:19.475Z"
   },
   {
    "duration": 29,
    "start_time": "2023-04-11T09:32:20.214Z"
   },
   {
    "duration": 12,
    "start_time": "2023-04-11T09:32:23.716Z"
   },
   {
    "duration": 68,
    "start_time": "2023-04-11T09:32:24.251Z"
   },
   {
    "duration": 35,
    "start_time": "2023-04-11T09:32:25.311Z"
   },
   {
    "duration": 28,
    "start_time": "2023-04-11T09:32:26.495Z"
   },
   {
    "duration": 27,
    "start_time": "2023-04-11T09:32:31.239Z"
   },
   {
    "duration": 7,
    "start_time": "2023-04-11T09:32:32.000Z"
   },
   {
    "duration": 16,
    "start_time": "2023-04-11T09:32:32.955Z"
   },
   {
    "duration": 161,
    "start_time": "2023-04-11T09:33:43.826Z"
   },
   {
    "duration": 1439,
    "start_time": "2023-04-11T09:39:19.801Z"
   },
   {
    "duration": 51,
    "start_time": "2023-04-11T09:39:21.242Z"
   },
   {
    "duration": 3,
    "start_time": "2023-04-11T09:39:21.295Z"
   },
   {
    "duration": 136,
    "start_time": "2023-04-11T09:39:21.301Z"
   },
   {
    "duration": 1051,
    "start_time": "2023-04-11T09:39:21.439Z"
   },
   {
    "duration": 10,
    "start_time": "2023-04-11T09:39:22.492Z"
   },
   {
    "duration": 40,
    "start_time": "2023-04-11T09:39:22.504Z"
   },
   {
    "duration": 163,
    "start_time": "2023-04-11T09:39:22.546Z"
   },
   {
    "duration": 602,
    "start_time": "2023-04-11T09:39:22.710Z"
   },
   {
    "duration": 712,
    "start_time": "2023-04-11T09:39:23.315Z"
   },
   {
    "duration": 43,
    "start_time": "2023-04-11T09:39:24.029Z"
   },
   {
    "duration": 9,
    "start_time": "2023-04-11T09:39:24.074Z"
   },
   {
    "duration": 114,
    "start_time": "2023-04-11T09:39:24.085Z"
   },
   {
    "duration": 106,
    "start_time": "2023-04-11T09:39:24.201Z"
   },
   {
    "duration": 25,
    "start_time": "2023-04-11T09:39:24.309Z"
   },
   {
    "duration": 40,
    "start_time": "2023-04-11T09:39:24.337Z"
   },
   {
    "duration": 13,
    "start_time": "2023-04-11T09:39:24.378Z"
   },
   {
    "duration": 14,
    "start_time": "2023-04-11T09:39:24.393Z"
   },
   {
    "duration": 67,
    "start_time": "2023-04-11T09:39:24.408Z"
   },
   {
    "duration": 25,
    "start_time": "2023-04-11T09:39:24.478Z"
   },
   {
    "duration": 60,
    "start_time": "2023-04-11T09:39:24.505Z"
   },
   {
    "duration": 8,
    "start_time": "2023-04-11T09:39:24.567Z"
   },
   {
    "duration": 23,
    "start_time": "2023-04-11T09:39:24.577Z"
   },
   {
    "duration": 71,
    "start_time": "2023-04-11T09:39:24.602Z"
   },
   {
    "duration": 9,
    "start_time": "2023-04-11T09:39:24.675Z"
   },
   {
    "duration": 48,
    "start_time": "2023-04-11T09:39:24.686Z"
   },
   {
    "duration": 9,
    "start_time": "2023-04-11T09:39:24.735Z"
   },
   {
    "duration": 54,
    "start_time": "2023-04-11T09:39:24.749Z"
   },
   {
    "duration": 39,
    "start_time": "2023-04-11T09:39:24.805Z"
   },
   {
    "duration": 9,
    "start_time": "2023-04-11T09:39:24.846Z"
   },
   {
    "duration": 62,
    "start_time": "2023-04-11T09:39:24.857Z"
   },
   {
    "duration": 25,
    "start_time": "2023-04-11T09:39:24.921Z"
   },
   {
    "duration": 28,
    "start_time": "2023-04-11T09:39:24.947Z"
   },
   {
    "duration": 24,
    "start_time": "2023-04-11T09:39:24.977Z"
   },
   {
    "duration": 33,
    "start_time": "2023-04-11T09:39:25.003Z"
   },
   {
    "duration": 28,
    "start_time": "2023-04-11T09:39:25.038Z"
   },
   {
    "duration": 408236,
    "start_time": "2023-04-11T09:39:25.067Z"
   },
   {
    "duration": 10,
    "start_time": "2023-04-11T09:46:13.306Z"
   },
   {
    "duration": 16,
    "start_time": "2023-04-11T09:46:13.317Z"
   },
   {
    "duration": 64,
    "start_time": "2023-04-11T09:46:13.335Z"
   },
   {
    "duration": 13,
    "start_time": "2023-04-11T09:46:13.401Z"
   },
   {
    "duration": 38,
    "start_time": "2023-04-11T09:46:13.416Z"
   },
   {
    "duration": 265191,
    "start_time": "2023-04-11T09:46:13.456Z"
   },
   {
    "duration": 10,
    "start_time": "2023-04-11T09:50:38.648Z"
   },
   {
    "duration": 5,
    "start_time": "2023-04-11T09:50:38.660Z"
   },
   {
    "duration": 85,
    "start_time": "2023-04-11T09:50:38.667Z"
   },
   {
    "duration": 37,
    "start_time": "2023-04-11T09:50:38.754Z"
   },
   {
    "duration": 161,
    "start_time": "2023-04-11T09:50:38.793Z"
   },
   {
    "duration": 5,
    "start_time": "2023-04-11T09:50:38.957Z"
   },
   {
    "duration": 59,
    "start_time": "2023-04-11T09:50:38.964Z"
   },
   {
    "duration": 31,
    "start_time": "2023-04-11T09:50:39.025Z"
   },
   {
    "duration": 87,
    "start_time": "2023-04-11T09:50:39.057Z"
   },
   {
    "duration": 37,
    "start_time": "2023-04-11T09:50:39.146Z"
   },
   {
    "duration": 60,
    "start_time": "2023-04-11T09:50:39.186Z"
   },
   {
    "duration": 36,
    "start_time": "2023-04-11T09:50:39.248Z"
   },
   {
    "duration": 8,
    "start_time": "2023-04-11T09:50:39.286Z"
   },
   {
    "duration": 16,
    "start_time": "2023-04-11T09:50:39.296Z"
   },
   {
    "duration": 21,
    "start_time": "2023-04-11T09:50:39.314Z"
   },
   {
    "duration": 9,
    "start_time": "2023-04-11T09:50:39.337Z"
   },
   {
    "duration": 98,
    "start_time": "2023-04-11T09:50:39.348Z"
   },
   {
    "duration": 45,
    "start_time": "2023-04-11T09:50:39.448Z"
   },
   {
    "duration": 7,
    "start_time": "2023-04-11T09:50:39.495Z"
   },
   {
    "duration": 153,
    "start_time": "2023-04-11T09:50:39.503Z"
   },
   {
    "duration": 4,
    "start_time": "2023-04-11T09:50:39.659Z"
   },
   {
    "duration": 373770,
    "start_time": "2023-04-11T09:50:39.665Z"
   },
   {
    "duration": 491115,
    "start_time": "2023-04-11T09:56:53.437Z"
   },
   {
    "duration": 17892,
    "start_time": "2023-04-11T10:05:04.554Z"
   },
   {
    "duration": 54455,
    "start_time": "2023-04-11T10:05:22.448Z"
   },
   {
    "duration": 55501,
    "start_time": "2023-04-11T10:06:16.905Z"
   },
   {
    "duration": 10,
    "start_time": "2023-04-11T10:07:12.408Z"
   },
   {
    "duration": 8,
    "start_time": "2023-04-11T10:07:12.419Z"
   },
   {
    "duration": 38,
    "start_time": "2023-04-11T10:07:12.429Z"
   },
   {
    "duration": 293,
    "start_time": "2023-04-11T10:07:12.469Z"
   },
   {
    "duration": 213,
    "start_time": "2023-04-11T10:07:12.764Z"
   },
   {
    "duration": 217,
    "start_time": "2023-04-11T10:07:12.980Z"
   },
   {
    "duration": 4,
    "start_time": "2023-04-11T10:07:13.201Z"
   },
   {
    "duration": 1443,
    "start_time": "2023-04-11T10:09:30.574Z"
   },
   {
    "duration": 67,
    "start_time": "2023-04-11T10:09:32.021Z"
   },
   {
    "duration": 4,
    "start_time": "2023-04-11T10:09:32.090Z"
   },
   {
    "duration": 160,
    "start_time": "2023-04-11T10:09:32.095Z"
   },
   {
    "duration": 1066,
    "start_time": "2023-04-11T10:09:32.258Z"
   },
   {
    "duration": 16,
    "start_time": "2023-04-11T10:09:33.326Z"
   },
   {
    "duration": 38,
    "start_time": "2023-04-11T10:09:33.344Z"
   },
   {
    "duration": 153,
    "start_time": "2023-04-11T10:09:33.384Z"
   },
   {
    "duration": 595,
    "start_time": "2023-04-11T10:09:33.539Z"
   },
   {
    "duration": 696,
    "start_time": "2023-04-11T10:09:34.136Z"
   },
   {
    "duration": 36,
    "start_time": "2023-04-11T10:09:34.834Z"
   },
   {
    "duration": 4,
    "start_time": "2023-04-11T10:09:34.872Z"
   },
   {
    "duration": 112,
    "start_time": "2023-04-11T10:09:34.878Z"
   },
   {
    "duration": 100,
    "start_time": "2023-04-11T10:09:34.994Z"
   },
   {
    "duration": 11,
    "start_time": "2023-04-11T10:09:35.096Z"
   },
   {
    "duration": 60,
    "start_time": "2023-04-11T10:09:35.109Z"
   },
   {
    "duration": 11,
    "start_time": "2023-04-11T10:09:35.172Z"
   },
   {
    "duration": 15,
    "start_time": "2023-04-11T10:09:35.186Z"
   },
   {
    "duration": 77,
    "start_time": "2023-04-11T10:09:35.202Z"
   },
   {
    "duration": 24,
    "start_time": "2023-04-11T10:09:35.281Z"
   },
   {
    "duration": 56,
    "start_time": "2023-04-11T10:09:35.307Z"
   },
   {
    "duration": 9,
    "start_time": "2023-04-11T10:09:35.365Z"
   },
   {
    "duration": 36,
    "start_time": "2023-04-11T10:09:35.375Z"
   },
   {
    "duration": 58,
    "start_time": "2023-04-11T10:09:35.413Z"
   },
   {
    "duration": 9,
    "start_time": "2023-04-11T10:09:35.473Z"
   },
   {
    "duration": 51,
    "start_time": "2023-04-11T10:09:35.483Z"
   },
   {
    "duration": 9,
    "start_time": "2023-04-11T10:09:35.536Z"
   },
   {
    "duration": 49,
    "start_time": "2023-04-11T10:09:35.547Z"
   },
   {
    "duration": 43,
    "start_time": "2023-04-11T10:09:35.598Z"
   },
   {
    "duration": 10,
    "start_time": "2023-04-11T10:09:35.643Z"
   },
   {
    "duration": 52,
    "start_time": "2023-04-11T10:09:35.655Z"
   },
   {
    "duration": 33,
    "start_time": "2023-04-11T10:09:35.709Z"
   },
   {
    "duration": 28,
    "start_time": "2023-04-11T10:09:35.744Z"
   },
   {
    "duration": 27,
    "start_time": "2023-04-11T10:09:35.774Z"
   },
   {
    "duration": 33,
    "start_time": "2023-04-11T10:09:35.803Z"
   },
   {
    "duration": 30,
    "start_time": "2023-04-11T10:09:35.838Z"
   },
   {
    "duration": 400082,
    "start_time": "2023-04-11T10:09:35.870Z"
   },
   {
    "duration": 9,
    "start_time": "2023-04-11T10:16:15.953Z"
   },
   {
    "duration": 8,
    "start_time": "2023-04-11T10:16:15.964Z"
   },
   {
    "duration": 73,
    "start_time": "2023-04-11T10:16:15.973Z"
   },
   {
    "duration": 14,
    "start_time": "2023-04-11T10:16:16.051Z"
   },
   {
    "duration": 24,
    "start_time": "2023-04-11T10:16:16.066Z"
   },
   {
    "duration": 258197,
    "start_time": "2023-04-11T10:16:16.092Z"
   },
   {
    "duration": 11,
    "start_time": "2023-04-11T10:20:34.292Z"
   },
   {
    "duration": 12,
    "start_time": "2023-04-11T10:20:34.305Z"
   },
   {
    "duration": 76,
    "start_time": "2023-04-11T10:20:34.319Z"
   },
   {
    "duration": 45,
    "start_time": "2023-04-11T10:20:34.397Z"
   },
   {
    "duration": 161,
    "start_time": "2023-04-11T10:20:34.444Z"
   },
   {
    "duration": 5,
    "start_time": "2023-04-11T10:20:34.607Z"
   },
   {
    "duration": 49,
    "start_time": "2023-04-11T10:20:34.613Z"
   },
   {
    "duration": 31,
    "start_time": "2023-04-11T10:20:34.664Z"
   },
   {
    "duration": 84,
    "start_time": "2023-04-11T10:20:34.697Z"
   },
   {
    "duration": 53,
    "start_time": "2023-04-11T10:20:34.784Z"
   },
   {
    "duration": 35,
    "start_time": "2023-04-11T10:20:34.839Z"
   },
   {
    "duration": 34,
    "start_time": "2023-04-11T10:20:34.876Z"
   },
   {
    "duration": 4,
    "start_time": "2023-04-11T10:20:34.933Z"
   },
   {
    "duration": 13,
    "start_time": "2023-04-11T10:20:34.938Z"
   },
   {
    "duration": 13,
    "start_time": "2023-04-11T10:20:34.952Z"
   },
   {
    "duration": 114,
    "start_time": "2023-04-11T10:20:34.967Z"
   },
   {
    "duration": 26,
    "start_time": "2023-04-11T10:20:35.082Z"
   },
   {
    "duration": 5,
    "start_time": "2023-04-11T10:20:35.110Z"
   },
   {
    "duration": 173,
    "start_time": "2023-04-11T10:20:35.134Z"
   },
   {
    "duration": 4,
    "start_time": "2023-04-11T10:20:35.309Z"
   },
   {
    "duration": 14722,
    "start_time": "2023-04-11T10:20:35.316Z"
   },
   {
    "duration": 21906,
    "start_time": "2023-04-11T10:20:50.040Z"
   },
   {
    "duration": 19208,
    "start_time": "2023-04-11T10:21:11.948Z"
   },
   {
    "duration": 65629,
    "start_time": "2023-04-11T10:21:31.234Z"
   },
   {
    "duration": 63395,
    "start_time": "2023-04-11T10:22:36.866Z"
   },
   {
    "duration": 11,
    "start_time": "2023-04-11T10:23:40.263Z"
   },
   {
    "duration": 128,
    "start_time": "2023-04-11T10:23:40.275Z"
   },
   {
    "duration": 0,
    "start_time": "2023-04-11T10:23:40.405Z"
   },
   {
    "duration": 0,
    "start_time": "2023-04-11T10:23:40.406Z"
   },
   {
    "duration": 0,
    "start_time": "2023-04-11T10:23:40.408Z"
   },
   {
    "duration": 0,
    "start_time": "2023-04-11T10:23:40.409Z"
   },
   {
    "duration": 0,
    "start_time": "2023-04-11T10:23:40.410Z"
   },
   {
    "duration": 0,
    "start_time": "2023-04-11T10:23:40.411Z"
   },
   {
    "duration": 0,
    "start_time": "2023-04-11T10:23:40.412Z"
   },
   {
    "duration": 0,
    "start_time": "2023-04-11T10:23:40.434Z"
   },
   {
    "duration": 0,
    "start_time": "2023-04-11T10:23:40.435Z"
   },
   {
    "duration": 0,
    "start_time": "2023-04-11T10:23:40.436Z"
   },
   {
    "duration": 0,
    "start_time": "2023-04-11T10:23:40.438Z"
   },
   {
    "duration": 0,
    "start_time": "2023-04-11T10:23:40.439Z"
   },
   {
    "duration": 0,
    "start_time": "2023-04-11T10:23:40.440Z"
   },
   {
    "duration": 0,
    "start_time": "2023-04-11T10:23:40.441Z"
   },
   {
    "duration": 0,
    "start_time": "2023-04-11T10:23:40.442Z"
   },
   {
    "duration": 0,
    "start_time": "2023-04-11T10:23:40.444Z"
   },
   {
    "duration": 0,
    "start_time": "2023-04-11T10:23:40.445Z"
   },
   {
    "duration": 0,
    "start_time": "2023-04-11T10:23:40.446Z"
   },
   {
    "duration": 0,
    "start_time": "2023-04-11T10:23:40.447Z"
   },
   {
    "duration": 0,
    "start_time": "2023-04-11T10:23:40.448Z"
   },
   {
    "duration": 0,
    "start_time": "2023-04-11T10:23:40.449Z"
   },
   {
    "duration": 0,
    "start_time": "2023-04-11T10:23:40.451Z"
   },
   {
    "duration": 0,
    "start_time": "2023-04-11T10:23:40.453Z"
   },
   {
    "duration": 0,
    "start_time": "2023-04-11T10:23:40.454Z"
   },
   {
    "duration": 84,
    "start_time": "2023-04-11T10:29:42.700Z"
   },
   {
    "duration": 82,
    "start_time": "2023-04-11T10:30:08.798Z"
   },
   {
    "duration": 940,
    "start_time": "2023-04-11T10:35:38.862Z"
   },
   {
    "duration": 80,
    "start_time": "2023-04-11T10:35:42.198Z"
   },
   {
    "duration": 1168,
    "start_time": "2023-04-11T16:18:29.171Z"
   },
   {
    "duration": 52,
    "start_time": "2023-04-11T16:18:35.810Z"
   },
   {
    "duration": 10,
    "start_time": "2023-04-11T16:18:36.523Z"
   },
   {
    "duration": 115,
    "start_time": "2023-04-11T16:18:37.182Z"
   },
   {
    "duration": 128,
    "start_time": "2023-04-11T16:19:24.767Z"
   },
   {
    "duration": 1217,
    "start_time": "2023-04-11T16:19:31.599Z"
   },
   {
    "duration": 46,
    "start_time": "2023-04-11T16:19:32.840Z"
   },
   {
    "duration": 3,
    "start_time": "2023-04-11T16:19:32.887Z"
   },
   {
    "duration": 111,
    "start_time": "2023-04-11T16:19:32.892Z"
   },
   {
    "duration": 1370,
    "start_time": "2023-04-11T16:19:33.005Z"
   },
   {
    "duration": 9,
    "start_time": "2023-04-11T16:19:34.377Z"
   },
   {
    "duration": 53,
    "start_time": "2023-04-11T16:19:34.387Z"
   },
   {
    "duration": 145,
    "start_time": "2023-04-11T16:19:34.444Z"
   },
   {
    "duration": 557,
    "start_time": "2023-04-11T16:19:34.591Z"
   },
   {
    "duration": 598,
    "start_time": "2023-04-11T16:19:35.152Z"
   },
   {
    "duration": 38,
    "start_time": "2023-04-11T16:19:35.752Z"
   },
   {
    "duration": 13,
    "start_time": "2023-04-11T16:19:35.792Z"
   },
   {
    "duration": 106,
    "start_time": "2023-04-11T16:19:35.806Z"
   },
   {
    "duration": 98,
    "start_time": "2023-04-11T16:19:35.914Z"
   },
   {
    "duration": 21,
    "start_time": "2023-04-11T16:19:36.013Z"
   },
   {
    "duration": 38,
    "start_time": "2023-04-11T16:19:36.041Z"
   },
   {
    "duration": 28,
    "start_time": "2023-04-11T16:19:36.081Z"
   },
   {
    "duration": 31,
    "start_time": "2023-04-11T16:19:36.111Z"
   },
   {
    "duration": 69,
    "start_time": "2023-04-11T16:19:36.144Z"
   },
   {
    "duration": 44,
    "start_time": "2023-04-11T16:19:36.215Z"
   },
   {
    "duration": 48,
    "start_time": "2023-04-11T16:19:36.261Z"
   },
   {
    "duration": 23,
    "start_time": "2023-04-11T16:19:36.311Z"
   },
   {
    "duration": 22,
    "start_time": "2023-04-11T16:19:36.344Z"
   },
   {
    "duration": 47,
    "start_time": "2023-04-11T16:19:36.368Z"
   },
   {
    "duration": 28,
    "start_time": "2023-04-11T16:19:36.416Z"
   },
   {
    "duration": 22,
    "start_time": "2023-04-11T16:19:36.445Z"
   },
   {
    "duration": 7,
    "start_time": "2023-04-11T16:19:36.469Z"
   },
   {
    "duration": 58,
    "start_time": "2023-04-11T16:19:36.480Z"
   },
   {
    "duration": 18,
    "start_time": "2023-04-11T16:19:36.544Z"
   },
   {
    "duration": 12,
    "start_time": "2023-04-11T16:19:36.565Z"
   },
   {
    "duration": 58,
    "start_time": "2023-04-11T16:19:36.578Z"
   },
   {
    "duration": 13,
    "start_time": "2023-04-11T16:19:36.637Z"
   },
   {
    "duration": 23,
    "start_time": "2023-04-11T16:19:36.652Z"
   },
   {
    "duration": 19,
    "start_time": "2023-04-11T16:19:36.677Z"
   },
   {
    "duration": 33,
    "start_time": "2023-04-11T16:19:36.698Z"
   },
   {
    "duration": 16,
    "start_time": "2023-04-11T16:19:36.743Z"
   },
   {
    "duration": 389289,
    "start_time": "2023-04-11T16:19:36.761Z"
   },
   {
    "duration": 9,
    "start_time": "2023-04-11T16:26:06.052Z"
   },
   {
    "duration": 5,
    "start_time": "2023-04-11T16:26:06.063Z"
   },
   {
    "duration": 81,
    "start_time": "2023-04-11T16:26:06.070Z"
   },
   {
    "duration": 15,
    "start_time": "2023-04-11T16:26:06.153Z"
   },
   {
    "duration": 35,
    "start_time": "2023-04-11T16:26:06.171Z"
   },
   {
    "duration": 255780,
    "start_time": "2023-04-11T16:26:06.208Z"
   },
   {
    "duration": 7,
    "start_time": "2023-04-11T16:30:21.989Z"
   },
   {
    "duration": 15,
    "start_time": "2023-04-11T16:30:21.998Z"
   },
   {
    "duration": 70,
    "start_time": "2023-04-11T16:30:22.017Z"
   },
   {
    "duration": 59,
    "start_time": "2023-04-11T16:30:22.090Z"
   },
   {
    "duration": 138,
    "start_time": "2023-04-11T16:30:22.151Z"
   },
   {
    "duration": 4,
    "start_time": "2023-04-11T16:30:22.290Z"
   },
   {
    "duration": 61,
    "start_time": "2023-04-11T16:30:22.295Z"
   },
   {
    "duration": 18,
    "start_time": "2023-04-11T16:30:22.357Z"
   },
   {
    "duration": 78,
    "start_time": "2023-04-11T16:30:22.376Z"
   },
   {
    "duration": 30,
    "start_time": "2023-04-11T16:30:22.456Z"
   },
   {
    "duration": 53,
    "start_time": "2023-04-11T16:30:22.487Z"
   },
   {
    "duration": 30,
    "start_time": "2023-04-11T16:30:22.548Z"
   },
   {
    "duration": 3,
    "start_time": "2023-04-11T16:30:22.579Z"
   },
   {
    "duration": 4,
    "start_time": "2023-04-11T16:30:22.584Z"
   },
   {
    "duration": 4,
    "start_time": "2023-04-11T16:30:22.589Z"
   },
   {
    "duration": 84,
    "start_time": "2023-04-11T16:30:22.594Z"
   },
   {
    "duration": 20,
    "start_time": "2023-04-11T16:30:22.679Z"
   },
   {
    "duration": 4,
    "start_time": "2023-04-11T16:30:22.700Z"
   },
   {
    "duration": 152,
    "start_time": "2023-04-11T16:30:22.726Z"
   },
   {
    "duration": 4,
    "start_time": "2023-04-11T16:30:22.880Z"
   },
   {
    "duration": 724249,
    "start_time": "2023-04-11T16:30:22.885Z"
   },
   {
    "duration": 1172,
    "start_time": "2023-04-11T17:05:30.662Z"
   },
   {
    "duration": 46,
    "start_time": "2023-04-11T17:05:31.844Z"
   },
   {
    "duration": 3,
    "start_time": "2023-04-11T17:05:31.892Z"
   },
   {
    "duration": 147,
    "start_time": "2023-04-11T17:05:31.897Z"
   },
   {
    "duration": 831,
    "start_time": "2023-04-11T17:05:32.046Z"
   },
   {
    "duration": 7,
    "start_time": "2023-04-11T17:05:32.879Z"
   },
   {
    "duration": 45,
    "start_time": "2023-04-11T17:05:32.887Z"
   },
   {
    "duration": 134,
    "start_time": "2023-04-11T17:05:32.934Z"
   },
   {
    "duration": 469,
    "start_time": "2023-04-11T17:05:33.069Z"
   },
   {
    "duration": 534,
    "start_time": "2023-04-11T17:05:33.542Z"
   },
   {
    "duration": 48,
    "start_time": "2023-04-11T17:05:34.078Z"
   },
   {
    "duration": 10,
    "start_time": "2023-04-11T17:05:34.137Z"
   },
   {
    "duration": 94,
    "start_time": "2023-04-11T17:05:34.149Z"
   },
   {
    "duration": 84,
    "start_time": "2023-04-11T17:05:34.246Z"
   },
   {
    "duration": 15,
    "start_time": "2023-04-11T17:05:34.331Z"
   },
   {
    "duration": 32,
    "start_time": "2023-04-11T17:05:34.349Z"
   },
   {
    "duration": 7,
    "start_time": "2023-04-11T17:05:34.382Z"
   },
   {
    "duration": 10,
    "start_time": "2023-04-11T17:05:34.390Z"
   },
   {
    "duration": 54,
    "start_time": "2023-04-11T17:05:34.401Z"
   },
   {
    "duration": 21,
    "start_time": "2023-04-11T17:05:34.457Z"
   },
   {
    "duration": 62,
    "start_time": "2023-04-11T17:05:34.480Z"
   },
   {
    "duration": 7,
    "start_time": "2023-04-11T17:05:34.545Z"
   },
   {
    "duration": 30,
    "start_time": "2023-04-11T17:05:34.553Z"
   },
   {
    "duration": 59,
    "start_time": "2023-04-11T17:05:34.584Z"
   },
   {
    "duration": 8,
    "start_time": "2023-04-11T17:05:34.645Z"
   },
   {
    "duration": 22,
    "start_time": "2023-04-11T17:05:34.655Z"
   },
   {
    "duration": 8,
    "start_time": "2023-04-11T17:05:34.679Z"
   },
   {
    "duration": 67,
    "start_time": "2023-04-11T17:05:34.689Z"
   },
   {
    "duration": 17,
    "start_time": "2023-04-11T17:05:34.757Z"
   },
   {
    "duration": 7,
    "start_time": "2023-04-11T17:05:34.775Z"
   },
   {
    "duration": 50,
    "start_time": "2023-04-11T17:05:34.784Z"
   },
   {
    "duration": 19,
    "start_time": "2023-04-11T17:05:34.835Z"
   },
   {
    "duration": 23,
    "start_time": "2023-04-11T17:05:34.855Z"
   },
   {
    "duration": 20,
    "start_time": "2023-04-11T17:05:34.880Z"
   },
   {
    "duration": 37,
    "start_time": "2023-04-11T17:05:34.901Z"
   },
   {
    "duration": 16,
    "start_time": "2023-04-11T17:05:34.944Z"
   },
   {
    "duration": 387014,
    "start_time": "2023-04-11T17:05:34.961Z"
   },
   {
    "duration": 8,
    "start_time": "2023-04-11T17:12:01.976Z"
   },
   {
    "duration": 23,
    "start_time": "2023-04-11T17:12:01.985Z"
   },
   {
    "duration": 91,
    "start_time": "2023-04-11T17:12:02.010Z"
   },
   {
    "duration": 32,
    "start_time": "2023-04-11T17:12:02.106Z"
   },
   {
    "duration": 26,
    "start_time": "2023-04-11T17:12:02.144Z"
   },
   {
    "duration": 239454,
    "start_time": "2023-04-11T17:12:02.172Z"
   },
   {
    "duration": 8,
    "start_time": "2023-04-11T17:16:01.631Z"
   },
   {
    "duration": 30,
    "start_time": "2023-04-11T17:16:01.640Z"
   },
   {
    "duration": 70,
    "start_time": "2023-04-11T17:16:01.671Z"
   },
   {
    "duration": 28,
    "start_time": "2023-04-11T17:16:01.743Z"
   },
   {
    "duration": 158,
    "start_time": "2023-04-11T17:16:01.773Z"
   },
   {
    "duration": 4,
    "start_time": "2023-04-11T17:16:01.932Z"
   },
   {
    "duration": 45,
    "start_time": "2023-04-11T17:16:01.938Z"
   },
   {
    "duration": 31,
    "start_time": "2023-04-11T17:16:01.984Z"
   },
   {
    "duration": 80,
    "start_time": "2023-04-11T17:16:02.016Z"
   },
   {
    "duration": 41,
    "start_time": "2023-04-11T17:16:02.097Z"
   },
   {
    "duration": 50,
    "start_time": "2023-04-11T17:16:02.140Z"
   },
   {
    "duration": 29,
    "start_time": "2023-04-11T17:16:02.192Z"
   },
   {
    "duration": 22,
    "start_time": "2023-04-11T17:16:02.222Z"
   },
   {
    "duration": 27,
    "start_time": "2023-04-11T17:16:02.246Z"
   },
   {
    "duration": 12,
    "start_time": "2023-04-11T17:16:02.276Z"
   },
   {
    "duration": 94,
    "start_time": "2023-04-11T17:16:02.290Z"
   },
   {
    "duration": 18,
    "start_time": "2023-04-11T17:16:02.385Z"
   },
   {
    "duration": 24,
    "start_time": "2023-04-11T17:16:02.405Z"
   },
   {
    "duration": 153,
    "start_time": "2023-04-11T17:16:02.431Z"
   },
   {
    "duration": 4,
    "start_time": "2023-04-11T17:16:02.586Z"
   },
   {
    "duration": 109929,
    "start_time": "2023-04-11T17:16:02.592Z"
   },
   {
    "duration": 78723,
    "start_time": "2023-04-11T17:17:52.523Z"
   },
   {
    "duration": 1383371,
    "start_time": "2023-04-11T17:19:11.247Z"
   },
   {
    "duration": 65541,
    "start_time": "2023-04-11T17:42:14.619Z"
   },
   {
    "duration": 65641,
    "start_time": "2023-04-11T17:43:20.161Z"
   },
   {
    "duration": 9,
    "start_time": "2023-04-11T17:44:25.804Z"
   },
   {
    "duration": 519,
    "start_time": "2023-04-11T17:44:25.815Z"
   },
   {
    "duration": 117,
    "start_time": "2023-04-11T17:44:26.335Z"
   },
   {
    "duration": 0,
    "start_time": "2023-04-11T17:44:26.454Z"
   },
   {
    "duration": 0,
    "start_time": "2023-04-11T17:44:26.456Z"
   },
   {
    "duration": 0,
    "start_time": "2023-04-11T17:44:26.457Z"
   },
   {
    "duration": 0,
    "start_time": "2023-04-11T17:44:26.458Z"
   },
   {
    "duration": 0,
    "start_time": "2023-04-11T17:44:26.460Z"
   },
   {
    "duration": 0,
    "start_time": "2023-04-11T17:44:26.461Z"
   },
   {
    "duration": 0,
    "start_time": "2023-04-11T17:44:26.463Z"
   },
   {
    "duration": 0,
    "start_time": "2023-04-11T17:44:26.464Z"
   },
   {
    "duration": 0,
    "start_time": "2023-04-11T17:44:26.465Z"
   },
   {
    "duration": 0,
    "start_time": "2023-04-11T17:44:26.467Z"
   },
   {
    "duration": 0,
    "start_time": "2023-04-11T17:44:26.468Z"
   },
   {
    "duration": 0,
    "start_time": "2023-04-11T17:44:26.470Z"
   },
   {
    "duration": 0,
    "start_time": "2023-04-11T17:44:26.471Z"
   },
   {
    "duration": 0,
    "start_time": "2023-04-11T17:44:26.472Z"
   },
   {
    "duration": 0,
    "start_time": "2023-04-11T17:44:26.473Z"
   },
   {
    "duration": 0,
    "start_time": "2023-04-11T17:44:26.475Z"
   },
   {
    "duration": 0,
    "start_time": "2023-04-11T17:44:26.476Z"
   },
   {
    "duration": 0,
    "start_time": "2023-04-11T17:44:26.477Z"
   },
   {
    "duration": 0,
    "start_time": "2023-04-11T17:44:26.479Z"
   },
   {
    "duration": 0,
    "start_time": "2023-04-11T17:44:26.517Z"
   },
   {
    "duration": 0,
    "start_time": "2023-04-11T17:44:26.519Z"
   },
   {
    "duration": 0,
    "start_time": "2023-04-11T17:44:26.520Z"
   },
   {
    "duration": 0,
    "start_time": "2023-04-11T17:44:26.523Z"
   },
   {
    "duration": 0,
    "start_time": "2023-04-11T17:44:26.524Z"
   },
   {
    "duration": 76,
    "start_time": "2023-04-11T17:47:46.440Z"
   },
   {
    "duration": 76,
    "start_time": "2023-04-11T17:48:02.763Z"
   },
   {
    "duration": 194,
    "start_time": "2023-04-11T17:48:30.482Z"
   },
   {
    "duration": 3,
    "start_time": "2023-04-11T17:48:32.834Z"
   },
   {
    "duration": 9,
    "start_time": "2023-04-11T17:48:36.172Z"
   },
   {
    "duration": 15,
    "start_time": "2023-04-11T17:48:43.714Z"
   },
   {
    "duration": 80,
    "start_time": "2023-04-11T17:49:05.328Z"
   },
   {
    "duration": 13,
    "start_time": "2023-04-11T17:49:15.417Z"
   },
   {
    "duration": 33,
    "start_time": "2023-04-11T17:50:43.113Z"
   },
   {
    "duration": 9,
    "start_time": "2023-04-11T17:50:53.529Z"
   },
   {
    "duration": 9,
    "start_time": "2023-04-11T17:52:39.100Z"
   },
   {
    "duration": 8,
    "start_time": "2023-04-11T17:52:43.352Z"
   },
   {
    "duration": 8,
    "start_time": "2023-04-11T17:52:46.328Z"
   },
   {
    "duration": 8,
    "start_time": "2023-04-11T17:57:57.704Z"
   },
   {
    "duration": 38,
    "start_time": "2023-04-11T18:04:19.852Z"
   },
   {
    "duration": 10,
    "start_time": "2023-04-11T18:04:35.778Z"
   },
   {
    "duration": 8,
    "start_time": "2023-04-11T18:07:58.048Z"
   },
   {
    "duration": 4,
    "start_time": "2023-04-11T18:08:36.262Z"
   },
   {
    "duration": 36,
    "start_time": "2023-04-11T18:08:44.637Z"
   },
   {
    "duration": 84,
    "start_time": "2023-04-11T18:08:51.942Z"
   },
   {
    "duration": 9,
    "start_time": "2023-04-11T18:09:10.376Z"
   },
   {
    "duration": 4,
    "start_time": "2023-04-11T18:50:36.766Z"
   },
   {
    "duration": 4,
    "start_time": "2023-04-11T18:52:19.748Z"
   },
   {
    "duration": 30,
    "start_time": "2023-04-11T18:52:22.133Z"
   },
   {
    "duration": 841,
    "start_time": "2023-04-11T18:53:40.942Z"
   },
   {
    "duration": 68,
    "start_time": "2023-04-11T18:53:44.954Z"
   },
   {
    "duration": 650,
    "start_time": "2023-04-11T18:54:30.252Z"
   },
   {
    "duration": 74,
    "start_time": "2023-04-11T18:54:34.295Z"
   },
   {
    "duration": 671,
    "start_time": "2023-04-11T18:55:39.187Z"
   },
   {
    "duration": 70,
    "start_time": "2023-04-11T18:55:42.440Z"
   },
   {
    "duration": 697,
    "start_time": "2023-04-11T18:58:35.718Z"
   },
   {
    "duration": 76,
    "start_time": "2023-04-11T18:58:40.611Z"
   },
   {
    "duration": 16,
    "start_time": "2023-04-11T18:59:48.242Z"
   },
   {
    "duration": 10,
    "start_time": "2023-04-11T19:00:24.672Z"
   },
   {
    "duration": 17,
    "start_time": "2023-04-11T19:00:30.855Z"
   },
   {
    "duration": 9,
    "start_time": "2023-04-11T19:13:53.067Z"
   },
   {
    "duration": 4,
    "start_time": "2023-04-11T19:13:56.667Z"
   },
   {
    "duration": 5,
    "start_time": "2023-04-11T19:17:49.332Z"
   },
   {
    "duration": 4,
    "start_time": "2023-04-11T19:18:12.075Z"
   },
   {
    "duration": 5,
    "start_time": "2023-04-11T19:18:20.290Z"
   },
   {
    "duration": 41,
    "start_time": "2023-04-11T19:19:03.700Z"
   },
   {
    "duration": 32,
    "start_time": "2023-04-11T19:19:06.198Z"
   },
   {
    "duration": 5,
    "start_time": "2023-04-11T19:19:09.850Z"
   },
   {
    "duration": 4,
    "start_time": "2023-04-11T19:19:32.986Z"
   },
   {
    "duration": 5,
    "start_time": "2023-04-11T19:19:48.987Z"
   },
   {
    "duration": 5,
    "start_time": "2023-04-11T19:19:58.228Z"
   },
   {
    "duration": 4,
    "start_time": "2023-04-11T19:20:10.251Z"
   },
   {
    "duration": 45,
    "start_time": "2023-04-11T19:20:34.313Z"
   },
   {
    "duration": 12,
    "start_time": "2023-04-11T19:20:35.949Z"
   },
   {
    "duration": 5,
    "start_time": "2023-04-11T19:20:38.881Z"
   },
   {
    "duration": 4,
    "start_time": "2023-04-11T19:20:39.962Z"
   },
   {
    "duration": 154,
    "start_time": "2023-04-11T19:21:19.778Z"
   },
   {
    "duration": 129,
    "start_time": "2023-04-11T19:22:38.504Z"
   },
   {
    "duration": 533,
    "start_time": "2023-04-11T19:22:43.796Z"
   },
   {
    "duration": 67762,
    "start_time": "2023-04-11T19:22:52.501Z"
   },
   {
    "duration": 33,
    "start_time": "2023-04-11T19:24:18.705Z"
   },
   {
    "duration": 1153,
    "start_time": "2023-04-11T19:25:05.402Z"
   },
   {
    "duration": 43,
    "start_time": "2023-04-11T19:25:06.558Z"
   },
   {
    "duration": 3,
    "start_time": "2023-04-11T19:25:06.603Z"
   },
   {
    "duration": 117,
    "start_time": "2023-04-11T19:25:06.608Z"
   },
   {
    "duration": 856,
    "start_time": "2023-04-11T19:25:06.728Z"
   },
   {
    "duration": 9,
    "start_time": "2023-04-11T19:25:07.585Z"
   },
   {
    "duration": 53,
    "start_time": "2023-04-11T19:25:07.596Z"
   },
   {
    "duration": 123,
    "start_time": "2023-04-11T19:25:07.651Z"
   },
   {
    "duration": 432,
    "start_time": "2023-04-11T19:25:07.776Z"
   },
   {
    "duration": 520,
    "start_time": "2023-04-11T19:25:08.211Z"
   },
   {
    "duration": 37,
    "start_time": "2023-04-11T19:25:08.733Z"
   },
   {
    "duration": 5,
    "start_time": "2023-04-11T19:25:08.772Z"
   },
   {
    "duration": 90,
    "start_time": "2023-04-11T19:25:08.779Z"
   },
   {
    "duration": 79,
    "start_time": "2023-04-11T19:25:08.870Z"
   },
   {
    "duration": 11,
    "start_time": "2023-04-11T19:25:08.951Z"
   },
   {
    "duration": 34,
    "start_time": "2023-04-11T19:25:08.964Z"
   },
   {
    "duration": 9,
    "start_time": "2023-04-11T19:25:09.017Z"
   },
   {
    "duration": 25,
    "start_time": "2023-04-11T19:25:09.027Z"
   },
   {
    "duration": 40,
    "start_time": "2023-04-11T19:25:09.053Z"
   },
   {
    "duration": 21,
    "start_time": "2023-04-11T19:25:09.095Z"
   },
   {
    "duration": 44,
    "start_time": "2023-04-11T19:25:09.117Z"
   },
   {
    "duration": 6,
    "start_time": "2023-04-11T19:25:09.163Z"
   },
   {
    "duration": 19,
    "start_time": "2023-04-11T19:25:09.171Z"
   },
   {
    "duration": 55,
    "start_time": "2023-04-11T19:25:09.192Z"
   },
   {
    "duration": 8,
    "start_time": "2023-04-11T19:25:09.248Z"
   },
   {
    "duration": 19,
    "start_time": "2023-04-11T19:25:09.257Z"
   },
   {
    "duration": 22,
    "start_time": "2023-04-11T19:25:09.277Z"
   },
   {
    "duration": 61,
    "start_time": "2023-04-11T19:25:09.303Z"
   },
   {
    "duration": 16,
    "start_time": "2023-04-11T19:25:09.366Z"
   },
   {
    "duration": 17,
    "start_time": "2023-04-11T19:25:09.384Z"
   },
   {
    "duration": 43,
    "start_time": "2023-04-11T19:25:09.403Z"
   },
   {
    "duration": 12,
    "start_time": "2023-04-11T19:25:09.448Z"
   },
   {
    "duration": 22,
    "start_time": "2023-04-11T19:25:09.461Z"
   },
   {
    "duration": 34,
    "start_time": "2023-04-11T19:25:09.484Z"
   },
   {
    "duration": 5,
    "start_time": "2023-04-11T19:25:09.519Z"
   },
   {
    "duration": 29,
    "start_time": "2023-04-11T19:25:09.526Z"
   },
   {
    "duration": 336025,
    "start_time": "2023-04-11T19:25:09.556Z"
   },
   {
    "duration": 6,
    "start_time": "2023-04-11T19:30:45.583Z"
   },
   {
    "duration": 31,
    "start_time": "2023-04-11T19:30:45.591Z"
   },
   {
    "duration": 48,
    "start_time": "2023-04-11T19:30:45.624Z"
   },
   {
    "duration": 12,
    "start_time": "2023-04-11T19:30:45.673Z"
   },
   {
    "duration": 34,
    "start_time": "2023-04-11T19:30:45.687Z"
   },
   {
    "duration": 223682,
    "start_time": "2023-04-11T19:30:45.723Z"
   },
   {
    "duration": 13,
    "start_time": "2023-04-11T19:34:29.406Z"
   },
   {
    "duration": 14,
    "start_time": "2023-04-11T19:34:29.421Z"
   },
   {
    "duration": 51,
    "start_time": "2023-04-11T19:34:29.436Z"
   },
   {
    "duration": 30,
    "start_time": "2023-04-11T19:34:29.488Z"
   },
   {
    "duration": 130,
    "start_time": "2023-04-11T19:34:29.519Z"
   },
   {
    "duration": 4,
    "start_time": "2023-04-11T19:34:29.650Z"
   },
   {
    "duration": 29,
    "start_time": "2023-04-11T19:34:29.655Z"
   },
   {
    "duration": 32,
    "start_time": "2023-04-11T19:34:29.686Z"
   },
   {
    "duration": 59,
    "start_time": "2023-04-11T19:34:29.720Z"
   },
   {
    "duration": 39,
    "start_time": "2023-04-11T19:34:29.781Z"
   },
   {
    "duration": 42,
    "start_time": "2023-04-11T19:34:29.822Z"
   },
   {
    "duration": 29,
    "start_time": "2023-04-11T19:34:29.865Z"
   },
   {
    "duration": 12,
    "start_time": "2023-04-11T19:34:29.895Z"
   },
   {
    "duration": 10,
    "start_time": "2023-04-11T19:34:29.909Z"
   },
   {
    "duration": 13,
    "start_time": "2023-04-11T19:34:29.921Z"
   },
   {
    "duration": 94,
    "start_time": "2023-04-11T19:34:29.936Z"
   },
   {
    "duration": 18,
    "start_time": "2023-04-11T19:34:30.032Z"
   },
   {
    "duration": 4,
    "start_time": "2023-04-11T19:34:30.052Z"
   },
   {
    "duration": 151,
    "start_time": "2023-04-11T19:34:30.058Z"
   },
   {
    "duration": 8,
    "start_time": "2023-04-11T19:34:30.210Z"
   },
   {
    "duration": 10120,
    "start_time": "2023-04-11T19:34:30.219Z"
   },
   {
    "duration": 487590,
    "start_time": "2023-04-11T19:34:40.340Z"
   },
   {
    "duration": 146201,
    "start_time": "2023-04-11T19:42:47.933Z"
   },
   {
    "duration": 63978,
    "start_time": "2023-04-11T19:45:14.218Z"
   },
   {
    "duration": 64291,
    "start_time": "2023-04-11T19:46:18.197Z"
   },
   {
    "duration": 9,
    "start_time": "2023-04-11T19:47:22.489Z"
   },
   {
    "duration": 904,
    "start_time": "2023-04-11T19:47:22.500Z"
   },
   {
    "duration": 185,
    "start_time": "2023-04-11T19:47:23.406Z"
   },
   {
    "duration": 0,
    "start_time": "2023-04-11T19:47:23.594Z"
   },
   {
    "duration": 0,
    "start_time": "2023-04-11T19:47:23.595Z"
   },
   {
    "duration": 0,
    "start_time": "2023-04-11T19:47:23.596Z"
   },
   {
    "duration": 0,
    "start_time": "2023-04-11T19:47:23.598Z"
   },
   {
    "duration": 0,
    "start_time": "2023-04-11T19:47:23.599Z"
   },
   {
    "duration": 0,
    "start_time": "2023-04-11T19:47:23.601Z"
   },
   {
    "duration": 0,
    "start_time": "2023-04-11T19:47:23.602Z"
   },
   {
    "duration": 0,
    "start_time": "2023-04-11T19:47:23.617Z"
   },
   {
    "duration": 0,
    "start_time": "2023-04-11T19:47:23.618Z"
   },
   {
    "duration": 0,
    "start_time": "2023-04-11T19:47:23.619Z"
   },
   {
    "duration": 0,
    "start_time": "2023-04-11T19:47:23.620Z"
   },
   {
    "duration": 0,
    "start_time": "2023-04-11T19:47:23.621Z"
   },
   {
    "duration": 0,
    "start_time": "2023-04-11T19:47:23.622Z"
   },
   {
    "duration": 0,
    "start_time": "2023-04-11T19:47:23.623Z"
   },
   {
    "duration": 0,
    "start_time": "2023-04-11T19:47:23.624Z"
   },
   {
    "duration": 0,
    "start_time": "2023-04-11T19:47:23.625Z"
   },
   {
    "duration": 0,
    "start_time": "2023-04-11T19:47:23.625Z"
   },
   {
    "duration": 0,
    "start_time": "2023-04-11T19:47:23.626Z"
   },
   {
    "duration": 0,
    "start_time": "2023-04-11T19:47:23.627Z"
   },
   {
    "duration": 0,
    "start_time": "2023-04-11T19:47:23.628Z"
   },
   {
    "duration": 0,
    "start_time": "2023-04-11T19:47:23.628Z"
   },
   {
    "duration": 0,
    "start_time": "2023-04-11T19:47:23.629Z"
   },
   {
    "duration": 0,
    "start_time": "2023-04-11T19:47:23.630Z"
   },
   {
    "duration": 72,
    "start_time": "2023-04-11T19:48:02.434Z"
   },
   {
    "duration": 62,
    "start_time": "2023-04-11T19:48:10.657Z"
   },
   {
    "duration": 665,
    "start_time": "2023-04-11T19:48:56.114Z"
   },
   {
    "duration": 67,
    "start_time": "2023-04-11T19:48:57.826Z"
   },
   {
    "duration": 67,
    "start_time": "2023-04-11T19:49:06.547Z"
   },
   {
    "duration": 61,
    "start_time": "2023-04-11T19:49:10.801Z"
   },
   {
    "duration": 30354,
    "start_time": "2023-04-11T19:56:59.182Z"
   },
   {
    "duration": 9,
    "start_time": "2023-04-11T19:57:35.678Z"
   },
   {
    "duration": 627,
    "start_time": "2023-04-11T20:02:55.492Z"
   },
   {
    "duration": 701,
    "start_time": "2023-04-11T20:02:56.836Z"
   },
   {
    "duration": 76,
    "start_time": "2023-04-11T20:03:03.883Z"
   },
   {
    "duration": 67,
    "start_time": "2023-04-11T20:03:33.883Z"
   },
   {
    "duration": 61,
    "start_time": "2023-04-11T20:03:37.627Z"
   },
   {
    "duration": 3,
    "start_time": "2023-04-11T20:10:12.282Z"
   },
   {
    "duration": 184,
    "start_time": "2023-04-11T20:10:13.369Z"
   },
   {
    "duration": 2,
    "start_time": "2023-04-11T20:10:35.319Z"
   },
   {
    "duration": 68,
    "start_time": "2023-04-11T20:10:37.457Z"
   },
   {
    "duration": 65,
    "start_time": "2023-04-11T20:10:46.457Z"
   },
   {
    "duration": 29801,
    "start_time": "2023-04-11T20:11:03.077Z"
   },
   {
    "duration": 181,
    "start_time": "2023-04-11T20:15:45.417Z"
   },
   {
    "duration": 3,
    "start_time": "2023-04-11T20:15:47.026Z"
   },
   {
    "duration": 30,
    "start_time": "2023-04-11T20:15:49.105Z"
   },
   {
    "duration": 11,
    "start_time": "2023-04-11T20:15:53.555Z"
   },
   {
    "duration": 5,
    "start_time": "2023-04-11T20:15:57.682Z"
   },
   {
    "duration": 30,
    "start_time": "2023-04-11T20:15:58.385Z"
   },
   {
    "duration": 61,
    "start_time": "2023-04-11T20:16:09.962Z"
   },
   {
    "duration": 592,
    "start_time": "2023-04-11T20:16:13.866Z"
   },
   {
    "duration": 1183,
    "start_time": "2023-04-11T20:19:23.986Z"
   },
   {
    "duration": 46,
    "start_time": "2023-04-11T20:19:25.171Z"
   },
   {
    "duration": 2,
    "start_time": "2023-04-11T20:19:25.219Z"
   },
   {
    "duration": 128,
    "start_time": "2023-04-11T20:19:25.223Z"
   },
   {
    "duration": 797,
    "start_time": "2023-04-11T20:19:25.352Z"
   },
   {
    "duration": 8,
    "start_time": "2023-04-11T20:19:26.151Z"
   },
   {
    "duration": 22,
    "start_time": "2023-04-11T20:19:26.160Z"
   },
   {
    "duration": 137,
    "start_time": "2023-04-11T20:19:26.184Z"
   },
   {
    "duration": 421,
    "start_time": "2023-04-11T20:19:26.322Z"
   },
   {
    "duration": 528,
    "start_time": "2023-04-11T20:19:26.745Z"
   },
   {
    "duration": 44,
    "start_time": "2023-04-11T20:19:27.274Z"
   },
   {
    "duration": 4,
    "start_time": "2023-04-11T20:19:27.320Z"
   },
   {
    "duration": 102,
    "start_time": "2023-04-11T20:19:27.327Z"
   },
   {
    "duration": 74,
    "start_time": "2023-04-11T20:19:27.430Z"
   },
   {
    "duration": 11,
    "start_time": "2023-04-11T20:19:27.517Z"
   },
   {
    "duration": 37,
    "start_time": "2023-04-11T20:19:27.530Z"
   },
   {
    "duration": 7,
    "start_time": "2023-04-11T20:19:27.569Z"
   },
   {
    "duration": 13,
    "start_time": "2023-04-11T20:19:27.578Z"
   },
   {
    "duration": 39,
    "start_time": "2023-04-11T20:19:27.618Z"
   },
   {
    "duration": 21,
    "start_time": "2023-04-11T20:19:27.658Z"
   },
   {
    "duration": 42,
    "start_time": "2023-04-11T20:19:27.681Z"
   },
   {
    "duration": 7,
    "start_time": "2023-04-11T20:19:27.724Z"
   },
   {
    "duration": 30,
    "start_time": "2023-04-11T20:19:27.732Z"
   },
   {
    "duration": 34,
    "start_time": "2023-04-11T20:19:27.764Z"
   },
   {
    "duration": 18,
    "start_time": "2023-04-11T20:19:27.800Z"
   },
   {
    "duration": 20,
    "start_time": "2023-04-11T20:19:27.819Z"
   },
   {
    "duration": 6,
    "start_time": "2023-04-11T20:19:27.840Z"
   },
   {
    "duration": 35,
    "start_time": "2023-04-11T20:19:27.851Z"
   },
   {
    "duration": 38,
    "start_time": "2023-04-11T20:19:27.888Z"
   },
   {
    "duration": 6,
    "start_time": "2023-04-11T20:19:27.928Z"
   },
   {
    "duration": 35,
    "start_time": "2023-04-11T20:19:27.936Z"
   },
   {
    "duration": 13,
    "start_time": "2023-04-11T20:19:27.972Z"
   },
   {
    "duration": 45,
    "start_time": "2023-04-11T20:19:27.987Z"
   },
   {
    "duration": 21,
    "start_time": "2023-04-11T20:19:28.033Z"
   },
   {
    "duration": 5,
    "start_time": "2023-04-11T20:19:28.055Z"
   },
   {
    "duration": 20,
    "start_time": "2023-04-11T20:19:28.061Z"
   },
   {
    "duration": 330892,
    "start_time": "2023-04-11T20:19:28.082Z"
   },
   {
    "duration": 6,
    "start_time": "2023-04-11T20:24:58.976Z"
   },
   {
    "duration": 3,
    "start_time": "2023-04-11T20:24:58.984Z"
   },
   {
    "duration": 66,
    "start_time": "2023-04-11T20:24:58.989Z"
   },
   {
    "duration": 16,
    "start_time": "2023-04-11T20:24:59.057Z"
   },
   {
    "duration": 27,
    "start_time": "2023-04-11T20:24:59.075Z"
   },
   {
    "duration": 217179,
    "start_time": "2023-04-11T20:24:59.118Z"
   },
   {
    "duration": 7,
    "start_time": "2023-04-11T20:28:36.298Z"
   },
   {
    "duration": 4,
    "start_time": "2023-04-11T20:28:36.317Z"
   },
   {
    "duration": 52,
    "start_time": "2023-04-11T20:28:36.322Z"
   },
   {
    "duration": 29,
    "start_time": "2023-04-11T20:28:36.375Z"
   },
   {
    "duration": 157,
    "start_time": "2023-04-11T20:28:36.405Z"
   },
   {
    "duration": 4,
    "start_time": "2023-04-11T20:28:36.564Z"
   },
   {
    "duration": 53,
    "start_time": "2023-04-11T20:28:36.570Z"
   },
   {
    "duration": 27,
    "start_time": "2023-04-11T20:28:36.625Z"
   },
   {
    "duration": 83,
    "start_time": "2023-04-11T20:28:36.654Z"
   },
   {
    "duration": 40,
    "start_time": "2023-04-11T20:28:36.739Z"
   },
   {
    "duration": 40,
    "start_time": "2023-04-11T20:28:36.781Z"
   },
   {
    "duration": 33,
    "start_time": "2023-04-11T20:28:36.823Z"
   },
   {
    "duration": 3,
    "start_time": "2023-04-11T20:28:36.858Z"
   },
   {
    "duration": 9,
    "start_time": "2023-04-11T20:28:36.862Z"
   },
   {
    "duration": 875,
    "start_time": "2023-04-11T20:28:36.873Z"
   },
   {
    "duration": 4,
    "start_time": "2023-04-11T20:28:37.749Z"
   },
   {
    "duration": 31,
    "start_time": "2023-04-11T20:28:37.754Z"
   },
   {
    "duration": 9,
    "start_time": "2023-04-11T20:28:37.787Z"
   },
   {
    "duration": 4,
    "start_time": "2023-04-11T20:28:37.797Z"
   },
   {
    "duration": 31,
    "start_time": "2023-04-11T20:28:37.817Z"
   },
   {
    "duration": 2,
    "start_time": "2023-04-11T20:28:37.850Z"
   },
   {
    "duration": 11165,
    "start_time": "2023-04-11T20:28:37.853Z"
   },
   {
    "duration": 19404,
    "start_time": "2023-04-11T20:28:49.019Z"
   },
   {
    "duration": 19912,
    "start_time": "2023-04-11T20:29:08.425Z"
   },
   {
    "duration": 65062,
    "start_time": "2023-04-11T20:29:28.339Z"
   },
   {
    "duration": 64876,
    "start_time": "2023-04-11T20:30:33.403Z"
   },
   {
    "duration": 8,
    "start_time": "2023-04-11T20:31:38.281Z"
   },
   {
    "duration": 3,
    "start_time": "2023-04-11T20:31:38.290Z"
   },
   {
    "duration": 5,
    "start_time": "2023-04-11T20:31:38.294Z"
   },
   {
    "duration": 89082,
    "start_time": "2023-04-11T20:31:38.300Z"
   },
   {
    "duration": 199047,
    "start_time": "2023-04-11T20:33:07.384Z"
   },
   {
    "duration": 685,
    "start_time": "2023-04-11T20:36:26.432Z"
   },
   {
    "duration": 114,
    "start_time": "2023-04-11T20:36:27.119Z"
   },
   {
    "duration": 83,
    "start_time": "2023-04-11T20:36:27.235Z"
   },
   {
    "duration": 99,
    "start_time": "2023-04-11T20:36:27.320Z"
   },
   {
    "duration": 3,
    "start_time": "2023-04-11T20:36:27.421Z"
   },
   {
    "duration": 4,
    "start_time": "2023-04-11T20:36:27.426Z"
   },
   {
    "duration": 8,
    "start_time": "2023-04-11T20:36:27.432Z"
   },
   {
    "duration": 5,
    "start_time": "2023-04-11T20:36:27.445Z"
   },
   {
    "duration": 4,
    "start_time": "2023-04-11T20:36:27.451Z"
   },
   {
    "duration": 4,
    "start_time": "2023-04-11T20:36:27.457Z"
   },
   {
    "duration": 3,
    "start_time": "2023-04-11T20:36:27.463Z"
   },
   {
    "duration": 3,
    "start_time": "2023-04-11T20:36:27.467Z"
   },
   {
    "duration": 3,
    "start_time": "2023-04-11T20:36:27.472Z"
   },
   {
    "duration": 5,
    "start_time": "2023-04-11T20:36:27.477Z"
   },
   {
    "duration": 35,
    "start_time": "2023-04-11T20:36:27.483Z"
   },
   {
    "duration": 7,
    "start_time": "2023-04-11T20:36:27.520Z"
   },
   {
    "duration": 4,
    "start_time": "2023-04-11T20:36:27.528Z"
   },
   {
    "duration": 10,
    "start_time": "2023-04-11T20:36:27.533Z"
   },
   {
    "duration": 4,
    "start_time": "2023-04-11T20:36:27.545Z"
   },
   {
    "duration": 3,
    "start_time": "2023-04-11T20:36:27.551Z"
   },
   {
    "duration": 4,
    "start_time": "2023-04-11T20:36:27.556Z"
   },
   {
    "duration": 32,
    "start_time": "2023-04-11T20:36:27.561Z"
   },
   {
    "duration": 83971,
    "start_time": "2023-04-11T21:26:11.864Z"
   },
   {
    "duration": 123,
    "start_time": "2023-04-11T21:33:21.203Z"
   },
   {
    "duration": 189,
    "start_time": "2023-04-11T21:33:32.904Z"
   },
   {
    "duration": 636,
    "start_time": "2023-04-11T21:35:23.492Z"
   },
   {
    "duration": 9,
    "start_time": "2023-04-11T21:38:14.027Z"
   },
   {
    "duration": 18,
    "start_time": "2023-04-11T22:05:09.554Z"
   },
   {
    "duration": 1101,
    "start_time": "2023-04-11T22:20:52.966Z"
   },
   {
    "duration": 45,
    "start_time": "2023-04-11T22:20:54.069Z"
   },
   {
    "duration": 3,
    "start_time": "2023-04-11T22:20:54.117Z"
   },
   {
    "duration": 110,
    "start_time": "2023-04-11T22:20:54.121Z"
   },
   {
    "duration": 785,
    "start_time": "2023-04-11T22:20:54.233Z"
   },
   {
    "duration": 7,
    "start_time": "2023-04-11T22:20:55.020Z"
   },
   {
    "duration": 27,
    "start_time": "2023-04-11T22:20:55.029Z"
   },
   {
    "duration": 139,
    "start_time": "2023-04-11T22:20:55.057Z"
   },
   {
    "duration": 438,
    "start_time": "2023-04-11T22:20:55.198Z"
   },
   {
    "duration": 518,
    "start_time": "2023-04-11T22:20:55.639Z"
   },
   {
    "duration": 40,
    "start_time": "2023-04-11T22:20:56.158Z"
   },
   {
    "duration": 3,
    "start_time": "2023-04-11T22:20:56.200Z"
   },
   {
    "duration": 74,
    "start_time": "2023-04-11T22:20:56.217Z"
   },
   {
    "duration": 84,
    "start_time": "2023-04-11T22:20:56.293Z"
   },
   {
    "duration": 9,
    "start_time": "2023-04-11T22:20:56.379Z"
   },
   {
    "duration": 43,
    "start_time": "2023-04-11T22:20:56.389Z"
   },
   {
    "duration": 6,
    "start_time": "2023-04-11T22:20:56.433Z"
   },
   {
    "duration": 9,
    "start_time": "2023-04-11T22:20:56.441Z"
   },
   {
    "duration": 36,
    "start_time": "2023-04-11T22:20:56.452Z"
   },
   {
    "duration": 23,
    "start_time": "2023-04-11T22:20:56.516Z"
   },
   {
    "duration": 53,
    "start_time": "2023-04-11T22:20:56.541Z"
   },
   {
    "duration": 8,
    "start_time": "2023-04-11T22:20:56.596Z"
   },
   {
    "duration": 27,
    "start_time": "2023-04-11T22:20:56.606Z"
   },
   {
    "duration": 46,
    "start_time": "2023-04-11T22:20:56.635Z"
   },
   {
    "duration": 9,
    "start_time": "2023-04-11T22:20:56.684Z"
   },
   {
    "duration": 42,
    "start_time": "2023-04-11T22:20:56.695Z"
   },
   {
    "duration": 8,
    "start_time": "2023-04-11T22:20:56.739Z"
   },
   {
    "duration": 51,
    "start_time": "2023-04-11T22:20:56.752Z"
   },
   {
    "duration": 17,
    "start_time": "2023-04-11T22:20:56.818Z"
   },
   {
    "duration": 7,
    "start_time": "2023-04-11T22:20:56.836Z"
   },
   {
    "duration": 48,
    "start_time": "2023-04-11T22:20:56.845Z"
   },
   {
    "duration": 22,
    "start_time": "2023-04-11T22:20:56.895Z"
   },
   {
    "duration": 22,
    "start_time": "2023-04-11T22:20:56.919Z"
   },
   {
    "duration": 19,
    "start_time": "2023-04-11T22:20:56.943Z"
   },
   {
    "duration": 5,
    "start_time": "2023-04-11T22:20:56.963Z"
   },
   {
    "duration": 17,
    "start_time": "2023-04-11T22:20:56.970Z"
   },
   {
    "duration": 335924,
    "start_time": "2023-04-11T22:20:56.988Z"
   },
   {
    "duration": 9,
    "start_time": "2023-04-11T22:26:32.914Z"
   },
   {
    "duration": 4,
    "start_time": "2023-04-11T22:26:32.924Z"
   },
   {
    "duration": 56,
    "start_time": "2023-04-11T22:26:32.929Z"
   },
   {
    "duration": 13,
    "start_time": "2023-04-11T22:26:32.987Z"
   },
   {
    "duration": 29,
    "start_time": "2023-04-11T22:26:33.018Z"
   },
   {
    "duration": 222169,
    "start_time": "2023-04-11T22:26:33.049Z"
   },
   {
    "duration": 7,
    "start_time": "2023-04-11T22:30:15.220Z"
   },
   {
    "duration": 3,
    "start_time": "2023-04-11T22:30:15.229Z"
   },
   {
    "duration": 46,
    "start_time": "2023-04-11T22:30:15.234Z"
   },
   {
    "duration": 47,
    "start_time": "2023-04-11T22:30:15.282Z"
   },
   {
    "duration": 138,
    "start_time": "2023-04-11T22:30:15.331Z"
   },
   {
    "duration": 4,
    "start_time": "2023-04-11T22:30:15.470Z"
   },
   {
    "duration": 43,
    "start_time": "2023-04-11T22:30:15.475Z"
   },
   {
    "duration": 17,
    "start_time": "2023-04-11T22:30:15.520Z"
   },
   {
    "duration": 84,
    "start_time": "2023-04-11T22:30:15.539Z"
   },
   {
    "duration": 31,
    "start_time": "2023-04-11T22:30:15.624Z"
   },
   {
    "duration": 28,
    "start_time": "2023-04-11T22:30:15.657Z"
   },
   {
    "duration": 44,
    "start_time": "2023-04-11T22:30:15.686Z"
   },
   {
    "duration": 2,
    "start_time": "2023-04-11T22:30:15.732Z"
   },
   {
    "duration": 4,
    "start_time": "2023-04-11T22:30:15.736Z"
   },
   {
    "duration": 872,
    "start_time": "2023-04-11T22:30:15.741Z"
   },
   {
    "duration": 5,
    "start_time": "2023-04-11T22:30:16.614Z"
   },
   {
    "duration": 40,
    "start_time": "2023-04-11T22:30:16.620Z"
   },
   {
    "duration": 11,
    "start_time": "2023-04-11T22:30:16.662Z"
   },
   {
    "duration": 4,
    "start_time": "2023-04-11T22:30:16.675Z"
   },
   {
    "duration": 69,
    "start_time": "2023-04-11T22:30:16.681Z"
   },
   {
    "duration": 13782,
    "start_time": "2023-04-11T22:30:16.752Z"
   },
   {
    "duration": 21490,
    "start_time": "2023-04-11T22:30:30.536Z"
   },
   {
    "duration": 20304,
    "start_time": "2023-04-11T22:30:52.027Z"
   },
   {
    "duration": 65478,
    "start_time": "2023-04-11T22:31:12.336Z"
   },
   {
    "duration": 65087,
    "start_time": "2023-04-11T22:32:17.815Z"
   },
   {
    "duration": 8,
    "start_time": "2023-04-11T22:33:22.904Z"
   },
   {
    "duration": 7,
    "start_time": "2023-04-11T22:33:22.913Z"
   },
   {
    "duration": 6,
    "start_time": "2023-04-11T22:33:22.921Z"
   },
   {
    "duration": 86285,
    "start_time": "2023-04-11T22:33:22.928Z"
   },
   {
    "duration": 612,
    "start_time": "2023-04-11T22:34:49.215Z"
   },
   {
    "duration": 198169,
    "start_time": "2023-04-11T22:34:49.829Z"
   },
   {
    "duration": 2,
    "start_time": "2023-04-11T22:38:08.000Z"
   },
   {
    "duration": 17,
    "start_time": "2023-04-11T22:38:08.003Z"
   },
   {
    "duration": 5,
    "start_time": "2023-04-11T22:38:08.021Z"
   },
   {
    "duration": 9,
    "start_time": "2023-04-11T22:38:08.027Z"
   },
   {
    "duration": 4,
    "start_time": "2023-04-11T22:38:08.037Z"
   },
   {
    "duration": 11,
    "start_time": "2023-04-11T22:38:08.042Z"
   },
   {
    "duration": 11,
    "start_time": "2023-04-11T22:38:08.054Z"
   },
   {
    "duration": 2,
    "start_time": "2023-04-11T22:38:08.070Z"
   },
   {
    "duration": 16,
    "start_time": "2023-04-11T22:38:08.074Z"
   },
   {
    "duration": 4,
    "start_time": "2023-04-11T22:38:08.091Z"
   },
   {
    "duration": 8,
    "start_time": "2023-04-11T22:38:08.096Z"
   },
   {
    "duration": 15,
    "start_time": "2023-04-11T22:38:08.106Z"
   },
   {
    "duration": 13,
    "start_time": "2023-04-11T22:38:08.122Z"
   },
   {
    "duration": 3,
    "start_time": "2023-04-11T22:38:08.137Z"
   },
   {
    "duration": 3,
    "start_time": "2023-04-11T22:38:08.142Z"
   },
   {
    "duration": 3,
    "start_time": "2023-04-11T22:38:08.147Z"
   },
   {
    "duration": 3,
    "start_time": "2023-04-11T22:38:08.151Z"
   },
   {
    "duration": 16,
    "start_time": "2023-04-11T22:38:08.156Z"
   },
   {
    "duration": 11,
    "start_time": "2023-04-11T22:38:08.173Z"
   },
   {
    "duration": 5,
    "start_time": "2023-04-11T22:38:08.186Z"
   },
   {
    "duration": 35,
    "start_time": "2023-04-11T22:38:08.193Z"
   },
   {
    "duration": 1388,
    "start_time": "2023-04-13T11:06:35.901Z"
   },
   {
    "duration": 1328,
    "start_time": "2023-04-13T11:13:03.134Z"
   },
   {
    "duration": 40,
    "start_time": "2023-04-13T11:13:04.464Z"
   },
   {
    "duration": 3,
    "start_time": "2023-04-13T11:13:04.506Z"
   },
   {
    "duration": 125,
    "start_time": "2023-04-13T11:13:04.511Z"
   },
   {
    "duration": 2848,
    "start_time": "2023-04-13T11:13:04.639Z"
   },
   {
    "duration": 7,
    "start_time": "2023-04-13T11:13:07.489Z"
   },
   {
    "duration": 73,
    "start_time": "2023-04-13T11:13:07.498Z"
   },
   {
    "duration": 139,
    "start_time": "2023-04-13T11:13:07.573Z"
   },
   {
    "duration": 472,
    "start_time": "2023-04-13T11:13:07.714Z"
   },
   {
    "duration": 571,
    "start_time": "2023-04-13T11:13:08.188Z"
   },
   {
    "duration": 36,
    "start_time": "2023-04-13T11:13:08.761Z"
   },
   {
    "duration": 23,
    "start_time": "2023-04-13T11:13:08.799Z"
   },
   {
    "duration": 124,
    "start_time": "2023-04-13T11:13:08.823Z"
   },
   {
    "duration": 79,
    "start_time": "2023-04-13T11:13:08.949Z"
   },
   {
    "duration": 10,
    "start_time": "2023-04-13T11:13:09.029Z"
   },
   {
    "duration": 56,
    "start_time": "2023-04-13T11:13:09.041Z"
   },
   {
    "duration": 17,
    "start_time": "2023-04-13T11:13:09.098Z"
   },
   {
    "duration": 13,
    "start_time": "2023-04-13T11:13:09.117Z"
   },
   {
    "duration": 49,
    "start_time": "2023-04-13T11:13:09.131Z"
   },
   {
    "duration": 23,
    "start_time": "2023-04-13T11:13:09.182Z"
   },
   {
    "duration": 53,
    "start_time": "2023-04-13T11:13:09.207Z"
   },
   {
    "duration": 7,
    "start_time": "2023-04-13T11:13:09.262Z"
   },
   {
    "duration": 39,
    "start_time": "2023-04-13T11:13:09.271Z"
   },
   {
    "duration": 60,
    "start_time": "2023-04-13T11:13:09.312Z"
   },
   {
    "duration": 7,
    "start_time": "2023-04-13T11:13:09.374Z"
   },
   {
    "duration": 34,
    "start_time": "2023-04-13T11:13:09.382Z"
   },
   {
    "duration": 42,
    "start_time": "2023-04-13T11:13:09.417Z"
   },
   {
    "duration": 80,
    "start_time": "2023-04-13T11:13:09.464Z"
   },
   {
    "duration": 18,
    "start_time": "2023-04-13T11:13:09.546Z"
   },
   {
    "duration": 23,
    "start_time": "2023-04-13T11:13:09.566Z"
   },
   {
    "duration": 57,
    "start_time": "2023-04-13T11:13:09.590Z"
   },
   {
    "duration": 13,
    "start_time": "2023-04-13T11:13:09.649Z"
   },
   {
    "duration": 40,
    "start_time": "2023-04-13T11:13:09.664Z"
   },
   {
    "duration": 21,
    "start_time": "2023-04-13T11:13:09.706Z"
   },
   {
    "duration": 32,
    "start_time": "2023-04-13T11:13:09.729Z"
   },
   {
    "duration": 46,
    "start_time": "2023-04-13T11:13:09.763Z"
   },
   {
    "duration": 366248,
    "start_time": "2023-04-13T11:13:09.811Z"
   },
   {
    "duration": 8,
    "start_time": "2023-04-13T11:19:16.060Z"
   },
   {
    "duration": 15,
    "start_time": "2023-04-13T11:19:16.069Z"
   },
   {
    "duration": 74,
    "start_time": "2023-04-13T11:19:16.085Z"
   },
   {
    "duration": 12,
    "start_time": "2023-04-13T11:19:16.161Z"
   },
   {
    "duration": 26,
    "start_time": "2023-04-13T11:19:16.175Z"
   },
   {
    "duration": 230262,
    "start_time": "2023-04-13T11:19:16.203Z"
   },
   {
    "duration": 8,
    "start_time": "2023-04-13T11:23:06.467Z"
   },
   {
    "duration": 8,
    "start_time": "2023-04-13T11:23:06.476Z"
   },
   {
    "duration": 76,
    "start_time": "2023-04-13T11:23:06.485Z"
   },
   {
    "duration": 30,
    "start_time": "2023-04-13T11:23:06.563Z"
   },
   {
    "duration": 150,
    "start_time": "2023-04-13T11:23:06.594Z"
   },
   {
    "duration": 4,
    "start_time": "2023-04-13T11:23:06.746Z"
   },
   {
    "duration": 55,
    "start_time": "2023-04-13T11:23:06.751Z"
   },
   {
    "duration": 33,
    "start_time": "2023-04-13T11:23:06.808Z"
   },
   {
    "duration": 67,
    "start_time": "2023-04-13T11:23:06.844Z"
   },
   {
    "duration": 39,
    "start_time": "2023-04-13T11:23:06.912Z"
   },
   {
    "duration": 33,
    "start_time": "2023-04-13T11:23:06.953Z"
   },
   {
    "duration": 28,
    "start_time": "2023-04-13T11:23:06.988Z"
   },
   {
    "duration": 4,
    "start_time": "2023-04-13T11:23:07.035Z"
   },
   {
    "duration": 10,
    "start_time": "2023-04-13T11:23:07.040Z"
   },
   {
    "duration": 137,
    "start_time": "2023-04-13T11:23:07.052Z"
   },
   {
    "duration": 0,
    "start_time": "2023-04-13T11:23:07.191Z"
   },
   {
    "duration": 0,
    "start_time": "2023-04-13T11:23:07.192Z"
   },
   {
    "duration": 0,
    "start_time": "2023-04-13T11:23:07.193Z"
   },
   {
    "duration": 0,
    "start_time": "2023-04-13T11:23:07.194Z"
   },
   {
    "duration": 0,
    "start_time": "2023-04-13T11:23:07.195Z"
   },
   {
    "duration": 0,
    "start_time": "2023-04-13T11:23:07.196Z"
   },
   {
    "duration": 0,
    "start_time": "2023-04-13T11:23:07.196Z"
   },
   {
    "duration": 0,
    "start_time": "2023-04-13T11:23:07.197Z"
   },
   {
    "duration": 0,
    "start_time": "2023-04-13T11:23:07.198Z"
   },
   {
    "duration": 0,
    "start_time": "2023-04-13T11:23:07.199Z"
   },
   {
    "duration": 0,
    "start_time": "2023-04-13T11:23:07.200Z"
   },
   {
    "duration": 0,
    "start_time": "2023-04-13T11:23:07.201Z"
   },
   {
    "duration": 0,
    "start_time": "2023-04-13T11:23:07.202Z"
   },
   {
    "duration": 0,
    "start_time": "2023-04-13T11:23:07.202Z"
   },
   {
    "duration": 0,
    "start_time": "2023-04-13T11:23:07.203Z"
   },
   {
    "duration": 0,
    "start_time": "2023-04-13T11:23:07.205Z"
   },
   {
    "duration": 0,
    "start_time": "2023-04-13T11:23:07.206Z"
   },
   {
    "duration": 0,
    "start_time": "2023-04-13T11:23:07.206Z"
   },
   {
    "duration": 0,
    "start_time": "2023-04-13T11:23:07.235Z"
   },
   {
    "duration": 0,
    "start_time": "2023-04-13T11:23:07.236Z"
   },
   {
    "duration": 0,
    "start_time": "2023-04-13T11:23:07.238Z"
   },
   {
    "duration": 0,
    "start_time": "2023-04-13T11:23:07.239Z"
   },
   {
    "duration": 0,
    "start_time": "2023-04-13T11:23:07.241Z"
   },
   {
    "duration": 0,
    "start_time": "2023-04-13T11:23:07.242Z"
   },
   {
    "duration": 0,
    "start_time": "2023-04-13T11:23:07.243Z"
   },
   {
    "duration": 0,
    "start_time": "2023-04-13T11:23:07.245Z"
   },
   {
    "duration": 0,
    "start_time": "2023-04-13T11:23:07.247Z"
   },
   {
    "duration": 0,
    "start_time": "2023-04-13T11:23:07.248Z"
   },
   {
    "duration": 0,
    "start_time": "2023-04-13T11:23:07.250Z"
   },
   {
    "duration": 0,
    "start_time": "2023-04-13T11:23:07.251Z"
   },
   {
    "duration": 0,
    "start_time": "2023-04-13T11:23:07.253Z"
   },
   {
    "duration": 0,
    "start_time": "2023-04-13T11:23:07.254Z"
   },
   {
    "duration": 0,
    "start_time": "2023-04-13T11:23:07.255Z"
   },
   {
    "duration": 0,
    "start_time": "2023-04-13T11:23:07.256Z"
   },
   {
    "duration": 0,
    "start_time": "2023-04-13T11:23:07.257Z"
   },
   {
    "duration": 0,
    "start_time": "2023-04-13T11:23:07.258Z"
   },
   {
    "duration": 0,
    "start_time": "2023-04-13T11:23:07.260Z"
   },
   {
    "duration": 0,
    "start_time": "2023-04-13T11:23:07.261Z"
   },
   {
    "duration": 1199,
    "start_time": "2023-04-13T14:17:06.431Z"
   },
   {
    "duration": 1183,
    "start_time": "2023-04-13T14:17:24.210Z"
   },
   {
    "duration": 43,
    "start_time": "2023-04-13T14:17:25.395Z"
   },
   {
    "duration": 3,
    "start_time": "2023-04-13T14:17:25.440Z"
   },
   {
    "duration": 105,
    "start_time": "2023-04-13T14:17:25.444Z"
   },
   {
    "duration": 1006,
    "start_time": "2023-04-13T14:17:25.551Z"
   },
   {
    "duration": 9,
    "start_time": "2023-04-13T14:17:26.559Z"
   },
   {
    "duration": 37,
    "start_time": "2023-04-13T14:17:26.570Z"
   },
   {
    "duration": 112,
    "start_time": "2023-04-13T14:17:26.608Z"
   },
   {
    "duration": 384,
    "start_time": "2023-04-13T14:17:26.722Z"
   },
   {
    "duration": 619,
    "start_time": "2023-04-13T14:17:27.107Z"
   },
   {
    "duration": 31,
    "start_time": "2023-04-13T14:17:27.727Z"
   },
   {
    "duration": 3,
    "start_time": "2023-04-13T14:17:27.760Z"
   },
   {
    "duration": 84,
    "start_time": "2023-04-13T14:17:27.765Z"
   },
   {
    "duration": 78,
    "start_time": "2023-04-13T14:17:27.851Z"
   },
   {
    "duration": 9,
    "start_time": "2023-04-13T14:17:27.931Z"
   },
   {
    "duration": 36,
    "start_time": "2023-04-13T14:17:27.941Z"
   },
   {
    "duration": 10,
    "start_time": "2023-04-13T14:17:27.979Z"
   },
   {
    "duration": 34,
    "start_time": "2023-04-13T14:17:27.990Z"
   },
   {
    "duration": 34,
    "start_time": "2023-04-13T14:17:28.025Z"
   },
   {
    "duration": 21,
    "start_time": "2023-04-13T14:17:28.061Z"
   },
   {
    "duration": 47,
    "start_time": "2023-04-13T14:17:28.083Z"
   },
   {
    "duration": 7,
    "start_time": "2023-04-13T14:17:28.132Z"
   },
   {
    "duration": 19,
    "start_time": "2023-04-13T14:17:28.140Z"
   },
   {
    "duration": 56,
    "start_time": "2023-04-13T14:17:28.161Z"
   },
   {
    "duration": 9,
    "start_time": "2023-04-13T14:17:28.219Z"
   },
   {
    "duration": 18,
    "start_time": "2023-04-13T14:17:28.230Z"
   },
   {
    "duration": 8,
    "start_time": "2023-04-13T14:17:28.250Z"
   },
   {
    "duration": 67,
    "start_time": "2023-04-13T14:17:28.259Z"
   },
   {
    "duration": 17,
    "start_time": "2023-04-13T14:17:28.327Z"
   },
   {
    "duration": 7,
    "start_time": "2023-04-13T14:17:28.345Z"
   },
   {
    "duration": 33,
    "start_time": "2023-04-13T14:17:28.353Z"
   },
   {
    "duration": 29,
    "start_time": "2023-04-13T14:17:28.388Z"
   },
   {
    "duration": 21,
    "start_time": "2023-04-13T14:17:28.419Z"
   },
   {
    "duration": 18,
    "start_time": "2023-04-13T14:17:28.441Z"
   },
   {
    "duration": 5,
    "start_time": "2023-04-13T14:17:28.461Z"
   },
   {
    "duration": 16,
    "start_time": "2023-04-13T14:17:28.467Z"
   },
   {
    "duration": 321061,
    "start_time": "2023-04-13T14:17:28.484Z"
   },
   {
    "duration": 7,
    "start_time": "2023-04-13T14:22:49.546Z"
   },
   {
    "duration": 11,
    "start_time": "2023-04-13T14:22:49.555Z"
   },
   {
    "duration": 64,
    "start_time": "2023-04-13T14:22:49.568Z"
   },
   {
    "duration": 12,
    "start_time": "2023-04-13T14:22:49.637Z"
   },
   {
    "duration": 23,
    "start_time": "2023-04-13T14:22:49.650Z"
   },
   {
    "duration": 213452,
    "start_time": "2023-04-13T14:22:49.675Z"
   },
   {
    "duration": 8,
    "start_time": "2023-04-13T14:26:23.129Z"
   },
   {
    "duration": 14,
    "start_time": "2023-04-13T14:26:23.138Z"
   },
   {
    "duration": 58,
    "start_time": "2023-04-13T14:26:23.154Z"
   },
   {
    "duration": 28,
    "start_time": "2023-04-13T14:26:23.214Z"
   },
   {
    "duration": 135,
    "start_time": "2023-04-13T14:26:23.243Z"
   },
   {
    "duration": 3,
    "start_time": "2023-04-13T14:26:23.380Z"
   },
   {
    "duration": 46,
    "start_time": "2023-04-13T14:26:23.385Z"
   },
   {
    "duration": 21,
    "start_time": "2023-04-13T14:26:23.432Z"
   },
   {
    "duration": 70,
    "start_time": "2023-04-13T14:26:23.454Z"
   },
   {
    "duration": 30,
    "start_time": "2023-04-13T14:26:23.526Z"
   },
   {
    "duration": 45,
    "start_time": "2023-04-13T14:26:23.557Z"
   },
   {
    "duration": 28,
    "start_time": "2023-04-13T14:26:23.604Z"
   },
   {
    "duration": 19,
    "start_time": "2023-04-13T14:26:23.634Z"
   },
   {
    "duration": 20,
    "start_time": "2023-04-13T14:26:23.654Z"
   },
   {
    "duration": 136,
    "start_time": "2023-04-13T14:26:23.675Z"
   },
   {
    "duration": 0,
    "start_time": "2023-04-13T14:26:23.812Z"
   },
   {
    "duration": 0,
    "start_time": "2023-04-13T14:26:23.814Z"
   },
   {
    "duration": 0,
    "start_time": "2023-04-13T14:26:23.814Z"
   },
   {
    "duration": 0,
    "start_time": "2023-04-13T14:26:23.817Z"
   },
   {
    "duration": 0,
    "start_time": "2023-04-13T14:26:23.818Z"
   },
   {
    "duration": 0,
    "start_time": "2023-04-13T14:26:23.819Z"
   },
   {
    "duration": 0,
    "start_time": "2023-04-13T14:26:23.820Z"
   },
   {
    "duration": 0,
    "start_time": "2023-04-13T14:26:23.821Z"
   },
   {
    "duration": 0,
    "start_time": "2023-04-13T14:26:23.822Z"
   },
   {
    "duration": 0,
    "start_time": "2023-04-13T14:26:23.822Z"
   },
   {
    "duration": 0,
    "start_time": "2023-04-13T14:26:23.823Z"
   },
   {
    "duration": 0,
    "start_time": "2023-04-13T14:26:23.824Z"
   },
   {
    "duration": 0,
    "start_time": "2023-04-13T14:26:23.825Z"
   },
   {
    "duration": 0,
    "start_time": "2023-04-13T14:26:23.826Z"
   },
   {
    "duration": 0,
    "start_time": "2023-04-13T14:26:23.827Z"
   },
   {
    "duration": 0,
    "start_time": "2023-04-13T14:26:23.828Z"
   },
   {
    "duration": 0,
    "start_time": "2023-04-13T14:26:23.829Z"
   },
   {
    "duration": 0,
    "start_time": "2023-04-13T14:26:23.830Z"
   },
   {
    "duration": 0,
    "start_time": "2023-04-13T14:26:23.831Z"
   },
   {
    "duration": 0,
    "start_time": "2023-04-13T14:26:23.831Z"
   },
   {
    "duration": 0,
    "start_time": "2023-04-13T14:26:23.832Z"
   },
   {
    "duration": 0,
    "start_time": "2023-04-13T14:26:23.833Z"
   },
   {
    "duration": 0,
    "start_time": "2023-04-13T14:26:23.834Z"
   },
   {
    "duration": 0,
    "start_time": "2023-04-13T14:26:23.835Z"
   },
   {
    "duration": 0,
    "start_time": "2023-04-13T14:26:23.836Z"
   },
   {
    "duration": 0,
    "start_time": "2023-04-13T14:26:23.837Z"
   },
   {
    "duration": 0,
    "start_time": "2023-04-13T14:26:23.838Z"
   },
   {
    "duration": 0,
    "start_time": "2023-04-13T14:26:23.839Z"
   },
   {
    "duration": 0,
    "start_time": "2023-04-13T14:26:23.840Z"
   },
   {
    "duration": 0,
    "start_time": "2023-04-13T14:26:23.841Z"
   },
   {
    "duration": 1,
    "start_time": "2023-04-13T14:26:23.842Z"
   },
   {
    "duration": 0,
    "start_time": "2023-04-13T14:26:23.843Z"
   },
   {
    "duration": 0,
    "start_time": "2023-04-13T14:26:23.844Z"
   },
   {
    "duration": 0,
    "start_time": "2023-04-13T14:26:23.845Z"
   },
   {
    "duration": 0,
    "start_time": "2023-04-13T14:26:23.846Z"
   },
   {
    "duration": 0,
    "start_time": "2023-04-13T14:26:23.847Z"
   },
   {
    "duration": 0,
    "start_time": "2023-04-13T14:26:23.848Z"
   },
   {
    "duration": 0,
    "start_time": "2023-04-13T14:26:23.849Z"
   },
   {
    "duration": 0,
    "start_time": "2023-04-13T14:26:23.849Z"
   },
   {
    "duration": 0,
    "start_time": "2023-04-13T14:26:23.850Z"
   },
   {
    "duration": 0,
    "start_time": "2023-04-13T14:26:23.851Z"
   },
   {
    "duration": 6,
    "start_time": "2023-04-13T14:35:28.163Z"
   },
   {
    "duration": 3,
    "start_time": "2023-04-13T14:35:31.078Z"
   },
   {
    "duration": 335,
    "start_time": "2023-04-13T14:35:32.087Z"
   },
   {
    "duration": 62,
    "start_time": "2023-04-13T14:35:38.375Z"
   },
   {
    "duration": 260,
    "start_time": "2023-04-13T14:35:42.217Z"
   },
   {
    "duration": 139,
    "start_time": "2023-04-13T14:35:51.108Z"
   },
   {
    "duration": 2,
    "start_time": "2023-04-13T15:34:18.074Z"
   },
   {
    "duration": 2,
    "start_time": "2023-04-13T15:34:47.076Z"
   },
   {
    "duration": 2,
    "start_time": "2023-04-13T15:34:56.407Z"
   },
   {
    "duration": 1201,
    "start_time": "2023-04-13T15:46:37.384Z"
   },
   {
    "duration": 45,
    "start_time": "2023-04-13T15:46:38.587Z"
   },
   {
    "duration": 4,
    "start_time": "2023-04-13T15:46:38.633Z"
   },
   {
    "duration": 122,
    "start_time": "2023-04-13T15:46:38.639Z"
   },
   {
    "duration": 778,
    "start_time": "2023-04-13T15:46:38.762Z"
   },
   {
    "duration": 9,
    "start_time": "2023-04-13T15:46:39.541Z"
   },
   {
    "duration": 26,
    "start_time": "2023-04-13T15:46:39.552Z"
   },
   {
    "duration": 149,
    "start_time": "2023-04-13T15:46:39.579Z"
   },
   {
    "duration": 436,
    "start_time": "2023-04-13T15:46:39.730Z"
   },
   {
    "duration": 515,
    "start_time": "2023-04-13T15:46:40.168Z"
   },
   {
    "duration": 42,
    "start_time": "2023-04-13T15:46:40.684Z"
   },
   {
    "duration": 5,
    "start_time": "2023-04-13T15:46:40.727Z"
   },
   {
    "duration": 86,
    "start_time": "2023-04-13T15:46:40.733Z"
   },
   {
    "duration": 73,
    "start_time": "2023-04-13T15:46:40.820Z"
   },
   {
    "duration": 22,
    "start_time": "2023-04-13T15:46:40.895Z"
   },
   {
    "duration": 32,
    "start_time": "2023-04-13T15:46:40.919Z"
   },
   {
    "duration": 12,
    "start_time": "2023-04-13T15:46:40.952Z"
   },
   {
    "duration": 9,
    "start_time": "2023-04-13T15:46:40.966Z"
   },
   {
    "duration": 65,
    "start_time": "2023-04-13T15:46:40.977Z"
   },
   {
    "duration": 23,
    "start_time": "2023-04-13T15:46:41.044Z"
   },
   {
    "duration": 47,
    "start_time": "2023-04-13T15:46:41.069Z"
   },
   {
    "duration": 6,
    "start_time": "2023-04-13T15:46:41.117Z"
   },
   {
    "duration": 20,
    "start_time": "2023-04-13T15:46:41.125Z"
   },
   {
    "duration": 33,
    "start_time": "2023-04-13T15:46:41.147Z"
   },
   {
    "duration": 7,
    "start_time": "2023-04-13T15:46:41.182Z"
   },
   {
    "duration": 43,
    "start_time": "2023-04-13T15:46:41.191Z"
   },
   {
    "duration": 7,
    "start_time": "2023-04-13T15:46:41.235Z"
   },
   {
    "duration": 34,
    "start_time": "2023-04-13T15:46:41.246Z"
   },
   {
    "duration": 36,
    "start_time": "2023-04-13T15:46:41.282Z"
   },
   {
    "duration": 7,
    "start_time": "2023-04-13T15:46:41.320Z"
   },
   {
    "duration": 35,
    "start_time": "2023-04-13T15:46:41.329Z"
   },
   {
    "duration": 12,
    "start_time": "2023-04-13T15:46:41.365Z"
   },
   {
    "duration": 48,
    "start_time": "2023-04-13T15:46:41.379Z"
   },
   {
    "duration": 20,
    "start_time": "2023-04-13T15:46:41.429Z"
   },
   {
    "duration": 5,
    "start_time": "2023-04-13T15:46:41.450Z"
   },
   {
    "duration": 15,
    "start_time": "2023-04-13T15:46:41.457Z"
   },
   {
    "duration": 326992,
    "start_time": "2023-04-13T15:46:41.473Z"
   },
   {
    "duration": 6,
    "start_time": "2023-04-13T15:52:08.467Z"
   },
   {
    "duration": 8,
    "start_time": "2023-04-13T15:52:08.475Z"
   },
   {
    "duration": 51,
    "start_time": "2023-04-13T15:52:08.484Z"
   },
   {
    "duration": 11,
    "start_time": "2023-04-13T15:52:08.536Z"
   },
   {
    "duration": 23,
    "start_time": "2023-04-13T15:52:08.549Z"
   },
   {
    "duration": 213695,
    "start_time": "2023-04-13T15:52:08.574Z"
   },
   {
    "duration": 7,
    "start_time": "2023-04-13T15:55:42.271Z"
   },
   {
    "duration": 12,
    "start_time": "2023-04-13T15:55:42.280Z"
   },
   {
    "duration": 53,
    "start_time": "2023-04-13T15:55:42.294Z"
   },
   {
    "duration": 29,
    "start_time": "2023-04-13T15:55:42.349Z"
   },
   {
    "duration": 132,
    "start_time": "2023-04-13T15:55:42.380Z"
   },
   {
    "duration": 3,
    "start_time": "2023-04-13T15:55:42.514Z"
   },
   {
    "duration": 29,
    "start_time": "2023-04-13T15:55:42.519Z"
   },
   {
    "duration": 22,
    "start_time": "2023-04-13T15:55:42.550Z"
   },
   {
    "duration": 76,
    "start_time": "2023-04-13T15:55:42.574Z"
   },
   {
    "duration": 30,
    "start_time": "2023-04-13T15:55:42.651Z"
   },
   {
    "duration": 40,
    "start_time": "2023-04-13T15:55:42.683Z"
   },
   {
    "duration": 26,
    "start_time": "2023-04-13T15:55:42.724Z"
   },
   {
    "duration": 3,
    "start_time": "2023-04-13T15:55:42.751Z"
   },
   {
    "duration": 4,
    "start_time": "2023-04-13T15:55:42.755Z"
   },
   {
    "duration": 3,
    "start_time": "2023-04-13T15:55:42.760Z"
   },
   {
    "duration": 4,
    "start_time": "2023-04-13T15:55:42.765Z"
   },
   {
    "duration": 5,
    "start_time": "2023-04-13T15:55:42.771Z"
   },
   {
    "duration": 3,
    "start_time": "2023-04-13T15:55:42.777Z"
   },
   {
    "duration": 4,
    "start_time": "2023-04-13T15:55:42.781Z"
   },
   {
    "duration": 3,
    "start_time": "2023-04-13T15:55:42.786Z"
   },
   {
    "duration": 28,
    "start_time": "2023-04-13T15:55:42.790Z"
   },
   {
    "duration": 5,
    "start_time": "2023-04-13T15:55:42.819Z"
   },
   {
    "duration": 4,
    "start_time": "2023-04-13T15:55:42.825Z"
   },
   {
    "duration": 3,
    "start_time": "2023-04-13T15:55:42.830Z"
   },
   {
    "duration": 64,
    "start_time": "2023-04-13T15:55:42.835Z"
   },
   {
    "duration": 32,
    "start_time": "2023-04-13T15:55:42.900Z"
   },
   {
    "duration": 3,
    "start_time": "2023-04-13T15:55:42.934Z"
   },
   {
    "duration": 145,
    "start_time": "2023-04-13T15:55:42.939Z"
   },
   {
    "duration": 833,
    "start_time": "2023-04-13T15:55:43.085Z"
   },
   {
    "duration": 10898,
    "start_time": "2023-04-13T15:55:43.919Z"
   },
   {
    "duration": 20010,
    "start_time": "2023-04-13T15:55:54.819Z"
   },
   {
    "duration": 25788,
    "start_time": "2023-04-13T15:56:14.830Z"
   },
   {
    "duration": 62394,
    "start_time": "2023-04-13T15:56:40.619Z"
   },
   {
    "duration": 62358,
    "start_time": "2023-04-13T15:57:43.014Z"
   },
   {
    "duration": 9,
    "start_time": "2023-04-13T15:58:45.373Z"
   },
   {
    "duration": 4,
    "start_time": "2023-04-13T15:58:45.383Z"
   },
   {
    "duration": 5,
    "start_time": "2023-04-13T15:58:45.388Z"
   },
   {
    "duration": 261,
    "start_time": "2023-04-13T15:58:45.395Z"
   },
   {
    "duration": 141,
    "start_time": "2023-04-13T15:58:45.661Z"
   },
   {
    "duration": 29135,
    "start_time": "2023-04-13T15:58:45.803Z"
   },
   {
    "duration": 2,
    "start_time": "2023-04-13T15:59:14.940Z"
   },
   {
    "duration": 3,
    "start_time": "2023-04-13T15:59:14.944Z"
   },
   {
    "duration": 5,
    "start_time": "2023-04-13T15:59:14.949Z"
   },
   {
    "duration": 5,
    "start_time": "2023-04-13T15:59:14.956Z"
   },
   {
    "duration": 3,
    "start_time": "2023-04-13T15:59:14.963Z"
   },
   {
    "duration": 3,
    "start_time": "2023-04-13T15:59:14.967Z"
   },
   {
    "duration": 5,
    "start_time": "2023-04-13T15:59:14.972Z"
   },
   {
    "duration": 4,
    "start_time": "2023-04-13T15:59:14.978Z"
   },
   {
    "duration": 31,
    "start_time": "2023-04-13T15:59:14.983Z"
   },
   {
    "duration": 22,
    "start_time": "2023-04-13T15:59:15.015Z"
   },
   {
    "duration": 4,
    "start_time": "2023-04-13T15:59:15.039Z"
   },
   {
    "duration": 3,
    "start_time": "2023-04-13T15:59:15.044Z"
   },
   {
    "duration": 19,
    "start_time": "2023-04-13T15:59:15.049Z"
   },
   {
    "duration": 7,
    "start_time": "2023-04-13T15:59:15.070Z"
   },
   {
    "duration": 7,
    "start_time": "2023-04-13T15:59:15.079Z"
   },
   {
    "duration": 7,
    "start_time": "2023-04-13T15:59:15.087Z"
   },
   {
    "duration": 17,
    "start_time": "2023-04-13T15:59:15.096Z"
   },
   {
    "duration": 9,
    "start_time": "2023-04-13T15:59:15.115Z"
   },
   {
    "duration": 4,
    "start_time": "2023-04-13T15:59:15.126Z"
   },
   {
    "duration": 8,
    "start_time": "2023-04-13T15:59:15.131Z"
   },
   {
    "duration": 90,
    "start_time": "2023-04-13T15:59:15.140Z"
   },
   {
    "duration": 180,
    "start_time": "2023-04-13T16:12:42.846Z"
   },
   {
    "duration": 12,
    "start_time": "2023-04-13T16:18:40.743Z"
   },
   {
    "duration": 10,
    "start_time": "2023-04-13T16:19:08.202Z"
   },
   {
    "duration": 5,
    "start_time": "2023-04-13T16:23:08.486Z"
   },
   {
    "duration": 12,
    "start_time": "2023-04-13T16:23:30.857Z"
   },
   {
    "duration": 3,
    "start_time": "2023-04-13T16:24:28.965Z"
   },
   {
    "duration": 12,
    "start_time": "2023-04-13T16:24:30.309Z"
   },
   {
    "duration": 10,
    "start_time": "2023-04-13T16:28:13.444Z"
   },
   {
    "duration": 8,
    "start_time": "2023-04-13T16:45:48.716Z"
   },
   {
    "duration": 22,
    "start_time": "2023-04-13T16:45:52.866Z"
   },
   {
    "duration": 6,
    "start_time": "2023-04-13T16:45:57.401Z"
   },
   {
    "duration": 3,
    "start_time": "2023-04-13T16:45:58.308Z"
   },
   {
    "duration": 176,
    "start_time": "2023-04-13T16:45:59.559Z"
   },
   {
    "duration": 28,
    "start_time": "2023-04-13T16:46:01.098Z"
   },
   {
    "duration": 10,
    "start_time": "2023-04-13T16:46:02.916Z"
   },
   {
    "duration": 38,
    "start_time": "2023-04-13T16:46:04.509Z"
   },
   {
    "duration": 106,
    "start_time": "2023-04-13T16:47:44.068Z"
   },
   {
    "duration": 51,
    "start_time": "2023-04-13T16:47:49.224Z"
   },
   {
    "duration": 17,
    "start_time": "2023-04-13T16:48:01.115Z"
   },
   {
    "duration": 4,
    "start_time": "2023-04-13T16:48:14.203Z"
   },
   {
    "duration": 3,
    "start_time": "2023-04-13T16:48:14.883Z"
   },
   {
    "duration": 145,
    "start_time": "2023-04-13T16:48:15.566Z"
   },
   {
    "duration": 28,
    "start_time": "2023-04-13T16:48:16.576Z"
   },
   {
    "duration": 9,
    "start_time": "2023-04-13T16:48:18.344Z"
   },
   {
    "duration": 11,
    "start_time": "2023-04-13T16:48:20.581Z"
   },
   {
    "duration": 4,
    "start_time": "2023-04-13T16:49:52.475Z"
   },
   {
    "duration": 4,
    "start_time": "2023-04-13T16:49:53.230Z"
   },
   {
    "duration": 147,
    "start_time": "2023-04-13T16:49:53.796Z"
   },
   {
    "duration": 27,
    "start_time": "2023-04-13T16:49:54.950Z"
   },
   {
    "duration": 2,
    "start_time": "2023-04-13T16:49:56.501Z"
   },
   {
    "duration": 13,
    "start_time": "2023-04-13T16:49:57.406Z"
   },
   {
    "duration": 127,
    "start_time": "2023-04-13T16:50:47.529Z"
   },
   {
    "duration": 58,
    "start_time": "2023-04-13T16:50:48.629Z"
   },
   {
    "duration": 11,
    "start_time": "2023-04-13T16:50:49.922Z"
   },
   {
    "duration": 11,
    "start_time": "2023-04-13T16:51:22.762Z"
   },
   {
    "duration": 7,
    "start_time": "2023-04-13T16:53:25.479Z"
   },
   {
    "duration": 4,
    "start_time": "2023-04-13T16:55:36.834Z"
   },
   {
    "duration": 2,
    "start_time": "2023-04-13T16:55:49.044Z"
   },
   {
    "duration": 4,
    "start_time": "2023-04-13T16:55:50.011Z"
   },
   {
    "duration": 11,
    "start_time": "2023-04-13T16:55:58.583Z"
   },
   {
    "duration": 88727,
    "start_time": "2023-04-13T16:56:17.931Z"
   },
   {
    "duration": 3,
    "start_time": "2023-04-13T17:00:05.608Z"
   },
   {
    "duration": 3,
    "start_time": "2023-04-13T17:00:19.305Z"
   },
   {
    "duration": 2,
    "start_time": "2023-04-13T17:00:24.664Z"
   },
   {
    "duration": 3,
    "start_time": "2023-04-13T17:00:29.891Z"
   },
   {
    "duration": 3,
    "start_time": "2023-04-13T17:00:36.060Z"
   },
   {
    "duration": 3,
    "start_time": "2023-04-13T17:00:45.798Z"
   },
   {
    "duration": 3,
    "start_time": "2023-04-13T17:01:02.805Z"
   },
   {
    "duration": 196,
    "start_time": "2023-04-13T17:02:55.392Z"
   },
   {
    "duration": 1243,
    "start_time": "2023-04-13T17:03:21.199Z"
   },
   {
    "duration": 44,
    "start_time": "2023-04-13T17:03:22.444Z"
   },
   {
    "duration": 5,
    "start_time": "2023-04-13T17:03:22.489Z"
   },
   {
    "duration": 124,
    "start_time": "2023-04-13T17:03:22.496Z"
   },
   {
    "duration": 818,
    "start_time": "2023-04-13T17:03:22.621Z"
   },
   {
    "duration": 8,
    "start_time": "2023-04-13T17:03:23.441Z"
   },
   {
    "duration": 27,
    "start_time": "2023-04-13T17:03:23.450Z"
   },
   {
    "duration": 131,
    "start_time": "2023-04-13T17:03:23.479Z"
   },
   {
    "duration": 483,
    "start_time": "2023-04-13T17:03:23.617Z"
   },
   {
    "duration": 580,
    "start_time": "2023-04-13T17:03:24.103Z"
   },
   {
    "duration": 39,
    "start_time": "2023-04-13T17:03:24.685Z"
   },
   {
    "duration": 10,
    "start_time": "2023-04-13T17:03:24.726Z"
   },
   {
    "duration": 89,
    "start_time": "2023-04-13T17:03:24.738Z"
   },
   {
    "duration": 72,
    "start_time": "2023-04-13T17:03:24.829Z"
   },
   {
    "duration": 22,
    "start_time": "2023-04-13T17:03:24.902Z"
   },
   {
    "duration": 36,
    "start_time": "2023-04-13T17:03:24.926Z"
   },
   {
    "duration": 23,
    "start_time": "2023-04-13T17:03:24.964Z"
   },
   {
    "duration": 9,
    "start_time": "2023-04-13T17:03:24.988Z"
   },
   {
    "duration": 56,
    "start_time": "2023-04-13T17:03:24.998Z"
   },
   {
    "duration": 21,
    "start_time": "2023-04-13T17:03:25.056Z"
   },
   {
    "duration": 43,
    "start_time": "2023-04-13T17:03:25.078Z"
   },
   {
    "duration": 10,
    "start_time": "2023-04-13T17:03:25.123Z"
   },
   {
    "duration": 21,
    "start_time": "2023-04-13T17:03:25.134Z"
   },
   {
    "duration": 34,
    "start_time": "2023-04-13T17:03:25.157Z"
   },
   {
    "duration": 25,
    "start_time": "2023-04-13T17:03:25.193Z"
   },
   {
    "duration": 23,
    "start_time": "2023-04-13T17:03:25.220Z"
   },
   {
    "duration": 8,
    "start_time": "2023-04-13T17:03:25.245Z"
   },
   {
    "duration": 63,
    "start_time": "2023-04-13T17:03:25.260Z"
   },
   {
    "duration": 24,
    "start_time": "2023-04-13T17:03:25.325Z"
   },
   {
    "duration": 7,
    "start_time": "2023-04-13T17:03:25.351Z"
   },
   {
    "duration": 58,
    "start_time": "2023-04-13T17:03:25.359Z"
   },
   {
    "duration": 15,
    "start_time": "2023-04-13T17:03:25.419Z"
   },
   {
    "duration": 32,
    "start_time": "2023-04-13T17:03:25.437Z"
   },
   {
    "duration": 19,
    "start_time": "2023-04-13T17:03:25.471Z"
   },
   {
    "duration": 31,
    "start_time": "2023-04-13T17:03:25.491Z"
   },
   {
    "duration": 19,
    "start_time": "2023-04-13T17:03:25.523Z"
   },
   {
    "duration": 354938,
    "start_time": "2023-04-13T17:03:25.544Z"
   },
   {
    "duration": 8,
    "start_time": "2023-04-13T17:09:20.484Z"
   },
   {
    "duration": 4,
    "start_time": "2023-04-13T17:09:20.493Z"
   },
   {
    "duration": 65,
    "start_time": "2023-04-13T17:09:20.499Z"
   },
   {
    "duration": 12,
    "start_time": "2023-04-13T17:09:20.565Z"
   },
   {
    "duration": 43,
    "start_time": "2023-04-13T17:09:20.578Z"
   },
   {
    "duration": 238324,
    "start_time": "2023-04-13T17:09:20.623Z"
   },
   {
    "duration": 7,
    "start_time": "2023-04-13T17:13:18.949Z"
   },
   {
    "duration": 9,
    "start_time": "2023-04-13T17:13:18.957Z"
   },
   {
    "duration": 66,
    "start_time": "2023-04-13T17:13:18.968Z"
   },
   {
    "duration": 31,
    "start_time": "2023-04-13T17:13:19.036Z"
   },
   {
    "duration": 144,
    "start_time": "2023-04-13T17:13:19.068Z"
   },
   {
    "duration": 6,
    "start_time": "2023-04-13T17:13:19.217Z"
   },
   {
    "duration": 33,
    "start_time": "2023-04-13T17:13:19.225Z"
   },
   {
    "duration": 22,
    "start_time": "2023-04-13T17:13:19.260Z"
   },
   {
    "duration": 80,
    "start_time": "2023-04-13T17:13:19.283Z"
   },
   {
    "duration": 33,
    "start_time": "2023-04-13T17:13:19.365Z"
   },
   {
    "duration": 49,
    "start_time": "2023-04-13T17:13:19.400Z"
   },
   {
    "duration": 27,
    "start_time": "2023-04-13T17:13:19.451Z"
   },
   {
    "duration": 29,
    "start_time": "2023-04-13T17:13:19.480Z"
   },
   {
    "duration": 8,
    "start_time": "2023-04-13T17:13:19.511Z"
   },
   {
    "duration": 7,
    "start_time": "2023-04-13T17:13:19.521Z"
   },
   {
    "duration": 23,
    "start_time": "2023-04-13T17:13:19.531Z"
   },
   {
    "duration": 15,
    "start_time": "2023-04-13T17:13:19.556Z"
   },
   {
    "duration": 8,
    "start_time": "2023-04-13T17:13:19.573Z"
   },
   {
    "duration": 10,
    "start_time": "2023-04-13T17:13:19.582Z"
   },
   {
    "duration": 20,
    "start_time": "2023-04-13T17:13:19.593Z"
   },
   {
    "duration": 13,
    "start_time": "2023-04-13T17:13:19.614Z"
   },
   {
    "duration": 5,
    "start_time": "2023-04-13T17:13:19.629Z"
   },
   {
    "duration": 6,
    "start_time": "2023-04-13T17:13:19.636Z"
   },
   {
    "duration": 17,
    "start_time": "2023-04-13T17:13:19.644Z"
   },
   {
    "duration": 7,
    "start_time": "2023-04-13T17:13:19.663Z"
   },
   {
    "duration": 80,
    "start_time": "2023-04-13T17:13:19.672Z"
   },
   {
    "duration": 18,
    "start_time": "2023-04-13T17:13:19.753Z"
   },
   {
    "duration": 946,
    "start_time": "2023-04-13T17:13:19.772Z"
   },
   {
    "duration": 6,
    "start_time": "2023-04-13T17:13:20.719Z"
   },
   {
    "duration": 141,
    "start_time": "2023-04-13T17:13:20.726Z"
   },
   {
    "duration": 83050,
    "start_time": "2023-04-13T17:13:20.869Z"
   },
   {
    "duration": 794817,
    "start_time": "2023-04-13T17:14:43.922Z"
   },
   {
    "duration": 2510906,
    "start_time": "2023-04-13T17:27:58.740Z"
   },
   {
    "duration": 1205,
    "start_time": "2023-04-13T18:10:30.236Z"
   },
   {
    "duration": 42,
    "start_time": "2023-04-13T18:10:31.442Z"
   },
   {
    "duration": 6,
    "start_time": "2023-04-13T18:10:31.486Z"
   },
   {
    "duration": 140,
    "start_time": "2023-04-13T18:10:31.494Z"
   },
   {
    "duration": 806,
    "start_time": "2023-04-13T18:10:31.636Z"
   },
   {
    "duration": 8,
    "start_time": "2023-04-13T18:10:32.444Z"
   },
   {
    "duration": 38,
    "start_time": "2023-04-13T18:10:32.453Z"
   },
   {
    "duration": 140,
    "start_time": "2023-04-13T18:10:32.492Z"
   },
   {
    "duration": 432,
    "start_time": "2023-04-13T18:10:32.633Z"
   },
   {
    "duration": 521,
    "start_time": "2023-04-13T18:10:33.067Z"
   },
   {
    "duration": 46,
    "start_time": "2023-04-13T18:10:33.590Z"
   },
   {
    "duration": 5,
    "start_time": "2023-04-13T18:10:33.637Z"
   },
   {
    "duration": 83,
    "start_time": "2023-04-13T18:10:33.643Z"
   },
   {
    "duration": 75,
    "start_time": "2023-04-13T18:10:33.728Z"
   },
   {
    "duration": 25,
    "start_time": "2023-04-13T18:10:33.804Z"
   },
   {
    "duration": 36,
    "start_time": "2023-04-13T18:10:33.830Z"
   },
   {
    "duration": 12,
    "start_time": "2023-04-13T18:10:33.867Z"
   },
   {
    "duration": 11,
    "start_time": "2023-04-13T18:10:33.880Z"
   },
   {
    "duration": 57,
    "start_time": "2023-04-13T18:10:33.892Z"
   },
   {
    "duration": 22,
    "start_time": "2023-04-13T18:10:33.951Z"
   },
   {
    "duration": 53,
    "start_time": "2023-04-13T18:10:33.975Z"
   },
   {
    "duration": 8,
    "start_time": "2023-04-13T18:10:34.029Z"
   },
   {
    "duration": 25,
    "start_time": "2023-04-13T18:10:34.039Z"
   },
   {
    "duration": 41,
    "start_time": "2023-04-13T18:10:34.066Z"
   },
   {
    "duration": 10,
    "start_time": "2023-04-13T18:10:34.118Z"
   },
   {
    "duration": 23,
    "start_time": "2023-04-13T18:10:34.129Z"
   },
   {
    "duration": 8,
    "start_time": "2023-04-13T18:10:34.154Z"
   },
   {
    "duration": 71,
    "start_time": "2023-04-13T18:10:34.166Z"
   },
   {
    "duration": 25,
    "start_time": "2023-04-13T18:10:34.239Z"
   },
   {
    "duration": 8,
    "start_time": "2023-04-13T18:10:34.266Z"
   },
   {
    "duration": 62,
    "start_time": "2023-04-13T18:10:34.276Z"
   },
   {
    "duration": 12,
    "start_time": "2023-04-13T18:10:34.340Z"
   },
   {
    "duration": 23,
    "start_time": "2023-04-13T18:10:34.353Z"
   },
   {
    "duration": 41,
    "start_time": "2023-04-13T18:10:34.377Z"
   },
   {
    "duration": 10,
    "start_time": "2023-04-13T18:10:34.420Z"
   },
   {
    "duration": 17,
    "start_time": "2023-04-13T18:10:34.432Z"
   },
   {
    "duration": 352905,
    "start_time": "2023-04-13T18:10:34.450Z"
   },
   {
    "duration": 7,
    "start_time": "2023-04-13T18:16:27.357Z"
   },
   {
    "duration": 9,
    "start_time": "2023-04-13T18:16:27.366Z"
   },
   {
    "duration": 70,
    "start_time": "2023-04-13T18:16:27.376Z"
   },
   {
    "duration": 14,
    "start_time": "2023-04-13T18:16:27.448Z"
   },
   {
    "duration": 25,
    "start_time": "2023-04-13T18:16:27.464Z"
   },
   {
    "duration": 230715,
    "start_time": "2023-04-13T18:16:27.490Z"
   },
   {
    "duration": 26,
    "start_time": "2023-04-13T18:20:18.207Z"
   },
   {
    "duration": 4,
    "start_time": "2023-04-13T18:20:18.235Z"
   },
   {
    "duration": 45,
    "start_time": "2023-04-13T18:20:18.241Z"
   },
   {
    "duration": 44,
    "start_time": "2023-04-13T18:20:18.288Z"
   },
   {
    "duration": 143,
    "start_time": "2023-04-13T18:20:18.334Z"
   },
   {
    "duration": 3,
    "start_time": "2023-04-13T18:20:18.479Z"
   },
   {
    "duration": 46,
    "start_time": "2023-04-13T18:20:18.484Z"
   },
   {
    "duration": 24,
    "start_time": "2023-04-13T18:20:18.531Z"
   },
   {
    "duration": 83,
    "start_time": "2023-04-13T18:20:18.557Z"
   },
   {
    "duration": 54,
    "start_time": "2023-04-13T18:20:18.642Z"
   },
   {
    "duration": 71,
    "start_time": "2023-04-13T18:20:18.697Z"
   },
   {
    "duration": 30,
    "start_time": "2023-04-13T18:20:18.770Z"
   },
   {
    "duration": 29,
    "start_time": "2023-04-13T18:20:18.802Z"
   },
   {
    "duration": 10,
    "start_time": "2023-04-13T18:20:18.833Z"
   },
   {
    "duration": 9,
    "start_time": "2023-04-13T18:20:18.844Z"
   },
   {
    "duration": 13,
    "start_time": "2023-04-13T18:20:18.855Z"
   },
   {
    "duration": 14,
    "start_time": "2023-04-13T18:20:18.869Z"
   },
   {
    "duration": 37,
    "start_time": "2023-04-13T18:20:18.885Z"
   },
   {
    "duration": 3,
    "start_time": "2023-04-13T18:20:18.935Z"
   },
   {
    "duration": 20,
    "start_time": "2023-04-13T18:20:18.940Z"
   },
   {
    "duration": 13,
    "start_time": "2023-04-13T18:20:18.962Z"
   },
   {
    "duration": 4,
    "start_time": "2023-04-13T18:20:18.976Z"
   },
   {
    "duration": 3,
    "start_time": "2023-04-13T18:20:18.982Z"
   },
   {
    "duration": 6,
    "start_time": "2023-04-13T18:20:18.987Z"
   },
   {
    "duration": 4,
    "start_time": "2023-04-13T18:20:18.994Z"
   },
   {
    "duration": 84,
    "start_time": "2023-04-13T18:20:19.000Z"
   },
   {
    "duration": 24,
    "start_time": "2023-04-13T18:20:19.086Z"
   },
   {
    "duration": 936,
    "start_time": "2023-04-13T18:20:19.111Z"
   },
   {
    "duration": 4,
    "start_time": "2023-04-13T18:20:20.048Z"
   },
   {
    "duration": 142,
    "start_time": "2023-04-13T18:20:20.054Z"
   },
   {
    "duration": 373130,
    "start_time": "2023-04-13T18:20:20.198Z"
   },
   {
    "duration": 807909,
    "start_time": "2023-04-13T18:26:33.329Z"
   },
   {
    "duration": 2292902,
    "start_time": "2023-04-13T18:40:01.240Z"
   },
   {
    "duration": 79170,
    "start_time": "2023-04-13T19:18:14.144Z"
   },
   {
    "duration": 71382,
    "start_time": "2023-04-13T19:19:33.316Z"
   },
   {
    "duration": 8,
    "start_time": "2023-04-13T19:20:44.700Z"
   },
   {
    "duration": 3,
    "start_time": "2023-04-13T19:20:44.710Z"
   },
   {
    "duration": 4,
    "start_time": "2023-04-13T19:20:44.714Z"
   },
   {
    "duration": 2,
    "start_time": "2023-04-13T19:20:44.735Z"
   },
   {
    "duration": 4,
    "start_time": "2023-04-13T19:20:44.738Z"
   },
   {
    "duration": 264,
    "start_time": "2023-04-13T19:20:44.744Z"
   },
   {
    "duration": 151,
    "start_time": "2023-04-13T19:20:45.009Z"
   },
   {
    "duration": 90,
    "start_time": "2023-04-13T19:20:45.162Z"
   },
   {
    "duration": 31107,
    "start_time": "2023-04-13T19:20:45.254Z"
   },
   {
    "duration": 2,
    "start_time": "2023-04-13T19:21:16.364Z"
   },
   {
    "duration": 4,
    "start_time": "2023-04-13T19:21:16.368Z"
   },
   {
    "duration": 3,
    "start_time": "2023-04-13T19:21:16.378Z"
   },
   {
    "duration": 6,
    "start_time": "2023-04-13T19:21:16.382Z"
   },
   {
    "duration": 3,
    "start_time": "2023-04-13T19:21:16.390Z"
   },
   {
    "duration": 3,
    "start_time": "2023-04-13T19:21:16.395Z"
   },
   {
    "duration": 4,
    "start_time": "2023-04-13T19:21:16.400Z"
   },
   {
    "duration": 5,
    "start_time": "2023-04-13T19:21:16.405Z"
   },
   {
    "duration": 4,
    "start_time": "2023-04-13T19:21:16.411Z"
   },
   {
    "duration": 18,
    "start_time": "2023-04-13T19:21:16.417Z"
   },
   {
    "duration": 3,
    "start_time": "2023-04-13T19:21:16.436Z"
   },
   {
    "duration": 7,
    "start_time": "2023-04-13T19:21:16.441Z"
   },
   {
    "duration": 4,
    "start_time": "2023-04-13T19:21:16.450Z"
   },
   {
    "duration": 3,
    "start_time": "2023-04-13T19:21:16.455Z"
   },
   {
    "duration": 3,
    "start_time": "2023-04-13T19:21:16.459Z"
   },
   {
    "duration": 4,
    "start_time": "2023-04-13T19:21:16.463Z"
   },
   {
    "duration": 3,
    "start_time": "2023-04-13T19:21:16.468Z"
   },
   {
    "duration": 5,
    "start_time": "2023-04-13T19:21:16.472Z"
   },
   {
    "duration": 4,
    "start_time": "2023-04-13T19:21:16.478Z"
   },
   {
    "duration": 6,
    "start_time": "2023-04-13T19:21:16.483Z"
   },
   {
    "duration": 5,
    "start_time": "2023-04-13T19:21:16.490Z"
   },
   {
    "duration": 3,
    "start_time": "2023-04-13T19:29:55.252Z"
   },
   {
    "duration": 912,
    "start_time": "2023-04-14T05:01:45.142Z"
   },
   {
    "duration": 1174,
    "start_time": "2023-04-14T05:02:28.386Z"
   },
   {
    "duration": 45,
    "start_time": "2023-04-14T05:02:29.562Z"
   },
   {
    "duration": 5,
    "start_time": "2023-04-14T05:02:29.608Z"
   },
   {
    "duration": 118,
    "start_time": "2023-04-14T05:02:29.616Z"
   },
   {
    "duration": 2897,
    "start_time": "2023-04-14T05:02:29.736Z"
   },
   {
    "duration": 9,
    "start_time": "2023-04-14T05:02:32.634Z"
   },
   {
    "duration": 35,
    "start_time": "2023-04-14T05:02:32.644Z"
   },
   {
    "duration": 117,
    "start_time": "2023-04-14T05:02:32.681Z"
   },
   {
    "duration": 452,
    "start_time": "2023-04-14T05:02:32.800Z"
   },
   {
    "duration": 560,
    "start_time": "2023-04-14T05:02:33.254Z"
   },
   {
    "duration": 40,
    "start_time": "2023-04-14T05:02:33.816Z"
   },
   {
    "duration": 13,
    "start_time": "2023-04-14T05:02:33.858Z"
   },
   {
    "duration": 114,
    "start_time": "2023-04-14T05:02:33.873Z"
   },
   {
    "duration": 87,
    "start_time": "2023-04-14T05:02:33.988Z"
   },
   {
    "duration": 10,
    "start_time": "2023-04-14T05:02:34.077Z"
   },
   {
    "duration": 36,
    "start_time": "2023-04-14T05:02:34.088Z"
   },
   {
    "duration": 30,
    "start_time": "2023-04-14T05:02:34.126Z"
   },
   {
    "duration": 13,
    "start_time": "2023-04-14T05:02:34.158Z"
   },
   {
    "duration": 50,
    "start_time": "2023-04-14T05:02:34.173Z"
   },
   {
    "duration": 26,
    "start_time": "2023-04-14T05:02:34.225Z"
   },
   {
    "duration": 56,
    "start_time": "2023-04-14T05:02:34.253Z"
   },
   {
    "duration": 9,
    "start_time": "2023-04-14T05:02:34.311Z"
   },
   {
    "duration": 38,
    "start_time": "2023-04-14T05:02:34.322Z"
   },
   {
    "duration": 43,
    "start_time": "2023-04-14T05:02:34.362Z"
   },
   {
    "duration": 9,
    "start_time": "2023-04-14T05:02:34.407Z"
   },
   {
    "duration": 52,
    "start_time": "2023-04-14T05:02:34.418Z"
   },
   {
    "duration": 10,
    "start_time": "2023-04-14T05:02:34.472Z"
   },
   {
    "duration": 67,
    "start_time": "2023-04-14T05:02:34.487Z"
   },
   {
    "duration": 18,
    "start_time": "2023-04-14T05:02:34.556Z"
   },
   {
    "duration": 7,
    "start_time": "2023-04-14T05:02:34.576Z"
   },
   {
    "duration": 63,
    "start_time": "2023-04-14T05:02:34.585Z"
   },
   {
    "duration": 15,
    "start_time": "2023-04-14T05:02:34.650Z"
   },
   {
    "duration": 37,
    "start_time": "2023-04-14T05:02:34.668Z"
   },
   {
    "duration": 59,
    "start_time": "2023-04-14T05:02:34.708Z"
   },
   {
    "duration": 11,
    "start_time": "2023-04-14T05:02:34.769Z"
   },
   {
    "duration": 34,
    "start_time": "2023-04-14T05:02:34.782Z"
   },
   {
    "duration": 345973,
    "start_time": "2023-04-14T05:02:34.824Z"
   },
   {
    "duration": 7,
    "start_time": "2023-04-14T05:08:20.798Z"
   },
   {
    "duration": 7,
    "start_time": "2023-04-14T05:08:20.806Z"
   },
   {
    "duration": 65,
    "start_time": "2023-04-14T05:08:20.814Z"
   },
   {
    "duration": 12,
    "start_time": "2023-04-14T05:08:20.880Z"
   },
   {
    "duration": 23,
    "start_time": "2023-04-14T05:08:20.893Z"
   },
   {
    "duration": 1266,
    "start_time": "2023-04-14T05:11:46.410Z"
   },
   {
    "duration": 45,
    "start_time": "2023-04-14T05:11:47.679Z"
   },
   {
    "duration": 6,
    "start_time": "2023-04-14T05:11:47.725Z"
   },
   {
    "duration": 130,
    "start_time": "2023-04-14T05:11:47.733Z"
   },
   {
    "duration": 844,
    "start_time": "2023-04-14T05:11:47.866Z"
   },
   {
    "duration": 9,
    "start_time": "2023-04-14T05:11:48.712Z"
   },
   {
    "duration": 47,
    "start_time": "2023-04-14T05:11:48.723Z"
   },
   {
    "duration": 138,
    "start_time": "2023-04-14T05:11:48.772Z"
   },
   {
    "duration": 465,
    "start_time": "2023-04-14T05:11:48.911Z"
   },
   {
    "duration": 582,
    "start_time": "2023-04-14T05:11:49.378Z"
   },
   {
    "duration": 38,
    "start_time": "2023-04-14T05:11:49.962Z"
   },
   {
    "duration": 4,
    "start_time": "2023-04-14T05:11:50.001Z"
   },
   {
    "duration": 89,
    "start_time": "2023-04-14T05:11:50.007Z"
   },
   {
    "duration": 90,
    "start_time": "2023-04-14T05:11:50.100Z"
   },
   {
    "duration": 8,
    "start_time": "2023-04-14T05:11:50.191Z"
   },
   {
    "duration": 59,
    "start_time": "2023-04-14T05:11:50.201Z"
   },
   {
    "duration": 8,
    "start_time": "2023-04-14T05:11:50.262Z"
   },
   {
    "duration": 13,
    "start_time": "2023-04-14T05:11:50.272Z"
   },
   {
    "duration": 44,
    "start_time": "2023-04-14T05:11:50.287Z"
   },
   {
    "duration": 30,
    "start_time": "2023-04-14T05:11:50.332Z"
   },
   {
    "duration": 44,
    "start_time": "2023-04-14T05:11:50.364Z"
   },
   {
    "duration": 8,
    "start_time": "2023-04-14T05:11:50.410Z"
   },
   {
    "duration": 41,
    "start_time": "2023-04-14T05:11:50.419Z"
   },
   {
    "duration": 38,
    "start_time": "2023-04-14T05:11:50.461Z"
   },
   {
    "duration": 8,
    "start_time": "2023-04-14T05:11:50.501Z"
   },
   {
    "duration": 33,
    "start_time": "2023-04-14T05:11:50.510Z"
   },
   {
    "duration": 33,
    "start_time": "2023-04-14T05:11:50.545Z"
   },
   {
    "duration": 38,
    "start_time": "2023-04-14T05:11:50.579Z"
   },
   {
    "duration": 17,
    "start_time": "2023-04-14T05:11:50.619Z"
   },
   {
    "duration": 7,
    "start_time": "2023-04-14T05:11:50.637Z"
   },
   {
    "duration": 39,
    "start_time": "2023-04-14T05:11:50.660Z"
   },
   {
    "duration": 14,
    "start_time": "2023-04-14T05:11:50.700Z"
   },
   {
    "duration": 52,
    "start_time": "2023-04-14T05:11:50.716Z"
   },
   {
    "duration": 22,
    "start_time": "2023-04-14T05:11:50.769Z"
   },
   {
    "duration": 6,
    "start_time": "2023-04-14T05:11:50.793Z"
   },
   {
    "duration": 23,
    "start_time": "2023-04-14T05:11:50.801Z"
   },
   {
    "duration": 255758,
    "start_time": "2023-04-14T05:18:09.073Z"
   },
   {
    "duration": 8,
    "start_time": "2023-04-14T05:22:24.832Z"
   },
   {
    "duration": 32,
    "start_time": "2023-04-14T05:22:24.842Z"
   },
   {
    "duration": 64,
    "start_time": "2023-04-14T05:22:24.876Z"
   },
   {
    "duration": 43,
    "start_time": "2023-04-14T05:22:24.941Z"
   },
   {
    "duration": 154,
    "start_time": "2023-04-14T05:22:24.986Z"
   },
   {
    "duration": 3,
    "start_time": "2023-04-14T05:22:25.142Z"
   },
   {
    "duration": 59,
    "start_time": "2023-04-14T05:22:25.146Z"
   },
   {
    "duration": 17,
    "start_time": "2023-04-14T05:22:25.206Z"
   },
   {
    "duration": 82,
    "start_time": "2023-04-14T05:22:25.225Z"
   },
   {
    "duration": 28,
    "start_time": "2023-04-14T05:22:25.309Z"
   },
   {
    "duration": 61,
    "start_time": "2023-04-14T05:22:25.339Z"
   },
   {
    "duration": 26,
    "start_time": "2023-04-14T05:22:25.402Z"
   },
   {
    "duration": 8,
    "start_time": "2023-04-14T05:22:25.430Z"
   },
   {
    "duration": 7,
    "start_time": "2023-04-14T05:22:25.440Z"
   },
   {
    "duration": 25,
    "start_time": "2023-04-14T05:22:25.455Z"
   },
   {
    "duration": 11,
    "start_time": "2023-04-14T05:22:25.481Z"
   },
   {
    "duration": 25,
    "start_time": "2023-04-14T05:22:25.493Z"
   },
   {
    "duration": 14,
    "start_time": "2023-04-14T05:22:25.519Z"
   },
   {
    "duration": 6,
    "start_time": "2023-04-14T05:22:25.535Z"
   },
   {
    "duration": 22,
    "start_time": "2023-04-14T05:22:25.542Z"
   },
   {
    "duration": 16,
    "start_time": "2023-04-14T05:22:25.566Z"
   },
   {
    "duration": 7,
    "start_time": "2023-04-14T05:22:25.583Z"
   },
   {
    "duration": 7,
    "start_time": "2023-04-14T05:22:25.591Z"
   },
   {
    "duration": 10,
    "start_time": "2023-04-14T05:22:25.600Z"
   },
   {
    "duration": 8,
    "start_time": "2023-04-14T05:22:25.612Z"
   },
   {
    "duration": 82,
    "start_time": "2023-04-14T05:22:25.621Z"
   },
   {
    "duration": 18,
    "start_time": "2023-04-14T05:22:25.704Z"
   },
   {
    "duration": 2,
    "start_time": "2023-04-14T05:22:25.724Z"
   },
   {
    "duration": 148,
    "start_time": "2023-04-14T05:22:25.727Z"
   },
   {
    "duration": 0,
    "start_time": "2023-04-14T05:22:25.876Z"
   },
   {
    "duration": 0,
    "start_time": "2023-04-14T05:22:25.878Z"
   },
   {
    "duration": 0,
    "start_time": "2023-04-14T05:22:25.879Z"
   },
   {
    "duration": 0,
    "start_time": "2023-04-14T05:22:25.881Z"
   },
   {
    "duration": 0,
    "start_time": "2023-04-14T05:22:25.881Z"
   },
   {
    "duration": 0,
    "start_time": "2023-04-14T05:22:25.882Z"
   },
   {
    "duration": 0,
    "start_time": "2023-04-14T05:22:25.883Z"
   },
   {
    "duration": 0,
    "start_time": "2023-04-14T05:22:25.884Z"
   },
   {
    "duration": 0,
    "start_time": "2023-04-14T05:22:25.885Z"
   },
   {
    "duration": 0,
    "start_time": "2023-04-14T05:22:25.886Z"
   },
   {
    "duration": 0,
    "start_time": "2023-04-14T05:22:25.887Z"
   },
   {
    "duration": 0,
    "start_time": "2023-04-14T05:22:25.888Z"
   },
   {
    "duration": 0,
    "start_time": "2023-04-14T05:22:25.889Z"
   },
   {
    "duration": 0,
    "start_time": "2023-04-14T05:22:25.890Z"
   },
   {
    "duration": 0,
    "start_time": "2023-04-14T05:22:25.891Z"
   },
   {
    "duration": 0,
    "start_time": "2023-04-14T05:22:25.892Z"
   },
   {
    "duration": 0,
    "start_time": "2023-04-14T05:22:25.893Z"
   },
   {
    "duration": 0,
    "start_time": "2023-04-14T05:22:25.893Z"
   },
   {
    "duration": 0,
    "start_time": "2023-04-14T05:22:25.894Z"
   },
   {
    "duration": 0,
    "start_time": "2023-04-14T05:22:25.895Z"
   },
   {
    "duration": 0,
    "start_time": "2023-04-14T05:22:25.896Z"
   },
   {
    "duration": 0,
    "start_time": "2023-04-14T05:22:25.897Z"
   },
   {
    "duration": 0,
    "start_time": "2023-04-14T05:22:25.898Z"
   },
   {
    "duration": 0,
    "start_time": "2023-04-14T05:22:25.898Z"
   },
   {
    "duration": 0,
    "start_time": "2023-04-14T05:22:25.899Z"
   },
   {
    "duration": 0,
    "start_time": "2023-04-14T05:22:25.900Z"
   },
   {
    "duration": 0,
    "start_time": "2023-04-14T05:22:25.901Z"
   },
   {
    "duration": 0,
    "start_time": "2023-04-14T05:22:25.901Z"
   },
   {
    "duration": 0,
    "start_time": "2023-04-14T05:22:25.902Z"
   },
   {
    "duration": 0,
    "start_time": "2023-04-14T05:22:25.903Z"
   },
   {
    "duration": 0,
    "start_time": "2023-04-14T05:22:25.904Z"
   },
   {
    "duration": 0,
    "start_time": "2023-04-14T05:22:25.905Z"
   },
   {
    "duration": 0,
    "start_time": "2023-04-14T05:22:25.906Z"
   },
   {
    "duration": 0,
    "start_time": "2023-04-14T05:22:25.907Z"
   },
   {
    "duration": 0,
    "start_time": "2023-04-14T05:22:25.908Z"
   },
   {
    "duration": 0,
    "start_time": "2023-04-14T05:22:25.908Z"
   },
   {
    "duration": 0,
    "start_time": "2023-04-14T05:22:25.909Z"
   },
   {
    "duration": 98,
    "start_time": "2023-04-14T05:30:36.286Z"
   },
   {
    "duration": 999,
    "start_time": "2023-04-14T05:30:56.216Z"
   },
   {
    "duration": 5,
    "start_time": "2023-04-14T05:32:15.301Z"
   },
   {
    "duration": 27,
    "start_time": "2023-04-14T05:32:18.177Z"
   },
   {
    "duration": 1084360,
    "start_time": "2023-04-14T05:32:31.526Z"
   },
   {
    "duration": 2713278,
    "start_time": "2023-04-14T05:50:35.888Z"
   },
   {
    "duration": 2420596,
    "start_time": "2023-04-14T06:35:49.167Z"
   },
   {
    "duration": 73749,
    "start_time": "2023-04-14T07:16:09.765Z"
   },
   {
    "duration": 73471,
    "start_time": "2023-04-14T07:17:23.516Z"
   },
   {
    "duration": 9,
    "start_time": "2023-04-14T07:18:36.988Z"
   },
   {
    "duration": 19,
    "start_time": "2023-04-14T07:18:36.999Z"
   },
   {
    "duration": 19,
    "start_time": "2023-04-14T07:18:37.019Z"
   },
   {
    "duration": 9,
    "start_time": "2023-04-14T07:18:37.039Z"
   },
   {
    "duration": 55,
    "start_time": "2023-04-14T07:18:37.051Z"
   },
   {
    "duration": 93913,
    "start_time": "2023-04-14T07:18:37.108Z"
   },
   {
    "duration": 677,
    "start_time": "2023-04-14T07:20:11.022Z"
   },
   {
    "duration": 109,
    "start_time": "2023-04-14T07:20:11.700Z"
   },
   {
    "duration": 220491,
    "start_time": "2023-04-14T07:20:11.811Z"
   },
   {
    "duration": 3,
    "start_time": "2023-04-14T07:23:52.304Z"
   },
   {
    "duration": 6,
    "start_time": "2023-04-14T07:23:52.308Z"
   },
   {
    "duration": 18,
    "start_time": "2023-04-14T07:23:52.316Z"
   },
   {
    "duration": 57,
    "start_time": "2023-04-14T07:23:52.336Z"
   },
   {
    "duration": 8,
    "start_time": "2023-04-14T07:23:52.395Z"
   },
   {
    "duration": 5,
    "start_time": "2023-04-14T07:23:52.407Z"
   },
   {
    "duration": 21,
    "start_time": "2023-04-14T07:23:52.413Z"
   },
   {
    "duration": 5,
    "start_time": "2023-04-14T07:23:52.436Z"
   },
   {
    "duration": 39,
    "start_time": "2023-04-14T07:23:52.443Z"
   },
   {
    "duration": 16,
    "start_time": "2023-04-14T07:23:52.484Z"
   },
   {
    "duration": 4,
    "start_time": "2023-04-14T07:23:52.502Z"
   },
   {
    "duration": 6,
    "start_time": "2023-04-14T07:23:52.508Z"
   },
   {
    "duration": 11,
    "start_time": "2023-04-14T07:23:52.515Z"
   },
   {
    "duration": 18,
    "start_time": "2023-04-14T07:37:56.523Z"
   },
   {
    "duration": 18,
    "start_time": "2023-04-14T07:39:04.108Z"
   },
   {
    "duration": 1299,
    "start_time": "2023-04-14T07:39:50.938Z"
   },
   {
    "duration": 55,
    "start_time": "2023-04-14T07:39:52.238Z"
   },
   {
    "duration": 49,
    "start_time": "2023-04-14T07:39:52.296Z"
   },
   {
    "duration": 176,
    "start_time": "2023-04-14T07:39:52.347Z"
   },
   {
    "duration": 980,
    "start_time": "2023-04-14T07:39:52.524Z"
   },
   {
    "duration": 10,
    "start_time": "2023-04-14T07:39:53.506Z"
   },
   {
    "duration": 87,
    "start_time": "2023-04-14T07:39:53.517Z"
   },
   {
    "duration": 201,
    "start_time": "2023-04-14T07:39:53.606Z"
   },
   {
    "duration": 526,
    "start_time": "2023-04-14T07:39:53.809Z"
   },
   {
    "duration": 683,
    "start_time": "2023-04-14T07:39:54.338Z"
   },
   {
    "duration": 52,
    "start_time": "2023-04-14T07:39:55.024Z"
   },
   {
    "duration": 54,
    "start_time": "2023-04-14T07:39:55.078Z"
   },
   {
    "duration": 164,
    "start_time": "2023-04-14T07:39:55.134Z"
   },
   {
    "duration": 95,
    "start_time": "2023-04-14T07:39:55.300Z"
   },
   {
    "duration": 9,
    "start_time": "2023-04-14T07:39:55.398Z"
   },
   {
    "duration": 68,
    "start_time": "2023-04-14T07:39:55.409Z"
   },
   {
    "duration": 29,
    "start_time": "2023-04-14T07:39:55.491Z"
   },
   {
    "duration": 26,
    "start_time": "2023-04-14T07:39:55.522Z"
   },
   {
    "duration": 66,
    "start_time": "2023-04-14T07:39:55.564Z"
   },
   {
    "duration": 41,
    "start_time": "2023-04-14T07:39:55.632Z"
   },
   {
    "duration": 53,
    "start_time": "2023-04-14T07:39:55.674Z"
   },
   {
    "duration": 7,
    "start_time": "2023-04-14T07:39:55.729Z"
   },
   {
    "duration": 88,
    "start_time": "2023-04-14T07:39:55.737Z"
   },
   {
    "duration": 65,
    "start_time": "2023-04-14T07:39:55.826Z"
   },
   {
    "duration": 29,
    "start_time": "2023-04-14T07:39:55.892Z"
   },
   {
    "duration": 21,
    "start_time": "2023-04-14T07:39:55.923Z"
   },
   {
    "duration": 60,
    "start_time": "2023-04-14T07:39:55.946Z"
   },
   {
    "duration": 72,
    "start_time": "2023-04-14T07:39:56.013Z"
   },
   {
    "duration": 16,
    "start_time": "2023-04-14T07:39:56.095Z"
   },
   {
    "duration": 10,
    "start_time": "2023-04-14T07:39:56.112Z"
   },
   {
    "duration": 59,
    "start_time": "2023-04-14T07:39:56.124Z"
   },
   {
    "duration": 14,
    "start_time": "2023-04-14T07:39:56.184Z"
   },
   {
    "duration": 30,
    "start_time": "2023-04-14T07:39:56.200Z"
   },
   {
    "duration": 51,
    "start_time": "2023-04-14T07:39:56.232Z"
   },
   {
    "duration": 6,
    "start_time": "2023-04-14T07:39:56.295Z"
   },
   {
    "duration": 19,
    "start_time": "2023-04-14T07:39:56.303Z"
   },
   {
    "duration": 407967,
    "start_time": "2023-04-14T07:39:56.324Z"
   },
   {
    "duration": 8,
    "start_time": "2023-04-14T07:46:44.292Z"
   },
   {
    "duration": 43,
    "start_time": "2023-04-14T07:46:44.302Z"
   },
   {
    "duration": 94,
    "start_time": "2023-04-14T07:46:44.347Z"
   },
   {
    "duration": 24,
    "start_time": "2023-04-14T07:46:44.443Z"
   },
   {
    "duration": 67,
    "start_time": "2023-04-14T07:46:44.472Z"
   },
   {
    "duration": 277104,
    "start_time": "2023-04-14T07:46:44.541Z"
   },
   {
    "duration": 8,
    "start_time": "2023-04-14T07:51:21.657Z"
   },
   {
    "duration": 4,
    "start_time": "2023-04-14T07:51:21.666Z"
   },
   {
    "duration": 60,
    "start_time": "2023-04-14T07:51:21.683Z"
   },
   {
    "duration": 55,
    "start_time": "2023-04-14T07:51:21.744Z"
   },
   {
    "duration": 181,
    "start_time": "2023-04-14T07:51:21.800Z"
   },
   {
    "duration": 9,
    "start_time": "2023-04-14T07:51:21.982Z"
   },
   {
    "duration": 32,
    "start_time": "2023-04-14T07:51:21.993Z"
   },
   {
    "duration": 28,
    "start_time": "2023-04-14T07:51:22.027Z"
   },
   {
    "duration": 104,
    "start_time": "2023-04-14T07:51:22.066Z"
   },
   {
    "duration": 39,
    "start_time": "2023-04-14T07:51:22.171Z"
   },
   {
    "duration": 27,
    "start_time": "2023-04-14T07:51:22.212Z"
   },
   {
    "duration": 56,
    "start_time": "2023-04-14T07:51:22.241Z"
   },
   {
    "duration": 7,
    "start_time": "2023-04-14T07:51:22.298Z"
   },
   {
    "duration": 8,
    "start_time": "2023-04-14T07:51:22.307Z"
   },
   {
    "duration": 7,
    "start_time": "2023-04-14T07:51:22.317Z"
   },
   {
    "duration": 12,
    "start_time": "2023-04-14T07:51:22.325Z"
   },
   {
    "duration": 5,
    "start_time": "2023-04-14T07:51:22.339Z"
   },
   {
    "duration": 47,
    "start_time": "2023-04-14T07:51:22.345Z"
   },
   {
    "duration": 4,
    "start_time": "2023-04-14T07:51:22.393Z"
   },
   {
    "duration": 7,
    "start_time": "2023-04-14T07:51:22.399Z"
   },
   {
    "duration": 6,
    "start_time": "2023-04-14T07:51:22.407Z"
   },
   {
    "duration": 11,
    "start_time": "2023-04-14T07:51:22.415Z"
   },
   {
    "duration": 3,
    "start_time": "2023-04-14T07:51:22.427Z"
   },
   {
    "duration": 6,
    "start_time": "2023-04-14T07:51:22.432Z"
   },
   {
    "duration": 6,
    "start_time": "2023-04-14T07:51:22.439Z"
   },
   {
    "duration": 59,
    "start_time": "2023-04-14T07:51:22.447Z"
   },
   {
    "duration": 3,
    "start_time": "2023-04-14T07:51:22.508Z"
   },
   {
    "duration": 12,
    "start_time": "2023-04-14T07:51:22.512Z"
   },
   {
    "duration": 1099,
    "start_time": "2023-04-14T07:51:22.526Z"
   },
   {
    "duration": 4,
    "start_time": "2023-04-14T07:51:23.627Z"
   },
   {
    "duration": 58,
    "start_time": "2023-04-14T07:51:23.633Z"
   },
   {
    "duration": 1206674,
    "start_time": "2023-04-14T07:51:23.693Z"
   },
   {
    "duration": 2529697,
    "start_time": "2023-04-14T08:11:30.369Z"
   },
   {
    "duration": 2640527,
    "start_time": "2023-04-14T08:53:40.072Z"
   },
   {
    "duration": 75186,
    "start_time": "2023-04-14T09:37:40.601Z"
   },
   {
    "duration": 78154,
    "start_time": "2023-04-14T09:38:55.789Z"
   },
   {
    "duration": 33,
    "start_time": "2023-04-14T09:40:13.945Z"
   },
   {
    "duration": 6,
    "start_time": "2023-04-14T09:40:13.981Z"
   },
   {
    "duration": 6,
    "start_time": "2023-04-14T09:40:13.993Z"
   },
   {
    "duration": 6,
    "start_time": "2023-04-14T09:40:14.000Z"
   },
   {
    "duration": 5,
    "start_time": "2023-04-14T09:40:14.008Z"
   },
   {
    "duration": 96478,
    "start_time": "2023-04-14T09:40:14.014Z"
   },
   {
    "duration": 718,
    "start_time": "2023-04-14T09:41:50.494Z"
   },
   {
    "duration": 223525,
    "start_time": "2023-04-14T09:41:51.214Z"
   },
   {
    "duration": 38,
    "start_time": "2023-04-14T09:45:34.741Z"
   },
   {
    "duration": 18,
    "start_time": "2023-04-14T09:45:34.781Z"
   },
   {
    "duration": 9,
    "start_time": "2023-04-14T09:45:34.801Z"
   },
   {
    "duration": 24,
    "start_time": "2023-04-14T09:45:34.812Z"
   },
   {
    "duration": 45,
    "start_time": "2023-04-14T09:45:34.838Z"
   },
   {
    "duration": 20,
    "start_time": "2023-04-14T09:45:34.885Z"
   },
   {
    "duration": 21,
    "start_time": "2023-04-14T09:45:34.907Z"
   },
   {
    "duration": 60,
    "start_time": "2023-04-14T09:45:34.930Z"
   },
   {
    "duration": 8,
    "start_time": "2023-04-14T09:45:34.992Z"
   },
   {
    "duration": 20,
    "start_time": "2023-04-14T09:45:35.002Z"
   },
   {
    "duration": 19,
    "start_time": "2023-04-14T09:45:35.025Z"
   },
   {
    "duration": 54,
    "start_time": "2023-04-14T09:45:35.046Z"
   },
   {
    "duration": 29,
    "start_time": "2023-04-14T09:45:35.102Z"
   },
   {
    "duration": 46,
    "start_time": "2023-04-14T09:45:35.132Z"
   },
   {
    "duration": 19,
    "start_time": "2023-04-14T09:45:35.179Z"
   },
   {
    "duration": 24,
    "start_time": "2023-04-14T09:45:35.200Z"
   },
   {
    "duration": 11,
    "start_time": "2023-04-14T09:45:35.226Z"
   },
   {
    "duration": 44,
    "start_time": "2023-04-14T09:45:35.239Z"
   },
   {
    "duration": 21,
    "start_time": "2023-04-14T09:45:35.284Z"
   },
   {
    "duration": 23,
    "start_time": "2023-04-14T09:45:35.306Z"
   },
   {
    "duration": 10,
    "start_time": "2023-04-14T09:45:35.331Z"
   },
   {
    "duration": 65,
    "start_time": "2023-04-14T09:45:35.342Z"
   },
   {
    "duration": 7028,
    "start_time": "2023-04-14T12:22:30.311Z"
   },
   {
    "duration": 40,
    "start_time": "2023-04-14T12:22:37.341Z"
   },
   {
    "duration": 12,
    "start_time": "2023-04-14T12:22:37.382Z"
   },
   {
    "duration": 129,
    "start_time": "2023-04-14T12:22:37.395Z"
   },
   {
    "duration": 1016,
    "start_time": "2023-04-14T12:22:37.526Z"
   },
   {
    "duration": 11,
    "start_time": "2023-04-14T12:22:38.544Z"
   },
   {
    "duration": 32,
    "start_time": "2023-04-14T12:22:38.556Z"
   },
   {
    "duration": 153,
    "start_time": "2023-04-14T12:22:38.590Z"
   },
   {
    "duration": 419,
    "start_time": "2023-04-14T12:22:38.746Z"
   },
   {
    "duration": 490,
    "start_time": "2023-04-14T12:22:39.167Z"
   },
   {
    "duration": 36,
    "start_time": "2023-04-14T12:22:39.658Z"
   },
   {
    "duration": 3,
    "start_time": "2023-04-14T12:22:39.696Z"
   },
   {
    "duration": 95,
    "start_time": "2023-04-14T12:22:39.701Z"
   },
   {
    "duration": 72,
    "start_time": "2023-04-14T12:22:39.802Z"
   },
   {
    "duration": 23,
    "start_time": "2023-04-14T12:22:39.876Z"
   },
   {
    "duration": 37,
    "start_time": "2023-04-14T12:22:39.901Z"
   },
   {
    "duration": 8,
    "start_time": "2023-04-14T12:22:39.940Z"
   },
   {
    "duration": 10,
    "start_time": "2023-04-14T12:22:39.950Z"
   },
   {
    "duration": 67,
    "start_time": "2023-04-14T12:22:39.961Z"
   },
   {
    "duration": 21,
    "start_time": "2023-04-14T12:22:40.030Z"
   },
   {
    "duration": 53,
    "start_time": "2023-04-14T12:22:40.053Z"
   },
   {
    "duration": 7,
    "start_time": "2023-04-14T12:22:40.108Z"
   },
   {
    "duration": 26,
    "start_time": "2023-04-14T12:22:40.117Z"
   },
   {
    "duration": 60,
    "start_time": "2023-04-14T12:22:40.145Z"
   },
   {
    "duration": 8,
    "start_time": "2023-04-14T12:22:40.207Z"
   },
   {
    "duration": 23,
    "start_time": "2023-04-14T12:22:40.217Z"
   },
   {
    "duration": 8,
    "start_time": "2023-04-14T12:22:40.242Z"
   },
   {
    "duration": 68,
    "start_time": "2023-04-14T12:22:40.252Z"
   },
   {
    "duration": 19,
    "start_time": "2023-04-14T12:22:40.322Z"
   },
   {
    "duration": 9,
    "start_time": "2023-04-14T12:22:40.343Z"
   },
   {
    "duration": 69,
    "start_time": "2023-04-14T12:22:40.354Z"
   },
   {
    "duration": 12,
    "start_time": "2023-04-14T12:22:40.425Z"
   },
   {
    "duration": 36,
    "start_time": "2023-04-14T12:22:40.439Z"
   },
   {
    "duration": 32,
    "start_time": "2023-04-14T12:22:40.477Z"
   },
   {
    "duration": 5,
    "start_time": "2023-04-14T12:22:40.511Z"
   },
   {
    "duration": 23,
    "start_time": "2023-04-14T12:22:40.518Z"
   },
   {
    "duration": 296503,
    "start_time": "2023-04-14T12:22:40.543Z"
   },
   {
    "duration": 8,
    "start_time": "2023-04-14T12:27:37.047Z"
   },
   {
    "duration": 3,
    "start_time": "2023-04-14T12:27:37.057Z"
   },
   {
    "duration": 66,
    "start_time": "2023-04-14T12:27:37.062Z"
   },
   {
    "duration": 12,
    "start_time": "2023-04-14T12:27:37.133Z"
   },
   {
    "duration": 48,
    "start_time": "2023-04-14T12:27:37.147Z"
   },
   {
    "duration": 201784,
    "start_time": "2023-04-14T12:27:37.196Z"
   },
   {
    "duration": 11,
    "start_time": "2023-04-14T12:30:58.982Z"
   },
   {
    "duration": 11,
    "start_time": "2023-04-14T12:30:58.995Z"
   },
   {
    "duration": 68,
    "start_time": "2023-04-14T12:30:59.008Z"
   },
   {
    "duration": 52,
    "start_time": "2023-04-14T12:30:59.078Z"
   },
   {
    "duration": 131,
    "start_time": "2023-04-14T12:30:59.132Z"
   },
   {
    "duration": 6,
    "start_time": "2023-04-14T12:30:59.265Z"
   },
   {
    "duration": 44,
    "start_time": "2023-04-14T12:30:59.273Z"
   },
   {
    "duration": 19,
    "start_time": "2023-04-14T12:30:59.320Z"
   },
   {
    "duration": 87,
    "start_time": "2023-04-14T12:30:59.341Z"
   },
   {
    "duration": 42,
    "start_time": "2023-04-14T12:30:59.430Z"
   },
   {
    "duration": 50,
    "start_time": "2023-04-14T12:30:59.474Z"
   },
   {
    "duration": 46,
    "start_time": "2023-04-14T12:30:59.526Z"
   },
   {
    "duration": 140,
    "start_time": "2023-04-14T12:30:59.574Z"
   },
   {
    "duration": 10,
    "start_time": "2023-04-14T12:30:59.716Z"
   },
   {
    "duration": 6,
    "start_time": "2023-04-14T12:30:59.728Z"
   },
   {
    "duration": 17,
    "start_time": "2023-04-14T12:30:59.736Z"
   },
   {
    "duration": 11,
    "start_time": "2023-04-14T12:30:59.755Z"
   },
   {
    "duration": 16,
    "start_time": "2023-04-14T12:30:59.768Z"
   },
   {
    "duration": 4,
    "start_time": "2023-04-14T12:30:59.787Z"
   },
   {
    "duration": 4,
    "start_time": "2023-04-14T12:30:59.793Z"
   },
   {
    "duration": 32,
    "start_time": "2023-04-14T12:30:59.799Z"
   },
   {
    "duration": 29,
    "start_time": "2023-04-14T12:30:59.833Z"
   },
   {
    "duration": 4,
    "start_time": "2023-04-14T12:30:59.865Z"
   },
   {
    "duration": 7,
    "start_time": "2023-04-14T12:30:59.870Z"
   },
   {
    "duration": 5,
    "start_time": "2023-04-14T12:30:59.878Z"
   },
   {
    "duration": 22,
    "start_time": "2023-04-14T12:30:59.885Z"
   },
   {
    "duration": 3,
    "start_time": "2023-04-14T12:30:59.909Z"
   },
   {
    "duration": 10,
    "start_time": "2023-04-14T12:30:59.913Z"
   },
   {
    "duration": 901,
    "start_time": "2023-04-14T12:30:59.925Z"
   },
   {
    "duration": 5,
    "start_time": "2023-04-14T12:31:00.828Z"
   },
   {
    "duration": 14,
    "start_time": "2023-04-14T12:42:48.484Z"
   },
   {
    "duration": 4,
    "start_time": "2023-04-14T12:42:53.472Z"
   },
   {
    "duration": 91429,
    "start_time": "2023-04-14T14:26:08.859Z"
   },
   {
    "duration": 12,
    "start_time": "2023-04-14T14:27:46.726Z"
   },
   {
    "duration": 93718,
    "start_time": "2023-04-14T14:27:52.111Z"
   },
   {
    "duration": 19,
    "start_time": "2023-04-14T14:29:25.833Z"
   },
   {
    "duration": 0,
    "start_time": "2023-04-14T14:29:25.854Z"
   },
   {
    "duration": 94736,
    "start_time": "2023-04-14T14:29:52.010Z"
   },
   {
    "duration": 877,
    "start_time": "2023-04-14T14:31:55.282Z"
   },
   {
    "duration": 22,
    "start_time": "2023-04-14T14:31:59.276Z"
   },
   {
    "duration": 946,
    "start_time": "2023-04-14T14:33:09.145Z"
   },
   {
    "duration": 934,
    "start_time": "2023-04-14T14:33:15.381Z"
   },
   {
    "duration": 133,
    "start_time": "2023-04-14T14:34:32.002Z"
   },
   {
    "duration": 20,
    "start_time": "2023-04-14T14:35:16.017Z"
   },
   {
    "duration": 16,
    "start_time": "2023-04-14T14:35:23.376Z"
   },
   {
    "duration": 20,
    "start_time": "2023-04-14T15:13:57.843Z"
   },
   {
    "duration": 9,
    "start_time": "2023-04-14T15:15:48.271Z"
   },
   {
    "duration": 85903,
    "start_time": "2023-04-14T15:21:41.330Z"
   },
   {
    "duration": 0,
    "start_time": "2023-04-14T15:23:07.235Z"
   },
   {
    "duration": 73865,
    "start_time": "2023-04-14T15:23:12.982Z"
   },
   {
    "duration": 98619,
    "start_time": "2023-04-14T15:30:42.244Z"
   },
   {
    "duration": 840,
    "start_time": "2023-04-14T15:33:31.487Z"
   },
   {
    "duration": 3,
    "start_time": "2023-04-14T15:33:32.685Z"
   },
   {
    "duration": 11,
    "start_time": "2023-04-14T15:33:33.811Z"
   },
   {
    "duration": 16,
    "start_time": "2023-04-14T15:35:21.373Z"
   },
   {
    "duration": 107502,
    "start_time": "2023-04-14T15:35:38.773Z"
   },
   {
    "duration": 11,
    "start_time": "2023-04-14T15:37:26.276Z"
   },
   {
    "duration": 104920,
    "start_time": "2023-04-14T15:39:51.018Z"
   },
   {
    "duration": 18,
    "start_time": "2023-04-14T15:41:35.941Z"
   },
   {
    "duration": 10,
    "start_time": "2023-04-14T15:42:02.529Z"
   },
   {
    "duration": 1347,
    "start_time": "2023-04-14T16:48:01.033Z"
   },
   {
    "duration": 46,
    "start_time": "2023-04-14T16:48:02.384Z"
   },
   {
    "duration": 11,
    "start_time": "2023-04-14T16:48:02.431Z"
   },
   {
    "duration": 236,
    "start_time": "2023-04-14T16:48:02.444Z"
   },
   {
    "duration": 3699,
    "start_time": "2023-04-14T16:48:02.682Z"
   },
   {
    "duration": 16,
    "start_time": "2023-04-14T16:48:06.383Z"
   },
   {
    "duration": 68,
    "start_time": "2023-04-14T16:48:06.401Z"
   },
   {
    "duration": 214,
    "start_time": "2023-04-14T16:48:06.471Z"
   },
   {
    "duration": 504,
    "start_time": "2023-04-14T16:48:06.686Z"
   },
   {
    "duration": 601,
    "start_time": "2023-04-14T16:48:07.192Z"
   },
   {
    "duration": 45,
    "start_time": "2023-04-14T16:48:07.795Z"
   },
   {
    "duration": 22,
    "start_time": "2023-04-14T16:48:07.849Z"
   },
   {
    "duration": 99,
    "start_time": "2023-04-14T16:48:07.880Z"
   },
   {
    "duration": 113,
    "start_time": "2023-04-14T16:48:07.981Z"
   },
   {
    "duration": 11,
    "start_time": "2023-04-14T16:48:08.097Z"
   },
   {
    "duration": 62,
    "start_time": "2023-04-14T16:48:08.109Z"
   },
   {
    "duration": 29,
    "start_time": "2023-04-14T16:48:08.184Z"
   },
   {
    "duration": 13,
    "start_time": "2023-04-14T16:48:08.215Z"
   },
   {
    "duration": 56,
    "start_time": "2023-04-14T16:48:08.230Z"
   },
   {
    "duration": 26,
    "start_time": "2023-04-14T16:48:08.288Z"
   },
   {
    "duration": 61,
    "start_time": "2023-04-14T16:48:08.316Z"
   },
   {
    "duration": 7,
    "start_time": "2023-04-14T16:48:08.385Z"
   },
   {
    "duration": 21,
    "start_time": "2023-04-14T16:48:08.394Z"
   },
   {
    "duration": 51,
    "start_time": "2023-04-14T16:48:08.416Z"
   },
   {
    "duration": 16,
    "start_time": "2023-04-14T16:48:08.468Z"
   },
   {
    "duration": 29,
    "start_time": "2023-04-14T16:48:08.486Z"
   },
   {
    "duration": 7,
    "start_time": "2023-04-14T16:48:08.516Z"
   },
   {
    "duration": 52,
    "start_time": "2023-04-14T16:48:08.527Z"
   },
   {
    "duration": 18,
    "start_time": "2023-04-14T16:48:08.580Z"
   },
   {
    "duration": 10,
    "start_time": "2023-04-14T16:48:08.599Z"
   },
   {
    "duration": 66,
    "start_time": "2023-04-14T16:48:08.611Z"
   },
   {
    "duration": 16,
    "start_time": "2023-04-14T16:48:08.679Z"
   },
   {
    "duration": 23,
    "start_time": "2023-04-14T16:48:08.697Z"
   },
   {
    "duration": 51,
    "start_time": "2023-04-14T16:48:08.722Z"
   },
   {
    "duration": 8,
    "start_time": "2023-04-14T16:48:08.775Z"
   },
   {
    "duration": 27,
    "start_time": "2023-04-14T16:48:08.786Z"
   },
   {
    "duration": 430491,
    "start_time": "2023-04-14T16:48:08.815Z"
   },
   {
    "duration": 9,
    "start_time": "2023-04-14T16:55:19.312Z"
   },
   {
    "duration": 24,
    "start_time": "2023-04-14T16:55:19.323Z"
   },
   {
    "duration": 96,
    "start_time": "2023-04-14T16:55:19.348Z"
   },
   {
    "duration": 25,
    "start_time": "2023-04-14T16:55:19.445Z"
   },
   {
    "duration": 52,
    "start_time": "2023-04-14T16:55:19.478Z"
   },
   {
    "duration": 251365,
    "start_time": "2023-04-14T16:55:19.533Z"
   },
   {
    "duration": 9,
    "start_time": "2023-04-14T16:59:30.900Z"
   },
   {
    "duration": 28,
    "start_time": "2023-04-14T16:59:30.911Z"
   },
   {
    "duration": 76,
    "start_time": "2023-04-14T16:59:30.940Z"
   },
   {
    "duration": 47,
    "start_time": "2023-04-14T16:59:31.017Z"
   },
   {
    "duration": 175,
    "start_time": "2023-04-14T16:59:31.066Z"
   },
   {
    "duration": 4,
    "start_time": "2023-04-14T16:59:31.242Z"
   },
   {
    "duration": 68,
    "start_time": "2023-04-14T16:59:31.248Z"
   },
   {
    "duration": 75,
    "start_time": "2023-04-14T16:59:31.318Z"
   },
   {
    "duration": 83,
    "start_time": "2023-04-14T16:59:31.395Z"
   },
   {
    "duration": 29,
    "start_time": "2023-04-14T16:59:31.480Z"
   },
   {
    "duration": 85,
    "start_time": "2023-04-14T16:59:31.510Z"
   },
   {
    "duration": 37,
    "start_time": "2023-04-14T16:59:31.597Z"
   },
   {
    "duration": 6,
    "start_time": "2023-04-14T16:59:31.635Z"
   },
   {
    "duration": 65,
    "start_time": "2023-04-14T16:59:31.642Z"
   },
   {
    "duration": 26,
    "start_time": "2023-04-14T16:59:31.709Z"
   },
   {
    "duration": 33,
    "start_time": "2023-04-14T16:59:31.736Z"
   },
   {
    "duration": 7,
    "start_time": "2023-04-14T16:59:31.770Z"
   },
   {
    "duration": 11,
    "start_time": "2023-04-14T16:59:31.779Z"
   },
   {
    "duration": 23,
    "start_time": "2023-04-14T16:59:31.792Z"
   },
   {
    "duration": 22,
    "start_time": "2023-04-14T16:59:31.816Z"
   },
   {
    "duration": 34,
    "start_time": "2023-04-14T16:59:31.839Z"
   },
   {
    "duration": 12,
    "start_time": "2023-04-14T16:59:31.874Z"
   },
   {
    "duration": 8,
    "start_time": "2023-04-14T16:59:31.887Z"
   },
   {
    "duration": 14,
    "start_time": "2023-04-14T16:59:31.896Z"
   },
   {
    "duration": 5,
    "start_time": "2023-04-14T16:59:31.912Z"
   },
   {
    "duration": 45,
    "start_time": "2023-04-14T16:59:31.918Z"
   },
   {
    "duration": 3,
    "start_time": "2023-04-14T16:59:31.964Z"
   },
   {
    "duration": 12,
    "start_time": "2023-04-14T16:59:31.968Z"
   },
   {
    "duration": 943,
    "start_time": "2023-04-14T16:59:31.981Z"
   },
   {
    "duration": 5,
    "start_time": "2023-04-14T16:59:32.925Z"
   },
   {
    "duration": 62,
    "start_time": "2023-04-14T16:59:32.931Z"
   },
   {
    "duration": 1094872,
    "start_time": "2023-04-14T16:59:32.994Z"
   },
   {
    "duration": 2737302,
    "start_time": "2023-04-14T17:17:47.876Z"
   },
   {
    "duration": 2128996,
    "start_time": "2023-04-14T18:03:25.182Z"
   },
   {
    "duration": 70392,
    "start_time": "2023-04-14T18:38:54.180Z"
   },
   {
    "duration": 72007,
    "start_time": "2023-04-14T18:40:04.574Z"
   },
   {
    "duration": 8,
    "start_time": "2023-04-14T18:41:16.583Z"
   },
   {
    "duration": 8,
    "start_time": "2023-04-14T18:41:16.592Z"
   },
   {
    "duration": 2,
    "start_time": "2023-04-14T18:41:16.606Z"
   },
   {
    "duration": 7,
    "start_time": "2023-04-14T18:41:16.609Z"
   },
   {
    "duration": 5,
    "start_time": "2023-04-14T18:41:16.618Z"
   },
   {
    "duration": 7,
    "start_time": "2023-04-14T18:41:16.624Z"
   },
   {
    "duration": 89710,
    "start_time": "2023-04-14T18:41:16.633Z"
   },
   {
    "duration": 135,
    "start_time": "2023-04-14T18:42:46.345Z"
   },
   {
    "duration": 0,
    "start_time": "2023-04-14T18:42:46.482Z"
   },
   {
    "duration": 0,
    "start_time": "2023-04-14T18:42:46.483Z"
   },
   {
    "duration": 0,
    "start_time": "2023-04-14T18:42:46.484Z"
   },
   {
    "duration": 0,
    "start_time": "2023-04-14T18:42:46.485Z"
   },
   {
    "duration": 0,
    "start_time": "2023-04-14T18:42:46.486Z"
   },
   {
    "duration": 0,
    "start_time": "2023-04-14T18:42:46.487Z"
   },
   {
    "duration": 0,
    "start_time": "2023-04-14T18:42:46.488Z"
   },
   {
    "duration": 0,
    "start_time": "2023-04-14T18:42:46.489Z"
   },
   {
    "duration": 0,
    "start_time": "2023-04-14T18:42:46.490Z"
   },
   {
    "duration": 0,
    "start_time": "2023-04-14T18:42:46.492Z"
   },
   {
    "duration": 0,
    "start_time": "2023-04-14T18:42:46.493Z"
   },
   {
    "duration": 0,
    "start_time": "2023-04-14T18:42:46.494Z"
   },
   {
    "duration": 0,
    "start_time": "2023-04-14T18:42:46.496Z"
   },
   {
    "duration": 0,
    "start_time": "2023-04-14T18:42:46.497Z"
   },
   {
    "duration": 0,
    "start_time": "2023-04-14T18:42:46.498Z"
   },
   {
    "duration": 0,
    "start_time": "2023-04-14T18:42:46.500Z"
   },
   {
    "duration": 0,
    "start_time": "2023-04-14T18:42:46.501Z"
   },
   {
    "duration": 0,
    "start_time": "2023-04-14T18:42:46.502Z"
   },
   {
    "duration": 0,
    "start_time": "2023-04-14T18:42:46.504Z"
   },
   {
    "duration": 0,
    "start_time": "2023-04-14T18:42:46.505Z"
   },
   {
    "duration": 0,
    "start_time": "2023-04-14T18:42:46.507Z"
   },
   {
    "duration": 0,
    "start_time": "2023-04-14T18:42:46.508Z"
   },
   {
    "duration": 0,
    "start_time": "2023-04-14T18:42:46.510Z"
   },
   {
    "duration": 0,
    "start_time": "2023-04-14T18:42:46.511Z"
   },
   {
    "duration": 0,
    "start_time": "2023-04-14T18:42:46.555Z"
   },
   {
    "duration": 0,
    "start_time": "2023-04-14T18:42:46.556Z"
   },
   {
    "duration": 624,
    "start_time": "2023-04-14T18:44:58.773Z"
   },
   {
    "duration": 10,
    "start_time": "2023-04-14T18:45:00.514Z"
   },
   {
    "duration": 10,
    "start_time": "2023-04-14T18:45:13.977Z"
   },
   {
    "duration": 10,
    "start_time": "2023-04-14T18:45:17.276Z"
   },
   {
    "duration": 24,
    "start_time": "2023-04-14T18:45:19.051Z"
   },
   {
    "duration": 9,
    "start_time": "2023-04-14T18:46:49.725Z"
   },
   {
    "duration": 89774,
    "start_time": "2023-04-14T18:47:20.569Z"
   },
   {
    "duration": 210009,
    "start_time": "2023-04-14T18:50:08.112Z"
   },
   {
    "duration": 29,
    "start_time": "2023-04-14T18:53:56.447Z"
   },
   {
    "duration": 8,
    "start_time": "2023-04-14T18:53:59.393Z"
   },
   {
    "duration": 9,
    "start_time": "2023-04-14T18:54:00.432Z"
   },
   {
    "duration": 14,
    "start_time": "2023-04-14T18:54:01.213Z"
   },
   {
    "duration": 91023,
    "start_time": "2023-04-14T18:57:54.623Z"
   },
   {
    "duration": 9,
    "start_time": "2023-04-14T18:59:49.577Z"
   },
   {
    "duration": 10,
    "start_time": "2023-04-14T18:59:54.481Z"
   },
   {
    "duration": 17,
    "start_time": "2023-04-14T18:59:57.444Z"
   },
   {
    "duration": 9,
    "start_time": "2023-04-14T19:00:30.532Z"
   },
   {
    "duration": 3,
    "start_time": "2023-04-14T19:01:14.201Z"
   },
   {
    "duration": 693,
    "start_time": "2023-04-14T19:01:30.548Z"
   },
   {
    "duration": 9,
    "start_time": "2023-04-14T19:01:33.704Z"
   },
   {
    "duration": 9,
    "start_time": "2023-04-14T19:04:21.939Z"
   },
   {
    "duration": 85942,
    "start_time": "2023-04-14T19:04:50.925Z"
   },
   {
    "duration": 703,
    "start_time": "2023-04-14T19:07:25.091Z"
   },
   {
    "duration": 2,
    "start_time": "2023-04-14T19:19:22.009Z"
   },
   {
    "duration": 85715,
    "start_time": "2023-04-14T19:19:27.141Z"
   },
   {
    "duration": 738,
    "start_time": "2023-04-14T19:20:52.857Z"
   },
   {
    "duration": 13,
    "start_time": "2023-04-14T19:20:53.597Z"
   },
   {
    "duration": 144,
    "start_time": "2023-04-14T19:21:29.990Z"
   },
   {
    "duration": 13,
    "start_time": "2023-04-14T19:24:19.126Z"
   },
   {
    "duration": 1335,
    "start_time": "2023-04-14T19:51:01.620Z"
   },
   {
    "duration": 8,
    "start_time": "2023-04-14T19:51:08.028Z"
   },
   {
    "duration": 662,
    "start_time": "2023-04-14T19:52:33.400Z"
   },
   {
    "duration": 598,
    "start_time": "2023-04-14T19:52:58.153Z"
   },
   {
    "duration": 9,
    "start_time": "2023-04-14T19:52:59.822Z"
   },
   {
    "duration": 84600,
    "start_time": "2023-04-14T19:54:03.589Z"
   },
   {
    "duration": 84650,
    "start_time": "2023-04-14T19:55:28.191Z"
   },
   {
    "duration": 8,
    "start_time": "2023-04-14T19:56:52.843Z"
   },
   {
    "duration": 9,
    "start_time": "2023-04-14T19:57:57.001Z"
   },
   {
    "duration": 84670,
    "start_time": "2023-04-14T19:58:05.869Z"
   },
   {
    "duration": 9,
    "start_time": "2023-04-14T19:59:47.540Z"
   },
   {
    "duration": 1131,
    "start_time": "2023-04-14T20:00:57.235Z"
   },
   {
    "duration": 42,
    "start_time": "2023-04-14T20:00:58.368Z"
   },
   {
    "duration": 5,
    "start_time": "2023-04-14T20:00:58.412Z"
   },
   {
    "duration": 107,
    "start_time": "2023-04-14T20:00:58.418Z"
   },
   {
    "duration": 783,
    "start_time": "2023-04-14T20:00:58.526Z"
   },
   {
    "duration": 8,
    "start_time": "2023-04-14T20:00:59.311Z"
   },
   {
    "duration": 29,
    "start_time": "2023-04-14T20:00:59.320Z"
   },
   {
    "duration": 115,
    "start_time": "2023-04-14T20:00:59.351Z"
   },
   {
    "duration": 425,
    "start_time": "2023-04-14T20:00:59.467Z"
   },
   {
    "duration": 506,
    "start_time": "2023-04-14T20:00:59.895Z"
   },
   {
    "duration": 37,
    "start_time": "2023-04-14T20:01:00.403Z"
   },
   {
    "duration": 24,
    "start_time": "2023-04-14T20:01:00.442Z"
   },
   {
    "duration": 100,
    "start_time": "2023-04-14T20:01:00.468Z"
   },
   {
    "duration": 98,
    "start_time": "2023-04-14T20:01:00.569Z"
   },
   {
    "duration": 9,
    "start_time": "2023-04-14T20:01:00.669Z"
   },
   {
    "duration": 64,
    "start_time": "2023-04-14T20:01:00.680Z"
   },
   {
    "duration": 39,
    "start_time": "2023-04-14T20:01:00.746Z"
   },
   {
    "duration": 31,
    "start_time": "2023-04-14T20:01:00.787Z"
   },
   {
    "duration": 49,
    "start_time": "2023-04-14T20:01:00.820Z"
   },
   {
    "duration": 26,
    "start_time": "2023-04-14T20:01:00.870Z"
   },
   {
    "duration": 46,
    "start_time": "2023-04-14T20:01:00.897Z"
   },
   {
    "duration": 7,
    "start_time": "2023-04-14T20:01:00.945Z"
   },
   {
    "duration": 51,
    "start_time": "2023-04-14T20:01:00.953Z"
   },
   {
    "duration": 69,
    "start_time": "2023-04-14T20:01:01.005Z"
   },
   {
    "duration": 8,
    "start_time": "2023-04-14T20:01:01.076Z"
   },
   {
    "duration": 38,
    "start_time": "2023-04-14T20:01:01.085Z"
   },
   {
    "duration": 15,
    "start_time": "2023-04-14T20:01:01.125Z"
   },
   {
    "duration": 67,
    "start_time": "2023-04-14T20:01:01.144Z"
   },
   {
    "duration": 16,
    "start_time": "2023-04-14T20:01:01.213Z"
   },
   {
    "duration": 29,
    "start_time": "2023-04-14T20:01:01.231Z"
   },
   {
    "duration": 67,
    "start_time": "2023-04-14T20:01:01.262Z"
   },
   {
    "duration": 21,
    "start_time": "2023-04-14T20:01:01.330Z"
   },
   {
    "duration": 41,
    "start_time": "2023-04-14T20:01:01.353Z"
   },
   {
    "duration": 76,
    "start_time": "2023-04-14T20:01:01.396Z"
   },
   {
    "duration": 35,
    "start_time": "2023-04-14T20:01:01.473Z"
   },
   {
    "duration": 62,
    "start_time": "2023-04-14T20:01:01.509Z"
   },
   {
    "duration": 331828,
    "start_time": "2023-04-14T20:01:01.573Z"
   },
   {
    "duration": 7,
    "start_time": "2023-04-14T20:06:33.402Z"
   },
   {
    "duration": 4,
    "start_time": "2023-04-14T20:06:33.411Z"
   },
   {
    "duration": 61,
    "start_time": "2023-04-14T20:06:33.417Z"
   },
   {
    "duration": 12,
    "start_time": "2023-04-14T20:06:33.480Z"
   },
   {
    "duration": 34,
    "start_time": "2023-04-14T20:06:33.494Z"
   },
   {
    "duration": 227797,
    "start_time": "2023-04-14T20:06:33.530Z"
   },
   {
    "duration": 7,
    "start_time": "2023-04-14T20:10:21.328Z"
   },
   {
    "duration": 19,
    "start_time": "2023-04-14T20:10:21.336Z"
   },
   {
    "duration": 61,
    "start_time": "2023-04-14T20:10:21.357Z"
   },
   {
    "duration": 28,
    "start_time": "2023-04-14T20:10:21.419Z"
   },
   {
    "duration": 140,
    "start_time": "2023-04-14T20:10:21.449Z"
   },
   {
    "duration": 4,
    "start_time": "2023-04-14T20:10:21.591Z"
   },
   {
    "duration": 51,
    "start_time": "2023-04-14T20:10:21.597Z"
   },
   {
    "duration": 17,
    "start_time": "2023-04-14T20:10:21.649Z"
   },
   {
    "duration": 62,
    "start_time": "2023-04-14T20:10:21.668Z"
   },
   {
    "duration": 49,
    "start_time": "2023-04-14T20:10:21.732Z"
   },
   {
    "duration": 35,
    "start_time": "2023-04-14T20:10:21.782Z"
   },
   {
    "duration": 30,
    "start_time": "2023-04-14T20:10:21.819Z"
   },
   {
    "duration": 16,
    "start_time": "2023-04-14T20:10:21.851Z"
   },
   {
    "duration": 6,
    "start_time": "2023-04-14T20:10:21.868Z"
   },
   {
    "duration": 4,
    "start_time": "2023-04-14T20:10:21.875Z"
   },
   {
    "duration": 6,
    "start_time": "2023-04-14T20:10:21.880Z"
   },
   {
    "duration": 6,
    "start_time": "2023-04-14T20:10:21.887Z"
   },
   {
    "duration": 10,
    "start_time": "2023-04-14T20:10:21.894Z"
   },
   {
    "duration": 4,
    "start_time": "2023-04-14T20:10:21.908Z"
   },
   {
    "duration": 4,
    "start_time": "2023-04-14T20:10:21.913Z"
   },
   {
    "duration": 3,
    "start_time": "2023-04-14T20:10:21.919Z"
   },
   {
    "duration": 4,
    "start_time": "2023-04-14T20:10:21.924Z"
   },
   {
    "duration": 11,
    "start_time": "2023-04-14T20:10:21.929Z"
   },
   {
    "duration": 8,
    "start_time": "2023-04-14T20:10:21.941Z"
   },
   {
    "duration": 16,
    "start_time": "2023-04-14T20:10:21.950Z"
   },
   {
    "duration": 20,
    "start_time": "2023-04-14T20:10:21.968Z"
   },
   {
    "duration": 3,
    "start_time": "2023-04-14T20:10:21.989Z"
   },
   {
    "duration": 5,
    "start_time": "2023-04-14T20:10:21.993Z"
   },
   {
    "duration": 948,
    "start_time": "2023-04-14T20:10:21.999Z"
   },
   {
    "duration": 9,
    "start_time": "2023-04-14T20:10:22.949Z"
   },
   {
    "duration": 39,
    "start_time": "2023-04-14T20:10:22.960Z"
   },
   {
    "duration": 46249,
    "start_time": "2023-04-14T20:10:23.000Z"
   },
   {
    "duration": 23819,
    "start_time": "2023-04-14T20:11:09.250Z"
   },
   {
    "duration": 23079,
    "start_time": "2023-04-14T20:11:33.070Z"
   },
   {
    "duration": 65455,
    "start_time": "2023-04-14T20:11:56.151Z"
   },
   {
    "duration": 65215,
    "start_time": "2023-04-14T20:13:01.608Z"
   },
   {
    "duration": 9,
    "start_time": "2023-04-14T20:14:06.824Z"
   },
   {
    "duration": 10,
    "start_time": "2023-04-14T20:14:06.834Z"
   },
   {
    "duration": 9,
    "start_time": "2023-04-14T20:14:06.850Z"
   },
   {
    "duration": 16,
    "start_time": "2023-04-14T20:14:06.860Z"
   },
   {
    "duration": 9,
    "start_time": "2023-04-14T20:14:06.877Z"
   },
   {
    "duration": 88789,
    "start_time": "2023-04-14T20:14:06.888Z"
   },
   {
    "duration": 623,
    "start_time": "2023-04-14T20:15:35.679Z"
   },
   {
    "duration": 122,
    "start_time": "2023-04-14T20:15:36.303Z"
   },
   {
    "duration": 0,
    "start_time": "2023-04-14T20:15:36.427Z"
   },
   {
    "duration": 0,
    "start_time": "2023-04-14T20:15:36.428Z"
   },
   {
    "duration": 0,
    "start_time": "2023-04-14T20:15:36.429Z"
   },
   {
    "duration": 0,
    "start_time": "2023-04-14T20:15:36.430Z"
   },
   {
    "duration": 0,
    "start_time": "2023-04-14T20:15:36.432Z"
   },
   {
    "duration": 0,
    "start_time": "2023-04-14T20:15:36.433Z"
   },
   {
    "duration": 0,
    "start_time": "2023-04-14T20:15:36.449Z"
   },
   {
    "duration": 0,
    "start_time": "2023-04-14T20:15:36.450Z"
   },
   {
    "duration": 0,
    "start_time": "2023-04-14T20:15:36.452Z"
   },
   {
    "duration": 0,
    "start_time": "2023-04-14T20:15:36.453Z"
   },
   {
    "duration": 0,
    "start_time": "2023-04-14T20:15:36.454Z"
   },
   {
    "duration": 0,
    "start_time": "2023-04-14T20:15:36.455Z"
   },
   {
    "duration": 0,
    "start_time": "2023-04-14T20:15:36.456Z"
   },
   {
    "duration": 0,
    "start_time": "2023-04-14T20:15:36.457Z"
   },
   {
    "duration": 0,
    "start_time": "2023-04-14T20:15:36.458Z"
   },
   {
    "duration": 0,
    "start_time": "2023-04-14T20:15:36.459Z"
   },
   {
    "duration": 0,
    "start_time": "2023-04-14T20:15:36.460Z"
   },
   {
    "duration": 0,
    "start_time": "2023-04-14T20:15:36.461Z"
   },
   {
    "duration": 0,
    "start_time": "2023-04-14T20:15:36.462Z"
   },
   {
    "duration": 0,
    "start_time": "2023-04-14T20:15:36.463Z"
   },
   {
    "duration": 0,
    "start_time": "2023-04-14T20:15:36.464Z"
   },
   {
    "duration": 0,
    "start_time": "2023-04-14T20:15:36.465Z"
   },
   {
    "duration": 0,
    "start_time": "2023-04-14T20:15:36.466Z"
   },
   {
    "duration": 9,
    "start_time": "2023-04-14T20:21:39.148Z"
   },
   {
    "duration": 8,
    "start_time": "2023-04-14T20:22:09.140Z"
   },
   {
    "duration": 8,
    "start_time": "2023-04-14T20:22:42.617Z"
   },
   {
    "duration": 15,
    "start_time": "2023-04-14T20:22:51.578Z"
   },
   {
    "duration": 9,
    "start_time": "2023-04-14T20:23:47.899Z"
   },
   {
    "duration": 17397,
    "start_time": "2023-04-14T20:23:59.967Z"
   },
   {
    "duration": 8,
    "start_time": "2023-04-14T20:24:20.923Z"
   },
   {
    "duration": 17531,
    "start_time": "2023-04-14T20:25:11.729Z"
   },
   {
    "duration": 88,
    "start_time": "2023-04-14T20:25:29.262Z"
   },
   {
    "duration": 1115,
    "start_time": "2023-04-14T20:25:38.596Z"
   },
   {
    "duration": 57,
    "start_time": "2023-04-14T20:25:39.713Z"
   },
   {
    "duration": 103,
    "start_time": "2023-04-14T20:25:39.772Z"
   },
   {
    "duration": 113,
    "start_time": "2023-04-14T20:25:39.878Z"
   },
   {
    "duration": 782,
    "start_time": "2023-04-14T20:25:39.992Z"
   },
   {
    "duration": 8,
    "start_time": "2023-04-14T20:25:40.775Z"
   },
   {
    "duration": 24,
    "start_time": "2023-04-14T20:25:40.784Z"
   },
   {
    "duration": 126,
    "start_time": "2023-04-14T20:25:40.810Z"
   },
   {
    "duration": 438,
    "start_time": "2023-04-14T20:25:40.938Z"
   },
   {
    "duration": 500,
    "start_time": "2023-04-14T20:25:41.379Z"
   },
   {
    "duration": 31,
    "start_time": "2023-04-14T20:25:41.881Z"
   },
   {
    "duration": 3,
    "start_time": "2023-04-14T20:25:41.913Z"
   },
   {
    "duration": 86,
    "start_time": "2023-04-14T20:25:41.917Z"
   },
   {
    "duration": 77,
    "start_time": "2023-04-14T20:25:42.004Z"
   },
   {
    "duration": 8,
    "start_time": "2023-04-14T20:25:42.082Z"
   },
   {
    "duration": 31,
    "start_time": "2023-04-14T20:25:42.092Z"
   },
   {
    "duration": 24,
    "start_time": "2023-04-14T20:25:42.125Z"
   },
   {
    "duration": 10,
    "start_time": "2023-04-14T20:25:42.151Z"
   },
   {
    "duration": 36,
    "start_time": "2023-04-14T20:25:42.162Z"
   },
   {
    "duration": 28,
    "start_time": "2023-04-14T20:25:42.200Z"
   },
   {
    "duration": 52,
    "start_time": "2023-04-14T20:25:42.229Z"
   },
   {
    "duration": 8,
    "start_time": "2023-04-14T20:25:42.283Z"
   },
   {
    "duration": 20,
    "start_time": "2023-04-14T20:25:42.293Z"
   },
   {
    "duration": 58,
    "start_time": "2023-04-14T20:25:42.315Z"
   },
   {
    "duration": 9,
    "start_time": "2023-04-14T20:25:42.374Z"
   },
   {
    "duration": 21,
    "start_time": "2023-04-14T20:25:42.385Z"
   },
   {
    "duration": 6,
    "start_time": "2023-04-14T20:25:42.408Z"
   },
   {
    "duration": 65,
    "start_time": "2023-04-14T20:25:42.418Z"
   },
   {
    "duration": 16,
    "start_time": "2023-04-14T20:25:42.484Z"
   },
   {
    "duration": 10,
    "start_time": "2023-04-14T20:25:42.502Z"
   },
   {
    "duration": 47,
    "start_time": "2023-04-14T20:25:42.514Z"
   },
   {
    "duration": 13,
    "start_time": "2023-04-14T20:25:42.562Z"
   },
   {
    "duration": 22,
    "start_time": "2023-04-14T20:25:42.576Z"
   },
   {
    "duration": 19,
    "start_time": "2023-04-14T20:25:42.600Z"
   },
   {
    "duration": 31,
    "start_time": "2023-04-14T20:25:42.620Z"
   },
   {
    "duration": 20,
    "start_time": "2023-04-14T20:25:42.652Z"
   },
   {
    "duration": 327863,
    "start_time": "2023-04-14T20:25:42.674Z"
   },
   {
    "duration": 14,
    "start_time": "2023-04-14T20:31:10.539Z"
   },
   {
    "duration": 6,
    "start_time": "2023-04-14T20:31:10.555Z"
   },
   {
    "duration": 55,
    "start_time": "2023-04-14T20:31:10.563Z"
   },
   {
    "duration": 13,
    "start_time": "2023-04-14T20:31:10.620Z"
   },
   {
    "duration": 34,
    "start_time": "2023-04-14T20:31:10.634Z"
   },
   {
    "duration": 216027,
    "start_time": "2023-04-14T20:31:10.670Z"
   },
   {
    "duration": 7,
    "start_time": "2023-04-14T20:34:46.698Z"
   },
   {
    "duration": 5,
    "start_time": "2023-04-14T20:34:46.707Z"
   },
   {
    "duration": 58,
    "start_time": "2023-04-14T20:34:46.714Z"
   },
   {
    "duration": 28,
    "start_time": "2023-04-14T20:34:46.774Z"
   },
   {
    "duration": 131,
    "start_time": "2023-04-14T20:34:46.804Z"
   },
   {
    "duration": 12,
    "start_time": "2023-04-14T20:34:46.937Z"
   },
   {
    "duration": 29,
    "start_time": "2023-04-14T20:34:46.950Z"
   },
   {
    "duration": 21,
    "start_time": "2023-04-14T20:34:46.981Z"
   },
   {
    "duration": 83,
    "start_time": "2023-04-14T20:34:47.004Z"
   },
   {
    "duration": 30,
    "start_time": "2023-04-14T20:34:47.088Z"
   },
   {
    "duration": 36,
    "start_time": "2023-04-14T20:34:47.120Z"
   },
   {
    "duration": 27,
    "start_time": "2023-04-14T20:34:47.157Z"
   },
   {
    "duration": 5,
    "start_time": "2023-04-14T20:34:47.186Z"
   },
   {
    "duration": 6,
    "start_time": "2023-04-14T20:34:47.192Z"
   },
   {
    "duration": 3,
    "start_time": "2023-04-14T20:34:47.200Z"
   },
   {
    "duration": 5,
    "start_time": "2023-04-14T20:34:47.204Z"
   },
   {
    "duration": 5,
    "start_time": "2023-04-14T20:34:47.211Z"
   },
   {
    "duration": 5,
    "start_time": "2023-04-14T20:34:47.217Z"
   },
   {
    "duration": 25,
    "start_time": "2023-04-14T20:34:47.224Z"
   },
   {
    "duration": 5,
    "start_time": "2023-04-14T20:34:47.250Z"
   },
   {
    "duration": 4,
    "start_time": "2023-04-14T20:34:47.256Z"
   },
   {
    "duration": 4,
    "start_time": "2023-04-14T20:34:47.262Z"
   },
   {
    "duration": 8,
    "start_time": "2023-04-14T20:34:47.267Z"
   },
   {
    "duration": 6,
    "start_time": "2023-04-14T20:34:47.276Z"
   },
   {
    "duration": 4,
    "start_time": "2023-04-14T20:34:47.284Z"
   },
   {
    "duration": 22,
    "start_time": "2023-04-14T20:34:47.290Z"
   },
   {
    "duration": 2,
    "start_time": "2023-04-14T20:34:47.314Z"
   },
   {
    "duration": 5,
    "start_time": "2023-04-14T20:34:47.317Z"
   },
   {
    "duration": 910,
    "start_time": "2023-04-14T20:34:47.323Z"
   },
   {
    "duration": 4,
    "start_time": "2023-04-14T20:34:48.234Z"
   },
   {
    "duration": 40,
    "start_time": "2023-04-14T20:34:48.248Z"
   },
   {
    "duration": 9758,
    "start_time": "2023-04-14T20:34:48.290Z"
   },
   {
    "duration": 20507,
    "start_time": "2023-04-14T20:34:58.050Z"
   },
   {
    "duration": 17997,
    "start_time": "2023-04-14T20:35:18.559Z"
   },
   {
    "duration": 64583,
    "start_time": "2023-04-14T20:35:36.561Z"
   },
   {
    "duration": 64692,
    "start_time": "2023-04-14T20:36:41.145Z"
   },
   {
    "duration": 8,
    "start_time": "2023-04-14T20:37:45.839Z"
   },
   {
    "duration": 5,
    "start_time": "2023-04-14T20:37:45.849Z"
   },
   {
    "duration": 2,
    "start_time": "2023-04-14T20:37:45.859Z"
   },
   {
    "duration": 15,
    "start_time": "2023-04-14T20:37:45.862Z"
   },
   {
    "duration": 4,
    "start_time": "2023-04-14T20:37:45.878Z"
   },
   {
    "duration": 85467,
    "start_time": "2023-04-14T20:37:45.883Z"
   },
   {
    "duration": 643,
    "start_time": "2023-04-14T20:39:11.352Z"
   },
   {
    "duration": 20658,
    "start_time": "2023-04-14T20:39:11.997Z"
   },
   {
    "duration": 9,
    "start_time": "2023-04-14T20:39:32.657Z"
   },
   {
    "duration": 200250,
    "start_time": "2023-04-14T20:39:32.668Z"
   },
   {
    "duration": 18,
    "start_time": "2023-04-14T20:42:52.920Z"
   },
   {
    "duration": 3,
    "start_time": "2023-04-14T20:42:52.949Z"
   },
   {
    "duration": 6,
    "start_time": "2023-04-14T20:42:52.954Z"
   },
   {
    "duration": 10,
    "start_time": "2023-04-14T20:42:52.962Z"
   },
   {
    "duration": 5,
    "start_time": "2023-04-14T20:42:52.974Z"
   },
   {
    "duration": 5,
    "start_time": "2023-04-14T20:42:52.980Z"
   },
   {
    "duration": 7,
    "start_time": "2023-04-14T20:42:52.987Z"
   },
   {
    "duration": 10,
    "start_time": "2023-04-14T20:42:52.996Z"
   },
   {
    "duration": 12,
    "start_time": "2023-04-14T20:42:53.007Z"
   },
   {
    "duration": 13,
    "start_time": "2023-04-14T20:42:53.020Z"
   },
   {
    "duration": 20,
    "start_time": "2023-04-14T20:42:53.035Z"
   },
   {
    "duration": 13,
    "start_time": "2023-04-14T20:42:53.057Z"
   },
   {
    "duration": 7,
    "start_time": "2023-04-14T20:42:53.071Z"
   },
   {
    "duration": 18,
    "start_time": "2023-04-14T20:42:53.079Z"
   },
   {
    "duration": 7,
    "start_time": "2023-04-14T20:42:53.099Z"
   },
   {
    "duration": 5,
    "start_time": "2023-04-14T20:42:53.107Z"
   },
   {
    "duration": 8,
    "start_time": "2023-04-14T20:42:53.114Z"
   },
   {
    "duration": 18,
    "start_time": "2023-04-14T20:42:53.123Z"
   },
   {
    "duration": 13,
    "start_time": "2023-04-14T20:42:53.142Z"
   },
   {
    "duration": 25,
    "start_time": "2023-04-14T20:42:53.156Z"
   },
   {
    "duration": 7,
    "start_time": "2023-04-14T20:42:53.183Z"
   },
   {
    "duration": 15,
    "start_time": "2023-04-14T20:42:53.191Z"
   },
   {
    "duration": 85211,
    "start_time": "2023-04-14T20:45:36.495Z"
   },
   {
    "duration": 1111,
    "start_time": "2023-04-14T20:53:18.561Z"
   },
   {
    "duration": 49,
    "start_time": "2023-04-14T20:53:19.673Z"
   },
   {
    "duration": 7,
    "start_time": "2023-04-14T20:53:19.724Z"
   },
   {
    "duration": 139,
    "start_time": "2023-04-14T20:53:19.733Z"
   },
   {
    "duration": 798,
    "start_time": "2023-04-14T20:53:19.874Z"
   },
   {
    "duration": 9,
    "start_time": "2023-04-14T20:53:20.673Z"
   },
   {
    "duration": 23,
    "start_time": "2023-04-14T20:53:20.683Z"
   },
   {
    "duration": 134,
    "start_time": "2023-04-14T20:53:20.708Z"
   },
   {
    "duration": 427,
    "start_time": "2023-04-14T20:53:20.848Z"
   },
   {
    "duration": 527,
    "start_time": "2023-04-14T20:53:21.278Z"
   },
   {
    "duration": 36,
    "start_time": "2023-04-14T20:53:21.806Z"
   },
   {
    "duration": 11,
    "start_time": "2023-04-14T20:53:21.849Z"
   },
   {
    "duration": 79,
    "start_time": "2023-04-14T20:53:21.861Z"
   },
   {
    "duration": 79,
    "start_time": "2023-04-14T20:53:21.942Z"
   },
   {
    "duration": 12,
    "start_time": "2023-04-14T20:53:22.023Z"
   },
   {
    "duration": 32,
    "start_time": "2023-04-14T20:53:22.049Z"
   },
   {
    "duration": 6,
    "start_time": "2023-04-14T20:53:22.082Z"
   },
   {
    "duration": 9,
    "start_time": "2023-04-14T20:53:22.090Z"
   },
   {
    "duration": 56,
    "start_time": "2023-04-14T20:53:22.101Z"
   },
   {
    "duration": 25,
    "start_time": "2023-04-14T20:53:22.158Z"
   },
   {
    "duration": 46,
    "start_time": "2023-04-14T20:53:22.184Z"
   },
   {
    "duration": 7,
    "start_time": "2023-04-14T20:53:22.231Z"
   },
   {
    "duration": 24,
    "start_time": "2023-04-14T20:53:22.240Z"
   },
   {
    "duration": 36,
    "start_time": "2023-04-14T20:53:22.265Z"
   },
   {
    "duration": 8,
    "start_time": "2023-04-14T20:53:22.302Z"
   },
   {
    "duration": 38,
    "start_time": "2023-04-14T20:53:22.311Z"
   },
   {
    "duration": 7,
    "start_time": "2023-04-14T20:53:22.350Z"
   },
   {
    "duration": 36,
    "start_time": "2023-04-14T20:53:22.361Z"
   },
   {
    "duration": 18,
    "start_time": "2023-04-14T20:53:22.399Z"
   },
   {
    "duration": 32,
    "start_time": "2023-04-14T20:53:22.418Z"
   },
   {
    "duration": 36,
    "start_time": "2023-04-14T20:53:22.452Z"
   },
   {
    "duration": 12,
    "start_time": "2023-04-14T20:53:22.490Z"
   },
   {
    "duration": 25,
    "start_time": "2023-04-14T20:53:22.504Z"
   },
   {
    "duration": 35,
    "start_time": "2023-04-14T20:53:22.530Z"
   },
   {
    "duration": 5,
    "start_time": "2023-04-14T20:53:22.566Z"
   },
   {
    "duration": 19,
    "start_time": "2023-04-14T20:53:22.572Z"
   },
   {
    "duration": 327065,
    "start_time": "2023-04-14T20:53:22.592Z"
   },
   {
    "duration": 7,
    "start_time": "2023-04-14T20:58:49.659Z"
   },
   {
    "duration": 7,
    "start_time": "2023-04-14T20:58:49.667Z"
   },
   {
    "duration": 46,
    "start_time": "2023-04-14T20:58:49.675Z"
   },
   {
    "duration": 29,
    "start_time": "2023-04-14T20:58:49.723Z"
   },
   {
    "duration": 26,
    "start_time": "2023-04-14T20:58:49.754Z"
   },
   {
    "duration": 221871,
    "start_time": "2023-04-14T20:58:49.781Z"
   },
   {
    "duration": 8,
    "start_time": "2023-04-14T21:02:31.653Z"
   },
   {
    "duration": 29,
    "start_time": "2023-04-14T21:02:31.663Z"
   },
   {
    "duration": 60,
    "start_time": "2023-04-14T21:02:31.694Z"
   },
   {
    "duration": 29,
    "start_time": "2023-04-14T21:02:31.755Z"
   },
   {
    "duration": 152,
    "start_time": "2023-04-14T21:02:31.786Z"
   },
   {
    "duration": 4,
    "start_time": "2023-04-14T21:02:31.940Z"
   },
   {
    "duration": 45,
    "start_time": "2023-04-14T21:02:31.949Z"
   },
   {
    "duration": 19,
    "start_time": "2023-04-14T21:02:31.996Z"
   },
   {
    "duration": 101,
    "start_time": "2023-04-14T21:02:32.017Z"
   },
   {
    "duration": 30,
    "start_time": "2023-04-14T21:02:32.120Z"
   },
   {
    "duration": 43,
    "start_time": "2023-04-14T21:02:32.151Z"
   },
   {
    "duration": 30,
    "start_time": "2023-04-14T21:02:32.196Z"
   },
   {
    "duration": 16,
    "start_time": "2023-04-14T21:02:32.227Z"
   },
   {
    "duration": 10,
    "start_time": "2023-04-14T21:02:32.245Z"
   },
   {
    "duration": 11,
    "start_time": "2023-04-14T21:02:32.256Z"
   },
   {
    "duration": 17,
    "start_time": "2023-04-14T21:02:32.269Z"
   },
   {
    "duration": 11,
    "start_time": "2023-04-14T21:02:32.288Z"
   },
   {
    "duration": 17,
    "start_time": "2023-04-14T21:02:32.300Z"
   },
   {
    "duration": 19,
    "start_time": "2023-04-14T21:02:32.318Z"
   },
   {
    "duration": 6,
    "start_time": "2023-04-14T21:02:32.338Z"
   },
   {
    "duration": 8,
    "start_time": "2023-04-14T21:02:32.345Z"
   },
   {
    "duration": 26,
    "start_time": "2023-04-14T21:02:32.355Z"
   },
   {
    "duration": 8,
    "start_time": "2023-04-14T21:02:32.383Z"
   },
   {
    "duration": 8,
    "start_time": "2023-04-14T21:02:32.393Z"
   },
   {
    "duration": 5,
    "start_time": "2023-04-14T21:02:32.402Z"
   },
   {
    "duration": 23,
    "start_time": "2023-04-14T21:02:32.409Z"
   },
   {
    "duration": 2,
    "start_time": "2023-04-14T21:02:32.433Z"
   },
   {
    "duration": 5,
    "start_time": "2023-04-14T21:02:32.437Z"
   },
   {
    "duration": 954,
    "start_time": "2023-04-14T21:02:32.443Z"
   },
   {
    "duration": 5,
    "start_time": "2023-04-14T21:02:33.399Z"
   },
   {
    "duration": 44,
    "start_time": "2023-04-14T21:02:33.405Z"
   },
   {
    "duration": 474499,
    "start_time": "2023-04-14T21:02:33.451Z"
   },
   {
    "duration": 1179906,
    "start_time": "2023-04-14T21:10:27.952Z"
   },
   {
    "duration": 1819592,
    "start_time": "2023-04-14T21:30:07.860Z"
   },
   {
    "duration": 64488,
    "start_time": "2023-04-14T22:00:27.453Z"
   },
   {
    "duration": 65186,
    "start_time": "2023-04-14T22:01:31.942Z"
   },
   {
    "duration": 9,
    "start_time": "2023-04-14T22:02:37.130Z"
   },
   {
    "duration": 14,
    "start_time": "2023-04-14T22:02:37.141Z"
   },
   {
    "duration": 3,
    "start_time": "2023-04-14T22:02:37.161Z"
   },
   {
    "duration": 4,
    "start_time": "2023-04-14T22:02:37.166Z"
   },
   {
    "duration": 10,
    "start_time": "2023-04-14T22:02:37.172Z"
   },
   {
    "duration": 86266,
    "start_time": "2023-04-14T22:02:37.184Z"
   },
   {
    "duration": 650,
    "start_time": "2023-04-14T22:04:03.451Z"
   },
   {
    "duration": 84504,
    "start_time": "2023-04-14T22:04:04.103Z"
   },
   {
    "duration": 197008,
    "start_time": "2023-04-14T22:05:28.609Z"
   },
   {
    "duration": 18,
    "start_time": "2023-04-14T22:08:45.618Z"
   },
   {
    "duration": 12,
    "start_time": "2023-04-14T22:08:45.638Z"
   },
   {
    "duration": 13,
    "start_time": "2023-04-14T22:08:45.651Z"
   },
   {
    "duration": 11,
    "start_time": "2023-04-14T22:08:45.666Z"
   },
   {
    "duration": 10,
    "start_time": "2023-04-14T22:08:45.678Z"
   },
   {
    "duration": 10,
    "start_time": "2023-04-14T22:08:45.690Z"
   },
   {
    "duration": 4,
    "start_time": "2023-04-14T22:08:45.702Z"
   },
   {
    "duration": 6,
    "start_time": "2023-04-14T22:08:45.708Z"
   },
   {
    "duration": 10,
    "start_time": "2023-04-14T22:08:45.716Z"
   },
   {
    "duration": 15,
    "start_time": "2023-04-14T22:08:45.727Z"
   },
   {
    "duration": 15,
    "start_time": "2023-04-14T22:08:45.744Z"
   },
   {
    "duration": 6,
    "start_time": "2023-04-14T22:08:45.761Z"
   },
   {
    "duration": 6,
    "start_time": "2023-04-14T22:08:45.769Z"
   },
   {
    "duration": 23,
    "start_time": "2023-04-14T22:08:45.777Z"
   },
   {
    "duration": 9,
    "start_time": "2023-04-14T22:08:45.802Z"
   },
   {
    "duration": 8,
    "start_time": "2023-04-14T22:08:45.812Z"
   },
   {
    "duration": 21,
    "start_time": "2023-04-14T22:08:45.821Z"
   },
   {
    "duration": 18,
    "start_time": "2023-04-14T22:08:45.843Z"
   },
   {
    "duration": 26,
    "start_time": "2023-04-14T22:08:45.863Z"
   },
   {
    "duration": 10,
    "start_time": "2023-04-14T22:08:45.890Z"
   },
   {
    "duration": 6,
    "start_time": "2023-04-14T22:08:45.901Z"
   },
   {
    "duration": 17,
    "start_time": "2023-04-14T22:08:45.909Z"
   },
   {
    "duration": 3251,
    "start_time": "2023-04-15T07:04:56.187Z"
   },
   {
    "duration": 51,
    "start_time": "2023-04-15T07:04:59.440Z"
   },
   {
    "duration": 5,
    "start_time": "2023-04-15T07:04:59.492Z"
   },
   {
    "duration": 119,
    "start_time": "2023-04-15T07:04:59.499Z"
   },
   {
    "duration": 1126,
    "start_time": "2023-04-15T07:04:59.620Z"
   },
   {
    "duration": 10,
    "start_time": "2023-04-15T07:05:00.748Z"
   },
   {
    "duration": 60,
    "start_time": "2023-04-15T07:05:00.760Z"
   },
   {
    "duration": 155,
    "start_time": "2023-04-15T07:05:00.821Z"
   },
   {
    "duration": 485,
    "start_time": "2023-04-15T07:05:00.978Z"
   },
   {
    "duration": 592,
    "start_time": "2023-04-15T07:05:01.465Z"
   },
   {
    "duration": 37,
    "start_time": "2023-04-15T07:05:02.059Z"
   },
   {
    "duration": 25,
    "start_time": "2023-04-15T07:05:02.098Z"
   },
   {
    "duration": 100,
    "start_time": "2023-04-15T07:05:02.124Z"
   },
   {
    "duration": 76,
    "start_time": "2023-04-15T07:05:02.228Z"
   },
   {
    "duration": 9,
    "start_time": "2023-04-15T07:05:02.305Z"
   },
   {
    "duration": 36,
    "start_time": "2023-04-15T07:05:02.316Z"
   },
   {
    "duration": 19,
    "start_time": "2023-04-15T07:05:02.354Z"
   },
   {
    "duration": 24,
    "start_time": "2023-04-15T07:05:02.374Z"
   },
   {
    "duration": 46,
    "start_time": "2023-04-15T07:05:02.400Z"
   },
   {
    "duration": 22,
    "start_time": "2023-04-15T07:05:02.447Z"
   },
   {
    "duration": 46,
    "start_time": "2023-04-15T07:05:02.470Z"
   },
   {
    "duration": 7,
    "start_time": "2023-04-15T07:05:02.518Z"
   },
   {
    "duration": 44,
    "start_time": "2023-04-15T07:05:02.526Z"
   },
   {
    "duration": 66,
    "start_time": "2023-04-15T07:05:02.571Z"
   },
   {
    "duration": 8,
    "start_time": "2023-04-15T07:05:02.638Z"
   },
   {
    "duration": 25,
    "start_time": "2023-04-15T07:05:02.647Z"
   },
   {
    "duration": 12,
    "start_time": "2023-04-15T07:05:02.674Z"
   },
   {
    "duration": 42,
    "start_time": "2023-04-15T07:05:02.687Z"
   },
   {
    "duration": 17,
    "start_time": "2023-04-15T07:05:02.731Z"
   },
   {
    "duration": 23,
    "start_time": "2023-04-15T07:05:02.749Z"
   },
   {
    "duration": 42,
    "start_time": "2023-04-15T07:05:02.784Z"
   },
   {
    "duration": 13,
    "start_time": "2023-04-15T07:05:02.828Z"
   },
   {
    "duration": 43,
    "start_time": "2023-04-15T07:05:02.843Z"
   },
   {
    "duration": 22,
    "start_time": "2023-04-15T07:05:02.888Z"
   },
   {
    "duration": 5,
    "start_time": "2023-04-15T07:05:02.912Z"
   },
   {
    "duration": 20,
    "start_time": "2023-04-15T07:05:02.919Z"
   },
   {
    "duration": 448040,
    "start_time": "2023-04-15T07:05:02.941Z"
   },
   {
    "duration": 19,
    "start_time": "2023-04-15T07:12:30.983Z"
   },
   {
    "duration": 24,
    "start_time": "2023-04-15T07:12:31.004Z"
   },
   {
    "duration": 79,
    "start_time": "2023-04-15T07:12:31.030Z"
   },
   {
    "duration": 17,
    "start_time": "2023-04-15T07:12:31.113Z"
   },
   {
    "duration": 37,
    "start_time": "2023-04-15T07:12:31.132Z"
   },
   {
    "duration": 250688,
    "start_time": "2023-04-15T07:12:31.171Z"
   },
   {
    "duration": 8,
    "start_time": "2023-04-15T07:16:41.861Z"
   },
   {
    "duration": 16,
    "start_time": "2023-04-15T07:16:41.871Z"
   },
   {
    "duration": 53,
    "start_time": "2023-04-15T07:16:41.892Z"
   },
   {
    "duration": 50,
    "start_time": "2023-04-15T07:16:41.947Z"
   },
   {
    "duration": 135,
    "start_time": "2023-04-15T07:16:42.001Z"
   },
   {
    "duration": 4,
    "start_time": "2023-04-15T07:16:42.138Z"
   },
   {
    "duration": 50,
    "start_time": "2023-04-15T07:16:42.144Z"
   },
   {
    "duration": 21,
    "start_time": "2023-04-15T07:16:42.199Z"
   },
   {
    "duration": 79,
    "start_time": "2023-04-15T07:16:42.221Z"
   },
   {
    "duration": 35,
    "start_time": "2023-04-15T07:16:42.303Z"
   },
   {
    "duration": 30,
    "start_time": "2023-04-15T07:16:42.340Z"
   },
   {
    "duration": 48,
    "start_time": "2023-04-15T07:16:42.372Z"
   },
   {
    "duration": 4,
    "start_time": "2023-04-15T07:16:42.422Z"
   },
   {
    "duration": 12,
    "start_time": "2023-04-15T07:16:42.427Z"
   },
   {
    "duration": 4,
    "start_time": "2023-04-15T07:16:42.440Z"
   },
   {
    "duration": 6,
    "start_time": "2023-04-15T07:16:42.446Z"
   },
   {
    "duration": 8,
    "start_time": "2023-04-15T07:16:42.454Z"
   },
   {
    "duration": 9,
    "start_time": "2023-04-15T07:16:42.464Z"
   },
   {
    "duration": 15,
    "start_time": "2023-04-15T07:16:42.475Z"
   },
   {
    "duration": 18,
    "start_time": "2023-04-15T07:16:42.494Z"
   },
   {
    "duration": 5,
    "start_time": "2023-04-15T07:16:42.513Z"
   },
   {
    "duration": 6,
    "start_time": "2023-04-15T07:16:42.520Z"
   },
   {
    "duration": 5,
    "start_time": "2023-04-15T07:16:42.527Z"
   },
   {
    "duration": 15,
    "start_time": "2023-04-15T07:16:42.533Z"
   },
   {
    "duration": 6,
    "start_time": "2023-04-15T07:16:42.550Z"
   },
   {
    "duration": 38,
    "start_time": "2023-04-15T07:16:42.558Z"
   },
   {
    "duration": 3,
    "start_time": "2023-04-15T07:16:42.598Z"
   },
   {
    "duration": 3,
    "start_time": "2023-04-15T07:16:42.603Z"
   },
   {
    "duration": 1186,
    "start_time": "2023-04-15T07:24:06.218Z"
   },
   {
    "duration": 10,
    "start_time": "2023-04-15T07:24:09.929Z"
   },
   {
    "duration": 93139,
    "start_time": "2023-04-15T07:24:15.806Z"
   }
  ],
  "kernelspec": {
   "display_name": "Python 3 (ipykernel)",
   "language": "python",
   "name": "python3"
  },
  "language_info": {
   "codemirror_mode": {
    "name": "ipython",
    "version": 3
   },
   "file_extension": ".py",
   "mimetype": "text/x-python",
   "name": "python",
   "nbconvert_exporter": "python",
   "pygments_lexer": "ipython3",
   "version": "3.9.5"
  },
  "toc": {
   "base_numbering": 1,
   "nav_menu": {},
   "number_sections": true,
   "sideBar": true,
   "skip_h1_title": true,
   "title_cell": "Table of Contents",
   "title_sidebar": "Contents",
   "toc_cell": false,
   "toc_position": {},
   "toc_section_display": true,
   "toc_window_display": false
  }
 },
 "nbformat": 4,
 "nbformat_minor": 2
}
